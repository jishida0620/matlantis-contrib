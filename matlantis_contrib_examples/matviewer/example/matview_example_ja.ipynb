{
 "cells": [
  {
   "cell_type": "markdown",
   "id": "dbf87237-524d-4782-b5e8-de6f0a2c56a9",
   "metadata": {
    "tags": []
   },
   "source": [
    "Copyright ENEOS, Corp. and  Preferred Computational Chemistry as contributors to Matlantis contrib project :2023/10/30 ENEOS Ibuka  \n",
    "### Matviewer  \n",
    " Matlantis で分子、結晶構造の取得、加工、OPT,NEB,VIB などの解析をGUIで行うツールです。  \n",
    " インストールをInstall.ipynbで一度実行すれば他のフォルダでも実行出来ます。  Python3.8,3.9に対応しています"
   ]
  },
  {
   "cell_type": "markdown",
   "id": "5d6126fc-5c15-41a3-b9ab-7c9fc23930a9",
   "metadata": {},
   "source": [
    "機能説明  "
   ]
  },
  {
   "cell_type": "markdown",
   "id": "2f6deb85-bccd-4021-98a6-264510f54ef5",
   "metadata": {
    "tags": []
   },
   "source": [
    "・全体  \n",
    "　　・初期左側　[Setting] が表示されCalc,面サイズ,色を設定できます。全画面モードも対応しています  \n",
    "　　・MatviewerではTraj番号#　とTraj内のimage番号##で表示、編集、計算を管理しています  \n",
    "　　・複数の構造を管理するためにはAdd# Add##　ボタンで更新領域Noを確保します。  \n",
    "　　　Del#,Del##で表示されている領域を削除できます。  \n",
    "　　・複数の##を持つTraj#ではplot ボタンを押すことでepot ,force を表示できます。  \n",
    "　　・[Save]  現在の登録すべてが保存されます。　次回起動するときはこれが読み込まれます。(zip化も同時にされ過去復元も可能）  \n",
    "　　・下のチェックボックスcalcで現在のenergy と max forceが表示されます。  \n",
    "　　　setボタンで登録した値との差分dEも表示されるのでNEBや吸着で便利です  \n",
    "  \n",
    "・ADD MENU  \n",
    "　　[FILE] 既存のAtoms または　traj ファイルを読込みます。複数構造に対応しています  \n",
    "　　[SILES or Draw]    JSMEによる分子描画またはSMILESからAtoms作成できます。  \n",
    "　　　　Conformer ボタンで同一SMILESでの他の構造を探索できます。  \n",
    "　　[Crystal]   Materials Project のデータ（mp.gz)から検索読込できます。serach後　view ボタンclick で表示読込できます。  \n",
    "  \n",
    "・EDIT MENU  \n",
    "　　[Move] 指定したindexの原子を移動、回転できます。　また原子距離を指定した移動もできます。　undo 対応しています  \n",
    "  　　　　index指定方法はpotistion index また conectでは指定番号とつながった分子の設定ができます（-1で最終原子指定可能）  \n",
    "  　　　　mult で接続判定値を制御できます  \n",
    "　　[Utiledit]  原子置換、削除が可能です。また番号のソートやwrap も可能です。   \n",
    "　　[Repeat]    atoms.repeat の機能です。　pbc=False の分子の場合自動で設定されますが、allowanceでサイズを設定できます   \n",
    "　　[Cell]    Cell の情報表示と設定が可能です  \n",
    "　　[Surface]  pymatgenのSlabGeneratorの機能です。 x,yは小さいスラブができるのでその後Repeat([2,2,1])等行うとよいです  \n",
    "　　[Attach]  Atoms0のa0 とAtoms1 のa1 の距離を指定して合体したAtoms を作成します。  \n",
    "　　　　他の原子同士の干渉ができるだけ無いように自動回転・移動した構造が作成されます。  \n",
    "　　　　NEBの初終構造作成や　モノマー→ダイマー→オリゴマー作成, スラブへの分子追加等で利用できます。  \n",
    "　　　　OPTを1以上の数設定すると距離固定のoptをすることができます。単純にA＋B(cellはAを踏襲）することもできます  \n",
    "　　[Liquid] 分子と数および密度を指定し液体構造を作成します。PFN社が開発したliquid_generator Matlantis contrib を利用しています <br/> \n",
    "　　[Traj] Traj番号# image番号##を指定したコピー追加やスワップができます。 \n",
    "\n",
    "  ・CALC MENU  \n",
    "　　[Setting]    Calcの設定　や画面サイズ（右側）、色（アプリ全体　NGL）設定できます。　全画面モードも対応しています。         \n",
    "　　[OPT]    LGBFS での構造最適化を行います。cellopt も選択可能。結果は./output/optにも保存.constraint はFixAtomsのみに対応 <br/> \n",
    "　　[VIB]  　振動解析を行います。 view で指定した振動モードの動きも確認できます。温度も設定できます。  \n",
    "　　　　　前回実施したatoms および./output/vib/内のtrajではVIB情報をREAD可能です。  \n",
    "　　[Thermo]  VIB設定されているatoms でThermo、HARMONIC条件でのエネルギー計算が可能です。  \n",
    "　　[MD_NVT]  NVTができます。数千イタレーション以内での実行のみ動作確認しています。  "
   ]
  },
  {
   "cell_type": "code",
   "execution_count": null,
   "id": "1d5ae962-571e-4cff-8bec-8cd9d5b230e1",
   "metadata": {
    "tags": []
   },
   "outputs": [],
   "source": [
    "import matviewer "
   ]
  },
  {
   "cell_type": "code",
   "execution_count": null,
   "id": "73c3477c-c8f9-4cfa-93e5-e5fd669a5398",
   "metadata": {},
   "outputs": [],
   "source": [
    "matv = matviewer.Matviewer()"
   ]
  },
  {
   "cell_type": "code",
   "execution_count": null,
   "id": "44eee976-61fe-453c-ae1c-26c753b5ace5",
   "metadata": {
    "tags": []
   },
   "outputs": [],
   "source": [
    "matv"
   ]
  },
  {
   "cell_type": "code",
   "execution_count": 4,
   "id": "cb7644b7-85ee-4365-b314-8ce2f0eb355f",
   "metadata": {
    "tags": []
   },
   "outputs": [
    {
     "data": {
      "text/plain": [
       "Atoms(symbols='Au', pbc=False)"
      ]
     },
     "execution_count": 4,
     "metadata": {},
     "output_type": "execute_result"
    }
   ],
   "source": [
    "#表示しているatoms\n",
    "matv.atoms"
   ]
  },
  {
   "cell_type": "code",
   "execution_count": 5,
   "id": "21b1bab8-a8db-4551-9df2-3bdaad46988d",
   "metadata": {
    "tags": []
   },
   "outputs": [
    {
     "data": {
      "text/plain": [
       "Atoms(symbols='Au', pbc=False)"
      ]
     },
     "execution_count": 5,
     "metadata": {},
     "output_type": "execute_result"
    }
   ],
   "source": [
    "#latoms_list　ADD# ##で登録したAtoms のリストのリスト\n",
    "matv.latoms_list[-1][0]"
   ]
  },
  {
   "cell_type": "code",
   "execution_count": 6,
   "id": "eb165644-7514-47b0-bf29-0d2b8d1c5c22",
   "metadata": {
    "tags": []
   },
   "outputs": [],
   "source": [
    "#別作業からのAtomsの追加\n",
    "import ase\n",
    "o2 = ase.Atoms(\"O2\",[[0,0,0],[0,0,1]])\n",
    "matv + o2 \n",
    "#matv.add_atoms(o2) 　でも可能"
   ]
  },
  {
   "cell_type": "code",
   "execution_count": 7,
   "id": "df414776-52ff-4a06-ad5c-9691f0532124",
   "metadata": {
    "tags": []
   },
   "outputs": [],
   "source": [
    "#別作業からのAtoms listの追加\n",
    "h2 = ase.Atoms(\"H2\",[[0,0,0],[0,0,0.75]])\n",
    "matv.add_atoms([h2,o2])\n",
    "#matv + [o2,h2] 出も可能"
   ]
  },
  {
   "cell_type": "code",
   "execution_count": 8,
   "id": "5c98d09b-239d-4346-9590-51476793c6de",
   "metadata": {
    "tags": []
   },
   "outputs": [
    {
     "data": {
      "text/plain": [
       "'results'"
      ]
     },
     "metadata": {},
     "output_type": "display_data"
    },
    {
     "data": {
      "text/html": [
       "<div>\n",
       "<style scoped>\n",
       "    .dataframe tbody tr th:only-of-type {\n",
       "        vertical-align: middle;\n",
       "    }\n",
       "\n",
       "    .dataframe tbody tr th {\n",
       "        vertical-align: top;\n",
       "    }\n",
       "\n",
       "    .dataframe thead th {\n",
       "        text-align: right;\n",
       "    }\n",
       "</style>\n",
       "<table border=\"1\" class=\"dataframe\">\n",
       "  <thead>\n",
       "    <tr style=\"text-align: right;\">\n",
       "      <th></th>\n",
       "      <th>material_id</th>\n",
       "      <th>pretty_formula</th>\n",
       "      <th>energy</th>\n",
       "      <th>e_above_hull</th>\n",
       "      <th>is_hubbard</th>\n",
       "      <th>elements</th>\n",
       "      <th>atoms</th>\n",
       "    </tr>\n",
       "  </thead>\n",
       "  <tbody>\n",
       "    <tr>\n",
       "      <th>0</th>\n",
       "      <td>mp-13</td>\n",
       "      <td>Fe</td>\n",
       "      <td>-8.4700</td>\n",
       "      <td>0.0000</td>\n",
       "      <td>False</td>\n",
       "      <td>[Fe]</td>\n",
       "      <td>(Atom('Fe', [0.0, 0.0, 0.0...</td>\n",
       "    </tr>\n",
       "    <tr>\n",
       "      <th>1</th>\n",
       "      <td>mp-136</td>\n",
       "      <td>Fe</td>\n",
       "      <td>-16.7444</td>\n",
       "      <td>0.0978</td>\n",
       "      <td>False</td>\n",
       "      <td>[Fe]</td>\n",
       "      <td>(Atom('Fe', [-1.0390743909...</td>\n",
       "    </tr>\n",
       "    <tr>\n",
       "      <th>2</th>\n",
       "      <td>mp-150</td>\n",
       "      <td>Fe</td>\n",
       "      <td>-8.3217</td>\n",
       "      <td>0.1484</td>\n",
       "      <td>False</td>\n",
       "      <td>[Fe]</td>\n",
       "      <td>(Atom('Fe', [0.0, 0.0, 0.0...</td>\n",
       "    </tr>\n",
       "    <tr>\n",
       "      <th>3</th>\n",
       "      <td>mp-1456</td>\n",
       "      <td>Fe2O3</td>\n",
       "      <td>-1060.7866</td>\n",
       "      <td>0.1194</td>\n",
       "      <td>True</td>\n",
       "      <td>[Fe, O]</td>\n",
       "      <td>(Atom('Fe', [2.10901045799...</td>\n",
       "    </tr>\n",
       "    <tr>\n",
       "      <th>4</th>\n",
       "      <td>mp-12957</td>\n",
       "      <td>O2</td>\n",
       "      <td>-39.5837</td>\n",
       "      <td>0.0000</td>\n",
       "      <td>False</td>\n",
       "      <td>[O]</td>\n",
       "      <td>(Atom('O', [4.521114349365...</td>\n",
       "    </tr>\n",
       "  </tbody>\n",
       "</table>\n",
       "</div>"
      ],
      "text/plain": [
       "  material_id pretty_formula     energy  e_above_hull  is_hubbard elements  \\\n",
       "0       mp-13             Fe    -8.4700        0.0000       False     [Fe]   \n",
       "1      mp-136             Fe   -16.7444        0.0978       False     [Fe]   \n",
       "2      mp-150             Fe    -8.3217        0.1484       False     [Fe]   \n",
       "3     mp-1456          Fe2O3 -1060.7866        0.1194        True  [Fe, O]   \n",
       "4    mp-12957             O2   -39.5837        0.0000       False      [O]   \n",
       "\n",
       "                           atoms  \n",
       "0  (Atom('Fe', [0.0, 0.0, 0.0...  \n",
       "1  (Atom('Fe', [-1.0390743909...  \n",
       "2  (Atom('Fe', [0.0, 0.0, 0.0...  \n",
       "3  (Atom('Fe', [2.10901045799...  \n",
       "4  (Atom('O', [4.521114349365...  "
      ]
     },
     "metadata": {},
     "output_type": "display_data"
    },
    {
     "data": {
      "text/plain": [
       "'mp-db all'"
      ]
     },
     "metadata": {},
     "output_type": "display_data"
    },
    {
     "data": {
      "text/html": [
       "<div>\n",
       "<style scoped>\n",
       "    .dataframe tbody tr th:only-of-type {\n",
       "        vertical-align: middle;\n",
       "    }\n",
       "\n",
       "    .dataframe tbody tr th {\n",
       "        vertical-align: top;\n",
       "    }\n",
       "\n",
       "    .dataframe thead th {\n",
       "        text-align: right;\n",
       "    }\n",
       "</style>\n",
       "<table border=\"1\" class=\"dataframe\">\n",
       "  <thead>\n",
       "    <tr style=\"text-align: right;\">\n",
       "      <th></th>\n",
       "      <th>material_id</th>\n",
       "      <th>pretty_formula</th>\n",
       "      <th>energy</th>\n",
       "      <th>e_above_hull</th>\n",
       "      <th>is_hubbard</th>\n",
       "      <th>elements</th>\n",
       "      <th>atoms</th>\n",
       "    </tr>\n",
       "  </thead>\n",
       "  <tbody>\n",
       "    <tr>\n",
       "      <th>0</th>\n",
       "      <td>mp-1</td>\n",
       "      <td>Cs</td>\n",
       "      <td>-0.8566</td>\n",
       "      <td>0.0388</td>\n",
       "      <td>False</td>\n",
       "      <td>[Cs]</td>\n",
       "      <td>(Atom('Cs', [0.0, 0.0, 0.0...</td>\n",
       "    </tr>\n",
       "    <tr>\n",
       "      <th>1</th>\n",
       "      <td>mp-2</td>\n",
       "      <td>Pd</td>\n",
       "      <td>-5.1799</td>\n",
       "      <td>0.0000</td>\n",
       "      <td>False</td>\n",
       "      <td>[Pd]</td>\n",
       "      <td>(Atom('Pd', [0.0, 0.0, 0.0...</td>\n",
       "    </tr>\n",
       "    <tr>\n",
       "      <th>2</th>\n",
       "      <td>mp-3</td>\n",
       "      <td>Cs</td>\n",
       "      <td>-1.5980</td>\n",
       "      <td>0.0964</td>\n",
       "      <td>False</td>\n",
       "      <td>[Cs]</td>\n",
       "      <td>(Atom('Cs', [3.67067623138...</td>\n",
       "    </tr>\n",
       "    <tr>\n",
       "      <th>3</th>\n",
       "      <td>mp-4</td>\n",
       "      <td>Nd</td>\n",
       "      <td>-4.6282</td>\n",
       "      <td>0.1400</td>\n",
       "      <td>False</td>\n",
       "      <td>[Nd]</td>\n",
       "      <td>(Atom('Nd', [0.0, 0.0, 0.0...</td>\n",
       "    </tr>\n",
       "    <tr>\n",
       "      <th>4</th>\n",
       "      <td>mp-7</td>\n",
       "      <td>S</td>\n",
       "      <td>-24.4317</td>\n",
       "      <td>0.0645</td>\n",
       "      <td>False</td>\n",
       "      <td>[S]</td>\n",
       "      <td>(Atom('S', [-2.10661840438...</td>\n",
       "    </tr>\n",
       "  </tbody>\n",
       "</table>\n",
       "</div>"
      ],
      "text/plain": [
       "  material_id pretty_formula   energy  e_above_hull  is_hubbard elements  \\\n",
       "0        mp-1             Cs  -0.8566        0.0388       False     [Cs]   \n",
       "1        mp-2             Pd  -5.1799        0.0000       False     [Pd]   \n",
       "2        mp-3             Cs  -1.5980        0.0964       False     [Cs]   \n",
       "3        mp-4             Nd  -4.6282        0.1400       False     [Nd]   \n",
       "4        mp-7              S -24.4317        0.0645       False      [S]   \n",
       "\n",
       "                           atoms  \n",
       "0  (Atom('Cs', [0.0, 0.0, 0.0...  \n",
       "1  (Atom('Pd', [0.0, 0.0, 0.0...  \n",
       "2  (Atom('Cs', [3.67067623138...  \n",
       "3  (Atom('Nd', [0.0, 0.0, 0.0...  \n",
       "4  (Atom('S', [-2.10661840438...  "
      ]
     },
     "metadata": {},
     "output_type": "display_data"
    }
   ],
   "source": [
    "#ADD-Crystal で検索後\n",
    "display(\"results\",matv.crystalsearch.cands.head())\n",
    "display(\"mp-db all\",matv.crystalsearch.df.head())"
   ]
  },
  {
   "cell_type": "code",
   "execution_count": 12,
   "id": "ac3db7f1-d040-48b0-a54c-1f84db0abb38",
   "metadata": {
    "tags": []
   },
   "outputs": [
    {
     "data": {
      "text/plain": [
       "'results'"
      ]
     },
     "metadata": {},
     "output_type": "display_data"
    },
    {
     "data": {
      "text/html": [
       "<div>\n",
       "<style scoped>\n",
       "    .dataframe tbody tr th:only-of-type {\n",
       "        vertical-align: middle;\n",
       "    }\n",
       "\n",
       "    .dataframe tbody tr th {\n",
       "        vertical-align: top;\n",
       "    }\n",
       "\n",
       "    .dataframe thead th {\n",
       "        text-align: right;\n",
       "    }\n",
       "</style>\n",
       "<table border=\"1\" class=\"dataframe\">\n",
       "  <thead>\n",
       "    <tr style=\"text-align: right;\">\n",
       "      <th></th>\n",
       "      <th>qmof_id</th>\n",
       "      <th>name</th>\n",
       "      <th>formula</th>\n",
       "      <th>smiles</th>\n",
       "      <th>pbe</th>\n",
       "      <th>pfp5_U0D3</th>\n",
       "      <th>atoms</th>\n",
       "      <th>elements</th>\n",
       "    </tr>\n",
       "  </thead>\n",
       "  <tbody>\n",
       "    <tr>\n",
       "      <th>0</th>\n",
       "      <td>qmof-644aab4</td>\n",
       "      <td>ABAXUZ_FSR</td>\n",
       "      <td>Zn2C50H32N6O8S4</td>\n",
       "      <td>[O-]C(=O)c1cccc(c1)c1nccs1...</td>\n",
       "      <td>-6.8708</td>\n",
       "      <td>-6.8703</td>\n",
       "      <td>(Atom('Zn', [5.67668749641...</td>\n",
       "      <td>[Zn, C, H, N, S, O]</td>\n",
       "    </tr>\n",
       "    <tr>\n",
       "      <th>1</th>\n",
       "      <td>qmof-f364177</td>\n",
       "      <td>ABAZAF01_FSR</td>\n",
       "      <td>Zn4C104H76N12O20</td>\n",
       "      <td>Oc1cc(cc(c1)C(=O)[O-])C(=O...</td>\n",
       "      <td>-6.8378</td>\n",
       "      <td>-6.8369</td>\n",
       "      <td>(Atom('Zn', [7.55787377436...</td>\n",
       "      <td>[Zn, C, H, N, O]</td>\n",
       "    </tr>\n",
       "    <tr>\n",
       "      <th>2</th>\n",
       "      <td>qmof-d2e3fe6</td>\n",
       "      <td>ABAZAF_FSR</td>\n",
       "      <td>Zn4C104H76N12O20</td>\n",
       "      <td>Oc1cc(cc(c1)C(=O)[O-])C(=O...</td>\n",
       "      <td>-6.8368</td>\n",
       "      <td>-6.8356</td>\n",
       "      <td>(Atom('Zn', [7.25302010411...</td>\n",
       "      <td>[Zn, C, H, N, O]</td>\n",
       "    </tr>\n",
       "    <tr>\n",
       "      <th>3</th>\n",
       "      <td>qmof-6c434d5</td>\n",
       "      <td>ACENIF_FSR</td>\n",
       "      <td>Zn12C76H80N8O40</td>\n",
       "      <td>[O-]C(=O)C.[O]C(c1ccccn1)(...</td>\n",
       "      <td>-6.3192</td>\n",
       "      <td>-6.3177</td>\n",
       "      <td>(Atom('Zn', [-5.3284594199...</td>\n",
       "      <td>[Zn, C, H, N, O]</td>\n",
       "    </tr>\n",
       "    <tr>\n",
       "      <th>4</th>\n",
       "      <td>qmof-9b03351</td>\n",
       "      <td>ACIKAA_FSR</td>\n",
       "      <td>Zn2C26H40N8O18S4</td>\n",
       "      <td>[O-]C(=O)C[NH](CC(=O)O)CCC...</td>\n",
       "      <td>-6.1440</td>\n",
       "      <td>-6.1451</td>\n",
       "      <td>(Atom('Zn', [1.80082631229...</td>\n",
       "      <td>[Zn, C, H, N, S, O]</td>\n",
       "    </tr>\n",
       "  </tbody>\n",
       "</table>\n",
       "</div>"
      ],
      "text/plain": [
       "        qmof_id          name           formula  \\\n",
       "0  qmof-644aab4    ABAXUZ_FSR   Zn2C50H32N6O8S4   \n",
       "1  qmof-f364177  ABAZAF01_FSR  Zn4C104H76N12O20   \n",
       "2  qmof-d2e3fe6    ABAZAF_FSR  Zn4C104H76N12O20   \n",
       "3  qmof-6c434d5    ACENIF_FSR   Zn12C76H80N8O40   \n",
       "4  qmof-9b03351    ACIKAA_FSR  Zn2C26H40N8O18S4   \n",
       "\n",
       "                          smiles     pbe  pfp5_U0D3  \\\n",
       "0  [O-]C(=O)c1cccc(c1)c1nccs1... -6.8708    -6.8703   \n",
       "1  Oc1cc(cc(c1)C(=O)[O-])C(=O... -6.8378    -6.8369   \n",
       "2  Oc1cc(cc(c1)C(=O)[O-])C(=O... -6.8368    -6.8356   \n",
       "3  [O-]C(=O)C.[O]C(c1ccccn1)(... -6.3192    -6.3177   \n",
       "4  [O-]C(=O)C[NH](CC(=O)O)CCC... -6.1440    -6.1451   \n",
       "\n",
       "                           atoms             elements  \n",
       "0  (Atom('Zn', [5.67668749641...  [Zn, C, H, N, S, O]  \n",
       "1  (Atom('Zn', [7.55787377436...     [Zn, C, H, N, O]  \n",
       "2  (Atom('Zn', [7.25302010411...     [Zn, C, H, N, O]  \n",
       "3  (Atom('Zn', [-5.3284594199...     [Zn, C, H, N, O]  \n",
       "4  (Atom('Zn', [1.80082631229...  [Zn, C, H, N, S, O]  "
      ]
     },
     "metadata": {},
     "output_type": "display_data"
    },
    {
     "data": {
      "text/plain": [
       "'mof-db all'"
      ]
     },
     "metadata": {},
     "output_type": "display_data"
    },
    {
     "data": {
      "text/html": [
       "<div>\n",
       "<style scoped>\n",
       "    .dataframe tbody tr th:only-of-type {\n",
       "        vertical-align: middle;\n",
       "    }\n",
       "\n",
       "    .dataframe tbody tr th {\n",
       "        vertical-align: top;\n",
       "    }\n",
       "\n",
       "    .dataframe thead th {\n",
       "        text-align: right;\n",
       "    }\n",
       "</style>\n",
       "<table border=\"1\" class=\"dataframe\">\n",
       "  <thead>\n",
       "    <tr style=\"text-align: right;\">\n",
       "      <th></th>\n",
       "      <th>qmof_id</th>\n",
       "      <th>name</th>\n",
       "      <th>formula</th>\n",
       "      <th>smiles</th>\n",
       "      <th>pbe</th>\n",
       "      <th>pfp5_U0D3</th>\n",
       "      <th>atoms</th>\n",
       "      <th>elements</th>\n",
       "    </tr>\n",
       "  </thead>\n",
       "  <tbody>\n",
       "    <tr>\n",
       "      <th>0</th>\n",
       "      <td>qmof-8a95c27</td>\n",
       "      <td>ABACUF01_FSR</td>\n",
       "      <td>Ba2CuC6H14O16</td>\n",
       "      <td>O.[Ba].[Cu].[O-]C=O</td>\n",
       "      <td>-6.1195</td>\n",
       "      <td>-6.1238</td>\n",
       "      <td>(Atom('Ba', [2.44733698313...</td>\n",
       "      <td>[C, H, Cu, O, Ba]</td>\n",
       "    </tr>\n",
       "    <tr>\n",
       "      <th>1</th>\n",
       "      <td>qmof-019ba28</td>\n",
       "      <td>ABALOF_FSR</td>\n",
       "      <td>Cu12C36H56I16N4S4</td>\n",
       "      <td>None</td>\n",
       "      <td>-5.2504</td>\n",
       "      <td>-5.2527</td>\n",
       "      <td>(Atom('Cu', [5.32810000616...</td>\n",
       "      <td>[C, H, I, N, S, Cu]</td>\n",
       "    </tr>\n",
       "    <tr>\n",
       "      <th>2</th>\n",
       "      <td>qmof-830ed1c</td>\n",
       "      <td>ABAVIJ_FSR</td>\n",
       "      <td>Co4C48H32N8O16</td>\n",
       "      <td>[Co].[O-]C(=O)c1ccncc1</td>\n",
       "      <td>-7.0370</td>\n",
       "      <td>-7.0359</td>\n",
       "      <td>(Atom('Co', [5.26454985649...</td>\n",
       "      <td>[Co, C, H, N, O]</td>\n",
       "    </tr>\n",
       "    <tr>\n",
       "      <th>3</th>\n",
       "      <td>qmof-5bd4a24</td>\n",
       "      <td>ABAVOP_FSR</td>\n",
       "      <td>Co4C48H32N8O16</td>\n",
       "      <td>[Co].[O-]C(=O)c1ccncc1</td>\n",
       "      <td>-7.0380</td>\n",
       "      <td>-7.0366</td>\n",
       "      <td>(Atom('Co', [0.00014692393...</td>\n",
       "      <td>[Co, C, H, N, O]</td>\n",
       "    </tr>\n",
       "    <tr>\n",
       "      <th>4</th>\n",
       "      <td>qmof-644aab4</td>\n",
       "      <td>ABAXUZ_FSR</td>\n",
       "      <td>Zn2C50H32N6O8S4</td>\n",
       "      <td>[O-]C(=O)c1cccc(c1)c1nccs1...</td>\n",
       "      <td>-6.8708</td>\n",
       "      <td>-6.8703</td>\n",
       "      <td>(Atom('Zn', [5.67668749641...</td>\n",
       "      <td>[Zn, C, H, N, S, O]</td>\n",
       "    </tr>\n",
       "  </tbody>\n",
       "</table>\n",
       "</div>"
      ],
      "text/plain": [
       "        qmof_id          name            formula  \\\n",
       "0  qmof-8a95c27  ABACUF01_FSR      Ba2CuC6H14O16   \n",
       "1  qmof-019ba28    ABALOF_FSR  Cu12C36H56I16N4S4   \n",
       "2  qmof-830ed1c    ABAVIJ_FSR     Co4C48H32N8O16   \n",
       "3  qmof-5bd4a24    ABAVOP_FSR     Co4C48H32N8O16   \n",
       "4  qmof-644aab4    ABAXUZ_FSR    Zn2C50H32N6O8S4   \n",
       "\n",
       "                          smiles     pbe  pfp5_U0D3  \\\n",
       "0            O.[Ba].[Cu].[O-]C=O -6.1195    -6.1238   \n",
       "1                           None -5.2504    -5.2527   \n",
       "2         [Co].[O-]C(=O)c1ccncc1 -7.0370    -7.0359   \n",
       "3         [Co].[O-]C(=O)c1ccncc1 -7.0380    -7.0366   \n",
       "4  [O-]C(=O)c1cccc(c1)c1nccs1... -6.8708    -6.8703   \n",
       "\n",
       "                           atoms             elements  \n",
       "0  (Atom('Ba', [2.44733698313...    [C, H, Cu, O, Ba]  \n",
       "1  (Atom('Cu', [5.32810000616...  [C, H, I, N, S, Cu]  \n",
       "2  (Atom('Co', [5.26454985649...     [Co, C, H, N, O]  \n",
       "3  (Atom('Co', [0.00014692393...     [Co, C, H, N, O]  \n",
       "4  (Atom('Zn', [5.67668749641...  [Zn, C, H, N, S, O]  "
      ]
     },
     "metadata": {},
     "output_type": "display_data"
    }
   ],
   "source": [
    "#ADD-MOF で検索後\n",
    "display(\"results\",matv.mofsearch.cands.head())\n",
    "display(\"mof-db all\",matv.mofsearch.df.head())"
   ]
  },
  {
   "cell_type": "code",
   "execution_count": null,
   "id": "a44b6db0-fb05-46a2-9bc1-8a6663cf78ef",
   "metadata": {},
   "outputs": [],
   "source": []
  },
  {
   "cell_type": "markdown",
   "id": "fdc1e03a-c5c5-4d67-9e2d-dd4a60646d38",
   "metadata": {},
   "source": [
    "更新履歴"
   ]
  },
  {
   "cell_type": "markdown",
   "id": "95a5d05d-50e6-4059-9dec-6174a729eaee",
   "metadata": {
    "jupyter": {
     "source_hidden": true
    },
    "tags": []
   },
   "source": [
    "8/1  :v0.0.1 初回リリース  \n",
    "8/16 :v0.0.2  \n",
    "・[Setting] Calcの設定　や画面サイズ,全画面モード,色対応、LightMode可視対応  \n",
    "・Installer autodE およびcython もない人が入るように 追加  \n",
    "・Liquidgenerator を別ファイルに（torch  import メモリが大きく必要なときのみ実行）   \n",
    "8/18 :v0.0.3  \n",
    "・OPTにfixbond 追加、　画面各種微修正、nglview メモリ削除し、動作重くなる問題回避  \n",
    "8/24 :v0.0.4:  \n",
    "・画面修正　trajあるもののみスライダー表示するようにし　そこにplotボタンも追加  \n",
    "・OPT,NEB,グラフ表示機能追加　、特に速さを体感する上でも価値あり。またTrajのplotも並列計算で高速化   \n",
    "・plotly 一回目遅い問題回避のため、treadバックグラウンド実行  \n",
    "・AttachのPBC対応 触媒表面吸着でも利用できるように  \n",
    "9/12 :V0.1.0  \n",
    " ・OOM対応最大値設定 Atoms:20000原子:Traj数500:ファイル表示500,500MB Liq:1000原子,vib500原子  \n",
    " ・分子　SMILES conformer 対応  \n",
    " ・vib 保存・読込機能　（Atoms の atoms.info にdeltaやH等書き込み  \n",
    " ・thermo 対応 IDEAL と HARMO （CRYSTALは未）　グラフも表示  \n",
    " ・EDITにULITEDIT:wrap機能,EDIT CELL設定機能,Traj:Traj編集機能,Attach:A＋B（Aセル保持）を追加  \n",
    " ・複数のイメージを返す処理は　Ｔraj# を追加し、それ以外は　# ## を上書きするように設定   \n",
    "10/30 :V0.1.1  \n",
    "  ・Python3.9に対応（Pandas pikcle 互換)  \n",
    "  ・Crystal IDやFormulaでも検索可能とした  \n",
    "  ・MOFS追加  "
   ]
  },
  {
   "cell_type": "markdown",
   "id": "d2ea2130-a779-418e-a378-1ce84e6c6cc2",
   "metadata": {},
   "source": [
    "既知の問題\n",
    "  ・メモリ１G以上程度消費します。エラー処理は不十分。自己責任にてご利用ください"
   ]
  },
  {
   "cell_type": "code",
   "execution_count": null,
   "id": "eaa8ec5d-556f-4bd3-bfdc-a281c8a97d2f",
   "metadata": {},
   "outputs": [],
   "source": []
  }
 ],
 "metadata": {
  "kernelspec": {
   "display_name": "Python 3.8",
   "language": "python",
   "name": "python38"
  },
  "language_info": {
   "codemirror_mode": {
    "name": "ipython",
    "version": 3
   },
   "file_extension": ".py",
   "mimetype": "text/x-python",
   "name": "python",
   "nbconvert_exporter": "python",
   "pygments_lexer": "ipython3",
   "version": "3.8.13"
  }
 },
 "nbformat": 4,
 "nbformat_minor": 5
}
