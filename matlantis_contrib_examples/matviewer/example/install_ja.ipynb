{
 "cells": [
  {
   "cell_type": "markdown",
   "id": "9490edfe-54b9-46ed-b69b-3a21f991515d",
   "metadata": {},
   "source": [
    "Copyright ENEOS, Corp. and  Preferred Computational Chemistry as contributors to Matlantis contrib project\n",
    "# How to install matviewer\n",
    "\n",
    "execute below commands. 　(Python3.8 or 3.9)"
   ]
  },
  {
   "cell_type": "markdown",
   "id": "d3f0acea-47a9-40a8-955b-a1f6242d6287",
   "metadata": {},
   "source": [
    "pfcc-extrasのインストール  \n",
    "　・Matlantis内のPackage Launcherから `pfcc-extras` をインストールしてください。  \n",
    "JSMEインストール ・・・下セルで実行できます  \n",
    "　・JSMEはサーバ通信なしで分子構造描画ができるBSD licenseソフトです。  \n",
    "autodEのインストール ・・・下セルで実行できます  \n",
    "　・SMILESからASE Atomsへの変換に、`autode` packageを使います。"
   ]
  },
  {
   "cell_type": "code",
   "execution_count": null,
   "id": "657baba3-b9af-413b-a94c-f9e481629b31",
   "metadata": {},
   "outputs": [],
   "source": [
    "#JSMEはサーバ通信なしで分子構造描画ができJ-GLOBALでも採用されているBSD licenseソフトです。（https://jsme-editor.github.io/)\n",
    "!git clone https://github.com/jsme-editor/jsme-editor.github.io.git\n",
    "# Change from \"master\" branch to \"2022-02-26\" release\n",
    "!cd jsme-editor.github.io && git reset --hard 198ef9be65dd1e05846affff7a2dee17de3e267b\n",
    "!mkdir -p ../matviewer/data/jsme/\n",
    "!cp -r ./jsme-editor.github.io/dist/jsme/* ../matviewer/data/jsme/\n",
    "!rm -rf ./jsme-editor.github.io\n",
    "#autodEはsmiles から分子構造作成する際に利用します。\n",
    "!pip install git+https://github.com/duartegroup/autodE.git"
   ]
  },
  {
   "cell_type": "code",
   "execution_count": null,
   "id": "c9289852-ea55-4ba7-9535-38ac56fad25d",
   "metadata": {
    "tags": []
   },
   "outputs": [],
   "source": [
    "!pip install  .. # To enable import from other folders"
   ]
  },
  {
   "cell_type": "markdown",
   "id": "e3ba46e6-ae9c-46e3-aee8-80e362265caf",
   "metadata": {
    "tags": []
   },
   "source": [
    "## Check install\n",
    "Please restart this kernel before executing following cells.<br>\n",
    "It is correctly installed when version is printed."
   ]
  },
  {
   "cell_type": "code",
   "execution_count": 3,
   "id": "378657e5-b730-4dc7-90f4-14c8973be6f2",
   "metadata": {},
   "outputs": [
    {
     "data": {
      "application/vnd.jupyter.widget-view+json": {
       "model_id": "c2a23835dbc240e9b9787d301c88944c",
       "version_major": 2,
       "version_minor": 0
      },
      "text/plain": []
     },
     "metadata": {},
     "output_type": "display_data"
    },
    {
     "name": "stdout",
     "output_type": "stream",
     "text": [
      "matviewer version:  0.1.1\n"
     ]
    }
   ],
   "source": [
    "import matviewer\n",
    "print(\"matviewer version: \", matviewer.__version__)"
   ]
  },
  {
   "cell_type": "markdown",
   "id": "53fd3548-0529-45d5-87f9-6eb66483d2c7",
   "metadata": {
    "tags": []
   },
   "source": [
    "##  For uninstall\n"
   ]
  },
  {
   "cell_type": "code",
   "execution_count": null,
   "id": "6cbe264d-ce36-43db-8fa6-7f8c56997a0d",
   "metadata": {},
   "outputs": [],
   "source": [
    "#!pip uninstall matviewer -y"
   ]
  },
  {
   "cell_type": "code",
   "execution_count": null,
   "id": "6cd9ea72-419e-4608-8227-9a5fc85321f0",
   "metadata": {},
   "outputs": [],
   "source": []
  }
 ],
 "metadata": {
  "kernelspec": {
   "display_name": "Python 3.8",
   "language": "python",
   "name": "python38"
  },
  "language_info": {
   "codemirror_mode": {
    "name": "ipython",
    "version": 3
   },
   "file_extension": ".py",
   "mimetype": "text/x-python",
   "name": "python",
   "nbconvert_exporter": "python",
   "pygments_lexer": "ipython3",
   "version": "3.8.13"
  },
  "widgets": {
   "application/vnd.jupyter.widget-state+json": {
    "state": {
     "08da1dc000e247509ffe38e4db814ef5": {
      "model_module": "@jupyter-widgets/controls",
      "model_module_version": "1.5.0",
      "model_name": "ButtonStyleModel",
      "state": {}
     },
     "0ffa33881187487cb87c9ec5956cf8c1": {
      "model_module": "@jupyter-widgets/base",
      "model_module_version": "1.2.0",
      "model_name": "LayoutModel",
      "state": {}
     },
     "21934048656a4d438df84fab9a22135d": {
      "model_module": "@jupyter-widgets/controls",
      "model_module_version": "1.5.0",
      "model_name": "ButtonStyleModel",
      "state": {}
     },
     "27b30a48f7364927b7ab268b035ddd18": {
      "model_module": "@jupyter-widgets/base",
      "model_module_version": "1.2.0",
      "model_name": "LayoutModel",
      "state": {}
     },
     "4d5a44358a8745dd897d8706e6b5ec9a": {
      "model_module": "@jupyter-widgets/controls",
      "model_module_version": "1.5.0",
      "model_name": "ButtonStyleModel",
      "state": {}
     },
     "5da6fe9893b34e0e85d0fe9884bc89ad": {
      "model_module": "@jupyter-widgets/base",
      "model_module_version": "1.2.0",
      "model_name": "LayoutModel",
      "state": {}
     },
     "5e8ad3435dbb4e458bcbe04e732e12bf": {
      "model_module": "@jupyter-widgets/controls",
      "model_module_version": "1.5.0",
      "model_name": "ButtonModel",
      "state": {
       "layout": "IPY_MODEL_27b30a48f7364927b7ab268b035ddd18",
       "style": "IPY_MODEL_21934048656a4d438df84fab9a22135d"
      }
     },
     "6347a6d51d91475283ddcce863b655cb": {
      "model_module": "@jupyter-widgets/base",
      "model_module_version": "1.2.0",
      "model_name": "LayoutModel",
      "state": {}
     },
     "8d9060c91eb04784ac2887b0b79068db": {
      "model_module": "@jupyter-widgets/controls",
      "model_module_version": "1.5.0",
      "model_name": "ButtonStyleModel",
      "state": {}
     },
     "b238713df245406db6b3c59153fbda74": {
      "model_module": "@jupyter-widgets/controls",
      "model_module_version": "1.5.0",
      "model_name": "ButtonModel",
      "state": {
       "layout": "IPY_MODEL_0ffa33881187487cb87c9ec5956cf8c1",
       "style": "IPY_MODEL_8d9060c91eb04784ac2887b0b79068db"
      }
     },
     "b3aa6be5408e4ef1a0cdca8c4515bba3": {
      "model_module": "@jupyter-widgets/base",
      "model_module_version": "1.2.0",
      "model_name": "LayoutModel",
      "state": {}
     },
     "c2a23835dbc240e9b9787d301c88944c": {
      "model_module": "nglview-js-widgets",
      "model_module_version": "3.0.1",
      "model_name": "ColormakerRegistryModel",
      "state": {
       "_msg_ar": [],
       "_msg_q": [],
       "_ready": true,
       "layout": "IPY_MODEL_6347a6d51d91475283ddcce863b655cb"
      }
     },
     "daba23f4b9a54ce988c774ada21525c6": {
      "model_module": "@jupyter-widgets/controls",
      "model_module_version": "1.5.0",
      "model_name": "ButtonModel",
      "state": {
       "layout": "IPY_MODEL_b3aa6be5408e4ef1a0cdca8c4515bba3",
       "style": "IPY_MODEL_08da1dc000e247509ffe38e4db814ef5"
      }
     },
     "e5227d98287c4ec0897aed2ce470f4e2": {
      "model_module": "@jupyter-widgets/controls",
      "model_module_version": "1.5.0",
      "model_name": "ButtonModel",
      "state": {
       "layout": "IPY_MODEL_5da6fe9893b34e0e85d0fe9884bc89ad",
       "style": "IPY_MODEL_4d5a44358a8745dd897d8706e6b5ec9a"
      }
     }
    },
    "version_major": 2,
    "version_minor": 0
   }
  }
 },
 "nbformat": 4,
 "nbformat_minor": 5
}
