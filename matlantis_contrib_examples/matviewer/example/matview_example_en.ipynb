{
 "cells": [
  {
   "cell_type": "markdown",
   "id": "dbf87237-524d-4782-b5e8-de6f0a2c56a9",
   "metadata": {
    "tags": []
   },
   "source": [
    "Copyright ENEOS, Corp. and  Preferred Computational Chemistry as contributors to Matlantis contrib project :2023/10/30 ENEOS Ibuka  \n",
    "\n",
    "This document has been machine translated from Japanese to English.\n",
    "\n",
    "### Matviewer  \n",
    " \n",
    "Matviewer is a tool in Matlantis that allows you to obtain, process, and analyze molecules and crystal structures through a GUI, including OPT, NEB, VIB, etc.\\\n",
    "Once you execute the installation with Install.ipynb, you can run it in other folders. It is compatible with Python 3.8 and 3.9."
   ]
  },
  {
   "cell_type": "markdown",
   "id": "5d6126fc-5c15-41a3-b9ab-7c9fc23930a9",
   "metadata": {},
   "source": [
    "Feature Description"
   ]
  },
  {
   "cell_type": "markdown",
   "id": "2f6deb85-bccd-4021-98a6-264510f54ef5",
   "metadata": {
    "tags": []
   },
   "source": [
    "・Overall\\\n",
    "　　・Initially on the left, [Setting] is displayed where you can configure Calc, surface size, color. Full-screen mode is also supported.\\\n",
    "　　・In Matviewer, displays, edits, and calculations are managed by Traj numbers # and image numbers within Traj ##.\\\n",
    "　　・To manage multiple structures, use Add# and Add## buttons to reserve update area numbers. You can delete the displayed areas with Del# and Del##.\\\n",
    "　　・For Traj# with multiple ##, you can display epot and force by pressing the plot button.\\\n",
    "　　・[Save] All current registrations will be saved. This will be loaded the next time you start (it is also zipped, allowing for restoration of past saves).\\\n",
    "　　・The checkbox below displays the current energy and max force.\\\n",
    "　　　The set button shows the difference in energy dE compared to the registered values, which is convenient for NEB and adsorption studies.\n",
    "\n",
    "・ADD MENU\\\n",
    "　　・[FILE] Loads existing Atoms or traj files. Supports multiple structures.\\\n",
    "　　・[SMILES or Draw] You can create Atoms from molecular drawings with JSME or from SMILES.\\\n",
    "  　　　　The Conformer button allows you to search for other structures with the same SMILES.\\\n",
    "　　・[Crystal] You can search and load from Materials Project data (mp.gz). After searching, you can display and load by clicking the view button.\n",
    "\n",
    "・EDIT MENU\\\n",
    "　　・[Move] You can move and rotate specified index atoms, and you can also move them by setting atomic distances. Undo is supported.\\\n",
    "　　　　　Index specification can be done by position index or conect, where you can set the molecule connected to the specified number (-1 for the last atom).\\\n",
    "　　　　　mult allows you to control the connection determination value.\\\n",
    "　　・[Utiledit] Allows atom substitution, deletion, and also sorting of numbers and wrap.\\\n",
    "　　・[Repeat] This is the function of atoms.repeat. It is automatically set for non-pbc molecules, but you can set the size with allowance.\\\n",
    "　　・[Cell] Displays and allows setting the Cell information.\\\n",
    "　　・[Surface] This is the functionality of pymatgen's SlabGenerator. x, y creates a small slab so it is better to perform Repeat([2,2,1]) afterwards.\\\n",
    "　　・[Attach] Creates a combined Atoms by specifying the distance between a0 of Atoms0 and a1 of Atoms1.\\\n",
    "　　　　　An automated rotation and translation structure is created to avoid as much interference between other atoms as possible.\\\n",
    "　　　　　It can be used for NEB initial and final structure creation, monomer-to-dimer-to-oligomer creation, adding molecules to slabs, etc.\\\n",
    "　　　　　If OPT is set to a number greater than 1, an opt with fixed distance can be performed. Simply combining A + B (cell follows A) is also possible.\\\n",
    "　　・[Liquid] Creates a liquid structure by specifying the molecule count and density. This uses the liquid_generator developed by PFN and included in Matlantis contrib.\\\n",
    "　　・[Traj] Allows you to copy and add or swap specified Traj numbers # and image numbers ##.\n",
    "\n",
    "\n",
    "・CALC MENU\\\n",
    "　　・[Setting] Settings for Calc or screen size (right side), color settings (for the entire app, NGL) are possible. Full-screen mode is also supported.\\\n",
    "　　・[OPT] Performs structure optimization with LGBFS. Cell opt is also selectable. Results are also saved in ./output/opt. Constraint only supports FixAtoms.\\\n",
    "　　・[VIB] Conducts vibration analysis. You can also check the movement for the specified vibration mode in the view. Temperature can be set as well.\\\n",
    "　　　　VIB information from the last performed atoms or traj in ./output/vib/ can be read.\\\n",
    "　　・[Thermo] Energy calculations under Thermo, HARMONIC conditions are possible with atoms that have VIB settings.\\\n",
    "　　・[MD_NVT] NVT can be performed. Operation has only been confirmed for a few thousand iterations.\\"
   ]
  },
  {
   "cell_type": "code",
   "execution_count": null,
   "id": "1d5ae962-571e-4cff-8bec-8cd9d5b230e1",
   "metadata": {
    "tags": []
   },
   "outputs": [],
   "source": [
    "import matviewer "
   ]
  },
  {
   "cell_type": "code",
   "execution_count": null,
   "id": "73c3477c-c8f9-4cfa-93e5-e5fd669a5398",
   "metadata": {},
   "outputs": [],
   "source": [
    "matv = matviewer.Matviewer()"
   ]
  },
  {
   "cell_type": "code",
   "execution_count": null,
   "id": "44eee976-61fe-453c-ae1c-26c753b5ace5",
   "metadata": {
    "tags": []
   },
   "outputs": [],
   "source": [
    "matv"
   ]
  },
  {
   "cell_type": "code",
   "execution_count": 4,
   "id": "cb7644b7-85ee-4365-b314-8ce2f0eb355f",
   "metadata": {
    "tags": []
   },
   "outputs": [
    {
     "data": {
      "text/plain": [
       "Atoms(symbols='Au', pbc=False)"
      ]
     },
     "execution_count": 4,
     "metadata": {},
     "output_type": "execute_result"
    }
   ],
   "source": [
    "matv.atoms"
   ]
  },
  {
   "cell_type": "code",
   "execution_count": 5,
   "id": "21b1bab8-a8db-4551-9df2-3bdaad46988d",
   "metadata": {
    "tags": []
   },
   "outputs": [
    {
     "data": {
      "text/plain": [
       "Atoms(symbols='Au', pbc=False)"
      ]
     },
     "execution_count": 5,
     "metadata": {},
     "output_type": "execute_result"
    }
   ],
   "source": [
    "#latoms_list ADD# List of lists of Atoms registered in ##.\n",
    "matv.latoms_list[-1][0]"
   ]
  },
  {
   "cell_type": "code",
   "execution_count": 6,
   "id": "eb165644-7514-47b0-bf29-0d2b8d1c5c22",
   "metadata": {
    "tags": []
   },
   "outputs": [],
   "source": [
    "#Add Atoms from separate work\n",
    "import ase\n",
    "o2 = ase.Atoms(\"O2\",[[0,0,0],[0,0,1]])\n",
    "matv + o2 \n",
    "#matv.add_atoms(o2) 　でも可能"
   ]
  },
  {
   "cell_type": "code",
   "execution_count": 7,
   "id": "df414776-52ff-4a06-ad5c-9691f0532124",
   "metadata": {
    "tags": []
   },
   "outputs": [],
   "source": [
    "#Add Atoms list from separate work\n",
    "h2 = ase.Atoms(\"H2\",[[0,0,0],[0,0,0.75]])\n",
    "matv.add_atoms([h2,o2])\n",
    "#matv + [o2,h2] also available"
   ]
  },
  {
   "cell_type": "code",
   "execution_count": 8,
   "id": "5c98d09b-239d-4346-9590-51476793c6de",
   "metadata": {
    "tags": []
   },
   "outputs": [
    {
     "data": {
      "text/plain": [
       "'results'"
      ]
     },
     "metadata": {},
     "output_type": "display_data"
    },
    {
     "data": {
      "text/html": [
       "<div>\n",
       "<style scoped>\n",
       "    .dataframe tbody tr th:only-of-type {\n",
       "        vertical-align: middle;\n",
       "    }\n",
       "\n",
       "    .dataframe tbody tr th {\n",
       "        vertical-align: top;\n",
       "    }\n",
       "\n",
       "    .dataframe thead th {\n",
       "        text-align: right;\n",
       "    }\n",
       "</style>\n",
       "<table border=\"1\" class=\"dataframe\">\n",
       "  <thead>\n",
       "    <tr style=\"text-align: right;\">\n",
       "      <th></th>\n",
       "      <th>material_id</th>\n",
       "      <th>pretty_formula</th>\n",
       "      <th>energy</th>\n",
       "      <th>e_above_hull</th>\n",
       "      <th>is_hubbard</th>\n",
       "      <th>elements</th>\n",
       "      <th>atoms</th>\n",
       "    </tr>\n",
       "  </thead>\n",
       "  <tbody>\n",
       "    <tr>\n",
       "      <th>0</th>\n",
       "      <td>mp-13</td>\n",
       "      <td>Fe</td>\n",
       "      <td>-8.4700</td>\n",
       "      <td>0.0000</td>\n",
       "      <td>False</td>\n",
       "      <td>[Fe]</td>\n",
       "      <td>(Atom('Fe', [0.0, 0.0, 0.0...</td>\n",
       "    </tr>\n",
       "    <tr>\n",
       "      <th>1</th>\n",
       "      <td>mp-136</td>\n",
       "      <td>Fe</td>\n",
       "      <td>-16.7444</td>\n",
       "      <td>0.0978</td>\n",
       "      <td>False</td>\n",
       "      <td>[Fe]</td>\n",
       "      <td>(Atom('Fe', [-1.0390743909...</td>\n",
       "    </tr>\n",
       "    <tr>\n",
       "      <th>2</th>\n",
       "      <td>mp-150</td>\n",
       "      <td>Fe</td>\n",
       "      <td>-8.3217</td>\n",
       "      <td>0.1484</td>\n",
       "      <td>False</td>\n",
       "      <td>[Fe]</td>\n",
       "      <td>(Atom('Fe', [0.0, 0.0, 0.0...</td>\n",
       "    </tr>\n",
       "    <tr>\n",
       "      <th>3</th>\n",
       "      <td>mp-1456</td>\n",
       "      <td>Fe2O3</td>\n",
       "      <td>-1060.7866</td>\n",
       "      <td>0.1194</td>\n",
       "      <td>True</td>\n",
       "      <td>[Fe, O]</td>\n",
       "      <td>(Atom('Fe', [2.10901045799...</td>\n",
       "    </tr>\n",
       "    <tr>\n",
       "      <th>4</th>\n",
       "      <td>mp-12957</td>\n",
       "      <td>O2</td>\n",
       "      <td>-39.5837</td>\n",
       "      <td>0.0000</td>\n",
       "      <td>False</td>\n",
       "      <td>[O]</td>\n",
       "      <td>(Atom('O', [4.521114349365...</td>\n",
       "    </tr>\n",
       "  </tbody>\n",
       "</table>\n",
       "</div>"
      ],
      "text/plain": [
       "  material_id pretty_formula     energy  e_above_hull  is_hubbard elements  \\\n",
       "0       mp-13             Fe    -8.4700        0.0000       False     [Fe]   \n",
       "1      mp-136             Fe   -16.7444        0.0978       False     [Fe]   \n",
       "2      mp-150             Fe    -8.3217        0.1484       False     [Fe]   \n",
       "3     mp-1456          Fe2O3 -1060.7866        0.1194        True  [Fe, O]   \n",
       "4    mp-12957             O2   -39.5837        0.0000       False      [O]   \n",
       "\n",
       "                           atoms  \n",
       "0  (Atom('Fe', [0.0, 0.0, 0.0...  \n",
       "1  (Atom('Fe', [-1.0390743909...  \n",
       "2  (Atom('Fe', [0.0, 0.0, 0.0...  \n",
       "3  (Atom('Fe', [2.10901045799...  \n",
       "4  (Atom('O', [4.521114349365...  "
      ]
     },
     "metadata": {},
     "output_type": "display_data"
    },
    {
     "data": {
      "text/plain": [
       "'mp-db all'"
      ]
     },
     "metadata": {},
     "output_type": "display_data"
    },
    {
     "data": {
      "text/html": [
       "<div>\n",
       "<style scoped>\n",
       "    .dataframe tbody tr th:only-of-type {\n",
       "        vertical-align: middle;\n",
       "    }\n",
       "\n",
       "    .dataframe tbody tr th {\n",
       "        vertical-align: top;\n",
       "    }\n",
       "\n",
       "    .dataframe thead th {\n",
       "        text-align: right;\n",
       "    }\n",
       "</style>\n",
       "<table border=\"1\" class=\"dataframe\">\n",
       "  <thead>\n",
       "    <tr style=\"text-align: right;\">\n",
       "      <th></th>\n",
       "      <th>material_id</th>\n",
       "      <th>pretty_formula</th>\n",
       "      <th>energy</th>\n",
       "      <th>e_above_hull</th>\n",
       "      <th>is_hubbard</th>\n",
       "      <th>elements</th>\n",
       "      <th>atoms</th>\n",
       "    </tr>\n",
       "  </thead>\n",
       "  <tbody>\n",
       "    <tr>\n",
       "      <th>0</th>\n",
       "      <td>mp-1</td>\n",
       "      <td>Cs</td>\n",
       "      <td>-0.8566</td>\n",
       "      <td>0.0388</td>\n",
       "      <td>False</td>\n",
       "      <td>[Cs]</td>\n",
       "      <td>(Atom('Cs', [0.0, 0.0, 0.0...</td>\n",
       "    </tr>\n",
       "    <tr>\n",
       "      <th>1</th>\n",
       "      <td>mp-2</td>\n",
       "      <td>Pd</td>\n",
       "      <td>-5.1799</td>\n",
       "      <td>0.0000</td>\n",
       "      <td>False</td>\n",
       "      <td>[Pd]</td>\n",
       "      <td>(Atom('Pd', [0.0, 0.0, 0.0...</td>\n",
       "    </tr>\n",
       "    <tr>\n",
       "      <th>2</th>\n",
       "      <td>mp-3</td>\n",
       "      <td>Cs</td>\n",
       "      <td>-1.5980</td>\n",
       "      <td>0.0964</td>\n",
       "      <td>False</td>\n",
       "      <td>[Cs]</td>\n",
       "      <td>(Atom('Cs', [3.67067623138...</td>\n",
       "    </tr>\n",
       "    <tr>\n",
       "      <th>3</th>\n",
       "      <td>mp-4</td>\n",
       "      <td>Nd</td>\n",
       "      <td>-4.6282</td>\n",
       "      <td>0.1400</td>\n",
       "      <td>False</td>\n",
       "      <td>[Nd]</td>\n",
       "      <td>(Atom('Nd', [0.0, 0.0, 0.0...</td>\n",
       "    </tr>\n",
       "    <tr>\n",
       "      <th>4</th>\n",
       "      <td>mp-7</td>\n",
       "      <td>S</td>\n",
       "      <td>-24.4317</td>\n",
       "      <td>0.0645</td>\n",
       "      <td>False</td>\n",
       "      <td>[S]</td>\n",
       "      <td>(Atom('S', [-2.10661840438...</td>\n",
       "    </tr>\n",
       "  </tbody>\n",
       "</table>\n",
       "</div>"
      ],
      "text/plain": [
       "  material_id pretty_formula   energy  e_above_hull  is_hubbard elements  \\\n",
       "0        mp-1             Cs  -0.8566        0.0388       False     [Cs]   \n",
       "1        mp-2             Pd  -5.1799        0.0000       False     [Pd]   \n",
       "2        mp-3             Cs  -1.5980        0.0964       False     [Cs]   \n",
       "3        mp-4             Nd  -4.6282        0.1400       False     [Nd]   \n",
       "4        mp-7              S -24.4317        0.0645       False      [S]   \n",
       "\n",
       "                           atoms  \n",
       "0  (Atom('Cs', [0.0, 0.0, 0.0...  \n",
       "1  (Atom('Pd', [0.0, 0.0, 0.0...  \n",
       "2  (Atom('Cs', [3.67067623138...  \n",
       "3  (Atom('Nd', [0.0, 0.0, 0.0...  \n",
       "4  (Atom('S', [-2.10661840438...  "
      ]
     },
     "metadata": {},
     "output_type": "display_data"
    }
   ],
   "source": [
    "#ADD-Crystal after search\n",
    "display(\"results\",matv.crystalsearch.cands.head())\n",
    "display(\"mp-db all\",matv.crystalsearch.df.head())"
   ]
  },
  {
   "cell_type": "code",
   "execution_count": 12,
   "id": "ac3db7f1-d040-48b0-a54c-1f84db0abb38",
   "metadata": {
    "tags": []
   },
   "outputs": [
    {
     "data": {
      "text/plain": [
       "'results'"
      ]
     },
     "metadata": {},
     "output_type": "display_data"
    },
    {
     "data": {
      "text/html": [
       "<div>\n",
       "<style scoped>\n",
       "    .dataframe tbody tr th:only-of-type {\n",
       "        vertical-align: middle;\n",
       "    }\n",
       "\n",
       "    .dataframe tbody tr th {\n",
       "        vertical-align: top;\n",
       "    }\n",
       "\n",
       "    .dataframe thead th {\n",
       "        text-align: right;\n",
       "    }\n",
       "</style>\n",
       "<table border=\"1\" class=\"dataframe\">\n",
       "  <thead>\n",
       "    <tr style=\"text-align: right;\">\n",
       "      <th></th>\n",
       "      <th>qmof_id</th>\n",
       "      <th>name</th>\n",
       "      <th>formula</th>\n",
       "      <th>smiles</th>\n",
       "      <th>pbe</th>\n",
       "      <th>pfp5_U0D3</th>\n",
       "      <th>atoms</th>\n",
       "      <th>elements</th>\n",
       "    </tr>\n",
       "  </thead>\n",
       "  <tbody>\n",
       "    <tr>\n",
       "      <th>0</th>\n",
       "      <td>qmof-644aab4</td>\n",
       "      <td>ABAXUZ_FSR</td>\n",
       "      <td>Zn2C50H32N6O8S4</td>\n",
       "      <td>[O-]C(=O)c1cccc(c1)c1nccs1...</td>\n",
       "      <td>-6.8708</td>\n",
       "      <td>-6.8703</td>\n",
       "      <td>(Atom('Zn', [5.67668749641...</td>\n",
       "      <td>[Zn, C, H, N, S, O]</td>\n",
       "    </tr>\n",
       "    <tr>\n",
       "      <th>1</th>\n",
       "      <td>qmof-f364177</td>\n",
       "      <td>ABAZAF01_FSR</td>\n",
       "      <td>Zn4C104H76N12O20</td>\n",
       "      <td>Oc1cc(cc(c1)C(=O)[O-])C(=O...</td>\n",
       "      <td>-6.8378</td>\n",
       "      <td>-6.8369</td>\n",
       "      <td>(Atom('Zn', [7.55787377436...</td>\n",
       "      <td>[Zn, C, H, N, O]</td>\n",
       "    </tr>\n",
       "    <tr>\n",
       "      <th>2</th>\n",
       "      <td>qmof-d2e3fe6</td>\n",
       "      <td>ABAZAF_FSR</td>\n",
       "      <td>Zn4C104H76N12O20</td>\n",
       "      <td>Oc1cc(cc(c1)C(=O)[O-])C(=O...</td>\n",
       "      <td>-6.8368</td>\n",
       "      <td>-6.8356</td>\n",
       "      <td>(Atom('Zn', [7.25302010411...</td>\n",
       "      <td>[Zn, C, H, N, O]</td>\n",
       "    </tr>\n",
       "    <tr>\n",
       "      <th>3</th>\n",
       "      <td>qmof-6c434d5</td>\n",
       "      <td>ACENIF_FSR</td>\n",
       "      <td>Zn12C76H80N8O40</td>\n",
       "      <td>[O-]C(=O)C.[O]C(c1ccccn1)(...</td>\n",
       "      <td>-6.3192</td>\n",
       "      <td>-6.3177</td>\n",
       "      <td>(Atom('Zn', [-5.3284594199...</td>\n",
       "      <td>[Zn, C, H, N, O]</td>\n",
       "    </tr>\n",
       "    <tr>\n",
       "      <th>4</th>\n",
       "      <td>qmof-9b03351</td>\n",
       "      <td>ACIKAA_FSR</td>\n",
       "      <td>Zn2C26H40N8O18S4</td>\n",
       "      <td>[O-]C(=O)C[NH](CC(=O)O)CCC...</td>\n",
       "      <td>-6.1440</td>\n",
       "      <td>-6.1451</td>\n",
       "      <td>(Atom('Zn', [1.80082631229...</td>\n",
       "      <td>[Zn, C, H, N, S, O]</td>\n",
       "    </tr>\n",
       "  </tbody>\n",
       "</table>\n",
       "</div>"
      ],
      "text/plain": [
       "        qmof_id          name           formula  \\\n",
       "0  qmof-644aab4    ABAXUZ_FSR   Zn2C50H32N6O8S4   \n",
       "1  qmof-f364177  ABAZAF01_FSR  Zn4C104H76N12O20   \n",
       "2  qmof-d2e3fe6    ABAZAF_FSR  Zn4C104H76N12O20   \n",
       "3  qmof-6c434d5    ACENIF_FSR   Zn12C76H80N8O40   \n",
       "4  qmof-9b03351    ACIKAA_FSR  Zn2C26H40N8O18S4   \n",
       "\n",
       "                          smiles     pbe  pfp5_U0D3  \\\n",
       "0  [O-]C(=O)c1cccc(c1)c1nccs1... -6.8708    -6.8703   \n",
       "1  Oc1cc(cc(c1)C(=O)[O-])C(=O... -6.8378    -6.8369   \n",
       "2  Oc1cc(cc(c1)C(=O)[O-])C(=O... -6.8368    -6.8356   \n",
       "3  [O-]C(=O)C.[O]C(c1ccccn1)(... -6.3192    -6.3177   \n",
       "4  [O-]C(=O)C[NH](CC(=O)O)CCC... -6.1440    -6.1451   \n",
       "\n",
       "                           atoms             elements  \n",
       "0  (Atom('Zn', [5.67668749641...  [Zn, C, H, N, S, O]  \n",
       "1  (Atom('Zn', [7.55787377436...     [Zn, C, H, N, O]  \n",
       "2  (Atom('Zn', [7.25302010411...     [Zn, C, H, N, O]  \n",
       "3  (Atom('Zn', [-5.3284594199...     [Zn, C, H, N, O]  \n",
       "4  (Atom('Zn', [1.80082631229...  [Zn, C, H, N, S, O]  "
      ]
     },
     "metadata": {},
     "output_type": "display_data"
    },
    {
     "data": {
      "text/plain": [
       "'mof-db all'"
      ]
     },
     "metadata": {},
     "output_type": "display_data"
    },
    {
     "data": {
      "text/html": [
       "<div>\n",
       "<style scoped>\n",
       "    .dataframe tbody tr th:only-of-type {\n",
       "        vertical-align: middle;\n",
       "    }\n",
       "\n",
       "    .dataframe tbody tr th {\n",
       "        vertical-align: top;\n",
       "    }\n",
       "\n",
       "    .dataframe thead th {\n",
       "        text-align: right;\n",
       "    }\n",
       "</style>\n",
       "<table border=\"1\" class=\"dataframe\">\n",
       "  <thead>\n",
       "    <tr style=\"text-align: right;\">\n",
       "      <th></th>\n",
       "      <th>qmof_id</th>\n",
       "      <th>name</th>\n",
       "      <th>formula</th>\n",
       "      <th>smiles</th>\n",
       "      <th>pbe</th>\n",
       "      <th>pfp5_U0D3</th>\n",
       "      <th>atoms</th>\n",
       "      <th>elements</th>\n",
       "    </tr>\n",
       "  </thead>\n",
       "  <tbody>\n",
       "    <tr>\n",
       "      <th>0</th>\n",
       "      <td>qmof-8a95c27</td>\n",
       "      <td>ABACUF01_FSR</td>\n",
       "      <td>Ba2CuC6H14O16</td>\n",
       "      <td>O.[Ba].[Cu].[O-]C=O</td>\n",
       "      <td>-6.1195</td>\n",
       "      <td>-6.1238</td>\n",
       "      <td>(Atom('Ba', [2.44733698313...</td>\n",
       "      <td>[C, H, Cu, O, Ba]</td>\n",
       "    </tr>\n",
       "    <tr>\n",
       "      <th>1</th>\n",
       "      <td>qmof-019ba28</td>\n",
       "      <td>ABALOF_FSR</td>\n",
       "      <td>Cu12C36H56I16N4S4</td>\n",
       "      <td>None</td>\n",
       "      <td>-5.2504</td>\n",
       "      <td>-5.2527</td>\n",
       "      <td>(Atom('Cu', [5.32810000616...</td>\n",
       "      <td>[C, H, I, N, S, Cu]</td>\n",
       "    </tr>\n",
       "    <tr>\n",
       "      <th>2</th>\n",
       "      <td>qmof-830ed1c</td>\n",
       "      <td>ABAVIJ_FSR</td>\n",
       "      <td>Co4C48H32N8O16</td>\n",
       "      <td>[Co].[O-]C(=O)c1ccncc1</td>\n",
       "      <td>-7.0370</td>\n",
       "      <td>-7.0359</td>\n",
       "      <td>(Atom('Co', [5.26454985649...</td>\n",
       "      <td>[Co, C, H, N, O]</td>\n",
       "    </tr>\n",
       "    <tr>\n",
       "      <th>3</th>\n",
       "      <td>qmof-5bd4a24</td>\n",
       "      <td>ABAVOP_FSR</td>\n",
       "      <td>Co4C48H32N8O16</td>\n",
       "      <td>[Co].[O-]C(=O)c1ccncc1</td>\n",
       "      <td>-7.0380</td>\n",
       "      <td>-7.0366</td>\n",
       "      <td>(Atom('Co', [0.00014692393...</td>\n",
       "      <td>[Co, C, H, N, O]</td>\n",
       "    </tr>\n",
       "    <tr>\n",
       "      <th>4</th>\n",
       "      <td>qmof-644aab4</td>\n",
       "      <td>ABAXUZ_FSR</td>\n",
       "      <td>Zn2C50H32N6O8S4</td>\n",
       "      <td>[O-]C(=O)c1cccc(c1)c1nccs1...</td>\n",
       "      <td>-6.8708</td>\n",
       "      <td>-6.8703</td>\n",
       "      <td>(Atom('Zn', [5.67668749641...</td>\n",
       "      <td>[Zn, C, H, N, S, O]</td>\n",
       "    </tr>\n",
       "  </tbody>\n",
       "</table>\n",
       "</div>"
      ],
      "text/plain": [
       "        qmof_id          name            formula  \\\n",
       "0  qmof-8a95c27  ABACUF01_FSR      Ba2CuC6H14O16   \n",
       "1  qmof-019ba28    ABALOF_FSR  Cu12C36H56I16N4S4   \n",
       "2  qmof-830ed1c    ABAVIJ_FSR     Co4C48H32N8O16   \n",
       "3  qmof-5bd4a24    ABAVOP_FSR     Co4C48H32N8O16   \n",
       "4  qmof-644aab4    ABAXUZ_FSR    Zn2C50H32N6O8S4   \n",
       "\n",
       "                          smiles     pbe  pfp5_U0D3  \\\n",
       "0            O.[Ba].[Cu].[O-]C=O -6.1195    -6.1238   \n",
       "1                           None -5.2504    -5.2527   \n",
       "2         [Co].[O-]C(=O)c1ccncc1 -7.0370    -7.0359   \n",
       "3         [Co].[O-]C(=O)c1ccncc1 -7.0380    -7.0366   \n",
       "4  [O-]C(=O)c1cccc(c1)c1nccs1... -6.8708    -6.8703   \n",
       "\n",
       "                           atoms             elements  \n",
       "0  (Atom('Ba', [2.44733698313...    [C, H, Cu, O, Ba]  \n",
       "1  (Atom('Cu', [5.32810000616...  [C, H, I, N, S, Cu]  \n",
       "2  (Atom('Co', [5.26454985649...     [Co, C, H, N, O]  \n",
       "3  (Atom('Co', [0.00014692393...     [Co, C, H, N, O]  \n",
       "4  (Atom('Zn', [5.67668749641...  [Zn, C, H, N, S, O]  "
      ]
     },
     "metadata": {},
     "output_type": "display_data"
    }
   ],
   "source": [
    "#ADD-MOF after search\n",
    "display(\"results\",matv.mofsearch.cands.head())\n",
    "display(\"mof-db all\",matv.mofsearch.df.head())"
   ]
  },
  {
   "cell_type": "markdown",
   "id": "fdc1e03a-c5c5-4d67-9e2d-dd4a60646d38",
   "metadata": {},
   "source": [
    "Update History"
   ]
  },
  {
   "cell_type": "markdown",
   "id": "95a5d05d-50e6-4059-9dec-6174a729eaee",
   "metadata": {
    "tags": []
   },
   "source": [
    "8/1  :v0.0.1 Initial release\\\n",
    "8/16 :v0.0.2\\\n",
    "・[Setting] Adjustments to Calc settings, screen size, full-screen mode, color compatibility, visibility in Light Mode\\\n",
    "・Installer for autodE and cython added for those who don't already have it\\\n",
    "・Liquidgenerator moved to a separate file (torch import requires a large amount of memory only when executed)\\\n",
    "8/18 :v0.0.3\\\n",
    "・Added fixbond to OPT, various screen fine-tuning, nglview memory deletion to avoid sluggish performance\\\n",
    "8/24 :v0.0.4:\\\n",
    "・Screen adjustments; sliders shown only for traj with atoms, plot button also added\\\n",
    "・Added OPT, NEB, graph display features; particularly valuable for speed. Traj plots also accelerated with parallel computation\\\n",
    "・Run plotly first time in background with tread to avoid slowness\\\n",
    "・Attach feature supports PBC, making it usable for catalyst surface adsorption\\\n",
    "9/12 :V0.1.0\\\n",
    "・OOM max value setting: Atoms 20000, Traj count 500, file display 500, 500MB for Liq, 1000 atoms for vib\\\n",
    "・Molecule SMILES conformer supported\\\n",
    "・Save and load functionality for vib (delta and H written in atoms.info of Atoms)\\\n",
    "・Thermo support for IDEAL and HARMONIC (not yet CRYSTAL), graph display included\\\n",
    "・ULITEDIT:wrap feature, EDIT CELL settings, Traj: Traj editing, and Attach:A + B (maintaining A cell) added to EDIT\\\n",
    "・For processes returning multiple images, Traj# is added, and otherwise, # ## is overwritten\\\n",
    "10/30 :V0.1.1\\\n",
    "・Python 3.9 compatibility (Pandas pickle compatibility)\\\n",
    "・Search possible by Crystal ID and Formula\\\n",
    "・MOFs added\\"
   ]
  },
  {
   "cell_type": "markdown",
   "id": "d2ea2130-a779-418e-a378-1ce84e6c6cc2",
   "metadata": {},
   "source": [
    "Known Issues\\\n",
    "・onsumes around 1 GB of memory or more. Error handling is insufficient. Please use at your own risk."
   ]
  }
 ],
 "metadata": {
  "kernelspec": {
   "display_name": "Python 3.8",
   "language": "python",
   "name": "python38"
  },
  "language_info": {
   "codemirror_mode": {
    "name": "ipython",
    "version": 3
   },
   "file_extension": ".py",
   "mimetype": "text/x-python",
   "name": "python",
   "nbconvert_exporter": "python",
   "pygments_lexer": "ipython3",
   "version": "3.8.13"
  },
  "widgets": {
   "application/vnd.jupyter.widget-state+json": {
    "state": {},
    "version_major": 2,
    "version_minor": 0
   }
  }
 },
 "nbformat": 4,
 "nbformat_minor": 5
}
