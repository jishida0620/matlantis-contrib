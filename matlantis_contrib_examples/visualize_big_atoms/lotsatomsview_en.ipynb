{
 "cells": [
  {
   "cell_type": "markdown",
   "id": "2da778e2-c1d3-4e8d-90f9-f4187928862a",
   "metadata": {},
   "source": [
    "Copyright ENEOS, Corp., Preferred Computational Chemistry, Inc. and Preferred Networks, Inc. as contributors to Matlantis contrib project\n",
    "\n",
    "This document has been machine translated from Japanese to English.\n",
    "\n",
    "### Bond display support for structures with a large number of atoms (up to around 5000)\n",
    "\n",
    "eneos ibuka 2022.12.15"
   ]
  },
  {
   "cell_type": "code",
   "execution_count": 1,
   "id": "943b003c-df62-4246-9f76-115c4b912ce1",
   "metadata": {},
   "outputs": [
    {
     "data": {
      "application/vnd.jupyter.widget-view+json": {
       "model_id": "cd9ab309454646988f49e4290d2f9697",
       "version_major": 2,
       "version_minor": 0
      },
      "text/plain": []
     },
     "metadata": {},
     "output_type": "display_data"
    }
   ],
   "source": [
    "import ase,ase.io\n",
    "from ase import Atoms \n",
    "import numpy as np\n",
    "import nglview as nv\n",
    "\n",
    "def add_lotsbonds(mols : ase.Atoms, view :  nv.widget.NGLWidget , rap_n = 200,  nglmax_n = 400 , lineOnly = False ):\n",
    "    mols = mols[np.argsort(mols.positions[:,2])]\n",
    "    myslices =  [mols[i : i+nglmax_n] for i in range(0, len(mols), nglmax_n-rap_n) ] \n",
    "    for myslice in myslices:\n",
    "        structure = nv.ASEStructure(myslice)\n",
    "        st = view.add_structure(structure,defaultRepresentation=\"\")\n",
    "        if lineOnly:\n",
    "            st.add_ball_and_stick(lineOnly = True)\n",
    "        else:\n",
    "            st.add_ball_and_stick(cylinderOnly = True) #, linewidth=4\n",
    "\n",
    "def lotsatoms_view(mols,radiusScale=0.3, rap_n = 200,  nglmax_n = 400 , lineOnly = False):\n",
    "    \"\"\" NGLview defaults to displaying only around 400 bonds. This is addressed by splitting and drawing.\n",
    "    Sort by z-axis and draw bonds while overlapping.\n",
    "    \"\"\"\n",
    "    view = nv.NGLWidget(width=str(500)+ \"px\" ,height=str(500)+\"px\")\n",
    "    structure = nv.ASEStructure(mols)\n",
    "    # First, draw only spacefill\n",
    "    view.add_structure(structure,defaultRepresentation=\"\")\n",
    "    view.add_spacefill(radiusType='covalent',radiusScale=radiusScale)\n",
    "    view.center(component=0)\n",
    "    view.add_unitcell()\n",
    "    view.background =\"#222222\"\n",
    "    view.camera  =\"orthographic\"\n",
    "    add_lotsbonds(mols, view , rap_n = rap_n  , nglmax_n = nglmax_n , lineOnly = lineOnly )    \n",
    "    return view"
   ]
  },
  {
   "cell_type": "code",
   "execution_count": 2,
   "id": "c8001acb-f8c0-4af7-8ab9-fff33db35046",
   "metadata": {},
   "outputs": [
    {
     "name": "stdout",
     "output_type": "stream",
     "text": [
      "2075\n"
     ]
    },
    {
     "data": {
      "application/vnd.jupyter.widget-view+json": {
       "model_id": "92944e5921d149e1bd41c17fc2fd5964",
       "version_major": 2,
       "version_minor": 0
      },
      "text/plain": [
       "NGLWidget(background='#222222')"
      ]
     },
     "metadata": {},
     "output_type": "display_data"
    }
   ],
   "source": [
    "# Ex1.　Cluster\n",
    "from ase.cluster import wulff_construction\n",
    "\n",
    "size = 2000  # Number of atoms\n",
    "atoms = wulff_construction('Cu',  [(1, 0, 0), (1, 1, 0), (1, 1, 1)], [1.0, 1.1, 0.9] ,\n",
    "                           size, 'fcc',rounding='above', latticeconstant=3.5)\n",
    "atoms.numbers = ( list(range(24,30)) *1000 )[:len(atoms)]\n",
    "print(len(atoms))\n",
    "v = lotsatoms_view(atoms)\n",
    "v"
   ]
  }
 ],
 "metadata": {
  "kernelspec": {
   "display_name": "Python 3.8",
   "language": "python",
   "name": "python38"
  },
  "language_info": {
   "codemirror_mode": {
    "name": "ipython",
    "version": 3
   },
   "file_extension": ".py",
   "mimetype": "text/x-python",
   "name": "python",
   "nbconvert_exporter": "python",
   "pygments_lexer": "ipython3",
   "version": "3.8.13"
  },
  "widgets": {
   "application/vnd.jupyter.widget-state+json": {
    "state": {},
    "version_major": 2,
    "version_minor": 0
   }
  }
 },
 "nbformat": 4,
 "nbformat_minor": 5
}
