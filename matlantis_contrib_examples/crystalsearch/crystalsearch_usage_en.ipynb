{
 "cells": [
  {
   "cell_type": "markdown",
   "id": "11ffbf79-7a05-438b-a6b2-8a669ca2ffe8",
   "metadata": {},
   "source": [
    "Copyright ENEOS, Corp., Preferred Computational Chemistry, Inc. and Preferred Networks, Inc. as contributors to Matlantis contrib project\n",
    "\n",
    "This document has been machine translated from Japanese to English.\n",
    "\n",
    "# GUI for searching structures from DFT databases (such as Materials Project)\n",
    "\n",
    "Matlantis also includes a feature to display the version being used. #eneos ibuka 2022/10/1\n",
    "\n",
    "The `crystalsearch` module internally uses the Materials Project database.\n",
    "\n",
    "Database is from  \n",
    "A. Jain*, S.P. Ong*, G. Hautier, W. Chen, W.D. Richards, S. Dacek, S. Cholia, D. Gunter, D. Skinner, G. Ceder, K.A. Persson (*=equal contributions)  \n",
    "The Materials Project: A materials genome approach to accelerating materials innovation  \n",
    "APL Materials, 2013, 1(1), 011002.  \n",
    "[doi:10.1063/1.4812323](http://dx.doi.org/10.1063/1.4812323)  \n",
    "[[bibtex]](https://materialsproject.org/static/docs/jain_ong2013.349ca3156250.bib)  \n",
    "Licensed under [CC BY 4.0](https://creativecommons.org/licenses/by/4.0/)  "
   ]
  },
  {
   "cell_type": "code",
   "execution_count": 1,
   "id": "b8f8ff89-4b91-4cdd-a578-ea54c5e38389",
   "metadata": {},
   "outputs": [
    {
     "data": {
      "application/vnd.jupyter.widget-view+json": {
       "model_id": "d34f86c0b8d44ab7a92a49d8c80fdbdb",
       "version_major": 2,
       "version_minor": 0
      },
      "text/plain": []
     },
     "metadata": {},
     "output_type": "display_data"
    }
   ],
   "source": [
    "import  crystalsearch as cs "
   ]
  },
  {
   "cell_type": "code",
   "execution_count": 2,
   "id": "397b5902-69db-4514-96da-39f3ba10a9f0",
   "metadata": {},
   "outputs": [
    {
     "data": {
      "text/html": [
       "<style> .widget-gridbox {background-color: #222266;padding: 3px} .widget-toggle-button {padding: 1px; font-size: 12px;border-radius: 6px;}</style>"
      ],
      "text/plain": [
       "<IPython.core.display.HTML object>"
      ]
     },
     "metadata": {},
     "output_type": "display_data"
    },
    {
     "data": {
      "application/vnd.jupyter.widget-view+json": {
       "model_id": "a6a04f6a19fa4a88a8d7cc090f961c3c",
       "version_major": 2,
       "version_minor": 0
      },
      "text/plain": [
       "VBox(children=(GridspecLayout(children=(ToggleButton(value=False, description='H', layout=Layout(grid_area='wi…"
      ]
     },
     "metadata": {},
     "output_type": "display_data"
    }
   ],
   "source": [
    "m = cs.Crystalsearch()"
   ]
  },
  {
   "cell_type": "markdown",
   "id": "2f3fc084-a590-4d52-aa06-355768c53c5e",
   "metadata": {},
   "source": [
    "Below is the operation after selecting [Fe, O, C] and executing the [hullview] button. Search results can be obtained with `instance_name.cands`."
   ]
  },
  {
   "cell_type": "code",
   "execution_count": 3,
   "id": "2365ea0f-ba25-4a6e-bcfe-305231f010ad",
   "metadata": {},
   "outputs": [],
   "source": [
    "cands = m.cands"
   ]
  },
  {
   "cell_type": "code",
   "execution_count": 4,
   "id": "777243d5-07f4-44c9-9820-531c8a5e4440",
   "metadata": {},
   "outputs": [
    {
     "data": {
      "text/html": [
       "<div>\n",
       "<style scoped>\n",
       "    .dataframe tbody tr th:only-of-type {\n",
       "        vertical-align: middle;\n",
       "    }\n",
       "\n",
       "    .dataframe tbody tr th {\n",
       "        vertical-align: top;\n",
       "    }\n",
       "\n",
       "    .dataframe thead th {\n",
       "        text-align: right;\n",
       "    }\n",
       "</style>\n",
       "<table border=\"1\" class=\"dataframe\">\n",
       "  <thead>\n",
       "    <tr style=\"text-align: right;\">\n",
       "      <th></th>\n",
       "      <th>material_id</th>\n",
       "      <th>pretty_formula</th>\n",
       "      <th>energy</th>\n",
       "      <th>e_above_hull</th>\n",
       "      <th>is_hubbard</th>\n",
       "      <th>elements</th>\n",
       "      <th>atoms</th>\n",
       "    </tr>\n",
       "  </thead>\n",
       "  <tbody>\n",
       "    <tr>\n",
       "      <th>0</th>\n",
       "      <td>mp-13</td>\n",
       "      <td>Fe</td>\n",
       "      <td>-8.470009</td>\n",
       "      <td>0.000000</td>\n",
       "      <td>False</td>\n",
       "      <td>[Fe]</td>\n",
       "      <td>(Atom('Fe', [0.0, 0.0, 0.0], index=0))</td>\n",
       "    </tr>\n",
       "    <tr>\n",
       "      <th>1</th>\n",
       "      <td>mp-47</td>\n",
       "      <td>C</td>\n",
       "      <td>-36.261055</td>\n",
       "      <td>0.161517</td>\n",
       "      <td>False</td>\n",
       "      <td>[C]</td>\n",
       "      <td>(Atom('C', [-1.1144813925056951e-06, 1.4509361...</td>\n",
       "    </tr>\n",
       "    <tr>\n",
       "      <th>2</th>\n",
       "      <td>mp-48</td>\n",
       "      <td>C</td>\n",
       "      <td>-36.881187</td>\n",
       "      <td>0.006484</td>\n",
       "      <td>False</td>\n",
       "      <td>[C]</td>\n",
       "      <td>(Atom('C', [0.0, 0.0, 6.5137786865234375], ind...</td>\n",
       "    </tr>\n",
       "    <tr>\n",
       "      <th>3</th>\n",
       "      <td>mp-66</td>\n",
       "      <td>C</td>\n",
       "      <td>-18.180737</td>\n",
       "      <td>0.136413</td>\n",
       "      <td>False</td>\n",
       "      <td>[C]</td>\n",
       "      <td>(Atom('C', [1.263497233390808, 0.7294805049896...</td>\n",
       "    </tr>\n",
       "    <tr>\n",
       "      <th>4</th>\n",
       "      <td>mp-136</td>\n",
       "      <td>Fe</td>\n",
       "      <td>-16.744431</td>\n",
       "      <td>0.097793</td>\n",
       "      <td>False</td>\n",
       "      <td>[Fe]</td>\n",
       "      <td>(Atom('Fe', [-1.0390743909738376e-06, 1.423605...</td>\n",
       "    </tr>\n",
       "    <tr>\n",
       "      <th>...</th>\n",
       "      <td>...</td>\n",
       "      <td>...</td>\n",
       "      <td>...</td>\n",
       "      <td>...</td>\n",
       "      <td>...</td>\n",
       "      <td>...</td>\n",
       "      <td>...</td>\n",
       "    </tr>\n",
       "    <tr>\n",
       "      <th>173</th>\n",
       "      <td>mvc-12204</td>\n",
       "      <td>FeO2</td>\n",
       "      <td>-218.275894</td>\n",
       "      <td>0.271338</td>\n",
       "      <td>True</td>\n",
       "      <td>[Fe, O]</td>\n",
       "      <td>(Atom('Fe', [6.014296531677246, 3.451520204544...</td>\n",
       "    </tr>\n",
       "    <tr>\n",
       "      <th>174</th>\n",
       "      <td>mvc-12205</td>\n",
       "      <td>Fe9O13</td>\n",
       "      <td>-142.633408</td>\n",
       "      <td>0.263188</td>\n",
       "      <td>True</td>\n",
       "      <td>[Fe, O]</td>\n",
       "      <td>(Atom('Fe', [5.969217777252197, 1.786785602569...</td>\n",
       "    </tr>\n",
       "    <tr>\n",
       "      <th>175</th>\n",
       "      <td>mvc-12905</td>\n",
       "      <td>FeO2</td>\n",
       "      <td>-73.856781</td>\n",
       "      <td>0.179825</td>\n",
       "      <td>True</td>\n",
       "      <td>[Fe, O]</td>\n",
       "      <td>(Atom('Fe', [-1.005743384361267, 1.72052621841...</td>\n",
       "    </tr>\n",
       "    <tr>\n",
       "      <th>176</th>\n",
       "      <td>mvc-13234</td>\n",
       "      <td>FeO2</td>\n",
       "      <td>-218.290543</td>\n",
       "      <td>0.270931</td>\n",
       "      <td>True</td>\n",
       "      <td>[Fe, O]</td>\n",
       "      <td>(Atom('Fe', [4.6083173751831055, 0.87333792448...</td>\n",
       "    </tr>\n",
       "    <tr>\n",
       "      <th>177</th>\n",
       "      <td>mvc-15135</td>\n",
       "      <td>FeO2</td>\n",
       "      <td>-217.965958</td>\n",
       "      <td>0.279947</td>\n",
       "      <td>True</td>\n",
       "      <td>[Fe, O]</td>\n",
       "      <td>(Atom('Fe', [4.428077697753906, 2.556548357009...</td>\n",
       "    </tr>\n",
       "  </tbody>\n",
       "</table>\n",
       "<p>178 rows × 7 columns</p>\n",
       "</div>"
      ],
      "text/plain": [
       "    material_id pretty_formula      energy  e_above_hull  is_hubbard elements  \\\n",
       "0         mp-13             Fe   -8.470009      0.000000       False     [Fe]   \n",
       "1         mp-47              C  -36.261055      0.161517       False      [C]   \n",
       "2         mp-48              C  -36.881187      0.006484       False      [C]   \n",
       "3         mp-66              C  -18.180737      0.136413       False      [C]   \n",
       "4        mp-136             Fe  -16.744431      0.097793       False     [Fe]   \n",
       "..          ...            ...         ...           ...         ...      ...   \n",
       "173   mvc-12204           FeO2 -218.275894      0.271338        True  [Fe, O]   \n",
       "174   mvc-12205         Fe9O13 -142.633408      0.263188        True  [Fe, O]   \n",
       "175   mvc-12905           FeO2  -73.856781      0.179825        True  [Fe, O]   \n",
       "176   mvc-13234           FeO2 -218.290543      0.270931        True  [Fe, O]   \n",
       "177   mvc-15135           FeO2 -217.965958      0.279947        True  [Fe, O]   \n",
       "\n",
       "                                                 atoms  \n",
       "0               (Atom('Fe', [0.0, 0.0, 0.0], index=0))  \n",
       "1    (Atom('C', [-1.1144813925056951e-06, 1.4509361...  \n",
       "2    (Atom('C', [0.0, 0.0, 6.5137786865234375], ind...  \n",
       "3    (Atom('C', [1.263497233390808, 0.7294805049896...  \n",
       "4    (Atom('Fe', [-1.0390743909738376e-06, 1.423605...  \n",
       "..                                                 ...  \n",
       "173  (Atom('Fe', [6.014296531677246, 3.451520204544...  \n",
       "174  (Atom('Fe', [5.969217777252197, 1.786785602569...  \n",
       "175  (Atom('Fe', [-1.005743384361267, 1.72052621841...  \n",
       "176  (Atom('Fe', [4.6083173751831055, 0.87333792448...  \n",
       "177  (Atom('Fe', [4.428077697753906, 2.556548357009...  \n",
       "\n",
       "[178 rows x 7 columns]"
      ]
     },
     "execution_count": 4,
     "metadata": {},
     "output_type": "execute_result"
    }
   ],
   "source": [
    "cands"
   ]
  },
  {
   "cell_type": "markdown",
   "id": "6661b59d-5f6d-42ed-92f7-7db8354e0e71",
   "metadata": {},
   "source": [
    "We will compare the energies of pfp and the Materials Project."
   ]
  },
  {
   "cell_type": "code",
   "execution_count": 5,
   "id": "8ba56604-aa15-4458-a217-3bc5a57a23c0",
   "metadata": {},
   "outputs": [
    {
     "name": "stdout",
     "output_type": "stream",
     "text": [
      "calc 178 cands by pfp v3.0.0\n",
      "[WARNING] 111 / 178 atoms contain Hubbard U correction, its U parameter might be different between Materials project & PFP. Please check carefully.\n"
     ]
    },
    {
     "data": {
      "application/vnd.jupyter.widget-view+json": {
       "model_id": "8d012d8e67d646e8bed203d6e2482b6c",
       "version_major": 2,
       "version_minor": 0
      },
      "text/plain": [
       "  0%|          | 0/178 [00:00<?, ?it/s]"
      ]
     },
     "metadata": {},
     "output_type": "display_data"
    },
    {
     "name": "stdout",
     "output_type": "stream",
     "text": [
      "end\n"
     ]
    },
    {
     "data": {
      "image/png": "[encoded data removed]",
      "text/plain": [
       "<Figure size 480x480 with 1 Axes>"
      ]
     },
     "metadata": {},
     "output_type": "display_data"
    },
    {
     "data": {
      "text/html": [
       "<div>\n",
       "<style scoped>\n",
       "    .dataframe tbody tr th:only-of-type {\n",
       "        vertical-align: middle;\n",
       "    }\n",
       "\n",
       "    .dataframe tbody tr th {\n",
       "        vertical-align: top;\n",
       "    }\n",
       "\n",
       "    .dataframe thead th {\n",
       "        text-align: right;\n",
       "    }\n",
       "</style>\n",
       "<table border=\"1\" class=\"dataframe\">\n",
       "  <thead>\n",
       "    <tr style=\"text-align: right;\">\n",
       "      <th></th>\n",
       "      <th>material_id</th>\n",
       "      <th>pretty_formula</th>\n",
       "      <th>energy</th>\n",
       "      <th>e_above_hull</th>\n",
       "      <th>is_hubbard</th>\n",
       "      <th>elements</th>\n",
       "      <th>atoms</th>\n",
       "      <th>pfpene</th>\n",
       "      <th>pfpfmax</th>\n",
       "      <th>lenatoms</th>\n",
       "    </tr>\n",
       "  </thead>\n",
       "  <tbody>\n",
       "    <tr>\n",
       "      <th>0</th>\n",
       "      <td>mp-13</td>\n",
       "      <td>Fe</td>\n",
       "      <td>-8.470009</td>\n",
       "      <td>0.000000</td>\n",
       "      <td>False</td>\n",
       "      <td>[Fe]</td>\n",
       "      <td>(Atom('Fe', [0.0, 0.0, 0.0], index=0))</td>\n",
       "      <td>-8.256217</td>\n",
       "      <td>0.00000</td>\n",
       "      <td>1</td>\n",
       "    </tr>\n",
       "    <tr>\n",
       "      <th>1</th>\n",
       "      <td>mp-47</td>\n",
       "      <td>C</td>\n",
       "      <td>-36.261055</td>\n",
       "      <td>0.161517</td>\n",
       "      <td>False</td>\n",
       "      <td>[C]</td>\n",
       "      <td>(Atom('C', [-1.1144813925056951e-06, 1.4509361...</td>\n",
       "      <td>-36.352321</td>\n",
       "      <td>0.10936</td>\n",
       "      <td>4</td>\n",
       "    </tr>\n",
       "    <tr>\n",
       "      <th>2</th>\n",
       "      <td>mp-48</td>\n",
       "      <td>C</td>\n",
       "      <td>-36.881187</td>\n",
       "      <td>0.006484</td>\n",
       "      <td>False</td>\n",
       "      <td>[C]</td>\n",
       "      <td>(Atom('C', [0.0, 0.0, 6.5137786865234375], ind...</td>\n",
       "      <td>-36.947186</td>\n",
       "      <td>0.00005</td>\n",
       "      <td>4</td>\n",
       "    </tr>\n",
       "    <tr>\n",
       "      <th>3</th>\n",
       "      <td>mp-66</td>\n",
       "      <td>C</td>\n",
       "      <td>-18.180737</td>\n",
       "      <td>0.136413</td>\n",
       "      <td>False</td>\n",
       "      <td>[C]</td>\n",
       "      <td>(Atom('C', [1.263497233390808, 0.7294805049896...</td>\n",
       "      <td>-18.189248</td>\n",
       "      <td>0.00000</td>\n",
       "      <td>2</td>\n",
       "    </tr>\n",
       "    <tr>\n",
       "      <th>4</th>\n",
       "      <td>mp-136</td>\n",
       "      <td>Fe</td>\n",
       "      <td>-16.744431</td>\n",
       "      <td>0.097793</td>\n",
       "      <td>False</td>\n",
       "      <td>[Fe]</td>\n",
       "      <td>(Atom('Fe', [-1.0390743909738376e-06, 1.423605...</td>\n",
       "      <td>-16.317695</td>\n",
       "      <td>0.00001</td>\n",
       "      <td>2</td>\n",
       "    </tr>\n",
       "  </tbody>\n",
       "</table>\n",
       "</div>"
      ],
      "text/plain": [
       "  material_id pretty_formula     energy  e_above_hull  is_hubbard elements  \\\n",
       "0       mp-13             Fe  -8.470009      0.000000       False     [Fe]   \n",
       "1       mp-47              C -36.261055      0.161517       False      [C]   \n",
       "2       mp-48              C -36.881187      0.006484       False      [C]   \n",
       "3       mp-66              C -18.180737      0.136413       False      [C]   \n",
       "4      mp-136             Fe -16.744431      0.097793       False     [Fe]   \n",
       "\n",
       "                                               atoms     pfpene  pfpfmax  \\\n",
       "0             (Atom('Fe', [0.0, 0.0, 0.0], index=0))  -8.256217  0.00000   \n",
       "1  (Atom('C', [-1.1144813925056951e-06, 1.4509361... -36.352321  0.10936   \n",
       "2  (Atom('C', [0.0, 0.0, 6.5137786865234375], ind... -36.947186  0.00005   \n",
       "3  (Atom('C', [1.263497233390808, 0.7294805049896... -18.189248  0.00000   \n",
       "4  (Atom('Fe', [-1.0390743909738376e-06, 1.423605... -16.317695  0.00001   \n",
       "\n",
       "   lenatoms  \n",
       "0         1  \n",
       "1         4  \n",
       "2         4  \n",
       "3         2  \n",
       "4         2  "
      ]
     },
     "execution_count": 5,
     "metadata": {},
     "output_type": "execute_result"
    }
   ],
   "source": [
    "pfpdf = m.get_pfp_df()\n",
    "pfpdf.head()"
   ]
  },
  {
   "cell_type": "markdown",
   "id": "97d5968e-d89b-4d6d-968d-603424106349",
   "metadata": {},
   "source": [
    "We draw the phasediagram with the results of pfp."
   ]
  },
  {
   "cell_type": "code",
   "execution_count": 6,
   "id": "ec9f0da5-cb0a-42e3-81f5-063f701bc93e",
   "metadata": {
    "tags": []
   },
   "outputs": [
    {
     "name": "stdout",
     "output_type": "stream",
     "text": [
      "pfp\n"
     ]
    },
    {
     "data": {
      "application/vnd.jupyter.widget-view+json": {
       "model_id": "7925b3e1403e4ddcb8c09c37e6cc91e3",
       "version_major": 2,
       "version_minor": 0
      },
      "text/plain": [
       "FigureWidget({\n",
       "    'data': [{'hoverinfo': 'none',\n",
       "              'line': {'color': 'rgba(0,0,0,1.0)', 'width': …"
      ]
     },
     "metadata": {},
     "output_type": "display_data"
    },
    {
     "name": "stdout",
     "output_type": "stream",
     "text": [
      "Original Materials Project\n"
     ]
    },
    {
     "data": {
      "application/vnd.jupyter.widget-view+json": {
       "model_id": "e8bad695f1124023bed997be8069cb47",
       "version_major": 2,
       "version_minor": 0
      },
      "text/plain": [
       "FigureWidget({\n",
       "    'data': [{'hoverinfo': 'none',\n",
       "              'line': {'width': 7.0},\n",
       "              'marker'…"
      ]
     },
     "metadata": {},
     "output_type": "display_data"
    }
   ],
   "source": [
    "pd = cs.get_phasediagram(pfpdf , energy = \"pfpene\")\n",
    "pfppdfig = cs.get_phasediagram_fig(pd, show_unstable=1 )\n",
    "print(\"pfp\")\n",
    "display (pfppdfig)\n",
    "print(\"Original Materials Project\")\n",
    "#One time it is displayed as above, and the second time it is displayed, somehow it becomes clean (blue line).\n",
    "display (m.pdfig) "
   ]
  },
  {
   "cell_type": "markdown",
   "id": "b221f150-4d7c-4ef3-a820-b92c511d793f",
   "metadata": {},
   "source": [
    "**How to Access Atoms Objects**\n",
    "\n",
    "The Atoms object in the dataframe is a primitive cell."
   ]
  },
  {
   "cell_type": "code",
   "execution_count": 7,
   "id": "c8d963b3-266c-464e-86c4-42cf4057826c",
   "metadata": {},
   "outputs": [
    {
     "data": {
      "text/plain": [
       "Atoms(symbols='Fe', pbc=True, cell=[[2.577899217605591, 0.0, 0.0], [1.2889496088027954, 2.2325263023376465, 0.0], [1.2889496088027954, 0.744175374507904, 2.1048457622528076]], calculator=ASECalculator(...))"
      ]
     },
     "execution_count": 7,
     "metadata": {},
     "output_type": "execute_result"
    }
   ],
   "source": [
    "cands.loc[5].atoms"
   ]
  },
  {
   "cell_type": "markdown",
   "id": "0695648d-1e63-4e70-b0c5-84f504668391",
   "metadata": {},
   "source": [
    "To access the conventional cell, use the following."
   ]
  },
  {
   "cell_type": "code",
   "execution_count": 8,
   "id": "8a2b903f-225a-4402-906a-0809ec4a1954",
   "metadata": {},
   "outputs": [
    {
     "data": {
      "text/plain": [
       "[Atoms(symbols='Fe4', pbc=True, cell=[3.6457000078888497, 3.6457000078888497, 3.6457000078888497])]"
      ]
     },
     "execution_count": 8,
     "metadata": {},
     "output_type": "execute_result"
    }
   ],
   "source": [
    "cs.get_conventional(cands.loc[[5]])"
   ]
  },
  {
   "cell_type": "markdown",
   "id": "8c017ba6-8546-4c3d-93f7-c24b75b60a7a",
   "metadata": {},
   "source": [
    "You can access the entire database with the following."
   ]
  },
  {
   "cell_type": "code",
   "execution_count": 9,
   "id": "91a9bb5a-aca7-438e-a5a2-d6631d42cd70",
   "metadata": {},
   "outputs": [
    {
     "data": {
      "text/html": [
       "<div>\n",
       "<style scoped>\n",
       "    .dataframe tbody tr th:only-of-type {\n",
       "        vertical-align: middle;\n",
       "    }\n",
       "\n",
       "    .dataframe tbody tr th {\n",
       "        vertical-align: top;\n",
       "    }\n",
       "\n",
       "    .dataframe thead th {\n",
       "        text-align: right;\n",
       "    }\n",
       "</style>\n",
       "<table border=\"1\" class=\"dataframe\">\n",
       "  <thead>\n",
       "    <tr style=\"text-align: right;\">\n",
       "      <th></th>\n",
       "      <th>material_id</th>\n",
       "      <th>pretty_formula</th>\n",
       "      <th>energy</th>\n",
       "      <th>e_above_hull</th>\n",
       "      <th>is_hubbard</th>\n",
       "      <th>elements</th>\n",
       "      <th>atoms</th>\n",
       "    </tr>\n",
       "  </thead>\n",
       "  <tbody>\n",
       "    <tr>\n",
       "      <th>0</th>\n",
       "      <td>mp-1</td>\n",
       "      <td>Cs</td>\n",
       "      <td>-0.856633</td>\n",
       "      <td>0.038770</td>\n",
       "      <td>False</td>\n",
       "      <td>[Cs]</td>\n",
       "      <td>(Atom('Cs', [0.0, 0.0, 0.0], index=0))</td>\n",
       "    </tr>\n",
       "    <tr>\n",
       "      <th>1</th>\n",
       "      <td>mp-2</td>\n",
       "      <td>Pd</td>\n",
       "      <td>-5.179882</td>\n",
       "      <td>0.000000</td>\n",
       "      <td>False</td>\n",
       "      <td>[Pd]</td>\n",
       "      <td>(Atom('Pd', [0.0, 0.0, 0.0], index=0))</td>\n",
       "    </tr>\n",
       "    <tr>\n",
       "      <th>2</th>\n",
       "      <td>mp-3</td>\n",
       "      <td>Cs</td>\n",
       "      <td>-1.598010</td>\n",
       "      <td>0.096397</td>\n",
       "      <td>False</td>\n",
       "      <td>[Cs]</td>\n",
       "      <td>(Atom('Cs', [3.6706762313842773, 3.38793683052...</td>\n",
       "    </tr>\n",
       "    <tr>\n",
       "      <th>3</th>\n",
       "      <td>mp-4</td>\n",
       "      <td>Nd</td>\n",
       "      <td>-4.628184</td>\n",
       "      <td>0.139959</td>\n",
       "      <td>False</td>\n",
       "      <td>[Nd]</td>\n",
       "      <td>(Atom('Nd', [0.0, 0.0, 0.0], index=0))</td>\n",
       "    </tr>\n",
       "    <tr>\n",
       "      <th>4</th>\n",
       "      <td>mp-7</td>\n",
       "      <td>S</td>\n",
       "      <td>-24.431696</td>\n",
       "      <td>0.064501</td>\n",
       "      <td>False</td>\n",
       "      <td>[S]</td>\n",
       "      <td>(Atom('S', [-2.1066184043884277, -2.1441278457...</td>\n",
       "    </tr>\n",
       "    <tr>\n",
       "      <th>...</th>\n",
       "      <td>...</td>\n",
       "      <td>...</td>\n",
       "      <td>...</td>\n",
       "      <td>...</td>\n",
       "      <td>...</td>\n",
       "      <td>...</td>\n",
       "      <td>...</td>\n",
       "    </tr>\n",
       "    <tr>\n",
       "      <th>139362</th>\n",
       "      <td>mvc-16821</td>\n",
       "      <td>CaCr2O4</td>\n",
       "      <td>-105.019547</td>\n",
       "      <td>0.107777</td>\n",
       "      <td>True</td>\n",
       "      <td>[Cr, O, Ca]</td>\n",
       "      <td>(Atom('Ca', [-1.5691694021224976, 1.5241652727...</td>\n",
       "    </tr>\n",
       "    <tr>\n",
       "      <th>139363</th>\n",
       "      <td>mvc-16832</td>\n",
       "      <td>V2ZnO4</td>\n",
       "      <td>-96.660103</td>\n",
       "      <td>0.161231</td>\n",
       "      <td>True</td>\n",
       "      <td>[Zn, O, V]</td>\n",
       "      <td>(Atom('V', [3.009662389755249, 0.0, 0.0], inde...</td>\n",
       "    </tr>\n",
       "    <tr>\n",
       "      <th>139364</th>\n",
       "      <td>mvc-16833</td>\n",
       "      <td>AlV2O4</td>\n",
       "      <td>-106.922005</td>\n",
       "      <td>0.207305</td>\n",
       "      <td>True</td>\n",
       "      <td>[O, V, Al]</td>\n",
       "      <td>(Atom('Al', [-1.4248672723770142, -1.519302725...</td>\n",
       "    </tr>\n",
       "    <tr>\n",
       "      <th>139365</th>\n",
       "      <td>mvc-16834</td>\n",
       "      <td>MgMn2O4</td>\n",
       "      <td>-98.566040</td>\n",
       "      <td>0.105475</td>\n",
       "      <td>True</td>\n",
       "      <td>[Mg, O, Mn]</td>\n",
       "      <td>(Atom('Mg', [0.0, 0.0, 0.0], index=0), Atom('M...</td>\n",
       "    </tr>\n",
       "    <tr>\n",
       "      <th>139366</th>\n",
       "      <td>mvc-16835</td>\n",
       "      <td>Mg(FeO2)2</td>\n",
       "      <td>-89.655792</td>\n",
       "      <td>0.142727</td>\n",
       "      <td>True</td>\n",
       "      <td>[Fe, Mg, O]</td>\n",
       "      <td>(Atom('Mg', [0.0, 0.0, 0.0], index=0), Atom('M...</td>\n",
       "    </tr>\n",
       "  </tbody>\n",
       "</table>\n",
       "<p>139367 rows × 7 columns</p>\n",
       "</div>"
      ],
      "text/plain": [
       "       material_id pretty_formula      energy  e_above_hull  is_hubbard  \\\n",
       "0             mp-1             Cs   -0.856633      0.038770       False   \n",
       "1             mp-2             Pd   -5.179882      0.000000       False   \n",
       "2             mp-3             Cs   -1.598010      0.096397       False   \n",
       "3             mp-4             Nd   -4.628184      0.139959       False   \n",
       "4             mp-7              S  -24.431696      0.064501       False   \n",
       "...            ...            ...         ...           ...         ...   \n",
       "139362   mvc-16821        CaCr2O4 -105.019547      0.107777        True   \n",
       "139363   mvc-16832         V2ZnO4  -96.660103      0.161231        True   \n",
       "139364   mvc-16833         AlV2O4 -106.922005      0.207305        True   \n",
       "139365   mvc-16834        MgMn2O4  -98.566040      0.105475        True   \n",
       "139366   mvc-16835      Mg(FeO2)2  -89.655792      0.142727        True   \n",
       "\n",
       "           elements                                              atoms  \n",
       "0              [Cs]             (Atom('Cs', [0.0, 0.0, 0.0], index=0))  \n",
       "1              [Pd]             (Atom('Pd', [0.0, 0.0, 0.0], index=0))  \n",
       "2              [Cs]  (Atom('Cs', [3.6706762313842773, 3.38793683052...  \n",
       "3              [Nd]             (Atom('Nd', [0.0, 0.0, 0.0], index=0))  \n",
       "4               [S]  (Atom('S', [-2.1066184043884277, -2.1441278457...  \n",
       "...             ...                                                ...  \n",
       "139362  [Cr, O, Ca]  (Atom('Ca', [-1.5691694021224976, 1.5241652727...  \n",
       "139363   [Zn, O, V]  (Atom('V', [3.009662389755249, 0.0, 0.0], inde...  \n",
       "139364   [O, V, Al]  (Atom('Al', [-1.4248672723770142, -1.519302725...  \n",
       "139365  [Mg, O, Mn]  (Atom('Mg', [0.0, 0.0, 0.0], index=0), Atom('M...  \n",
       "139366  [Fe, Mg, O]  (Atom('Mg', [0.0, 0.0, 0.0], index=0), Atom('M...  \n",
       "\n",
       "[139367 rows x 7 columns]"
      ]
     },
     "execution_count": 9,
     "metadata": {},
     "output_type": "execute_result"
    }
   ],
   "source": [
    "cs.df"
   ]
  }
 ],
 "metadata": {
  "kernelspec": {
   "display_name": "Python 3.8",
   "language": "python",
   "name": "python38"
  },
  "language_info": {
   "codemirror_mode": {
    "name": "ipython",
    "version": 3
   },
   "file_extension": ".py",
   "mimetype": "text/x-python",
   "name": "python",
   "nbconvert_exporter": "python",
   "pygments_lexer": "ipython3",
   "version": "3.8.13"
  },
  "widgets": {
   "application/vnd.jupyter.widget-state+json": {
    "state": {},
    "version_major": 2,
    "version_minor": 0
   }
  }
 },
 "nbformat": 4,
 "nbformat_minor": 5
}
