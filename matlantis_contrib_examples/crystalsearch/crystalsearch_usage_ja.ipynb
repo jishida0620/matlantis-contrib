{
 "cells": [
  {
   "cell_type": "markdown",
   "id": "11ffbf79-7a05-438b-a6b2-8a669ca2ffe8",
   "metadata": {},
   "source": [
    "Copyright ENEOS, Corp., Preferred Computational Chemistry, Inc. and Preferred Networks, Inc. as contributors to Matlantis contrib project\n",
    "\n",
    "# DFデータベース（MaterialsProject等）から構造を探索するGUI\n",
    "\n",
    "Matlantis の利用バージョン表示機能もついています #eneos ibuka 2022/10/1\n",
    "\n",
    "`crystalsearch` moduleは内部でMaterials Projectのデータベースを使用しています。\n",
    "\n",
    "\n",
    "Database is from  \n",
    "A. Jain*, S.P. Ong*, G. Hautier, W. Chen, W.D. Richards, S. Dacek, S. Cholia, D. Gunter, D. Skinner, G. Ceder, K.A. Persson (*=equal contributions)  \n",
    "The Materials Project: A materials genome approach to accelerating materials innovation  \n",
    "APL Materials, 2013, 1(1), 011002.  \n",
    "[doi:10.1063/1.4812323](http://dx.doi.org/10.1063/1.4812323)  \n",
    "[[bibtex]](https://materialsproject.org/static/docs/jain_ong2013.349ca3156250.bib)  \n",
    "Licensed under [CC BY 4.0](https://creativecommons.org/licenses/by/4.0/)  "
   ]
  },
  {
   "cell_type": "code",
   "execution_count": 1,
   "id": "b8f8ff89-4b91-4cdd-a578-ea54c5e38389",
   "metadata": {},
   "outputs": [
    {
     "data": {
      "application/vnd.jupyter.widget-view+json": {
       "model_id": "d34f86c0b8d44ab7a92a49d8c80fdbdb",
       "version_major": 2,
       "version_minor": 0
      },
      "text/plain": []
     },
     "metadata": {},
     "output_type": "display_data"
    }
   ],
   "source": [
    "import  crystalsearch as cs "
   ]
  },
  {
   "cell_type": "code",
   "execution_count": 2,
   "id": "397b5902-69db-4514-96da-39f3ba10a9f0",
   "metadata": {},
   "outputs": [
    {
     "data": {
      "text/html": [
       "<style> .widget-gridbox {background-color: #222266;padding: 3px} .widget-toggle-button {padding: 1px; font-size: 12px;border-radius: 6px;}</style>"
      ],
      "text/plain": [
       "<IPython.core.display.HTML object>"
      ]
     },
     "metadata": {},
     "output_type": "display_data"
    },
    {
     "data": {
      "application/vnd.jupyter.widget-view+json": {
       "model_id": "a6a04f6a19fa4a88a8d7cc090f961c3c",
       "version_major": 2,
       "version_minor": 0
      },
      "text/plain": [
       "VBox(children=(GridspecLayout(children=(ToggleButton(value=False, description='H', layout=Layout(grid_area='wi…"
      ]
     },
     "metadata": {},
     "output_type": "display_data"
    }
   ],
   "source": [
    "m = cs.Crystalsearch()"
   ]
  },
  {
   "cell_type": "markdown",
   "id": "2f3fc084-a590-4d52-aa06-355768c53c5e",
   "metadata": {},
   "source": [
    "以下[Fe,O,C]を選択し、[hullview] ボタン実施後の動作です。 検索結果は `インスタンス名.cands` で取得できます。"
   ]
  },
  {
   "cell_type": "code",
   "execution_count": 3,
   "id": "2365ea0f-ba25-4a6e-bcfe-305231f010ad",
   "metadata": {},
   "outputs": [],
   "source": [
    "cands = m.cands"
   ]
  },
  {
   "cell_type": "code",
   "execution_count": 4,
   "id": "777243d5-07f4-44c9-9820-531c8a5e4440",
   "metadata": {},
   "outputs": [
    {
     "data": {
      "text/html": [
       "<div>\n",
       "<style scoped>\n",
       "    .dataframe tbody tr th:only-of-type {\n",
       "        vertical-align: middle;\n",
       "    }\n",
       "\n",
       "    .dataframe tbody tr th {\n",
       "        vertical-align: top;\n",
       "    }\n",
       "\n",
       "    .dataframe thead th {\n",
       "        text-align: right;\n",
       "    }\n",
       "</style>\n",
       "<table border=\"1\" class=\"dataframe\">\n",
       "  <thead>\n",
       "    <tr style=\"text-align: right;\">\n",
       "      <th></th>\n",
       "      <th>material_id</th>\n",
       "      <th>pretty_formula</th>\n",
       "      <th>energy</th>\n",
       "      <th>e_above_hull</th>\n",
       "      <th>is_hubbard</th>\n",
       "      <th>elements</th>\n",
       "      <th>atoms</th>\n",
       "    </tr>\n",
       "  </thead>\n",
       "  <tbody>\n",
       "    <tr>\n",
       "      <th>0</th>\n",
       "      <td>mp-13</td>\n",
       "      <td>Fe</td>\n",
       "      <td>-8.470009</td>\n",
       "      <td>0.000000</td>\n",
       "      <td>False</td>\n",
       "      <td>[Fe]</td>\n",
       "      <td>(Atom('Fe', [0.0, 0.0, 0.0], index=0))</td>\n",
       "    </tr>\n",
       "    <tr>\n",
       "      <th>1</th>\n",
       "      <td>mp-47</td>\n",
       "      <td>C</td>\n",
       "      <td>-36.261055</td>\n",
       "      <td>0.161517</td>\n",
       "      <td>False</td>\n",
       "      <td>[C]</td>\n",
       "      <td>(Atom('C', [-1.1144813925056951e-06, 1.4509361...</td>\n",
       "    </tr>\n",
       "    <tr>\n",
       "      <th>2</th>\n",
       "      <td>mp-48</td>\n",
       "      <td>C</td>\n",
       "      <td>-36.881187</td>\n",
       "      <td>0.006484</td>\n",
       "      <td>False</td>\n",
       "      <td>[C]</td>\n",
       "      <td>(Atom('C', [0.0, 0.0, 6.5137786865234375], ind...</td>\n",
       "    </tr>\n",
       "    <tr>\n",
       "      <th>3</th>\n",
       "      <td>mp-66</td>\n",
       "      <td>C</td>\n",
       "      <td>-18.180737</td>\n",
       "      <td>0.136413</td>\n",
       "      <td>False</td>\n",
       "      <td>[C]</td>\n",
       "      <td>(Atom('C', [1.263497233390808, 0.7294805049896...</td>\n",
       "    </tr>\n",
       "    <tr>\n",
       "      <th>4</th>\n",
       "      <td>mp-136</td>\n",
       "      <td>Fe</td>\n",
       "      <td>-16.744431</td>\n",
       "      <td>0.097793</td>\n",
       "      <td>False</td>\n",
       "      <td>[Fe]</td>\n",
       "      <td>(Atom('Fe', [-1.0390743909738376e-06, 1.423605...</td>\n",
       "    </tr>\n",
       "    <tr>\n",
       "      <th>...</th>\n",
       "      <td>...</td>\n",
       "      <td>...</td>\n",
       "      <td>...</td>\n",
       "      <td>...</td>\n",
       "      <td>...</td>\n",
       "      <td>...</td>\n",
       "      <td>...</td>\n",
       "    </tr>\n",
       "    <tr>\n",
       "      <th>173</th>\n",
       "      <td>mvc-12204</td>\n",
       "      <td>FeO2</td>\n",
       "      <td>-218.275894</td>\n",
       "      <td>0.271338</td>\n",
       "      <td>True</td>\n",
       "      <td>[Fe, O]</td>\n",
       "      <td>(Atom('Fe', [6.014296531677246, 3.451520204544...</td>\n",
       "    </tr>\n",
       "    <tr>\n",
       "      <th>174</th>\n",
       "      <td>mvc-12205</td>\n",
       "      <td>Fe9O13</td>\n",
       "      <td>-142.633408</td>\n",
       "      <td>0.263188</td>\n",
       "      <td>True</td>\n",
       "      <td>[Fe, O]</td>\n",
       "      <td>(Atom('Fe', [5.969217777252197, 1.786785602569...</td>\n",
       "    </tr>\n",
       "    <tr>\n",
       "      <th>175</th>\n",
       "      <td>mvc-12905</td>\n",
       "      <td>FeO2</td>\n",
       "      <td>-73.856781</td>\n",
       "      <td>0.179825</td>\n",
       "      <td>True</td>\n",
       "      <td>[Fe, O]</td>\n",
       "      <td>(Atom('Fe', [-1.005743384361267, 1.72052621841...</td>\n",
       "    </tr>\n",
       "    <tr>\n",
       "      <th>176</th>\n",
       "      <td>mvc-13234</td>\n",
       "      <td>FeO2</td>\n",
       "      <td>-218.290543</td>\n",
       "      <td>0.270931</td>\n",
       "      <td>True</td>\n",
       "      <td>[Fe, O]</td>\n",
       "      <td>(Atom('Fe', [4.6083173751831055, 0.87333792448...</td>\n",
       "    </tr>\n",
       "    <tr>\n",
       "      <th>177</th>\n",
       "      <td>mvc-15135</td>\n",
       "      <td>FeO2</td>\n",
       "      <td>-217.965958</td>\n",
       "      <td>0.279947</td>\n",
       "      <td>True</td>\n",
       "      <td>[Fe, O]</td>\n",
       "      <td>(Atom('Fe', [4.428077697753906, 2.556548357009...</td>\n",
       "    </tr>\n",
       "  </tbody>\n",
       "</table>\n",
       "<p>178 rows × 7 columns</p>\n",
       "</div>"
      ],
      "text/plain": [
       "    material_id pretty_formula      energy  e_above_hull  is_hubbard elements  \\\n",
       "0         mp-13             Fe   -8.470009      0.000000       False     [Fe]   \n",
       "1         mp-47              C  -36.261055      0.161517       False      [C]   \n",
       "2         mp-48              C  -36.881187      0.006484       False      [C]   \n",
       "3         mp-66              C  -18.180737      0.136413       False      [C]   \n",
       "4        mp-136             Fe  -16.744431      0.097793       False     [Fe]   \n",
       "..          ...            ...         ...           ...         ...      ...   \n",
       "173   mvc-12204           FeO2 -218.275894      0.271338        True  [Fe, O]   \n",
       "174   mvc-12205         Fe9O13 -142.633408      0.263188        True  [Fe, O]   \n",
       "175   mvc-12905           FeO2  -73.856781      0.179825        True  [Fe, O]   \n",
       "176   mvc-13234           FeO2 -218.290543      0.270931        True  [Fe, O]   \n",
       "177   mvc-15135           FeO2 -217.965958      0.279947        True  [Fe, O]   \n",
       "\n",
       "                                                 atoms  \n",
       "0               (Atom('Fe', [0.0, 0.0, 0.0], index=0))  \n",
       "1    (Atom('C', [-1.1144813925056951e-06, 1.4509361...  \n",
       "2    (Atom('C', [0.0, 0.0, 6.5137786865234375], ind...  \n",
       "3    (Atom('C', [1.263497233390808, 0.7294805049896...  \n",
       "4    (Atom('Fe', [-1.0390743909738376e-06, 1.423605...  \n",
       "..                                                 ...  \n",
       "173  (Atom('Fe', [6.014296531677246, 3.451520204544...  \n",
       "174  (Atom('Fe', [5.969217777252197, 1.786785602569...  \n",
       "175  (Atom('Fe', [-1.005743384361267, 1.72052621841...  \n",
       "176  (Atom('Fe', [4.6083173751831055, 0.87333792448...  \n",
       "177  (Atom('Fe', [4.428077697753906, 2.556548357009...  \n",
       "\n",
       "[178 rows x 7 columns]"
      ]
     },
     "execution_count": 4,
     "metadata": {},
     "output_type": "execute_result"
    }
   ],
   "source": [
    "cands"
   ]
  },
  {
   "cell_type": "markdown",
   "id": "6661b59d-5f6d-42ed-92f7-7db8354e0e71",
   "metadata": {},
   "source": [
    "pfpとMaterials Projectのエネルギーを比較します"
   ]
  },
  {
   "cell_type": "code",
   "execution_count": 5,
   "id": "8ba56604-aa15-4458-a217-3bc5a57a23c0",
   "metadata": {},
   "outputs": [
    {
     "name": "stdout",
     "output_type": "stream",
     "text": [
      "calc 178 cands by pfp v3.0.0\n",
      "[WARNING] 111 / 178 atoms contain Hubbard U correction, its U parameter might be different between Materials project & PFP. Please check carefully.\n"
     ]
    },
    {
     "data": {
      "application/vnd.jupyter.widget-view+json": {
       "model_id": "8d012d8e67d646e8bed203d6e2482b6c",
       "version_major": 2,
       "version_minor": 0
      },
      "text/plain": [
       "  0%|          | 0/178 [00:00<?, ?it/s]"
      ]
     },
     "metadata": {},
     "output_type": "display_data"
    },
    {
     "name": "stdout",
     "output_type": "stream",
     "text": [
      "end\n"
     ]
    },
    {
     "data": {
      "image/png": "[encoded data removed]",
      "text/plain": [
       "<Figure size 480x480 with 1 Axes>"
      ]
     },
     "metadata": {},
     "output_type": "display_data"
    },
    {
     "data": {
      "text/html": [
       "<div>\n",
       "<style scoped>\n",
       "    .dataframe tbody tr th:only-of-type {\n",
       "        vertical-align: middle;\n",
       "    }\n",
       "\n",
       "    .dataframe tbody tr th {\n",
       "        vertical-align: top;\n",
       "    }\n",
       "\n",
       "    .dataframe thead th {\n",
       "        text-align: right;\n",
       "    }\n",
       "</style>\n",
       "<table border=\"1\" class=\"dataframe\">\n",
       "  <thead>\n",
       "    <tr style=\"text-align: right;\">\n",
       "      <th></th>\n",
       "      <th>material_id</th>\n",
       "      <th>pretty_formula</th>\n",
       "      <th>energy</th>\n",
       "      <th>e_above_hull</th>\n",
       "      <th>is_hubbard</th>\n",
       "      <th>elements</th>\n",
       "      <th>atoms</th>\n",
       "      <th>pfpene</th>\n",
       "      <th>pfpfmax</th>\n",
       "      <th>lenatoms</th>\n",
       "    </tr>\n",
       "  </thead>\n",
       "  <tbody>\n",
       "    <tr>\n",
       "      <th>0</th>\n",
       "      <td>mp-13</td>\n",
       "      <td>Fe</td>\n",
       "      <td>-8.470009</td>\n",
       "      <td>0.000000</td>\n",
       "      <td>False</td>\n",
       "      <td>[Fe]</td>\n",
       "      <td>(Atom('Fe', [0.0, 0.0, 0.0], index=0))</td>\n",
       "      <td>-8.256217</td>\n",
       "      <td>0.00000</td>\n",
       "      <td>1</td>\n",
       "    </tr>\n",
       "    <tr>\n",
       "      <th>1</th>\n",
       "      <td>mp-47</td>\n",
       "      <td>C</td>\n",
       "      <td>-36.261055</td>\n",
       "      <td>0.161517</td>\n",
       "      <td>False</td>\n",
       "      <td>[C]</td>\n",
       "      <td>(Atom('C', [-1.1144813925056951e-06, 1.4509361...</td>\n",
       "      <td>-36.352321</td>\n",
       "      <td>0.10936</td>\n",
       "      <td>4</td>\n",
       "    </tr>\n",
       "    <tr>\n",
       "      <th>2</th>\n",
       "      <td>mp-48</td>\n",
       "      <td>C</td>\n",
       "      <td>-36.881187</td>\n",
       "      <td>0.006484</td>\n",
       "      <td>False</td>\n",
       "      <td>[C]</td>\n",
       "      <td>(Atom('C', [0.0, 0.0, 6.5137786865234375], ind...</td>\n",
       "      <td>-36.947186</td>\n",
       "      <td>0.00005</td>\n",
       "      <td>4</td>\n",
       "    </tr>\n",
       "    <tr>\n",
       "      <th>3</th>\n",
       "      <td>mp-66</td>\n",
       "      <td>C</td>\n",
       "      <td>-18.180737</td>\n",
       "      <td>0.136413</td>\n",
       "      <td>False</td>\n",
       "      <td>[C]</td>\n",
       "      <td>(Atom('C', [1.263497233390808, 0.7294805049896...</td>\n",
       "      <td>-18.189248</td>\n",
       "      <td>0.00000</td>\n",
       "      <td>2</td>\n",
       "    </tr>\n",
       "    <tr>\n",
       "      <th>4</th>\n",
       "      <td>mp-136</td>\n",
       "      <td>Fe</td>\n",
       "      <td>-16.744431</td>\n",
       "      <td>0.097793</td>\n",
       "      <td>False</td>\n",
       "      <td>[Fe]</td>\n",
       "      <td>(Atom('Fe', [-1.0390743909738376e-06, 1.423605...</td>\n",
       "      <td>-16.317695</td>\n",
       "      <td>0.00001</td>\n",
       "      <td>2</td>\n",
       "    </tr>\n",
       "  </tbody>\n",
       "</table>\n",
       "</div>"
      ],
      "text/plain": [
       "  material_id pretty_formula     energy  e_above_hull  is_hubbard elements  \\\n",
       "0       mp-13             Fe  -8.470009      0.000000       False     [Fe]   \n",
       "1       mp-47              C -36.261055      0.161517       False      [C]   \n",
       "2       mp-48              C -36.881187      0.006484       False      [C]   \n",
       "3       mp-66              C -18.180737      0.136413       False      [C]   \n",
       "4      mp-136             Fe -16.744431      0.097793       False     [Fe]   \n",
       "\n",
       "                                               atoms     pfpene  pfpfmax  \\\n",
       "0             (Atom('Fe', [0.0, 0.0, 0.0], index=0))  -8.256217  0.00000   \n",
       "1  (Atom('C', [-1.1144813925056951e-06, 1.4509361... -36.352321  0.10936   \n",
       "2  (Atom('C', [0.0, 0.0, 6.5137786865234375], ind... -36.947186  0.00005   \n",
       "3  (Atom('C', [1.263497233390808, 0.7294805049896... -18.189248  0.00000   \n",
       "4  (Atom('Fe', [-1.0390743909738376e-06, 1.423605... -16.317695  0.00001   \n",
       "\n",
       "   lenatoms  \n",
       "0         1  \n",
       "1         4  \n",
       "2         4  \n",
       "3         2  \n",
       "4         2  "
      ]
     },
     "execution_count": 5,
     "metadata": {},
     "output_type": "execute_result"
    }
   ],
   "source": [
    "pfpdf = m.get_pfp_df()\n",
    "pfpdf.head()"
   ]
  },
  {
   "cell_type": "markdown",
   "id": "97d5968e-d89b-4d6d-968d-603424106349",
   "metadata": {},
   "source": [
    "pfp の結果でphasediagram　を描きます"
   ]
  },
  {
   "cell_type": "code",
   "execution_count": 6,
   "id": "ec9f0da5-cb0a-42e3-81f5-063f701bc93e",
   "metadata": {
    "tags": []
   },
   "outputs": [
    {
     "name": "stdout",
     "output_type": "stream",
     "text": [
      "pfp\n"
     ]
    },
    {
     "data": {
      "application/vnd.jupyter.widget-view+json": {
       "model_id": "7925b3e1403e4ddcb8c09c37e6cc91e3",
       "version_major": 2,
       "version_minor": 0
      },
      "text/plain": [
       "FigureWidget({\n",
       "    'data': [{'hoverinfo': 'none',\n",
       "              'line': {'color': 'rgba(0,0,0,1.0)', 'width': …"
      ]
     },
     "metadata": {},
     "output_type": "display_data"
    },
    {
     "name": "stdout",
     "output_type": "stream",
     "text": [
      "Original Materials Project\n"
     ]
    },
    {
     "data": {
      "application/vnd.jupyter.widget-view+json": {
       "model_id": "e8bad695f1124023bed997be8069cb47",
       "version_major": 2,
       "version_minor": 0
      },
      "text/plain": [
       "FigureWidget({\n",
       "    'data': [{'hoverinfo': 'none',\n",
       "              'line': {'width': 7.0},\n",
       "              'marker'…"
      ]
     },
     "metadata": {},
     "output_type": "display_data"
    }
   ],
   "source": [
    "pd = cs.get_phasediagram(pfpdf , energy = \"pfpene\")\n",
    "pfppdfig = cs.get_phasediagram_fig(pd, show_unstable=1 )\n",
    "print(\"pfp\")\n",
    "display (pfppdfig)\n",
    "print(\"Original Materials Project\")\n",
    "#1回上記で表示し　2回目の表示でなぜか綺麗（線青）になる\n",
    "display (m.pdfig) "
   ]
  },
  {
   "cell_type": "markdown",
   "id": "b221f150-4d7c-4ef3-a820-b92c511d793f",
   "metadata": {},
   "source": [
    "**Atomsオブジェクトアクセス方法**\n",
    "\n",
    "dfに入っているAtomsオブジェクトはプリミティブセルです。"
   ]
  },
  {
   "cell_type": "code",
   "execution_count": 7,
   "id": "c8d963b3-266c-464e-86c4-42cf4057826c",
   "metadata": {},
   "outputs": [
    {
     "data": {
      "text/plain": [
       "Atoms(symbols='Fe', pbc=True, cell=[[2.577899217605591, 0.0, 0.0], [1.2889496088027954, 2.2325263023376465, 0.0], [1.2889496088027954, 0.744175374507904, 2.1048457622528076]], calculator=ASECalculator(...))"
      ]
     },
     "execution_count": 7,
     "metadata": {},
     "output_type": "execute_result"
    }
   ],
   "source": [
    "cands.loc[5].atoms"
   ]
  },
  {
   "cell_type": "markdown",
   "id": "0695648d-1e63-4e70-b0c5-84f504668391",
   "metadata": {},
   "source": [
    "conventional は以下のとおりアクセスします。"
   ]
  },
  {
   "cell_type": "code",
   "execution_count": 8,
   "id": "8a2b903f-225a-4402-906a-0809ec4a1954",
   "metadata": {},
   "outputs": [
    {
     "data": {
      "text/plain": [
       "[Atoms(symbols='Fe4', pbc=True, cell=[3.6457000078888497, 3.6457000078888497, 3.6457000078888497])]"
      ]
     },
     "execution_count": 8,
     "metadata": {},
     "output_type": "execute_result"
    }
   ],
   "source": [
    "cs.get_conventional(cands.loc[[5]])"
   ]
  },
  {
   "cell_type": "markdown",
   "id": "8c017ba6-8546-4c3d-93f7-c24b75b60a7a",
   "metadata": {},
   "source": [
    "DB全部にアクセスするには以下で可能です。"
   ]
  },
  {
   "cell_type": "code",
   "execution_count": 9,
   "id": "91a9bb5a-aca7-438e-a5a2-d6631d42cd70",
   "metadata": {},
   "outputs": [
    {
     "data": {
      "text/html": [
       "<div>\n",
       "<style scoped>\n",
       "    .dataframe tbody tr th:only-of-type {\n",
       "        vertical-align: middle;\n",
       "    }\n",
       "\n",
       "    .dataframe tbody tr th {\n",
       "        vertical-align: top;\n",
       "    }\n",
       "\n",
       "    .dataframe thead th {\n",
       "        text-align: right;\n",
       "    }\n",
       "</style>\n",
       "<table border=\"1\" class=\"dataframe\">\n",
       "  <thead>\n",
       "    <tr style=\"text-align: right;\">\n",
       "      <th></th>\n",
       "      <th>material_id</th>\n",
       "      <th>pretty_formula</th>\n",
       "      <th>energy</th>\n",
       "      <th>e_above_hull</th>\n",
       "      <th>is_hubbard</th>\n",
       "      <th>elements</th>\n",
       "      <th>atoms</th>\n",
       "    </tr>\n",
       "  </thead>\n",
       "  <tbody>\n",
       "    <tr>\n",
       "      <th>0</th>\n",
       "      <td>mp-1</td>\n",
       "      <td>Cs</td>\n",
       "      <td>-0.856633</td>\n",
       "      <td>0.038770</td>\n",
       "      <td>False</td>\n",
       "      <td>[Cs]</td>\n",
       "      <td>(Atom('Cs', [0.0, 0.0, 0.0], index=0))</td>\n",
       "    </tr>\n",
       "    <tr>\n",
       "      <th>1</th>\n",
       "      <td>mp-2</td>\n",
       "      <td>Pd</td>\n",
       "      <td>-5.179882</td>\n",
       "      <td>0.000000</td>\n",
       "      <td>False</td>\n",
       "      <td>[Pd]</td>\n",
       "      <td>(Atom('Pd', [0.0, 0.0, 0.0], index=0))</td>\n",
       "    </tr>\n",
       "    <tr>\n",
       "      <th>2</th>\n",
       "      <td>mp-3</td>\n",
       "      <td>Cs</td>\n",
       "      <td>-1.598010</td>\n",
       "      <td>0.096397</td>\n",
       "      <td>False</td>\n",
       "      <td>[Cs]</td>\n",
       "      <td>(Atom('Cs', [3.6706762313842773, 3.38793683052...</td>\n",
       "    </tr>\n",
       "    <tr>\n",
       "      <th>3</th>\n",
       "      <td>mp-4</td>\n",
       "      <td>Nd</td>\n",
       "      <td>-4.628184</td>\n",
       "      <td>0.139959</td>\n",
       "      <td>False</td>\n",
       "      <td>[Nd]</td>\n",
       "      <td>(Atom('Nd', [0.0, 0.0, 0.0], index=0))</td>\n",
       "    </tr>\n",
       "    <tr>\n",
       "      <th>4</th>\n",
       "      <td>mp-7</td>\n",
       "      <td>S</td>\n",
       "      <td>-24.431696</td>\n",
       "      <td>0.064501</td>\n",
       "      <td>False</td>\n",
       "      <td>[S]</td>\n",
       "      <td>(Atom('S', [-2.1066184043884277, -2.1441278457...</td>\n",
       "    </tr>\n",
       "    <tr>\n",
       "      <th>...</th>\n",
       "      <td>...</td>\n",
       "      <td>...</td>\n",
       "      <td>...</td>\n",
       "      <td>...</td>\n",
       "      <td>...</td>\n",
       "      <td>...</td>\n",
       "      <td>...</td>\n",
       "    </tr>\n",
       "    <tr>\n",
       "      <th>139362</th>\n",
       "      <td>mvc-16821</td>\n",
       "      <td>CaCr2O4</td>\n",
       "      <td>-105.019547</td>\n",
       "      <td>0.107777</td>\n",
       "      <td>True</td>\n",
       "      <td>[Cr, O, Ca]</td>\n",
       "      <td>(Atom('Ca', [-1.5691694021224976, 1.5241652727...</td>\n",
       "    </tr>\n",
       "    <tr>\n",
       "      <th>139363</th>\n",
       "      <td>mvc-16832</td>\n",
       "      <td>V2ZnO4</td>\n",
       "      <td>-96.660103</td>\n",
       "      <td>0.161231</td>\n",
       "      <td>True</td>\n",
       "      <td>[Zn, O, V]</td>\n",
       "      <td>(Atom('V', [3.009662389755249, 0.0, 0.0], inde...</td>\n",
       "    </tr>\n",
       "    <tr>\n",
       "      <th>139364</th>\n",
       "      <td>mvc-16833</td>\n",
       "      <td>AlV2O4</td>\n",
       "      <td>-106.922005</td>\n",
       "      <td>0.207305</td>\n",
       "      <td>True</td>\n",
       "      <td>[O, V, Al]</td>\n",
       "      <td>(Atom('Al', [-1.4248672723770142, -1.519302725...</td>\n",
       "    </tr>\n",
       "    <tr>\n",
       "      <th>139365</th>\n",
       "      <td>mvc-16834</td>\n",
       "      <td>MgMn2O4</td>\n",
       "      <td>-98.566040</td>\n",
       "      <td>0.105475</td>\n",
       "      <td>True</td>\n",
       "      <td>[Mg, O, Mn]</td>\n",
       "      <td>(Atom('Mg', [0.0, 0.0, 0.0], index=0), Atom('M...</td>\n",
       "    </tr>\n",
       "    <tr>\n",
       "      <th>139366</th>\n",
       "      <td>mvc-16835</td>\n",
       "      <td>Mg(FeO2)2</td>\n",
       "      <td>-89.655792</td>\n",
       "      <td>0.142727</td>\n",
       "      <td>True</td>\n",
       "      <td>[Fe, Mg, O]</td>\n",
       "      <td>(Atom('Mg', [0.0, 0.0, 0.0], index=0), Atom('M...</td>\n",
       "    </tr>\n",
       "  </tbody>\n",
       "</table>\n",
       "<p>139367 rows × 7 columns</p>\n",
       "</div>"
      ],
      "text/plain": [
       "       material_id pretty_formula      energy  e_above_hull  is_hubbard  \\\n",
       "0             mp-1             Cs   -0.856633      0.038770       False   \n",
       "1             mp-2             Pd   -5.179882      0.000000       False   \n",
       "2             mp-3             Cs   -1.598010      0.096397       False   \n",
       "3             mp-4             Nd   -4.628184      0.139959       False   \n",
       "4             mp-7              S  -24.431696      0.064501       False   \n",
       "...            ...            ...         ...           ...         ...   \n",
       "139362   mvc-16821        CaCr2O4 -105.019547      0.107777        True   \n",
       "139363   mvc-16832         V2ZnO4  -96.660103      0.161231        True   \n",
       "139364   mvc-16833         AlV2O4 -106.922005      0.207305        True   \n",
       "139365   mvc-16834        MgMn2O4  -98.566040      0.105475        True   \n",
       "139366   mvc-16835      Mg(FeO2)2  -89.655792      0.142727        True   \n",
       "\n",
       "           elements                                              atoms  \n",
       "0              [Cs]             (Atom('Cs', [0.0, 0.0, 0.0], index=0))  \n",
       "1              [Pd]             (Atom('Pd', [0.0, 0.0, 0.0], index=0))  \n",
       "2              [Cs]  (Atom('Cs', [3.6706762313842773, 3.38793683052...  \n",
       "3              [Nd]             (Atom('Nd', [0.0, 0.0, 0.0], index=0))  \n",
       "4               [S]  (Atom('S', [-2.1066184043884277, -2.1441278457...  \n",
       "...             ...                                                ...  \n",
       "139362  [Cr, O, Ca]  (Atom('Ca', [-1.5691694021224976, 1.5241652727...  \n",
       "139363   [Zn, O, V]  (Atom('V', [3.009662389755249, 0.0, 0.0], inde...  \n",
       "139364   [O, V, Al]  (Atom('Al', [-1.4248672723770142, -1.519302725...  \n",
       "139365  [Mg, O, Mn]  (Atom('Mg', [0.0, 0.0, 0.0], index=0), Atom('M...  \n",
       "139366  [Fe, Mg, O]  (Atom('Mg', [0.0, 0.0, 0.0], index=0), Atom('M...  \n",
       "\n",
       "[139367 rows x 7 columns]"
      ]
     },
     "execution_count": 9,
     "metadata": {},
     "output_type": "execute_result"
    }
   ],
   "source": [
    "cs.df"
   ]
  }
 ],
 "metadata": {
  "kernelspec": {
   "display_name": "Python 3.7",
   "language": "python",
   "name": "python37"
  },
  "language_info": {
   "codemirror_mode": {
    "name": "ipython",
    "version": 3
   },
   "file_extension": ".py",
   "mimetype": "text/x-python",
   "name": "python",
   "nbconvert_exporter": "python",
   "pygments_lexer": "ipython3",
   "version": "3.7.13"
  },
  "widgets": {
   "application/vnd.jupyter.widget-state+json": {
    "state": {
     "00578d1eca36415693167e0fb5d53c31": {
      "model_module": "@jupyter-widgets/base",
      "model_module_version": "1.2.0",
      "model_name": "LayoutModel",
      "state": {
       "grid_area": "widget111",
       "height": "22px",
       "width": "42px"
      }
     },
     "00e55306363345c9866cd0c004ccedea": {
      "model_module": "@jupyter-widgets/controls",
      "model_module_version": "1.5.0",
      "model_name": "ToggleButtonModel",
      "state": {
       "description": "Es",
       "layout": "IPY_MODEL_7071acc849fc47b3a7733439f290f73a",
       "style": "IPY_MODEL_37db3cc486d340a69977745da01c59dd"
      }
     },
     "018fd7249a8f47a3a825d8b09f996733": {
      "model_module": "@jupyter-widgets/controls",
      "model_module_version": "1.5.0",
      "model_name": "ToggleButtonModel",
      "state": {
       "description": "Zn",
       "layout": "IPY_MODEL_3a58ffeb1a2448caa961fe2c59423f98",
       "style": "IPY_MODEL_b644da81a1734412a6a56af3fc1e99b3"
      }
     },
     "01ce9088bc94478fb9cf81169647d469": {
      "model_module": "@jupyter-widgets/controls",
      "model_module_version": "1.5.0",
      "model_name": "ToggleButtonModel",
      "state": {
       "description": "Ga",
       "layout": "IPY_MODEL_7a8ab3ee757c4d0cbd0eeb1f2ad57953",
       "style": "IPY_MODEL_36c90aaef2ae4afaa23d3b080db7a955"
      }
     },
     "01d54fd9897a41afa5e7e1d124740d8b": {
      "model_module": "@jupyter-widgets/base",
      "model_module_version": "1.2.0",
      "model_name": "LayoutModel",
      "state": {
       "grid_area": "widget014",
       "height": "22px",
       "width": "42px"
      }
     },
     "01ff3d5b81c6464ba7b68fc5e3bf128d": {
      "model_module": "@jupyter-widgets/controls",
      "model_module_version": "1.5.0",
      "model_name": "ToggleButtonModel",
      "state": {
       "description": "Ir",
       "layout": "IPY_MODEL_fc229d35e7f949bd96513fe65c58c9dc",
       "style": "IPY_MODEL_0ec41b7c3721490ba98a95806a02fa0d"
      }
     },
     "034e68ee7eb54c849d5f503c52c34bec": {
      "model_module": "@jupyter-widgets/controls",
      "model_module_version": "1.5.0",
      "model_name": "DescriptionStyleModel",
      "state": {
       "description_width": ""
      }
     },
     "036837de48804d5291d4579e539cf2c7": {
      "model_module": "@jupyter-widgets/controls",
      "model_module_version": "1.5.0",
      "model_name": "DescriptionStyleModel",
      "state": {
       "description_width": ""
      }
     },
     "03e0d176d4cb48789cfd60d236a173a6": {
      "model_module": "@jupyter-widgets/base",
      "model_module_version": "1.2.0",
      "model_name": "LayoutModel",
      "state": {}
     },
     "0455d6c2b3144ff0a6969b1df19720c4": {
      "model_module": "@jupyter-widgets/controls",
      "model_module_version": "1.5.0",
      "model_name": "DescriptionStyleModel",
      "state": {
       "description_width": ""
      }
     },
     "04f13c8480774cad874f38001649c72a": {
      "model_module": "@jupyter-widgets/base",
      "model_module_version": "1.2.0",
      "model_name": "LayoutModel",
      "state": {
       "grid_area": "widget101",
       "height": "22px",
       "width": "42px"
      }
     },
     "052d0d84bfeb401d845385e9e3167263": {
      "model_module": "@jupyter-widgets/controls",
      "model_module_version": "1.5.0",
      "model_name": "DescriptionStyleModel",
      "state": {
       "description_width": ""
      }
     },
     "0589321ce2fd47569068878647592563": {
      "model_module": "@jupyter-widgets/controls",
      "model_module_version": "1.5.0",
      "model_name": "DescriptionStyleModel",
      "state": {
       "description_width": ""
      }
     },
     "058eb993e8744c28b5d987a192d3a678": {
      "model_module": "@jupyter-widgets/controls",
      "model_module_version": "1.5.0",
      "model_name": "ToggleButtonModel",
      "state": {
       "description": "Fr",
       "layout": "IPY_MODEL_4bf31a2acd3843709a56d77601417218",
       "style": "IPY_MODEL_aa5b0464b8784fe6affd7ea7f7453ea4"
      }
     },
     "05db762cdece4b22a55d2ad41f3e4e65": {
      "model_module": "@jupyter-widgets/base",
      "model_module_version": "1.2.0",
      "model_name": "LayoutModel",
      "state": {
       "grid_area": "widget088",
       "height": "22px",
       "width": "42px"
      }
     },
     "06de1dd6f57b4d4e90c2639d1682cfd7": {
      "model_module": "@jupyter-widgets/controls",
      "model_module_version": "1.5.0",
      "model_name": "DescriptionStyleModel",
      "state": {
       "description_width": ""
      }
     },
     "0717325a31be4707ac56bd8538bb9fb1": {
      "model_module": "@jupyter-widgets/controls",
      "model_module_version": "1.5.0",
      "model_name": "ToggleButtonModel",
      "state": {
       "description": "Mn",
       "layout": "IPY_MODEL_11124a8cc1da4699986e07905d3abc81",
       "style": "IPY_MODEL_6627a267f626467da0bed2c320e79f04"
      }
     },
     "07bd23ee1cd245258be30eca67460715": {
      "model_module": "@jupyter-widgets/controls",
      "model_module_version": "1.5.0",
      "model_name": "ToggleButtonModel",
      "state": {
       "description": "Ho",
       "layout": "IPY_MODEL_bfcae78edddb41fc902c17d0574158d0",
       "style": "IPY_MODEL_97ab070755c44239a0582dfa4efae650"
      }
     },
     "083b48efe66540d28449f4f3cc9cb7ed": {
      "model_module": "@jupyter-widgets/controls",
      "model_module_version": "1.5.0",
      "model_name": "ToggleButtonModel",
      "state": {
       "description": "He",
       "layout": "IPY_MODEL_ab5402de0172421ab72cfe2bd05eecc7",
       "style": "IPY_MODEL_f991ec5e06864c1ca57046cf06c5cc23"
      }
     },
     "08b3c902924343f1aa59ec91a4c4fbcd": {
      "model_module": "@jupyter-widgets/base",
      "model_module_version": "1.2.0",
      "model_name": "LayoutModel",
      "state": {
       "grid_area": "widget114",
       "height": "22px",
       "width": "42px"
      }
     },
     "09160b97ddea4ba5be2098d79a653a6d": {
      "model_module": "@jupyter-widgets/controls",
      "model_module_version": "1.5.0",
      "model_name": "ToggleButtonModel",
      "state": {
       "description": "Yb",
       "layout": "IPY_MODEL_1d8ad4dcc6f94ee88f8ff3e456b0f6ff",
       "style": "IPY_MODEL_095f30134c684eac8e678961eb2abd75"
      }
     },
     "095f30134c684eac8e678961eb2abd75": {
      "model_module": "@jupyter-widgets/controls",
      "model_module_version": "1.5.0",
      "model_name": "DescriptionStyleModel",
      "state": {
       "description_width": ""
      }
     },
     "0970faabfb6e4da1a7d0af12d2d86543": {
      "model_module": "@jupyter-widgets/controls",
      "model_module_version": "1.5.0",
      "model_name": "DescriptionStyleModel",
      "state": {
       "description_width": ""
      }
     },
     "09e21cf331064bd6a763826cde6c84b2": {
      "model_module": "@jupyter-widgets/base",
      "model_module_version": "1.2.0",
      "model_name": "LayoutModel",
      "state": {
       "height": "450px"
      }
     },
     "0a8e6633a87a4cd9bba606bfb60a81c9": {
      "model_module": "@jupyter-widgets/base",
      "model_module_version": "1.2.0",
      "model_name": "LayoutModel",
      "state": {
       "grid_area": "widget097",
       "height": "22px",
       "width": "42px"
      }
     },
     "0b50ab2723c24f24827abbd466f4980e": {
      "model_module": "@jupyter-widgets/controls",
      "model_module_version": "1.5.0",
      "model_name": "ToggleButtonModel",
      "state": {
       "description": "Po",
       "layout": "IPY_MODEL_19aa8ba5723747dd843275145fff63cd",
       "style": "IPY_MODEL_c6ced1b9d37643d9b978aa9258a496cf"
      }
     },
     "0b6eed758412465cb39ca884466acee3": {
      "model_module": "@jupyter-widgets/controls",
      "model_module_version": "1.5.0",
      "model_name": "ToggleButtonModel",
      "state": {
       "description": "Ba",
       "layout": "IPY_MODEL_507235b6bd6246ff90086aabf75a3219",
       "style": "IPY_MODEL_743b7e5613c74ebebbef3d7bad95be6b"
      }
     },
     "0d93681f790f4513bb5c95c5d36fa667": {
      "model_module": "@jupyter-widgets/controls",
      "model_module_version": "1.5.0",
      "model_name": "ToggleButtonModel",
      "state": {
       "description": "Og",
       "layout": "IPY_MODEL_c5735a7c066841bda6232c58abead566",
       "style": "IPY_MODEL_4d9f20f42a4c44299c798d2fd86a7dc0"
      }
     },
     "0e112f4b80ec4914bb1b84efb2398e65": {
      "model_module": "@jupyter-widgets/base",
      "model_module_version": "1.2.0",
      "model_name": "LayoutModel",
      "state": {
       "grid_area": "widget095",
       "height": "22px",
       "width": "42px"
      }
     },
     "0ec41b7c3721490ba98a95806a02fa0d": {
      "model_module": "@jupyter-widgets/controls",
      "model_module_version": "1.5.0",
      "model_name": "DescriptionStyleModel",
      "state": {
       "description_width": ""
      }
     },
     "0f8cc083dbb740cab569a20740fc9d0a": {
      "model_module": "@jupyter-widgets/controls",
      "model_module_version": "1.5.0",
      "model_name": "DescriptionStyleModel",
      "state": {
       "description_width": ""
      }
     },
     "10e2dff805df4bc49ebf073450188fe5": {
      "model_module": "@jupyter-widgets/controls",
      "model_module_version": "1.5.0",
      "model_name": "HTMLModel",
      "state": {
       "layout": "IPY_MODEL_2e7523568c954034a29a22ecbd8b4d11",
       "style": "IPY_MODEL_73b83b15fbce43d58ac384a9ded466b0",
       "value": "100%"
      }
     },
     "11124a8cc1da4699986e07905d3abc81": {
      "model_module": "@jupyter-widgets/base",
      "model_module_version": "1.2.0",
      "model_name": "LayoutModel",
      "state": {
       "grid_area": "widget025",
       "height": "22px",
       "width": "42px"
      }
     },
     "11ad287291a748a2b44a804d03fad4b5": {
      "model_module": "@jupyter-widgets/base",
      "model_module_version": "1.2.0",
      "model_name": "LayoutModel",
      "state": {
       "grid_area": "widget072",
       "height": "22px",
       "width": "42px"
      }
     },
     "120020679d524235b6ab48c3482d2c4c": {
      "model_module": "@jupyter-widgets/base",
      "model_module_version": "1.2.0",
      "model_name": "LayoutModel",
      "state": {
       "grid_area": "widget065",
       "height": "22px",
       "width": "42px"
      }
     },
     "125d0ff81b6c4d0fa1fc07b439b4ca2a": {
      "model_module": "@jupyter-widgets/controls",
      "model_module_version": "1.5.0",
      "model_name": "DescriptionStyleModel",
      "state": {
       "description_width": ""
      }
     },
     "12810d9d9c79472b8485bc458c4137f5": {
      "model_module": "@jupyter-widgets/controls",
      "model_module_version": "1.5.0",
      "model_name": "BoxModel",
      "state": {
       "children": [
        "IPY_MODEL_e8bad695f1124023bed997be8069cb47"
       ],
       "layout": "IPY_MODEL_09e21cf331064bd6a763826cde6c84b2"
      }
     },
     "1307de4923164f59bdb6a2afea21fe40": {
      "model_module": "@jupyter-widgets/controls",
      "model_module_version": "1.5.0",
      "model_name": "ToggleButtonModel",
      "state": {
       "description": "Co",
       "layout": "IPY_MODEL_20e8013894e142309ea2a4400c156f0d",
       "style": "IPY_MODEL_3234ac72012d49a8b62105d37ee86266"
      }
     },
     "1461475fad4d47128776267ee52a1232": {
      "model_module": "@jupyter-widgets/controls",
      "model_module_version": "1.5.0",
      "model_name": "ToggleButtonModel",
      "state": {
       "description": "P",
       "layout": "IPY_MODEL_d668fd78517c49b0be7751a1b52c1e12",
       "style": "IPY_MODEL_89598ac86a834e08b27484b9085b4930"
      }
     },
     "1485f6eff4f945e3bfb487a12e72a983": {
      "model_module": "@jupyter-widgets/base",
      "model_module_version": "1.2.0",
      "model_name": "LayoutModel",
      "state": {
       "grid_area": "widget117",
       "height": "22px",
       "width": "42px"
      }
     },
     "150c9b433b9744db8edcfc749a14a2b9": {
      "model_module": "@jupyter-widgets/base",
      "model_module_version": "1.2.0",
      "model_name": "LayoutModel",
      "state": {
       "grid_area": "widget043",
       "height": "22px",
       "width": "42px"
      }
     },
     "153b097892464d6596661b6b8b7302cf": {
      "model_module": "@jupyter-widgets/base",
      "model_module_version": "1.2.0",
      "model_name": "LayoutModel",
      "state": {
       "grid_area": "widget016",
       "height": "22px",
       "width": "42px"
      }
     },
     "155560596dd445cda1d3d41cd35a7b5d": {
      "model_module": "@jupyter-widgets/base",
      "model_module_version": "1.2.0",
      "model_name": "LayoutModel",
      "state": {
       "grid_area": "widget022",
       "height": "22px",
       "width": "42px"
      }
     },
     "1679da4d81d34d82a1b13ab5b416fc68": {
      "model_module": "@jupyter-widgets/controls",
      "model_module_version": "1.5.0",
      "model_name": "ToggleButtonModel",
      "state": {
       "description": "F",
       "layout": "IPY_MODEL_27e3b0dcfa3841a4962e7b11f649430b",
       "style": "IPY_MODEL_a8f015a1839e4bb68e088402723e14f7"
      }
     },
     "16c8466baba54a8991037aed7c860e36": {
      "model_module": "@jupyter-widgets/controls",
      "model_module_version": "1.5.0",
      "model_name": "ToggleButtonModel",
      "state": {
       "description": "Ac",
       "layout": "IPY_MODEL_5ed9ff33afec4f9ea2f3b2029e3a3b5e",
       "style": "IPY_MODEL_034e68ee7eb54c849d5f503c52c34bec"
      }
     },
     "1738e2414f2e4382a970726a0d1c255f": {
      "model_module": "@jupyter-widgets/controls",
      "model_module_version": "1.5.0",
      "model_name": "DescriptionStyleModel",
      "state": {
       "description_width": ""
      }
     },
     "17426e1f558b42be99297b3afcbc95c8": {
      "model_module": "@jupyter-widgets/controls",
      "model_module_version": "1.5.0",
      "model_name": "BoundedFloatTextModel",
      "state": {
       "description": "hullabove<",
       "layout": "IPY_MODEL_1d570df0ee2540b28b0f516174991cbd",
       "step": 0.05,
       "style": "IPY_MODEL_287373bfd78a414089ba86ab67074233",
       "value": 0.3
      }
     },
     "179465cf63d542ef9f3cdf8e51951c4d": {
      "model_module": "@jupyter-widgets/controls",
      "model_module_version": "1.5.0",
      "model_name": "DescriptionStyleModel",
      "state": {
       "description_width": ""
      }
     },
     "17a41e726ecb47228155e743d3a54c5b": {
      "model_module": "@jupyter-widgets/controls",
      "model_module_version": "1.5.0",
      "model_name": "ToggleButtonModel",
      "state": {
       "description": "Rn",
       "layout": "IPY_MODEL_68bd88b923504d3b84d38d851e56a63a",
       "style": "IPY_MODEL_7dd266effb0c4705bbe00ea1da2f16c7"
      }
     },
     "185cb42143b14adfb10b5bb48f45536f": {
      "model_module": "@jupyter-widgets/controls",
      "model_module_version": "1.5.0",
      "model_name": "ToggleButtonModel",
      "state": {
       "description": "Lv",
       "layout": "IPY_MODEL_9d3668294205498e93088c4165f47cbf",
       "style": "IPY_MODEL_f31ea5f3533a414d82460e335d31dd86"
      }
     },
     "19aa8ba5723747dd843275145fff63cd": {
      "model_module": "@jupyter-widgets/base",
      "model_module_version": "1.2.0",
      "model_name": "LayoutModel",
      "state": {
       "grid_area": "widget084",
       "height": "22px",
       "width": "42px"
      }
     },
     "19b2a57e5dfb47b3a9e62208083535ba": {
      "model_module": "@jupyter-widgets/controls",
      "model_module_version": "1.5.0",
      "model_name": "ToggleButtonModel",
      "state": {
       "description": "Se",
       "layout": "IPY_MODEL_ac7dad0f79fc48689c37edc68e771e6b",
       "style": "IPY_MODEL_b6cabe185d1d4bcb87f7c05c39067cc8"
      }
     },
     "19bac9987b584025b7450612bc670a3b": {
      "model_module": "@jupyter-widgets/base",
      "model_module_version": "1.2.0",
      "model_name": "LayoutModel",
      "state": {
       "grid_area": "widget074",
       "height": "22px",
       "width": "42px"
      }
     },
     "1a2d314bb8c84529af532a27557e0189": {
      "model_module": "@jupyter-widgets/controls",
      "model_module_version": "1.5.0",
      "model_name": "DescriptionStyleModel",
      "state": {
       "description_width": ""
      }
     },
     "1bb3a46cc6a64a54b3c44052afafb8c4": {
      "model_module": "@jupyter-widgets/controls",
      "model_module_version": "1.5.0",
      "model_name": "ToggleButtonModel",
      "state": {
       "description": "Hg",
       "layout": "IPY_MODEL_8fa0ea2d92534dcb8a0d22990abf1af3",
       "style": "IPY_MODEL_dc2ae80ed9044fa2b1920624b8fdc914"
      }
     },
     "1d570df0ee2540b28b0f516174991cbd": {
      "model_module": "@jupyter-widgets/base",
      "model_module_version": "1.2.0",
      "model_name": "LayoutModel",
      "state": {
       "height": "27px",
       "width": "175px"
      }
     },
     "1d8ad4dcc6f94ee88f8ff3e456b0f6ff": {
      "model_module": "@jupyter-widgets/base",
      "model_module_version": "1.2.0",
      "model_name": "LayoutModel",
      "state": {
       "grid_area": "widget070",
       "height": "22px",
       "width": "42px"
      }
     },
     "1e460a5b5d574d0191901cd0240e3a13": {
      "model_module": "@jupyter-widgets/base",
      "model_module_version": "1.2.0",
      "model_name": "LayoutModel",
      "state": {
       "grid_area": "widget078",
       "height": "22px",
       "width": "42px"
      }
     },
     "20e69ba519a64c468100f3512e3a429a": {
      "model_module": "@jupyter-widgets/controls",
      "model_module_version": "1.5.0",
      "model_name": "DescriptionStyleModel",
      "state": {
       "description_width": ""
      }
     },
     "20e8013894e142309ea2a4400c156f0d": {
      "model_module": "@jupyter-widgets/base",
      "model_module_version": "1.2.0",
      "model_name": "LayoutModel",
      "state": {
       "grid_area": "widget027",
       "height": "22px",
       "width": "42px"
      }
     },
     "21f32072e7d949ad926608c44f4ef268": {
      "model_module": "@jupyter-widgets/controls",
      "model_module_version": "1.5.0",
      "model_name": "DescriptionStyleModel",
      "state": {
       "description_width": ""
      }
     },
     "224b7c31c6f2483a8e87bdbe6958462a": {
      "model_module": "@jupyter-widgets/base",
      "model_module_version": "1.2.0",
      "model_name": "LayoutModel",
      "state": {
       "grid_area": "widget026",
       "height": "22px",
       "width": "42px"
      }
     },
     "228cc862f260463f9392198f92bf01ce": {
      "model_module": "@jupyter-widgets/controls",
      "model_module_version": "1.5.0",
      "model_name": "DescriptionStyleModel",
      "state": {
       "description_width": ""
      }
     },
     "229a5a53543d45f09615e127421b9f41": {
      "model_module": "@jupyter-widgets/base",
      "model_module_version": "1.2.0",
      "model_name": "LayoutModel",
      "state": {
       "grid_area": "widget035",
       "height": "22px",
       "width": "42px"
      }
     },
     "22aef7a9e81f4a2799690b99a77018b9": {
      "model_module": "@jupyter-widgets/base",
      "model_module_version": "1.2.0",
      "model_name": "LayoutModel",
      "state": {}
     },
     "244b8f28c0204a31acc7db11d3967d48": {
      "model_module": "@jupyter-widgets/controls",
      "model_module_version": "1.5.0",
      "model_name": "ToggleButtonModel",
      "state": {
       "description": "Al",
       "layout": "IPY_MODEL_2ec849d1b7ce4479a3078977f7d19091",
       "style": "IPY_MODEL_21f32072e7d949ad926608c44f4ef268"
      }
     },
     "24760cc6698144b4a6abe55a9c043807": {
      "model_module": "@jupyter-widgets/controls",
      "model_module_version": "1.5.0",
      "model_name": "ToggleButtonModel",
      "state": {
       "description": "Er",
       "layout": "IPY_MODEL_f7436261c330475281026ab1d5e11ef3",
       "style": "IPY_MODEL_3811e09b44d74cb5aa67464413b9b3a5"
      }
     },
     "2477eca6676d4bfe95b8d5e035863f79": {
      "model_module": "@jupyter-widgets/controls",
      "model_module_version": "1.5.0",
      "model_name": "DescriptionStyleModel",
      "state": {
       "description_width": ""
      }
     },
     "25ad0847b6b741a3a8549d996af4f8bd": {
      "model_module": "@jupyter-widgets/controls",
      "model_module_version": "1.5.0",
      "model_name": "DescriptionStyleModel",
      "state": {
       "description_width": ""
      }
     },
     "27e3b0dcfa3841a4962e7b11f649430b": {
      "model_module": "@jupyter-widgets/base",
      "model_module_version": "1.2.0",
      "model_name": "LayoutModel",
      "state": {
       "grid_area": "widget009",
       "height": "22px",
       "width": "42px"
      }
     },
     "28679dcf426b4d9ea9dd98d04d873223": {
      "model_module": "@jupyter-widgets/controls",
      "model_module_version": "1.5.0",
      "model_name": "DescriptionStyleModel",
      "state": {
       "description_width": ""
      }
     },
     "287373bfd78a414089ba86ab67074233": {
      "model_module": "@jupyter-widgets/controls",
      "model_module_version": "1.5.0",
      "model_name": "DescriptionStyleModel",
      "state": {
       "description_width": ""
      }
     },
     "296bc194250442a09e7cc3a53357a96b": {
      "model_module": "@jupyter-widgets/controls",
      "model_module_version": "1.5.0",
      "model_name": "DescriptionStyleModel",
      "state": {
       "description_width": ""
      }
     },
     "298f5adc068341bdaa92bdac2b9270e2": {
      "model_module": "@jupyter-widgets/base",
      "model_module_version": "1.2.0",
      "model_name": "LayoutModel",
      "state": {
       "grid_area": "widget007",
       "height": "22px",
       "width": "42px"
      }
     },
     "2b064d20216d43bf9d58ca32b8feaa6e": {
      "model_module": "@jupyter-widgets/base",
      "model_module_version": "1.2.0",
      "model_name": "LayoutModel",
      "state": {}
     },
     "2b310e62c7104883b6f2a36a62a2df8f": {
      "model_module": "@jupyter-widgets/base",
      "model_module_version": "1.2.0",
      "model_name": "LayoutModel",
      "state": {
       "height": "27px",
       "width": "80px"
      }
     },
     "2b39614153364b4fa8c543d6c4dc8a32": {
      "model_module": "@jupyter-widgets/controls",
      "model_module_version": "1.5.0",
      "model_name": "ToggleButtonModel",
      "state": {
       "description": "Cr",
       "layout": "IPY_MODEL_52b2a11997e546f7a492079e04ad2057",
       "style": "IPY_MODEL_e49789ff55614c6796643934f5ab4a81"
      }
     },
     "2b4024605739491795e0758aab6dba7f": {
      "model_module": "@jupyter-widgets/controls",
      "model_module_version": "1.5.0",
      "model_name": "ToggleButtonModel",
      "state": {
       "description": "Sm",
       "layout": "IPY_MODEL_588e62e850734a93b6bde7401b1752ed",
       "style": "IPY_MODEL_5be3cdc0382b438baad5d3304073174c"
      }
     },
     "2b9dafd0aa004867bf6c6a3e51304320": {
      "model_module": "@jupyter-widgets/controls",
      "model_module_version": "1.5.0",
      "model_name": "ButtonStyleModel",
      "state": {}
     },
     "2d6d8dbcc7bf43deb6a175db4064ef8a": {
      "model_module": "@jupyter-widgets/controls",
      "model_module_version": "1.5.0",
      "model_name": "DescriptionStyleModel",
      "state": {
       "description_width": ""
      }
     },
     "2e7523568c954034a29a22ecbd8b4d11": {
      "model_module": "@jupyter-widgets/base",
      "model_module_version": "1.2.0",
      "model_name": "LayoutModel",
      "state": {}
     },
     "2ec849d1b7ce4479a3078977f7d19091": {
      "model_module": "@jupyter-widgets/base",
      "model_module_version": "1.2.0",
      "model_name": "LayoutModel",
      "state": {
       "grid_area": "widget013",
       "height": "22px",
       "width": "42px"
      }
     },
     "2f20035bd2b246a9894a5243b9c49d12": {
      "model_module": "@jupyter-widgets/controls",
      "model_module_version": "1.5.0",
      "model_name": "DescriptionStyleModel",
      "state": {
       "description_width": ""
      }
     },
     "2fb985330f5d4a9287ee48941f4b08f8": {
      "model_module": "@jupyter-widgets/output",
      "model_module_version": "1.0.0",
      "model_name": "OutputModel",
      "state": {
       "layout": "IPY_MODEL_d8ef24c02776480790b076356fdf4bca",
       "outputs": [
        {
         "data": {
          "text/html": "<div>\n<style scoped>\n    .dataframe tbody tr th:only-of-type {\n        vertical-align: middle;\n    }\n\n    .dataframe tbody tr th {\n        vertical-align: top;\n    }\n\n    .dataframe thead th {\n        text-align: right;\n    }\n</style>\n<table border=\"1\" class=\"dataframe\">\n  <thead>\n    <tr style=\"text-align: right;\">\n      <th></th>\n      <th>material_id</th>\n      <th>pretty_formula</th>\n      <th>energy</th>\n      <th>e_above_hull</th>\n    </tr>\n  </thead>\n  <tbody>\n    <tr>\n      <th>0</th>\n      <td>mp-13</td>\n      <td>Fe</td>\n      <td>-8.470009</td>\n      <td>0.000000</td>\n    </tr>\n    <tr>\n      <th>1</th>\n      <td>mp-47</td>\n      <td>C</td>\n      <td>-36.261055</td>\n      <td>0.161517</td>\n    </tr>\n    <tr>\n      <th>2</th>\n      <td>mp-48</td>\n      <td>C</td>\n      <td>-36.881187</td>\n      <td>0.006484</td>\n    </tr>\n    <tr>\n      <th>3</th>\n      <td>mp-66</td>\n      <td>C</td>\n      <td>-18.180737</td>\n      <td>0.136413</td>\n    </tr>\n    <tr>\n      <th>4</th>\n      <td>mp-136</td>\n      <td>Fe</td>\n      <td>-16.744431</td>\n      <td>0.097793</td>\n    </tr>\n    <tr>\n      <th>5</th>\n      <td>mp-150</td>\n      <td>Fe</td>\n      <td>-8.321657</td>\n      <td>0.148352</td>\n    </tr>\n    <tr>\n      <th>6</th>\n      <td>mp-169</td>\n      <td>C</td>\n      <td>-18.450888</td>\n      <td>0.001337</td>\n    </tr>\n    <tr>\n      <th>7</th>\n      <td>mp-1456</td>\n      <td>Fe2O3</td>\n      <td>-1060.786621</td>\n      <td>0.119360</td>\n    </tr>\n    <tr>\n      <th>8</th>\n      <td>mp-1871</td>\n      <td>Fe2C</td>\n      <td>-51.981106</td>\n      <td>0.058749</td>\n    </tr>\n    <tr>\n      <th>9</th>\n      <td>mp-2794</td>\n      <td>Fe5C2</td>\n      <td>-120.786110</td>\n      <td>0.058650</td>\n    </tr>\n  </tbody>\n</table>\n</div>",
          "text/plain": "  material_id pretty_formula       energy  e_above_hull\n0       mp-13             Fe    -8.470009      0.000000\n1       mp-47              C   -36.261055      0.161517\n2       mp-48              C   -36.881187      0.006484\n3       mp-66              C   -18.180737      0.136413\n4      mp-136             Fe   -16.744431      0.097793\n5      mp-150             Fe    -8.321657      0.148352\n6      mp-169              C   -18.450888      0.001337\n7     mp-1456          Fe2O3 -1060.786621      0.119360\n8     mp-1871           Fe2C   -51.981106      0.058749\n9     mp-2794          Fe5C2  -120.786110      0.058650"
         },
         "metadata": {},
         "output_type": "display_data"
        }
       ]
      }
     },
     "30496258fb9d417c832078dc6c27d2da": {
      "model_module": "@jupyter-widgets/controls",
      "model_module_version": "1.5.0",
      "model_name": "ToggleButtonModel",
      "state": {
       "description": "Bk",
       "layout": "IPY_MODEL_0a8e6633a87a4cd9bba606bfb60a81c9",
       "style": "IPY_MODEL_3425efc41de94b2aa1bfc65a738d1e18"
      }
     },
     "321e50911afa4d6dbbeedfc58a3c6b55": {
      "model_module": "@jupyter-widgets/controls",
      "model_module_version": "1.5.0",
      "model_name": "DescriptionStyleModel",
      "state": {
       "description_width": ""
      }
     },
     "3234ac72012d49a8b62105d37ee86266": {
      "model_module": "@jupyter-widgets/controls",
      "model_module_version": "1.5.0",
      "model_name": "DescriptionStyleModel",
      "state": {
       "description_width": ""
      }
     },
     "3237310914034953beed6b586ffc7e12": {
      "model_module": "@jupyter-widgets/controls",
      "model_module_version": "1.5.0",
      "model_name": "DescriptionStyleModel",
      "state": {
       "description_width": ""
      }
     },
     "330b3b7ceac04426b296f912e0cccb2f": {
      "model_module": "@jupyter-widgets/controls",
      "model_module_version": "1.5.0",
      "model_name": "DescriptionStyleModel",
      "state": {
       "description_width": ""
      }
     },
     "33613cce4b114c09bb1975d85d148f73": {
      "model_module": "@jupyter-widgets/controls",
      "model_module_version": "1.5.0",
      "model_name": "DescriptionStyleModel",
      "state": {
       "description_width": ""
      }
     },
     "33fbf1877f2d4a1c8ca25fb0a8a00c3c": {
      "model_module": "@jupyter-widgets/controls",
      "model_module_version": "1.5.0",
      "model_name": "ToggleButtonModel",
      "state": {
       "description": "Ni",
       "layout": "IPY_MODEL_c4423d979b44488380d38450aaef873c",
       "style": "IPY_MODEL_2477eca6676d4bfe95b8d5e035863f79"
      }
     },
     "3425efc41de94b2aa1bfc65a738d1e18": {
      "model_module": "@jupyter-widgets/controls",
      "model_module_version": "1.5.0",
      "model_name": "DescriptionStyleModel",
      "state": {
       "description_width": ""
      }
     },
     "36c90aaef2ae4afaa23d3b080db7a955": {
      "model_module": "@jupyter-widgets/controls",
      "model_module_version": "1.5.0",
      "model_name": "DescriptionStyleModel",
      "state": {
       "description_width": ""
      }
     },
     "37db3cc486d340a69977745da01c59dd": {
      "model_module": "@jupyter-widgets/controls",
      "model_module_version": "1.5.0",
      "model_name": "DescriptionStyleModel",
      "state": {
       "description_width": ""
      }
     },
     "3811e09b44d74cb5aa67464413b9b3a5": {
      "model_module": "@jupyter-widgets/controls",
      "model_module_version": "1.5.0",
      "model_name": "DescriptionStyleModel",
      "state": {
       "description_width": ""
      }
     },
     "39ca287af4714a9f97a126dc459f20ef": {
      "model_module": "@jupyter-widgets/controls",
      "model_module_version": "1.5.0",
      "model_name": "ToggleButtonModel",
      "state": {
       "description": "Sg",
       "layout": "IPY_MODEL_fb49398483c5473b83bad9db510cd2ec",
       "style": "IPY_MODEL_e021398dc0e54cc09828465eb6065287"
      }
     },
     "39cb963f6c19405a8da4cbdf6eabc567": {
      "model_module": "@jupyter-widgets/controls",
      "model_module_version": "1.5.0",
      "model_name": "DescriptionStyleModel",
      "state": {
       "description_width": ""
      }
     },
     "3a03dc0009fb477f8c038ea08cfd0f4e": {
      "model_module": "@jupyter-widgets/controls",
      "model_module_version": "1.5.0",
      "model_name": "DescriptionStyleModel",
      "state": {
       "description_width": ""
      }
     },
     "3a58ffeb1a2448caa961fe2c59423f98": {
      "model_module": "@jupyter-widgets/base",
      "model_module_version": "1.2.0",
      "model_name": "LayoutModel",
      "state": {
       "grid_area": "widget030",
       "height": "22px",
       "width": "42px"
      }
     },
     "3af68e4570e94aeea958b62c0036d559": {
      "model_module": "@jupyter-widgets/base",
      "model_module_version": "1.2.0",
      "model_name": "LayoutModel",
      "state": {
       "grid_area": "widget098",
       "height": "22px",
       "width": "42px"
      }
     },
     "3b422e8c284843e9aacc69020f36802f": {
      "model_module": "@jupyter-widgets/base",
      "model_module_version": "1.2.0",
      "model_name": "LayoutModel",
      "state": {
       "grid_area": "widget102",
       "height": "22px",
       "width": "42px"
      }
     },
     "3bf2eaae2db14a7694b29ae815a614e4": {
      "model_module": "@jupyter-widgets/controls",
      "model_module_version": "1.5.0",
      "model_name": "DescriptionStyleModel",
      "state": {
       "description_width": ""
      }
     },
     "3c2fd1f00c664d2a9d79db30bc4f2b83": {
      "model_module": "@jupyter-widgets/controls",
      "model_module_version": "1.5.0",
      "model_name": "ToggleButtonModel",
      "state": {
       "description": "S",
       "layout": "IPY_MODEL_153b097892464d6596661b6b8b7302cf",
       "style": "IPY_MODEL_632932a32cb640cf8e174aac0c9a1d60"
      }
     },
     "3cdde64092024a5fbebca6d43a1cc911": {
      "model_module": "@jupyter-widgets/base",
      "model_module_version": "1.2.0",
      "model_name": "LayoutModel",
      "state": {
       "grid_area": "widget036",
       "height": "22px",
       "width": "42px"
      }
     },
     "3d25dc82c7bb4ca3b37dcd73bd92e416": {
      "model_module": "@jupyter-widgets/controls",
      "model_module_version": "1.5.0",
      "model_name": "DescriptionStyleModel",
      "state": {
       "description_width": ""
      }
     },
     "3d54fb3365df4d088c045886709e7f34": {
      "model_module": "@jupyter-widgets/controls",
      "model_module_version": "1.5.0",
      "model_name": "ToggleButtonModel",
      "state": {
       "description": "Rf",
       "layout": "IPY_MODEL_c827d971aa204a7e9811cf03036cd7fe",
       "style": "IPY_MODEL_d4bf9369e15f42a3ab7741e709e9ed43"
      }
     },
     "3f132bc4386742fe98979534993de855": {
      "model_module": "@jupyter-widgets/base",
      "model_module_version": "1.2.0",
      "model_name": "LayoutModel",
      "state": {
       "grid_area": "widget075",
       "height": "22px",
       "width": "42px"
      }
     },
     "3fb29ca9e0484045965e0a9f70e66d92": {
      "model_module": "@jupyter-widgets/controls",
      "model_module_version": "1.5.0",
      "model_name": "DescriptionStyleModel",
      "state": {
       "description_width": ""
      }
     },
     "4018268a78284667ad94f8a3519db510": {
      "model_module": "@jupyter-widgets/controls",
      "model_module_version": "1.5.0",
      "model_name": "ToggleButtonModel",
      "state": {
       "description": "Sn",
       "layout": "IPY_MODEL_ad05fed7229b43d18c35f20d7cd800d9",
       "style": "IPY_MODEL_8279988cc3de46d2a57ee05377124d25"
      }
     },
     "419c913b15a84254a9716928e9cd8c60": {
      "model_module": "@jupyter-widgets/base",
      "model_module_version": "1.2.0",
      "model_name": "LayoutModel",
      "state": {}
     },
     "43a7041c4b224f998d7f47eea697fc40": {
      "model_module": "@jupyter-widgets/controls",
      "model_module_version": "1.5.0",
      "model_name": "DescriptionStyleModel",
      "state": {
       "description_width": ""
      }
     },
     "43b3a6f2069d46d29857117ee557bc8f": {
      "model_module": "@jupyter-widgets/controls",
      "model_module_version": "1.5.0",
      "model_name": "DescriptionStyleModel",
      "state": {
       "description_width": ""
      }
     },
     "448f368bf89846e5afab04da41b622a5": {
      "model_module": "@jupyter-widgets/base",
      "model_module_version": "1.2.0",
      "model_name": "LayoutModel",
      "state": {
       "grid_area": "widget019",
       "height": "22px",
       "width": "42px"
      }
     },
     "454ce0a0964748b087b7bae59756423c": {
      "model_module": "@jupyter-widgets/controls",
      "model_module_version": "1.5.0",
      "model_name": "IntSliderModel",
      "state": {
       "description": "No",
       "layout": "IPY_MODEL_6690898fccce48c1bbb356a56fe930ad",
       "max": 177,
       "style": "IPY_MODEL_990f8601b6424269b28bb85a482c47d1"
      }
     },
     "45e85a399b954728bcf1de5b920399ef": {
      "model_module": "@jupyter-widgets/controls",
      "model_module_version": "1.5.0",
      "model_name": "DescriptionStyleModel",
      "state": {
       "description_width": ""
      }
     },
     "46b0082731064bafaa9f88c79cfc9827": {
      "model_module": "@jupyter-widgets/base",
      "model_module_version": "1.2.0",
      "model_name": "LayoutModel",
      "state": {
       "grid_area": "widget073",
       "height": "22px",
       "width": "42px"
      }
     },
     "46f17fd83d9f4c87b5b5224ee0e37555": {
      "model_module": "@jupyter-widgets/controls",
      "model_module_version": "1.5.0",
      "model_name": "DescriptionStyleModel",
      "state": {
       "description_width": ""
      }
     },
     "47be2cc39d954158a294b0ace89b3663": {
      "model_module": "@jupyter-widgets/base",
      "model_module_version": "1.2.0",
      "model_name": "LayoutModel",
      "state": {
       "grid_area": "widget059",
       "height": "22px",
       "width": "42px"
      }
     },
     "495b78c42c66499dbf5246d6602bdf51": {
      "model_module": "@jupyter-widgets/base",
      "model_module_version": "1.2.0",
      "model_name": "LayoutModel",
      "state": {
       "grid_area": "widget021",
       "height": "22px",
       "width": "42px"
      }
     },
     "49a6ea8a7b2b4a7ba666a3b966acd93a": {
      "model_module": "@jupyter-widgets/base",
      "model_module_version": "1.2.0",
      "model_name": "LayoutModel",
      "state": {
       "grid_area": "widget053",
       "height": "22px",
       "width": "42px"
      }
     },
     "4a51be1fa01c4b44b9623b2f193bfd4b": {
      "model_module": "@jupyter-widgets/controls",
      "model_module_version": "1.5.0",
      "model_name": "ToggleButtonModel",
      "state": {
       "description": "Cn",
       "layout": "IPY_MODEL_f5a5ecd41db244cbae70837188243ce8",
       "style": "IPY_MODEL_eb6ec6ea97884233a6cdcbfc0053cff5"
      }
     },
     "4a88e313afc241799165c670d9183c21": {
      "model_module": "@jupyter-widgets/controls",
      "model_module_version": "1.5.0",
      "model_name": "DescriptionStyleModel",
      "state": {
       "description_width": ""
      }
     },
     "4b7b72c5ab7f41f98d03b924817f84ec": {
      "model_module": "@jupyter-widgets/base",
      "model_module_version": "1.2.0",
      "model_name": "LayoutModel",
      "state": {
       "grid_area": "widget082",
       "height": "22px",
       "width": "42px"
      }
     },
     "4b9e50132fb14bc3adf42671d21f1204": {
      "model_module": "@jupyter-widgets/controls",
      "model_module_version": "1.5.0",
      "model_name": "DescriptionStyleModel",
      "state": {
       "description_width": ""
      }
     },
     "4bf31a2acd3843709a56d77601417218": {
      "model_module": "@jupyter-widgets/base",
      "model_module_version": "1.2.0",
      "model_name": "LayoutModel",
      "state": {
       "grid_area": "widget087",
       "height": "22px",
       "width": "42px"
      }
     },
     "4c163acaf63b492c9952153367afefde": {
      "model_module": "@jupyter-widgets/controls",
      "model_module_version": "1.5.0",
      "model_name": "ToggleButtonModel",
      "state": {
       "description": "K",
       "layout": "IPY_MODEL_448f368bf89846e5afab04da41b622a5",
       "style": "IPY_MODEL_a6d24e12ca274637908c6901a3ba7648"
      }
     },
     "4d9f20f42a4c44299c798d2fd86a7dc0": {
      "model_module": "@jupyter-widgets/controls",
      "model_module_version": "1.5.0",
      "model_name": "DescriptionStyleModel",
      "state": {
       "description_width": ""
      }
     },
     "4ddaf29378e24f64a57b781bbf638e83": {
      "model_module": "@jupyter-widgets/controls",
      "model_module_version": "1.5.0",
      "model_name": "ToggleButtonModel",
      "state": {
       "description": "Cf",
       "layout": "IPY_MODEL_3af68e4570e94aeea958b62c0036d559",
       "style": "IPY_MODEL_0455d6c2b3144ff0a6969b1df19720c4"
      }
     },
     "4e8cbb3390d84ffa8eac854b62a849ca": {
      "model_module": "@jupyter-widgets/controls",
      "model_module_version": "1.5.0",
      "model_name": "ToggleButtonModel",
      "state": {
       "description": "Cu",
       "layout": "IPY_MODEL_b6422891c9644cddb256c2a966f8ed29",
       "style": "IPY_MODEL_a9177f410a9c40c29071a358f213d6cf"
      }
     },
     "4ed7a34f1e5340398d779bda0d8d66b2": {
      "model_module": "@jupyter-widgets/base",
      "model_module_version": "1.2.0",
      "model_name": "LayoutModel",
      "state": {
       "grid_area": "widget103",
       "height": "22px",
       "width": "42px"
      }
     },
     "4ee8aa7d2f4b4ea08ed4788ec7ea0eb3": {
      "model_module": "@jupyter-widgets/controls",
      "model_module_version": "1.5.0",
      "model_name": "ButtonStyleModel",
      "state": {}
     },
     "4f8874e9615443a9a70dd6fe2c5caa20": {
      "model_module": "@jupyter-widgets/base",
      "model_module_version": "1.2.0",
      "model_name": "LayoutModel",
      "state": {
       "grid_area": "widget047",
       "height": "22px",
       "width": "42px"
      }
     },
     "507235b6bd6246ff90086aabf75a3219": {
      "model_module": "@jupyter-widgets/base",
      "model_module_version": "1.2.0",
      "model_name": "LayoutModel",
      "state": {
       "grid_area": "widget056",
       "height": "22px",
       "width": "42px"
      }
     },
     "517cc69f09044f399b38ec5d39c4cf1b": {
      "model_module": "@jupyter-widgets/base",
      "model_module_version": "1.2.0",
      "model_name": "LayoutModel",
      "state": {
       "grid_area": "widget001",
       "height": "22px",
       "width": "42px"
      }
     },
     "52b1f589174b4a9181f28408c1f7eda3": {
      "model_module": "@jupyter-widgets/controls",
      "model_module_version": "1.5.0",
      "model_name": "ToggleButtonModel",
      "state": {
       "description": "Mc",
       "layout": "IPY_MODEL_bc77136371014a85b09dce2c1ceeeb6f",
       "style": "IPY_MODEL_5dcda447f7a94723928c667ae21f3fbb"
      }
     },
     "52b2a11997e546f7a492079e04ad2057": {
      "model_module": "@jupyter-widgets/base",
      "model_module_version": "1.2.0",
      "model_name": "LayoutModel",
      "state": {
       "grid_area": "widget024",
       "height": "22px",
       "width": "42px"
      }
     },
     "52d71b8370d347ecaf2e1e499270f23e": {
      "model_module": "@jupyter-widgets/controls",
      "model_module_version": "1.5.0",
      "model_name": "ToggleButtonModel",
      "state": {
       "description": "Rb",
       "layout": "IPY_MODEL_bf9de3217fae4f25af833c7a98cc5b87",
       "style": "IPY_MODEL_125d0ff81b6c4d0fa1fc07b439b4ca2a"
      }
     },
     "53ad11a90dca49bb85644229c93c6f79": {
      "model_module": "@jupyter-widgets/controls",
      "model_module_version": "1.5.0",
      "model_name": "ToggleButtonModel",
      "state": {
       "description": "Ca",
       "layout": "IPY_MODEL_68306663acfb41b797772260b9ef9e1f",
       "style": "IPY_MODEL_95146b778b964ebc9604d25ea145ed05"
      }
     },
     "53b3b28d50084b9e8306f03cb136bbbc": {
      "model_module": "@jupyter-widgets/controls",
      "model_module_version": "1.5.0",
      "model_name": "ToggleButtonModel",
      "state": {
       "description": "I",
       "layout": "IPY_MODEL_49a6ea8a7b2b4a7ba666a3b966acd93a",
       "style": "IPY_MODEL_ac47fcf460044a50942588b6ce329c4d"
      }
     },
     "5496f6b2107640d49a31fc2f60f1ced2": {
      "model_module": "@jupyter-widgets/controls",
      "model_module_version": "1.5.0",
      "model_name": "ToggleButtonModel",
      "state": {
       "description": "No",
       "layout": "IPY_MODEL_3b422e8c284843e9aacc69020f36802f",
       "style": "IPY_MODEL_ba9f5952691545f08df07c6d56a3ec65"
      }
     },
     "54ab629327804dfcaeb27749d537ceaa": {
      "model_module": "@jupyter-widgets/controls",
      "model_module_version": "1.5.0",
      "model_name": "ButtonModel",
      "state": {
       "description": "clear",
       "layout": "IPY_MODEL_2b310e62c7104883b6f2a36a62a2df8f",
       "style": "IPY_MODEL_c35264c79f904736a6c27df45474eaf1"
      }
     },
     "54c6f666e54d4bcf9d2eb9e0442a4865": {
      "model_module": "@jupyter-widgets/base",
      "model_module_version": "1.2.0",
      "model_name": "LayoutModel",
      "state": {
       "grid_area": "widget005",
       "height": "22px",
       "width": "42px"
      }
     },
     "54c9290f808c42f09815223f598d974d": {
      "model_module": "@jupyter-widgets/controls",
      "model_module_version": "1.5.0",
      "model_name": "ToggleButtonModel",
      "state": {
       "description": "Ru",
       "layout": "IPY_MODEL_edae1f1ee5234b61a4c8f8d7aea18dd9",
       "style": "IPY_MODEL_cca0aa8bceff44fc97bf39567ddce62b"
      }
     },
     "54edfad61ee34efd9d95a5d7c9a4570d": {
      "model_module": "@jupyter-widgets/base",
      "model_module_version": "1.2.0",
      "model_name": "LayoutModel",
      "state": {
       "grid_area": "widget040",
       "height": "22px",
       "width": "42px"
      }
     },
     "570e17e8e18d44e4aae8089b894d708d": {
      "model_module": "@jupyter-widgets/controls",
      "model_module_version": "1.5.0",
      "model_name": "DescriptionStyleModel",
      "state": {
       "description_width": ""
      }
     },
     "5716cbfa2b5e4679a251169777b0225a": {
      "model_module": "@jupyter-widgets/controls",
      "model_module_version": "1.5.0",
      "model_name": "ToggleButtonModel",
      "state": {
       "description": "Hs",
       "layout": "IPY_MODEL_dbbcf09dbd3a45bba62e1ad4dd1431a2",
       "style": "IPY_MODEL_7e72785aa2ba4d07981305c14c1ab04f"
      }
     },
     "5716ebfb52e142b59c97944187ae2643": {
      "model_module": "@jupyter-widgets/base",
      "model_module_version": "1.2.0",
      "model_name": "LayoutModel",
      "state": {}
     },
     "574a037cca8247c9bcb61baf1ac4286b": {
      "model_module": "@jupyter-widgets/controls",
      "model_module_version": "1.5.0",
      "model_name": "HBoxModel",
      "state": {
       "children": [
        "IPY_MODEL_80b2ca8f4e904b889492670d832c85d5",
        "IPY_MODEL_17426e1f558b42be99297b3afcbc95c8",
        "IPY_MODEL_e31089882f474e55a033b0a4d9c1c12d",
        "IPY_MODEL_841963c8ef624c6094ecddcc16197f1a",
        "IPY_MODEL_54ab629327804dfcaeb27749d537ceaa",
        "IPY_MODEL_94c2ea7d63a34fa49d32d21ff5d474f2",
        "IPY_MODEL_b854330ca38f4224aaabeb9d3eeb43c5"
       ],
       "layout": "IPY_MODEL_03e0d176d4cb48789cfd60d236a173a6"
      }
     },
     "588e62e850734a93b6bde7401b1752ed": {
      "model_module": "@jupyter-widgets/base",
      "model_module_version": "1.2.0",
      "model_name": "LayoutModel",
      "state": {
       "grid_area": "widget062",
       "height": "22px",
       "width": "42px"
      }
     },
     "590c70a848a245de85cbe27fa068ce75": {
      "model_module": "@jupyter-widgets/controls",
      "model_module_version": "1.5.0",
      "model_name": "GridBoxModel",
      "state": {
       "children": [
        "IPY_MODEL_7d1e07ef60a940fb9288f8df91d1e916",
        "IPY_MODEL_083b48efe66540d28449f4f3cc9cb7ed",
        "IPY_MODEL_6ddf45c6e5c24e958bf5228ef86b4669",
        "IPY_MODEL_9eca0e3788c9434ab62e96e23c16176c",
        "IPY_MODEL_7297905412fd45b696064c278604986d",
        "IPY_MODEL_e80696388a4f4f519a2a4923dd619f76",
        "IPY_MODEL_d8788fc75919433486beb75753c4565e",
        "IPY_MODEL_a44a99286ebc4b5b81a7ae0a1c66d371",
        "IPY_MODEL_1679da4d81d34d82a1b13ab5b416fc68",
        "IPY_MODEL_ebc190679da7418cb13fdee65748013d",
        "IPY_MODEL_ac79f52515c54ddf9b6e7ee32322b871",
        "IPY_MODEL_f5b0c53d175c42c28d28dbf67a8d861e",
        "IPY_MODEL_244b8f28c0204a31acc7db11d3967d48",
        "IPY_MODEL_99d4763ed9244e00a55ca9ef84b9d246",
        "IPY_MODEL_1461475fad4d47128776267ee52a1232",
        "IPY_MODEL_3c2fd1f00c664d2a9d79db30bc4f2b83",
        "IPY_MODEL_f966492b00cb4abf81716c49961fc9b4",
        "IPY_MODEL_74d8da593d0e41f9a97bb8299f4cb1c7",
        "IPY_MODEL_4c163acaf63b492c9952153367afefde",
        "IPY_MODEL_53ad11a90dca49bb85644229c93c6f79",
        "IPY_MODEL_ae456f6d35884b4e8fc175b6f0bcb78a",
        "IPY_MODEL_82630a6b049d49868f4d4daa807f8038",
        "IPY_MODEL_6616e52e560e4de1bdb7fcfbaac37a16",
        "IPY_MODEL_2b39614153364b4fa8c543d6c4dc8a32",
        "IPY_MODEL_0717325a31be4707ac56bd8538bb9fb1",
        "IPY_MODEL_6575b7f7d6d447778c050cfd5a94c7df",
        "IPY_MODEL_1307de4923164f59bdb6a2afea21fe40",
        "IPY_MODEL_33fbf1877f2d4a1c8ca25fb0a8a00c3c",
        "IPY_MODEL_4e8cbb3390d84ffa8eac854b62a849ca",
        "IPY_MODEL_018fd7249a8f47a3a825d8b09f996733",
        "IPY_MODEL_01ce9088bc94478fb9cf81169647d469",
        "IPY_MODEL_b9bda75c04c04ae4b23c7952c91764ae",
        "IPY_MODEL_8ddfe7a1af5b41ce934edf1d78c81359",
        "IPY_MODEL_19b2a57e5dfb47b3a9e62208083535ba",
        "IPY_MODEL_e048ce39991441fab17c7a66e7d06adc",
        "IPY_MODEL_f4f5370a5cb54ee68c69f54f83d72f58",
        "IPY_MODEL_52d71b8370d347ecaf2e1e499270f23e",
        "IPY_MODEL_e4f5821371ae4275b8223703712bfa31",
        "IPY_MODEL_b7098221b13942ebbf7e2d4b21bb463e",
        "IPY_MODEL_e8646df033dd420eb77c953204700233",
        "IPY_MODEL_b91fd7a4910c4347a9921bdec3a01f19",
        "IPY_MODEL_681e572c2f80434c998d98dd72226b31",
        "IPY_MODEL_b2664b0e7e544a9bbfbf08f18fd792e7",
        "IPY_MODEL_54c9290f808c42f09815223f598d974d",
        "IPY_MODEL_e2d3826c884348b4865101d654f4e5a9",
        "IPY_MODEL_7c1d7631dc6e4378adea6fca67e9e3c8",
        "IPY_MODEL_98b62e0f8f154c5da6b79a3e9c05b4b5",
        "IPY_MODEL_9d9468fe2c4b453c98dabc1aa56e53b8",
        "IPY_MODEL_fb68e708f0dd49b7b936b26dbaac0dc5",
        "IPY_MODEL_4018268a78284667ad94f8a3519db510",
        "IPY_MODEL_c138dc7c59664a75b6d24cb705976399",
        "IPY_MODEL_6b39193772fe414cbd04a9264a8f7340",
        "IPY_MODEL_53b3b28d50084b9e8306f03cb136bbbc",
        "IPY_MODEL_f8fc6f66b46d421caf495a950c9ac8c0",
        "IPY_MODEL_b5f60db4adde4adb8516528de9c1fa82",
        "IPY_MODEL_0b6eed758412465cb39ca884466acee3",
        "IPY_MODEL_e24a5c288ee84cd28bf3d9fdead9f45a",
        "IPY_MODEL_92f40683fdbc4c19a3f6ad63bb8f5c67",
        "IPY_MODEL_c6ef74ca57b348d1b30adbee27c1bf8b",
        "IPY_MODEL_e5023e2ca8cb4346a5ca8d85051d75f3",
        "IPY_MODEL_a3bca683b8474c1dbca3aa1187367296",
        "IPY_MODEL_2b4024605739491795e0758aab6dba7f",
        "IPY_MODEL_99c84df26cb5446baebd475593442650",
        "IPY_MODEL_9f2d530eee774d828ad9121c696f5d3b",
        "IPY_MODEL_e177c0f949794730a066b01d9f28dadf",
        "IPY_MODEL_75829af17a46468b84d70dfe844941e5",
        "IPY_MODEL_07bd23ee1cd245258be30eca67460715",
        "IPY_MODEL_24760cc6698144b4a6abe55a9c043807",
        "IPY_MODEL_e1bb8be7d328428d9a1074c6352f3d78",
        "IPY_MODEL_09160b97ddea4ba5be2098d79a653a6d",
        "IPY_MODEL_c2bbeff747fd4fe0b773ffa9cef3f445",
        "IPY_MODEL_97939abee87f4472b36c94bdada2f32c",
        "IPY_MODEL_c8b792986a1d42b9aa42bc9c9957a50b",
        "IPY_MODEL_cec9b450c220488b9977cfcc8e372df2",
        "IPY_MODEL_9c52a15108bb443c95c26e50da9946a8",
        "IPY_MODEL_fa7e8a97caf34064a8997669bf3c4c32",
        "IPY_MODEL_01ff3d5b81c6464ba7b68fc5e3bf128d",
        "IPY_MODEL_f43a24d9c5df475c855779ad71780c88",
        "IPY_MODEL_5e3a606fa76044caa01faffe6f138093",
        "IPY_MODEL_1bb3a46cc6a64a54b3c44052afafb8c4",
        "IPY_MODEL_b111eb37be0a42c6bbb5026346e991f8",
        "IPY_MODEL_ec363918c224435c876c7aacadb41391",
        "IPY_MODEL_dcbe2f45cf5d419ca5ae6c3cb0ede6e4",
        "IPY_MODEL_0b50ab2723c24f24827abbd466f4980e",
        "IPY_MODEL_7ad3603537374b8485fdf67e62f7633d",
        "IPY_MODEL_17a41e726ecb47228155e743d3a54c5b",
        "IPY_MODEL_058eb993e8744c28b5d987a192d3a678",
        "IPY_MODEL_bd0783ecfffc4e1590695538ebceff34",
        "IPY_MODEL_16c8466baba54a8991037aed7c860e36",
        "IPY_MODEL_614d18f582324610998373cdb6311423",
        "IPY_MODEL_b25d782555e04ecda7a9eb02a0e7cbba",
        "IPY_MODEL_868c8282694149489fe7b75acb509b1b",
        "IPY_MODEL_fd6abaeb3d654ec3a7a991c616cb9943",
        "IPY_MODEL_c57aa605ac864178a762587f8cb3ebb1",
        "IPY_MODEL_e4039d28b7204b5589a38376ef484985",
        "IPY_MODEL_c5bf69d7882c4eab9ea8480f27e2b5b5",
        "IPY_MODEL_30496258fb9d417c832078dc6c27d2da",
        "IPY_MODEL_4ddaf29378e24f64a57b781bbf638e83",
        "IPY_MODEL_00e55306363345c9866cd0c004ccedea",
        "IPY_MODEL_fd25548dd404434ca5081061d482d4a3",
        "IPY_MODEL_b28098dd67824808a9519c34dda10bcb",
        "IPY_MODEL_5496f6b2107640d49a31fc2f60f1ced2",
        "IPY_MODEL_cde70cef5e7d406398d364dc00389868",
        "IPY_MODEL_3d54fb3365df4d088c045886709e7f34",
        "IPY_MODEL_c812d369239d402a81dc8a7914f10273",
        "IPY_MODEL_39ca287af4714a9f97a126dc459f20ef",
        "IPY_MODEL_fadc62533160469684ccec6cdcd1e9a7",
        "IPY_MODEL_5716cbfa2b5e4679a251169777b0225a",
        "IPY_MODEL_a777dd22b8624af5bc7a3976cc9e411e",
        "IPY_MODEL_c774736454074dd1956787d82f8fe0b0",
        "IPY_MODEL_f9d1128c5ba142fca680a689da2b4a34",
        "IPY_MODEL_4a51be1fa01c4b44b9623b2f193bfd4b",
        "IPY_MODEL_f7b7c0ab01ac4431bc71c4678163916a",
        "IPY_MODEL_ca30d888ad3b40d7b00991153de76e92",
        "IPY_MODEL_52b1f589174b4a9181f28408c1f7eda3",
        "IPY_MODEL_185cb42143b14adfb10b5bb48f45536f",
        "IPY_MODEL_95736574dd6b40debfb55a2a5eabd428",
        "IPY_MODEL_0d93681f790f4513bb5c95c5d36fa667"
       ],
       "layout": "IPY_MODEL_a79a66a57ba64f359e79a098807df381"
      }
     },
     "59f2ff6834e04af3b3257cb4e0b9deae": {
      "model_module": "@jupyter-widgets/controls",
      "model_module_version": "1.5.0",
      "model_name": "DescriptionStyleModel",
      "state": {
       "description_width": ""
      }
     },
     "5a19dd1a5cf34b1f9115caaab5d3f50b": {
      "model_module": "@jupyter-widgets/base",
      "model_module_version": "1.2.0",
      "model_name": "LayoutModel",
      "state": {
       "grid_area": "widget041",
       "height": "22px",
       "width": "42px"
      }
     },
     "5a207b912a514cc1939d75459c9c4a5b": {
      "model_module": "@jupyter-widgets/controls",
      "model_module_version": "1.5.0",
      "model_name": "HTMLModel",
      "state": {
       "layout": "IPY_MODEL_22aef7a9e81f4a2799690b99a77018b9",
       "style": "IPY_MODEL_da55860032114e0fa73a66d138d22352",
       "value": " 178/178 [00:41&lt;00:00,  5.09it/s]"
      }
     },
     "5a92e7c2d0d948c393e950d6fee41942": {
      "model_module": "@jupyter-widgets/controls",
      "model_module_version": "1.5.0",
      "model_name": "DescriptionStyleModel",
      "state": {
       "description_width": ""
      }
     },
     "5aa9bbf9717244f1a469662bc38ed286": {
      "model_module": "@jupyter-widgets/base",
      "model_module_version": "1.2.0",
      "model_name": "LayoutModel",
      "state": {
       "grid_area": "widget003",
       "height": "22px",
       "width": "42px"
      }
     },
     "5be3cdc0382b438baad5d3304073174c": {
      "model_module": "@jupyter-widgets/controls",
      "model_module_version": "1.5.0",
      "model_name": "DescriptionStyleModel",
      "state": {
       "description_width": ""
      }
     },
     "5c3275523029482da793c205070e2e80": {
      "model_module": "@jupyter-widgets/base",
      "model_module_version": "1.2.0",
      "model_name": "LayoutModel",
      "state": {
       "grid_area": "widget091",
       "height": "22px",
       "width": "42px"
      }
     },
     "5dcda447f7a94723928c667ae21f3fbb": {
      "model_module": "@jupyter-widgets/controls",
      "model_module_version": "1.5.0",
      "model_name": "DescriptionStyleModel",
      "state": {
       "description_width": ""
      }
     },
     "5e3a606fa76044caa01faffe6f138093": {
      "model_module": "@jupyter-widgets/controls",
      "model_module_version": "1.5.0",
      "model_name": "ToggleButtonModel",
      "state": {
       "description": "Au",
       "layout": "IPY_MODEL_8abeb176a49b405088ef7fa109027f56",
       "style": "IPY_MODEL_46f17fd83d9f4c87b5b5224ee0e37555"
      }
     },
     "5ed9ff33afec4f9ea2f3b2029e3a3b5e": {
      "model_module": "@jupyter-widgets/base",
      "model_module_version": "1.2.0",
      "model_name": "LayoutModel",
      "state": {
       "grid_area": "widget089",
       "height": "22px",
       "width": "42px"
      }
     },
     "5f2cc5330a2a4c518f27b2a61544b7fe": {
      "model_module": "@jupyter-widgets/base",
      "model_module_version": "1.2.0",
      "model_name": "LayoutModel",
      "state": {
       "grid_area": "widget010",
       "height": "22px",
       "width": "42px"
      }
     },
     "614d18f582324610998373cdb6311423": {
      "model_module": "@jupyter-widgets/controls",
      "model_module_version": "1.5.0",
      "model_name": "ToggleButtonModel",
      "state": {
       "description": "Th",
       "layout": "IPY_MODEL_bdc8782834e84ed2ab897d2cff0970ff",
       "style": "IPY_MODEL_3a03dc0009fb477f8c038ea08cfd0f4e"
      }
     },
     "632932a32cb640cf8e174aac0c9a1d60": {
      "model_module": "@jupyter-widgets/controls",
      "model_module_version": "1.5.0",
      "model_name": "DescriptionStyleModel",
      "state": {
       "description_width": ""
      }
     },
     "6464ab32b830460c98a4f6cdf8f3918a": {
      "model_module": "@jupyter-widgets/base",
      "model_module_version": "1.2.0",
      "model_name": "LayoutModel",
      "state": {
       "grid_area": "widget071",
       "height": "22px",
       "width": "42px"
      }
     },
     "6575b7f7d6d447778c050cfd5a94c7df": {
      "model_module": "@jupyter-widgets/controls",
      "model_module_version": "1.5.0",
      "model_name": "ToggleButtonModel",
      "state": {
       "description": "Fe",
       "icon": "check",
       "layout": "IPY_MODEL_224b7c31c6f2483a8e87bdbe6958462a",
       "style": "IPY_MODEL_bda1d42b7a104070903ca4d11ba634cf",
       "value": true
      }
     },
     "65db35f98e954e6e86e1ede315ed6793": {
      "model_module": "@jupyter-widgets/controls",
      "model_module_version": "1.5.0",
      "model_name": "DescriptionStyleModel",
      "state": {
       "description_width": ""
      }
     },
     "6616e52e560e4de1bdb7fcfbaac37a16": {
      "model_module": "@jupyter-widgets/controls",
      "model_module_version": "1.5.0",
      "model_name": "ToggleButtonModel",
      "state": {
       "description": "V",
       "layout": "IPY_MODEL_f4901acd0e8e4a5bb5d39f07e951c458",
       "style": "IPY_MODEL_330b3b7ceac04426b296f912e0cccb2f"
      }
     },
     "6627a267f626467da0bed2c320e79f04": {
      "model_module": "@jupyter-widgets/controls",
      "model_module_version": "1.5.0",
      "model_name": "DescriptionStyleModel",
      "state": {
       "description_width": ""
      }
     },
     "6690898fccce48c1bbb356a56fe930ad": {
      "model_module": "@jupyter-widgets/base",
      "model_module_version": "1.2.0",
      "model_name": "LayoutModel",
      "state": {}
     },
     "6777cb7273534d4db05ab7413d992acb": {
      "model_module": "@jupyter-widgets/base",
      "model_module_version": "1.2.0",
      "model_name": "LayoutModel",
      "state": {}
     },
     "677dcad4d1e447ec8412bcbbb1a01c0c": {
      "model_module": "@jupyter-widgets/base",
      "model_module_version": "1.2.0",
      "model_name": "LayoutModel",
      "state": {
       "grid_area": "widget110",
       "height": "22px",
       "width": "42px"
      }
     },
     "6784a4bdae2942418164c2a89bb9e555": {
      "model_module": "@jupyter-widgets/controls",
      "model_module_version": "1.5.0",
      "model_name": "DescriptionStyleModel",
      "state": {
       "description_width": ""
      }
     },
     "681e572c2f80434c998d98dd72226b31": {
      "model_module": "@jupyter-widgets/controls",
      "model_module_version": "1.5.0",
      "model_name": "ToggleButtonModel",
      "state": {
       "description": "Mo",
       "layout": "IPY_MODEL_69b506b2b67c4c17b82dff8e502efe74",
       "style": "IPY_MODEL_6784a4bdae2942418164c2a89bb9e555"
      }
     },
     "68306663acfb41b797772260b9ef9e1f": {
      "model_module": "@jupyter-widgets/base",
      "model_module_version": "1.2.0",
      "model_name": "LayoutModel",
      "state": {
       "grid_area": "widget020",
       "height": "22px",
       "width": "42px"
      }
     },
     "68bd88b923504d3b84d38d851e56a63a": {
      "model_module": "@jupyter-widgets/base",
      "model_module_version": "1.2.0",
      "model_name": "LayoutModel",
      "state": {
       "grid_area": "widget086",
       "height": "22px",
       "width": "42px"
      }
     },
     "69b506b2b67c4c17b82dff8e502efe74": {
      "model_module": "@jupyter-widgets/base",
      "model_module_version": "1.2.0",
      "model_name": "LayoutModel",
      "state": {
       "grid_area": "widget042",
       "height": "22px",
       "width": "42px"
      }
     },
     "6aee4742065843d6ab66c1b74f9887ec": {
      "model_module": "@jupyter-widgets/controls",
      "model_module_version": "1.5.0",
      "model_name": "DescriptionStyleModel",
      "state": {
       "description_width": ""
      }
     },
     "6b39193772fe414cbd04a9264a8f7340": {
      "model_module": "@jupyter-widgets/controls",
      "model_module_version": "1.5.0",
      "model_name": "ToggleButtonModel",
      "state": {
       "description": "Te",
       "layout": "IPY_MODEL_76470ae6f8034f9b8da0ac37534ab87c",
       "style": "IPY_MODEL_ed227803d23c436e89d75bd6749da2a4"
      }
     },
     "6ddf45c6e5c24e958bf5228ef86b4669": {
      "model_module": "@jupyter-widgets/controls",
      "model_module_version": "1.5.0",
      "model_name": "ToggleButtonModel",
      "state": {
       "description": "Li",
       "layout": "IPY_MODEL_5aa9bbf9717244f1a469662bc38ed286",
       "style": "IPY_MODEL_eab221ec8350451d9c93f17566b6c76b"
      }
     },
     "6e4f4db4df7d4e519484af51675a0602": {
      "model_module": "@jupyter-widgets/base",
      "model_module_version": "1.2.0",
      "model_name": "LayoutModel",
      "state": {
       "grid_area": "widget055",
       "height": "22px",
       "width": "42px"
      }
     },
     "6e72aa0362944b34b7373a50250b5dbc": {
      "model_module": "@jupyter-widgets/base",
      "model_module_version": "1.2.0",
      "model_name": "LayoutModel",
      "state": {
       "height": "350px",
       "width": "400px"
      }
     },
     "6f331cc845d3426491b76fe34b6679ec": {
      "model_module": "@jupyter-widgets/base",
      "model_module_version": "1.2.0",
      "model_name": "LayoutModel",
      "state": {
       "grid_area": "widget011",
       "height": "22px",
       "width": "42px"
      }
     },
     "7071acc849fc47b3a7733439f290f73a": {
      "model_module": "@jupyter-widgets/base",
      "model_module_version": "1.2.0",
      "model_name": "LayoutModel",
      "state": {
       "grid_area": "widget099",
       "height": "22px",
       "width": "42px"
      }
     },
     "71e39a760756483aac783c8b2faba931": {
      "model_module": "@jupyter-widgets/controls",
      "model_module_version": "1.5.0",
      "model_name": "DescriptionStyleModel",
      "state": {
       "description_width": ""
      }
     },
     "7297905412fd45b696064c278604986d": {
      "model_module": "@jupyter-widgets/controls",
      "model_module_version": "1.5.0",
      "model_name": "ToggleButtonModel",
      "state": {
       "description": "B",
       "layout": "IPY_MODEL_54c6f666e54d4bcf9d2eb9e0442a4865",
       "style": "IPY_MODEL_3d25dc82c7bb4ca3b37dcd73bd92e416"
      }
     },
     "73b83b15fbce43d58ac384a9ded466b0": {
      "model_module": "@jupyter-widgets/controls",
      "model_module_version": "1.5.0",
      "model_name": "DescriptionStyleModel",
      "state": {
       "description_width": ""
      }
     },
     "743b7e5613c74ebebbef3d7bad95be6b": {
      "model_module": "@jupyter-widgets/controls",
      "model_module_version": "1.5.0",
      "model_name": "DescriptionStyleModel",
      "state": {
       "description_width": ""
      }
     },
     "748d4c03b58743b994e02529ed7c7ccd": {
      "model_module": "@jupyter-widgets/base",
      "model_module_version": "1.2.0",
      "model_name": "LayoutModel",
      "state": {
       "grid_area": "widget093",
       "height": "22px",
       "width": "42px"
      }
     },
     "74d8da593d0e41f9a97bb8299f4cb1c7": {
      "model_module": "@jupyter-widgets/controls",
      "model_module_version": "1.5.0",
      "model_name": "ToggleButtonModel",
      "state": {
       "description": "Ar",
       "layout": "IPY_MODEL_e43dda6fc2c14c2592871e710ddcc055",
       "style": "IPY_MODEL_3237310914034953beed6b586ffc7e12"
      }
     },
     "74dee411b60b4e498e0e317898b84e0f": {
      "model_module": "@jupyter-widgets/controls",
      "model_module_version": "1.5.0",
      "model_name": "DescriptionStyleModel",
      "state": {
       "description_width": ""
      }
     },
     "75829af17a46468b84d70dfe844941e5": {
      "model_module": "@jupyter-widgets/controls",
      "model_module_version": "1.5.0",
      "model_name": "ToggleButtonModel",
      "state": {
       "description": "Dy",
       "layout": "IPY_MODEL_ce0f520bf7f6489da7f521602e629f64",
       "style": "IPY_MODEL_9ed9e77f3ae7475b8d22b812c18592a4"
      }
     },
     "76470ae6f8034f9b8da0ac37534ab87c": {
      "model_module": "@jupyter-widgets/base",
      "model_module_version": "1.2.0",
      "model_name": "LayoutModel",
      "state": {
       "grid_area": "widget052",
       "height": "22px",
       "width": "42px"
      }
     },
     "7925b3e1403e4ddcb8c09c37e6cc91e3": {
      "model_module": "jupyterlab-plotly",
      "model_module_version": "^5.11.0",
      "model_name": "FigureModel",
      "state": {
       "_config": {
        "editSelection": false,
        "plotlyServerURL": "https://plot.ly"
       },
       "_data": [
        {
         "hoverinfo": "none",
         "line": {
          "width": 7
         },
         "marker": {
          "size": 4
         },
         "mode": "lines",
         "showlegend": false,
         "type": "scatter3d",
         "uid": "51b6127e-64d4-4264-9794-724e090d7eb2",
         "x": [
          0.5773502691896257,
          0,
          null,
          0,
          0,
          null,
          0.5773502691896257,
          0,
          null,
          0.5773502691896257,
          0.8660254037844386,
          null,
          0.5196152422706631,
          0.8660254037844386,
          null,
          0.5773502691896257,
          0.5196152422706631,
          null,
          0.5196152422706631,
          0,
          null,
          0.5773502691896257,
          0.5196152422706631,
          null,
          0.5196152422706631,
          0,
          null,
          0.5196152422706631,
          0.5196152422706631,
          null
         ],
         "y": [
          0.6666666666666666,
          0,
          null,
          1,
          0,
          null,
          0.6666666666666666,
          1,
          null,
          0.6666666666666666,
          0.5,
          null,
          0.3,
          0.5,
          null,
          0.6666666666666666,
          0.3,
          null,
          0.3,
          0,
          null,
          0.6666666666666666,
          0.5,
          null,
          0.5,
          0,
          null,
          0.5,
          0.3,
          null
         ],
         "z": [
          -1.3004745458290838,
          0,
          null,
          0,
          0,
          null,
          -1.3004745458290838,
          0,
          null,
          -1.3004745458290838,
          0,
          null,
          -0.3213647525798294,
          0,
          null,
          -1.3004745458290838,
          -0.3213647525798294,
          null,
          -0.3213647525798294,
          0,
          null,
          -1.3004745458290838,
          -0.8949726586069489,
          null,
          -0.8949726586069489,
          0,
          null,
          -0.8949726586069489,
          -0.3213647525798294,
          null
         ]
        },
        {
         "hoverinfo": "none",
         "line": {
          "dash": "solid",
          "width": 1
         },
         "marker": {
          "size": 4
         },
         "mode": "lines",
         "showlegend": false,
         "type": "scatter3d",
         "uid": "6df593c1-2388-4442-876d-5a937cca6fe3",
         "x": [
          0.8660254037844386,
          0,
          null,
          0.8660254037844386,
          0,
          null,
          0.8660254037844386,
          0,
          null,
          0.8660254037844386,
          0,
          null,
          0,
          0,
          null,
          0,
          0,
          null,
          0.8660254037844386,
          0.8660254037844386,
          null,
          0,
          0,
          null,
          0,
          0,
          null
         ],
         "y": [
          0.5,
          1,
          null,
          0.5,
          1,
          null,
          0.5,
          0,
          null,
          0.5,
          0,
          null,
          1,
          0,
          null,
          1,
          0,
          null,
          0.5,
          0.5,
          null,
          1,
          1,
          null,
          0,
          0,
          null
         ],
         "z": [
          0,
          0,
          null,
          -1.3004745458290838,
          -1.3004745458290838,
          null,
          0,
          0,
          null,
          -1.3004745458290838,
          -1.3004745458290838,
          null,
          0,
          0,
          null,
          -1.3004745458290838,
          -1.3004745458290838,
          null,
          0,
          -1.3004745458290838,
          null,
          0,
          -1.3004745458290838,
          null,
          0,
          -1.3004745458290838,
          null
         ]
        },
        {
         "colorbar": {
          "len": 0.75,
          "title": {
           "text": "Formation energy<br>(eV/atom)"
          },
          "x": 0.9
         },
         "colorscale": [
          [
           0,
           "#0c8c00"
          ],
          [
           0.5,
           "#d8ffd4"
          ],
          [
           1,
           "#ffffff"
          ]
         ],
         "flatshading": true,
         "hoverinfo": "none",
         "i": [
          27,
          0,
          5,
          0,
          5
         ],
         "intensity": [
          -1.3004745458290838,
          -0.5671088362314306,
          -0.06657859930483905,
          -0.8949726586069489,
          -0.8640368564904483,
          -0.3213647525798294,
          -0.5171453309569172,
          -0.8034407555567679,
          -0.9082800639735596,
          -0.2367954251657421,
          -0.11063849685356075,
          -0.16744709189603077,
          -0.19941720997047258,
          -0.046404848115228485,
          -0.023314731490655067,
          -0.03789503591389204,
          -0.025900514181373818,
          -0.09967710032211906,
          -0.00983821432948113,
          -0.03796739252728441,
          -0.208536655294543,
          -0.2067348666236543,
          -0.04880135277421547,
          -0.21915187027556757,
          -0.27541849342392155,
          0,
          0,
          0
         ],
         "j": [
          0,
          5,
          3,
          3,
          3
         ],
         "k": [
          26,
          25,
          27,
          27,
          0
         ],
         "lighting": {
          "ambient": 1,
          "diffuse": 0
         },
         "name": "Convex Hull (shading)",
         "opacity": 0.8,
         "showlegend": true,
         "type": "mesh3d",
         "uid": "28f7937a-3f75-4d11-b3ac-d86ffa0c6c32",
         "x": [
          0.5773502691896257,
          0.3711537444790451,
          0.5773502691896257,
          0.5196152422706631,
          0.5773502691896257,
          0.5196152422706631,
          0.5412658773652741,
          0.5511070751355518,
          0.5567306167185677,
          0.49487165930539345,
          0.4811252243246881,
          0.5051814855409226,
          0.532938710021193,
          0.4618802153517006,
          0.4871392896287467,
          0.458484037297644,
          0.45580284409707295,
          0.511742284054441,
          0.45363235436327737,
          0.4639421805988064,
          0.5228832626623026,
          0.5038693258382188,
          0.48618970037021114,
          0.4999734289889542,
          0.5179965031981688,
          0.8660254037844386,
          0,
          0
         ],
         "y": [
          0.6666666666666666,
          0.7857142857142857,
          0.3333333333333333,
          0.5,
          0.5555555555555556,
          0.3,
          0.4375,
          0.5,
          0.5357142857142857,
          0.2857142857142857,
          0.2777777777777778,
          0.2916666666666667,
          0.3076923076923077,
          0.26666666666666666,
          0.28125,
          0.2647058823529412,
          0.2631578947368421,
          0.29545454545454547,
          0.2619047619047619,
          0.26785714285714285,
          0.3018867924528302,
          0.2909090909090909,
          0.2807017543859649,
          0.28865979381443296,
          0.29906542056074764,
          0.5,
          1,
          0
         ],
         "z": [
          -1.3004745458290838,
          -0.5671088362314306,
          -0.06657859930483905,
          -0.8949726586069489,
          -0.8640368564904483,
          -0.3213647525798294,
          -0.5171453309569172,
          -0.8034407555567679,
          -0.9082800639735596,
          -0.2367954251657421,
          -0.11063849685356075,
          -0.16744709189603077,
          -0.19941720997047258,
          -0.046404848115228485,
          -0.023314731490655067,
          -0.03789503591389204,
          -0.025900514181373818,
          -0.09967710032211906,
          -0.00983821432948113,
          -0.03796739252728441,
          -0.208536655294543,
          -0.2067348666236543,
          -0.04880135277421547,
          -0.21915187027556757,
          -0.27541849342392155,
          0,
          0,
          0
         ]
        },
        {
         "hoverinfo": "skip",
         "marker": {
          "size": 4
         },
         "mode": "text",
         "name": "Labels (stable)",
         "opacity": 1,
         "showlegend": true,
         "text": [
          "CO<sub>2</sub>",
          "Fe<sub>2</sub>O<sub>3</sub>",
          "FeCO<sub>3</sub>"
         ],
         "textposition": [
          "middle center",
          "middle center",
          "middle center"
         ],
         "type": "scatter3d",
         "uid": "0cc2b7e7-c144-4fb8-8e7f-a49e86c5f975",
         "visible": true,
         "x": [
          0.5673502691896257,
          0.5096152422706631,
          0.5096152422706631
         ],
         "y": [
          0.6766666666666666,
          0.29,
          0.49
         ],
         "z": [
          -1.1704270912461754,
          -0.191317297996921,
          -0.7649252040240404
         ]
        },
        {
         "hoverinfo": "text",
         "hoverlabel": {
          "font": {
           "size": 14
          }
         },
         "hovertext": [
          "O<sub>2</sub> (11) <br> 0.144 eV/atom (+0.144 eV/atom)",
          "O<sub>2</sub> (42) <br> 0.164 eV/atom (+0.164 eV/atom)",
          "O<sub>2</sub> (43) <br> 0.006 eV/atom (+0.006 eV/atom)",
          "O<sub>2</sub> (46) <br> 0.007 eV/atom (+0.007 eV/atom)",
          "O<sub>2</sub> (108) <br> 0.172 eV/atom (+0.172 eV/atom)",
          "O<sub>2</sub> (115) <br> 0.037 eV/atom (+0.037 eV/atom)",
          "O<sub>2</sub> (116) <br> 0.03 eV/atom (+0.03 eV/atom)",
          "O<sub>2</sub> (126) <br> 0.182 eV/atom (+0.182 eV/atom)",
          "C (1) <br> 0.189 eV/atom (+0.189 eV/atom)",
          "C (2) <br> 0.041 eV/atom (+0.041 eV/atom)",
          "C (3) <br> 0.183 eV/atom (+0.183 eV/atom)",
          "C (6) <br> 0.016 eV/atom (+0.016 eV/atom)",
          "C (34) <br> 0.017 eV/atom (+0.017 eV/atom)",
          "C (35) <br> 0.023 eV/atom (+0.023 eV/atom)",
          "C (36) <br> 0.004 eV/atom (+0.004 eV/atom)",
          "C (37) <br> 0.056 eV/atom (+0.056 eV/atom)",
          "C (38) <br> 0.025 eV/atom (+0.025 eV/atom)",
          "C (39) <br> 0.187 eV/atom (+0.187 eV/atom)",
          "C (40) <br> 0.186 eV/atom (+0.186 eV/atom)",
          "C (41) <br> 0.03 eV/atom (+0.03 eV/atom)",
          "C (44) <br> 0.187 eV/atom (+0.187 eV/atom)",
          "C (45) <br> 0.186 eV/atom (+0.186 eV/atom)",
          "C (49) <br> 0.185 eV/atom (+0.185 eV/atom)",
          "C (99) <br> 0.013 eV/atom (+0.013 eV/atom)",
          "C (100) <br> 0.052 eV/atom (+0.052 eV/atom)",
          "C (101) <br> 0.055 eV/atom (+0.055 eV/atom)",
          "C (103) <br> 0.055 eV/atom (+0.055 eV/atom)",
          "C (106) <br> 0.055 eV/atom (+0.055 eV/atom)",
          "C (113) <br> 0.266 eV/atom (+0.266 eV/atom)",
          "C (114) <br> 0.366 eV/atom (+0.366 eV/atom)",
          "C (118) <br> 0.17 eV/atom (+0.17 eV/atom)",
          "C (141) <br> 0.36 eV/atom (+0.36 eV/atom)",
          "CO<sub>2</sub> (10) <br> -1.289 eV/atom (+0.012 eV/atom)",
          "CO<sub>2</sub> (32) <br> -1.277 eV/atom (+0.024 eV/atom)",
          "CO<sub>2</sub> (51) <br> -1.281 eV/atom (+0.02 eV/atom)",
          "CO<sub>2</sub> (102) <br> -0.966 eV/atom (+0.335 eV/atom)",
          "CO<sub>2</sub> (110) <br> -1.262 eV/atom (+0.038 eV/atom)",
          "CO<sub>2</sub> (120) <br> -1.283 eV/atom (+0.017 eV/atom)",
          "CO<sub>2</sub> (134) <br> -1.264 eV/atom (+0.037 eV/atom)",
          "CO<sub>2</sub> (142) <br> -1.284 eV/atom (+0.017 eV/atom)",
          "C<sub>4</sub>O<sub>3</sub> (104) <br> -0.567 eV/atom (+0.269 eV/atom)",
          "Fe (4) <br> 0.097 eV/atom (+0.097 eV/atom)",
          "Fe (5) <br> 0.191 eV/atom (+0.191 eV/atom)",
          "Fe (145) <br> 0.207 eV/atom (+0.207 eV/atom)",
          "Fe (160) <br> 0.226 eV/atom (+0.226 eV/atom)",
          "Fe (161) <br> 0.139 eV/atom (+0.139 eV/atom)",
          "Fe (162) <br> 0.025 eV/atom (+0.025 eV/atom)",
          "Fe (163) <br> 0.111 eV/atom (+0.111 eV/atom)",
          "FeO (68) <br> 0.095 eV/atom (+0.363 eV/atom)",
          "FeO (79) <br> 0.133 eV/atom (+0.401 eV/atom)",
          "FeO (80) <br> 0.155 eV/atom (+0.423 eV/atom)",
          "FeO (81) <br> 0.154 eV/atom (+0.422 eV/atom)",
          "FeO (96) <br> 0.158 eV/atom (+0.426 eV/atom)",
          "FeO (123) <br> 0.104 eV/atom (+0.371 eV/atom)",
          "FeO (124) <br> 0.164 eV/atom (+0.432 eV/atom)",
          "FeO (158) <br> 0.307 eV/atom (+0.575 eV/atom)",
          "FeO (165) <br> 0.104 eV/atom (+0.372 eV/atom)",
          "FeO (166) <br> 0.093 eV/atom (+0.36 eV/atom)",
          "FeO<sub>2</sub> (20) <br> 0.053 eV/atom (+0.321 eV/atom)",
          "FeO<sub>2</sub> (21) <br> -0.053 eV/atom (+0.215 eV/atom)",
          "FeO<sub>2</sub> (67) <br> 0.054 eV/atom (+0.321 eV/atom)",
          "FeO<sub>2</sub> (97) <br> -0.067 eV/atom (+0.201 eV/atom)",
          "FeO<sub>2</sub> (107) <br> 0.039 eV/atom (+0.307 eV/atom)",
          "FeO<sub>2</sub> (119) <br> 0.06 eV/atom (+0.327 eV/atom)",
          "FeO<sub>2</sub> (122) <br> -0.013 eV/atom (+0.255 eV/atom)",
          "FeO<sub>2</sub> (131) <br> -0.041 eV/atom (+0.227 eV/atom)",
          "FeO<sub>2</sub> (149) <br> -0.036 eV/atom (+0.232 eV/atom)",
          "FeO<sub>2</sub> (152) <br> 0.058 eV/atom (+0.325 eV/atom)",
          "FeO<sub>2</sub> (170) <br> 0.06 eV/atom (+0.328 eV/atom)",
          "FeO<sub>2</sub> (173) <br> 0.051 eV/atom (+0.319 eV/atom)",
          "FeO<sub>2</sub> (175) <br> -0.041 eV/atom (+0.227 eV/atom)",
          "FeO<sub>2</sub> (176) <br> 0.048 eV/atom (+0.316 eV/atom)",
          "FeO<sub>2</sub> (177) <br> 0.056 eV/atom (+0.324 eV/atom)",
          "Fe(CO<sub>3</sub>)<sub>2</sub> (78) <br> -0.863 eV/atom (+0.093 eV/atom)",
          "Fe(CO<sub>3</sub>)<sub>2</sub> (167) <br> -0.864 eV/atom (+0.092 eV/atom)",
          "Fe<sub>2</sub>O<sub>3</sub> (7) <br> -0.279 eV/atom (+0.042 eV/atom)",
          "Fe<sub>2</sub>O<sub>3</sub> (17) <br> -0.309 eV/atom (+0.012 eV/atom)",
          "Fe<sub>2</sub>O<sub>3</sub> (25) <br> -0.265 eV/atom (+0.056 eV/atom)",
          "Fe<sub>2</sub>O<sub>3</sub> (31) <br> -0.282 eV/atom (+0.039 eV/atom)",
          "Fe<sub>2</sub>O<sub>3</sub> (54) <br> -0.264 eV/atom (+0.058 eV/atom)",
          "Fe<sub>2</sub>O<sub>3</sub> (59) <br> -0.243 eV/atom (+0.078 eV/atom)",
          "Fe<sub>2</sub>O<sub>3</sub> (70) <br> -0.263 eV/atom (+0.058 eV/atom)",
          "Fe<sub>2</sub>O<sub>3</sub> (74) <br> -0.316 eV/atom (+0.005 eV/atom)",
          "Fe<sub>2</sub>O<sub>3</sub> (95) <br> -0.274 eV/atom (+0.048 eV/atom)",
          "Fe<sub>2</sub>O<sub>3</sub> (111) <br> -0.16 eV/atom (+0.162 eV/atom)",
          "Fe<sub>2</sub>O<sub>3</sub> (125) <br> -0.282 eV/atom (+0.04 eV/atom)",
          "Fe<sub>2</sub>O<sub>3</sub> (133) <br> -0.232 eV/atom (+0.089 eV/atom)",
          "Fe<sub>2</sub>O<sub>3</sub> (148) <br> -0.222 eV/atom (+0.099 eV/atom)",
          "Fe<sub>2</sub>O<sub>3</sub> (156) <br> -0.103 eV/atom (+0.218 eV/atom)",
          "Fe<sub>2</sub>O<sub>3</sub> (157) <br> -0.12 eV/atom (+0.202 eV/atom)",
          "Fe<sub>2</sub>O<sub>3</sub> (159) <br> -0.106 eV/atom (+0.216 eV/atom)",
          "Fe<sub>2</sub>O<sub>3</sub> (171) <br> -0.125 eV/atom (+0.196 eV/atom)",
          "Fe<sub>2</sub>C (8) <br> 0.079 eV/atom (+0.079 eV/atom)",
          "Fe<sub>2</sub>C (121) <br> 0.162 eV/atom (+0.162 eV/atom)",
          "Fe<sub>2</sub>CO<sub>5</sub> (147) <br> -0.517 eV/atom (+0.171 eV/atom)",
          "Fe<sub>2</sub>C<sub>2</sub>O<sub>7</sub> (77) <br> -0.801 eV/atom (+0.054 eV/atom)",
          "Fe<sub>2</sub>C<sub>2</sub>O<sub>7</sub> (84) <br> -0.796 eV/atom (+0.059 eV/atom)",
          "Fe<sub>2</sub>C<sub>2</sub>O<sub>7</sub> (86) <br> -0.789 eV/atom (+0.066 eV/atom)",
          "Fe<sub>2</sub>C<sub>2</sub>O<sub>7</sub> (88) <br> -0.803 eV/atom (+0.052 eV/atom)",
          "Fe<sub>2</sub>(CO<sub>3</sub>)<sub>3</sub> (85) <br> -0.908 eV/atom (+0.043 eV/atom)",
          "Fe<sub>3</sub>O<sub>4</sub> (14) <br> -0.175 eV/atom (+0.131 eV/atom)",
          "Fe<sub>3</sub>O<sub>4</sub> (16) <br> -0.206 eV/atom (+0.101 eV/atom)",
          "Fe<sub>3</sub>O<sub>4</sub> (22) <br> -0.22 eV/atom (+0.086 eV/atom)",
          "Fe<sub>3</sub>O<sub>4</sub> (24) <br> -0.108 eV/atom (+0.198 eV/atom)",
          "Fe<sub>3</sub>O<sub>4</sub> (26) <br> -0.209 eV/atom (+0.097 eV/atom)",
          "Fe<sub>3</sub>O<sub>4</sub> (47) <br> -0.102 eV/atom (+0.204 eV/atom)",
          "Fe<sub>3</sub>O<sub>4</sub> (53) <br> -0.22 eV/atom (+0.086 eV/atom)",
          "Fe<sub>3</sub>O<sub>4</sub> (56) <br> -0.131 eV/atom (+0.175 eV/atom)",
          "Fe<sub>3</sub>O<sub>4</sub> (69) <br> -0.17 eV/atom (+0.136 eV/atom)",
          "Fe<sub>3</sub>O<sub>4</sub> (72) <br> -0.173 eV/atom (+0.133 eV/atom)",
          "Fe<sub>3</sub>O<sub>4</sub> (73) <br> -0.21 eV/atom (+0.096 eV/atom)",
          "Fe<sub>3</sub>O<sub>4</sub> (75) <br> -0.21 eV/atom (+0.096 eV/atom)",
          "Fe<sub>3</sub>O<sub>4</sub> (76) <br> -0.211 eV/atom (+0.095 eV/atom)",
          "Fe<sub>3</sub>O<sub>4</sub> (127) <br> -0.153 eV/atom (+0.153 eV/atom)",
          "Fe<sub>3</sub>O<sub>4</sub> (128) <br> -0.214 eV/atom (+0.092 eV/atom)",
          "Fe<sub>3</sub>O<sub>4</sub> (129) <br> -0.145 eV/atom (+0.161 eV/atom)",
          "Fe<sub>3</sub>O<sub>4</sub> (130) <br> -0.237 eV/atom (+0.069 eV/atom)",
          "Fe<sub>3</sub>O<sub>4</sub> (132) <br> -0.232 eV/atom (+0.074 eV/atom)",
          "Fe<sub>3</sub>O<sub>4</sub> (135) <br> -0.231 eV/atom (+0.075 eV/atom)",
          "Fe<sub>3</sub>O<sub>4</sub> (136) <br> -0.226 eV/atom (+0.08 eV/atom)",
          "Fe<sub>3</sub>O<sub>4</sub> (139) <br> -0.223 eV/atom (+0.083 eV/atom)",
          "Fe<sub>3</sub>O<sub>4</sub> (143) <br> -0.174 eV/atom (+0.132 eV/atom)",
          "Fe<sub>3</sub>O<sub>4</sub> (164) <br> -0.222 eV/atom (+0.084 eV/atom)",
          "Fe<sub>3</sub>O<sub>4</sub> (168) <br> -0.218 eV/atom (+0.088 eV/atom)",
          "Fe<sub>3</sub>O<sub>4</sub> (169) <br> -0.219 eV/atom (+0.087 eV/atom)",
          "Fe<sub>3</sub>C (12) <br> 0.09 eV/atom (+0.09 eV/atom)",
          "Fe<sub>3</sub>C (27) <br> 0.069 eV/atom (+0.069 eV/atom)",
          "Fe<sub>3</sub>C (48) <br> 0.156 eV/atom (+0.156 eV/atom)",
          "Fe<sub>3</sub>C (138) <br> 0.243 eV/atom (+0.243 eV/atom)",
          "Fe<sub>3</sub>C (150) <br> 0.171 eV/atom (+0.171 eV/atom)",
          "Fe<sub>3</sub>C (151) <br> 0.158 eV/atom (+0.158 eV/atom)",
          "Fe<sub>4</sub>O<sub>5</sub> (140) <br> -0.111 eV/atom (+0.187 eV/atom)",
          "Fe<sub>4</sub>C (109) <br> 0.272 eV/atom (+0.272 eV/atom)",
          "Fe<sub>4</sub>C (112) <br> 0.116 eV/atom (+0.116 eV/atom)",
          "Fe<sub>5</sub>O<sub>7</sub> (117) <br> -0.167 eV/atom (+0.145 eV/atom)",
          "Fe<sub>5</sub>O<sub>7</sub> (172) <br> -0.111 eV/atom (+0.201 eV/atom)",
          "Fe<sub>5</sub>O<sub>8</sub> (28) <br> -0.199 eV/atom (+0.11 eV/atom)",
          "Fe<sub>5</sub>O<sub>8</sub> (154) <br> -0.186 eV/atom (+0.123 eV/atom)",
          "Fe<sub>5</sub>O<sub>8</sub> (155) <br> -0.188 eV/atom (+0.121 eV/atom)",
          "Fe<sub>5</sub>C<sub>2</sub> (9) <br> 0.055 eV/atom (+0.055 eV/atom)",
          "Fe<sub>5</sub>C<sub>2</sub> (52) <br> 0.057 eV/atom (+0.057 eV/atom)",
          "Fe<sub>7</sub>O<sub>8</sub> (23) <br> -0.046 eV/atom (+0.239 eV/atom)",
          "Fe<sub>7</sub>O<sub>8</sub> (71) <br> -0.045 eV/atom (+0.24 eV/atom)",
          "Fe<sub>7</sub>O<sub>9</sub> (63) <br> -0.023 eV/atom (+0.278 eV/atom)",
          "Fe<sub>7</sub>C<sub>3</sub> (13) <br> 0.113 eV/atom (+0.113 eV/atom)",
          "Fe<sub>7</sub>C<sub>3</sub> (19) <br> 0.083 eV/atom (+0.083 eV/atom)",
          "Fe<sub>8</sub>O<sub>9</sub> (64) <br> -0.038 eV/atom (+0.246 eV/atom)",
          "Fe<sub>8</sub>O<sub>9</sub> (90) <br> -0.019 eV/atom (+0.265 eV/atom)",
          "Fe<sub>8</sub>O<sub>17</sub> (137) <br> 0.07 eV/atom (+0.327 eV/atom)",
          "Fe<sub>9</sub>O<sub>10</sub> (87) <br> -0.026 eV/atom (+0.256 eV/atom)",
          "Fe<sub>9</sub>O<sub>13</sub> (174) <br> -0.1 eV/atom (+0.217 eV/atom)",
          "Fe<sub>10</sub>O<sub>11</sub> (62) <br> -0.01 eV/atom (+0.271 eV/atom)",
          "Fe<sub>10</sub>O<sub>11</sub> (89) <br> 0.01 eV/atom (+0.291 eV/atom)",
          "Fe<sub>11</sub>O<sub>12</sub> (57) <br> 0.003 eV/atom (+0.283 eV/atom)",
          "Fe<sub>12</sub>O<sub>13</sub> (91) <br> 0.024 eV/atom (+0.302 eV/atom)",
          "Fe<sub>13</sub>O<sub>14</sub> (55) <br> 0.026 eV/atom (+0.303 eV/atom)",
          "Fe<sub>13</sub>O<sub>15</sub> (82) <br> -0.038 eV/atom (+0.249 eV/atom)",
          "Fe<sub>14</sub>O<sub>15</sub> (92) <br> 0.033 eV/atom (+0.31 eV/atom)",
          "Fe<sub>15</sub>O<sub>16</sub> (60) <br> 0.052 eV/atom (+0.328 eV/atom)",
          "Fe<sub>15</sub>O<sub>16</sub> (153) <br> 0.07 eV/atom (+0.346 eV/atom)",
          "Fe<sub>17</sub>O<sub>18</sub> (58) <br> 0.037 eV/atom (+0.313 eV/atom)",
          "Fe<sub>21</sub>O<sub>23</sub> (66) <br> 0.002 eV/atom (+0.282 eV/atom)",
          "Fe<sub>21</sub>O<sub>32</sub> (29) <br> -0.209 eV/atom (+0.11 eV/atom)",
          "Fe<sub>23</sub>O<sub>25</sub> (61) <br> 0.015 eV/atom (+0.294 eV/atom)",
          "Fe<sub>23</sub>O<sub>32</sub> (93) <br> -0.142 eV/atom (+0.17 eV/atom)",
          "Fe<sub>23</sub>O<sub>32</sub> (94) <br> -0.207 eV/atom (+0.105 eV/atom)",
          "Fe<sub>23</sub>C<sub>6</sub> (144) <br> 0.047 eV/atom (+0.047 eV/atom)",
          "Fe<sub>25</sub>O<sub>32</sub> (146) <br> -0.049 eV/atom (+0.252 eV/atom)",
          "Fe<sub>32</sub>O<sub>35</sub> (98) <br> 0.007 eV/atom (+0.287 eV/atom)",
          "Fe<sub>38</sub>O<sub>39</sub> (65) <br> 0.085 eV/atom (+0.356 eV/atom)",
          "Fe<sub>41</sub>O<sub>56</sub> (83) <br> -0.219 eV/atom (+0.09 eV/atom)",
          "Fe<sub>43</sub>O<sub>64</sub> (30) <br> -0.275 eV/atom (+0.045 eV/atom)"
         ],
         "marker": {
          "color": [
           0.144,
           0.164,
           0.006,
           0.007,
           0.172,
           0.037,
           0.03,
           0.182,
           0.189,
           0.041,
           0.183,
           0.016,
           0.017,
           0.023,
           0.004,
           0.056,
           0.025,
           0.187,
           0.186,
           0.03,
           0.187,
           0.186,
           0.185,
           0.013,
           0.052,
           0.055,
           0.055,
           0.055,
           0.266,
           0.366,
           0.17,
           0.36,
           0.012,
           0.024,
           0.02,
           0.335,
           0.038,
           0.017,
           0.037,
           0.017,
           0.269,
           0.097,
           0.191,
           0.207,
           0.226,
           0.139,
           0.025,
           0.111,
           0.363,
           0.401,
           0.423,
           0.422,
           0.426,
           0.371,
           0.432,
           0.575,
           0.372,
           0.36,
           0.321,
           0.215,
           0.321,
           0.201,
           0.307,
           0.327,
           0.255,
           0.227,
           0.232,
           0.325,
           0.328,
           0.319,
           0.227,
           0.316,
           0.324,
           0.093,
           0.092,
           0.042,
           0.012,
           0.056,
           0.039,
           0.058,
           0.078,
           0.058,
           0.005,
           0.048,
           0.162,
           0.04,
           0.089,
           0.099,
           0.218,
           0.202,
           0.216,
           0.196,
           0.079,
           0.162,
           0.171,
           0.054,
           0.059,
           0.066,
           0.052,
           0.043,
           0.131,
           0.101,
           0.086,
           0.198,
           0.097,
           0.204,
           0.086,
           0.175,
           0.136,
           0.133,
           0.096,
           0.096,
           0.095,
           0.153,
           0.092,
           0.161,
           0.069,
           0.074,
           0.075,
           0.08,
           0.083,
           0.132,
           0.084,
           0.088,
           0.087,
           0.09,
           0.069,
           0.156,
           0.243,
           0.171,
           0.158,
           0.187,
           0.272,
           0.116,
           0.145,
           0.201,
           0.11,
           0.123,
           0.121,
           0.055,
           0.057,
           0.239,
           0.24,
           0.278,
           0.113,
           0.083,
           0.246,
           0.265,
           0.327,
           0.256,
           0.217,
           0.271,
           0.291,
           0.283,
           0.302,
           0.303,
           0.249,
           0.31,
           0.328,
           0.346,
           0.313,
           0.282,
           0.11,
           0.294,
           0.17,
           0.105,
           0.047,
           0.252,
           0.287,
           0.356,
           0.09,
           0.045
          ],
          "colorbar": {
           "len": 0.75,
           "title": {
            "text": "Energy Above Hull<br>(eV/atom)"
           },
           "x": 0.05
          },
          "colorscale": [
           [
            0,
            "#fad393"
           ],
           [
            0.5,
            "#ff813d"
           ],
           [
            1,
            "#ff0000"
           ]
          ],
          "size": 4,
          "symbol": "diamond"
         },
         "mode": "markers",
         "name": "Above Hull",
         "showlegend": true,
         "type": "scatter3d",
         "uid": "3eaa2609-bafc-410b-a001-ac1bb07f74b7",
         "x": [
          0.8660254037844386,
          0.8660254037844386,
          0.8660254037844386,
          0.8660254037844386,
          0.8660254037844386,
          0.8660254037844386,
          0.8660254037844386,
          0.8660254037844386,
          0,
          0,
          0,
          0,
          0,
          0,
          0,
          0,
          0,
          0,
          0,
          0,
          0,
          0,
          0,
          0,
          0,
          0,
          0,
          0,
          0,
          0,
          0,
          0,
          0.5773502691896257,
          0.5773502691896257,
          0.5773502691896257,
          0.5773502691896257,
          0.5773502691896257,
          0.5773502691896257,
          0.5773502691896257,
          0.5773502691896257,
          0.3711537444790451,
          0,
          0,
          0,
          0,
          0,
          0,
          0,
          0.4330127018922193,
          0.4330127018922193,
          0.4330127018922193,
          0.4330127018922193,
          0.4330127018922193,
          0.4330127018922193,
          0.4330127018922193,
          0.4330127018922193,
          0.4330127018922193,
          0.4330127018922193,
          0.5773502691896257,
          0.5773502691896257,
          0.5773502691896257,
          0.5773502691896257,
          0.5773502691896257,
          0.5773502691896257,
          0.5773502691896257,
          0.5773502691896257,
          0.5773502691896257,
          0.5773502691896257,
          0.5773502691896257,
          0.5773502691896257,
          0.5773502691896257,
          0.5773502691896257,
          0.5773502691896257,
          0.5773502691896257,
          0.5773502691896257,
          0.5196152422706631,
          0.5196152422706631,
          0.5196152422706631,
          0.5196152422706631,
          0.5196152422706631,
          0.5196152422706631,
          0.5196152422706631,
          0.5196152422706631,
          0.5196152422706631,
          0.5196152422706631,
          0.5196152422706631,
          0.5196152422706631,
          0.5196152422706631,
          0.5196152422706631,
          0.5196152422706631,
          0.5196152422706631,
          0.5196152422706631,
          0,
          0,
          0.5412658773652741,
          0.5511070751355518,
          0.5511070751355518,
          0.5511070751355518,
          0.5511070751355518,
          0.5567306167185677,
          0.49487165930539345,
          0.49487165930539345,
          0.49487165930539345,
          0.49487165930539345,
          0.49487165930539345,
          0.49487165930539345,
          0.49487165930539345,
          0.49487165930539345,
          0.49487165930539345,
          0.49487165930539345,
          0.49487165930539345,
          0.49487165930539345,
          0.49487165930539345,
          0.49487165930539345,
          0.49487165930539345,
          0.49487165930539345,
          0.49487165930539345,
          0.49487165930539345,
          0.49487165930539345,
          0.49487165930539345,
          0.49487165930539345,
          0.49487165930539345,
          0.49487165930539345,
          0.49487165930539345,
          0.49487165930539345,
          0,
          0,
          0,
          0,
          0,
          0,
          0.4811252243246881,
          0,
          0,
          0.5051814855409226,
          0.5051814855409226,
          0.532938710021193,
          0.532938710021193,
          0.532938710021193,
          0,
          0,
          0.4618802153517006,
          0.4618802153517006,
          0.4871392896287467,
          0,
          0,
          0.458484037297644,
          0.458484037297644,
          0.5888972745734183,
          0.45580284409707295,
          0.511742284054441,
          0.45363235436327737,
          0.45363235436327737,
          0.45183934110492446,
          0.4503332099679081,
          0.44905020936970885,
          0.4639421805988064,
          0.4479441743712614,
          0.44698085356616185,
          0.44698085356616185,
          0.4453844933748541,
          0.4526950974327747,
          0.5228832626623026,
          0.4510548978043951,
          0.5038693258382188,
          0.5038693258382188,
          0,
          0.48618970037021114,
          0.45240133033515445,
          0.4386362434752351,
          0.4999734289889542,
          0.5179965031981688
         ],
         "y": [
          0.5,
          0.5,
          0.5,
          0.5,
          0.5,
          0.5,
          0.5,
          0.5,
          1,
          1,
          1,
          1,
          1,
          1,
          1,
          1,
          1,
          1,
          1,
          1,
          1,
          1,
          1,
          1,
          1,
          1,
          1,
          1,
          1,
          1,
          1,
          1,
          0.6666666666666666,
          0.6666666666666666,
          0.6666666666666666,
          0.6666666666666666,
          0.6666666666666666,
          0.6666666666666666,
          0.6666666666666666,
          0.6666666666666666,
          0.7857142857142857,
          0,
          0,
          0,
          0,
          0,
          0,
          0,
          0.25,
          0.25,
          0.25,
          0.25,
          0.25,
          0.25,
          0.25,
          0.25,
          0.25,
          0.25,
          0.3333333333333333,
          0.3333333333333333,
          0.3333333333333333,
          0.3333333333333333,
          0.3333333333333333,
          0.3333333333333333,
          0.3333333333333333,
          0.3333333333333333,
          0.3333333333333333,
          0.3333333333333333,
          0.3333333333333333,
          0.3333333333333333,
          0.3333333333333333,
          0.3333333333333333,
          0.3333333333333333,
          0.5555555555555556,
          0.5555555555555556,
          0.3,
          0.3,
          0.3,
          0.3,
          0.3,
          0.3,
          0.3,
          0.3,
          0.3,
          0.3,
          0.3,
          0.3,
          0.3,
          0.3,
          0.3,
          0.3,
          0.3,
          0.3333333333333333,
          0.3333333333333333,
          0.4375,
          0.5,
          0.5,
          0.5,
          0.5,
          0.5357142857142857,
          0.2857142857142857,
          0.2857142857142857,
          0.2857142857142857,
          0.2857142857142857,
          0.2857142857142857,
          0.2857142857142857,
          0.2857142857142857,
          0.2857142857142857,
          0.2857142857142857,
          0.2857142857142857,
          0.2857142857142857,
          0.2857142857142857,
          0.2857142857142857,
          0.2857142857142857,
          0.2857142857142857,
          0.2857142857142857,
          0.2857142857142857,
          0.2857142857142857,
          0.2857142857142857,
          0.2857142857142857,
          0.2857142857142857,
          0.2857142857142857,
          0.2857142857142857,
          0.2857142857142857,
          0.2857142857142857,
          0.25,
          0.25,
          0.25,
          0.25,
          0.25,
          0.25,
          0.2777777777777778,
          0.2,
          0.2,
          0.2916666666666667,
          0.2916666666666667,
          0.3076923076923077,
          0.3076923076923077,
          0.3076923076923077,
          0.2857142857142857,
          0.2857142857142857,
          0.26666666666666666,
          0.26666666666666666,
          0.28125,
          0.3,
          0.3,
          0.2647058823529412,
          0.2647058823529412,
          0.34,
          0.2631578947368421,
          0.29545454545454547,
          0.2619047619047619,
          0.2619047619047619,
          0.2608695652173913,
          0.26,
          0.25925925925925924,
          0.26785714285714285,
          0.25862068965517243,
          0.25806451612903225,
          0.25806451612903225,
          0.2571428571428571,
          0.26136363636363635,
          0.3018867924528302,
          0.2604166666666667,
          0.2909090909090909,
          0.2909090909090909,
          0.20689655172413793,
          0.2807017543859649,
          0.26119402985074625,
          0.2532467532467532,
          0.28865979381443296,
          0.29906542056074764
         ],
         "z": [
          0.144,
          0.164,
          0.006,
          0.007,
          0.172,
          0.037,
          0.03,
          0.182,
          0.189,
          0.041,
          0.183,
          0.016,
          0.017,
          0.023,
          0.004,
          0.056,
          0.025,
          0.187,
          0.186,
          0.03,
          0.187,
          0.186,
          0.185,
          0.013,
          0.052,
          0.055,
          0.055,
          0.055,
          0.266,
          0.366,
          0.17,
          0.36,
          -1.289,
          -1.277,
          -1.281,
          -0.966,
          -1.262,
          -1.283,
          -1.264,
          -1.284,
          -0.567,
          0.097,
          0.191,
          0.207,
          0.226,
          0.139,
          0.025,
          0.111,
          0.095,
          0.133,
          0.155,
          0.154,
          0.158,
          0.104,
          0.164,
          0.307,
          0.104,
          0.093,
          0.053,
          -0.053,
          0.054,
          -0.067,
          0.039,
          0.06,
          -0.013,
          -0.041,
          -0.036,
          0.058,
          0.06,
          0.051,
          -0.041,
          0.048,
          0.056,
          -0.863,
          -0.864,
          -0.279,
          -0.309,
          -0.265,
          -0.282,
          -0.264,
          -0.243,
          -0.263,
          -0.316,
          -0.274,
          -0.16,
          -0.282,
          -0.232,
          -0.222,
          -0.103,
          -0.12,
          -0.106,
          -0.125,
          0.079,
          0.162,
          -0.517,
          -0.801,
          -0.796,
          -0.789,
          -0.803,
          -0.908,
          -0.175,
          -0.206,
          -0.22,
          -0.108,
          -0.209,
          -0.102,
          -0.22,
          -0.131,
          -0.17,
          -0.173,
          -0.21,
          -0.21,
          -0.211,
          -0.153,
          -0.214,
          -0.145,
          -0.237,
          -0.232,
          -0.231,
          -0.226,
          -0.223,
          -0.174,
          -0.222,
          -0.218,
          -0.219,
          0.09,
          0.069,
          0.156,
          0.243,
          0.171,
          0.158,
          -0.111,
          0.272,
          0.116,
          -0.167,
          -0.111,
          -0.199,
          -0.186,
          -0.188,
          0.055,
          0.057,
          -0.046,
          -0.045,
          -0.023,
          0.113,
          0.083,
          -0.038,
          -0.019,
          0.07,
          -0.026,
          -0.1,
          -0.01,
          0.01,
          0.003,
          0.024,
          0.026,
          -0.038,
          0.033,
          0.052,
          0.07,
          0.037,
          0.002,
          -0.209,
          0.015,
          -0.142,
          -0.207,
          0.047,
          -0.049,
          0.007,
          0.085,
          -0.219,
          -0.275
         ]
        },
        {
         "error_z": {
          "array": [
           0,
           0,
           0,
           0,
           0,
           0
          ],
          "color": "darkgray",
          "thickness": 5,
          "type": "data",
          "width": 10
         },
         "hoverinfo": "text",
         "hoverlabel": {
          "font": {
           "size": 14
          }
         },
         "hovertext": [
          "CO<sub>2</sub> (18) <br> -1.3 eV/atom",
          "Fe (0) <br> 0.0 eV/atom",
          "C (50) <br> 0.0 eV/atom",
          "O<sub>2</sub> (105) <br> 0.0 eV/atom",
          "Fe<sub>2</sub>O<sub>3</sub> (33) <br> -0.321 eV/atom",
          "FeCO<sub>3</sub> (15) <br> -0.895 eV/atom"
         ],
         "marker": {
          "color": "black",
          "line": {
           "color": "black",
           "width": 3
          },
          "opacity": 0.8,
          "size": 4
         },
         "mode": "markers",
         "name": "Stable",
         "showlegend": true,
         "type": "scatter3d",
         "uid": "9fa78ae0-711b-4249-b97d-677857564d58",
         "x": [
          0.5773502691896257,
          0,
          0,
          0.8660254037844386,
          0.5196152422706631,
          0.5196152422706631
         ],
         "y": [
          0.6666666666666666,
          0,
          1,
          0.5,
          0.3,
          0.5
         ],
         "z": [
          -1.3,
          0,
          0,
          0,
          -0.321,
          -0.895
         ]
        }
       ],
       "_js2py_pointsCallback": {},
       "_js2py_relayout": {},
       "_js2py_restyle": {},
       "_js2py_update": {},
       "_layout": {
        "autosize": true,
        "height": 400,
        "hovermode": "closest",
        "legend": {
         "orientation": "h",
         "traceorder": "reversed",
         "x": 0.5,
         "xanchor": "center",
         "y": 0,
         "yanchor": "top"
        },
        "margin": {
         "b": 10,
         "l": 0,
         "pad": 0,
         "r": 0,
         "t": 0
        },
        "paper_bgcolor": "rgba(0.9.,0.9.,0.9.,0.9)",
        "scene": {
         "annotations": [
          {
           "align": "center",
           "font": {
            "color": "#000000",
            "size": 24
           },
           "opacity": 1,
           "showarrow": false,
           "text": "Fe",
           "x": 0,
           "xanchor": "right",
           "xshift": -10,
           "y": 0,
           "yanchor": "auto",
           "yshift": -10,
           "z": -1.1704270912461754
          },
          {
           "align": "center",
           "font": {
            "color": "#000000",
            "size": 24
           },
           "opacity": 1,
           "showarrow": false,
           "text": "C",
           "x": 0,
           "xanchor": "right",
           "xshift": -10,
           "y": 1,
           "yanchor": "auto",
           "yshift": -10,
           "z": -1.1704270912461754
          },
          {
           "align": "center",
           "font": {
            "color": "#000000",
            "size": 24
           },
           "opacity": 1,
           "showarrow": false,
           "text": "O",
           "x": 0.8660254037844386,
           "xanchor": "right",
           "xshift": -10,
           "y": 0.5,
           "yanchor": "auto",
           "yshift": -10,
           "z": -1.1704270912461754
          },
          {
           "opacity": 0,
           "text": "",
           "x": 1,
           "y": 1,
           "z": 0
          }
         ],
         "aspectratio": {
          "x": 1.7,
          "y": 1.7,
          "z": 1.2
         },
         "camera": {
          "center": {
           "x": -0.1,
           "y": 0,
           "z": -0.15
          },
          "eye": {
           "x": -0.1,
           "y": 0,
           "z": 2.5
          },
          "projection": {
           "type": "orthographic"
          }
         },
         "xaxis": {
          "autorange": true,
          "showaxeslabels": false,
          "showgrid": false,
          "showline": false,
          "showspikes": false,
          "showticklabels": false,
          "ticks": "",
          "visible": false,
          "zeroline": false
         },
         "yaxis": {
          "autorange": true,
          "showaxeslabels": false,
          "showgrid": false,
          "showline": false,
          "showspikes": false,
          "showticklabels": false,
          "ticks": "",
          "visible": false,
          "zeroline": false
         },
         "zaxis": {
          "autorange": true,
          "showaxeslabels": false,
          "showgrid": false,
          "showline": false,
          "showspikes": false,
          "showticklabels": false,
          "ticks": "",
          "visible": false,
          "zeroline": false
         }
        },
        "showlegend": true,
        "template": {
         "data": {
          "bar": [
           {
            "error_x": {
             "color": "#2a3f5f"
            },
            "error_y": {
             "color": "#2a3f5f"
            },
            "marker": {
             "line": {
              "color": "#E5ECF6",
              "width": 0.5
             },
             "pattern": {
              "fillmode": "overlay",
              "size": 10,
              "solidity": 0.2
             }
            },
            "type": "bar"
           }
          ],
          "barpolar": [
           {
            "marker": {
             "line": {
              "color": "#E5ECF6",
              "width": 0.5
             },
             "pattern": {
              "fillmode": "overlay",
              "size": 10,
              "solidity": 0.2
             }
            },
            "type": "barpolar"
           }
          ],
          "carpet": [
           {
            "aaxis": {
             "endlinecolor": "#2a3f5f",
             "gridcolor": "white",
             "linecolor": "white",
             "minorgridcolor": "white",
             "startlinecolor": "#2a3f5f"
            },
            "baxis": {
             "endlinecolor": "#2a3f5f",
             "gridcolor": "white",
             "linecolor": "white",
             "minorgridcolor": "white",
             "startlinecolor": "#2a3f5f"
            },
            "type": "carpet"
           }
          ],
          "choropleth": [
           {
            "colorbar": {
             "outlinewidth": 0,
             "ticks": ""
            },
            "type": "choropleth"
           }
          ],
          "contour": [
           {
            "colorbar": {
             "outlinewidth": 0,
             "ticks": ""
            },
            "colorscale": [
             [
              0,
              "#0d0887"
             ],
             [
              0.1111111111111111,
              "#46039f"
             ],
             [
              0.2222222222222222,
              "#7201a8"
             ],
             [
              0.3333333333333333,
              "#9c179e"
             ],
             [
              0.4444444444444444,
              "#bd3786"
             ],
             [
              0.5555555555555556,
              "#d8576b"
             ],
             [
              0.6666666666666666,
              "#ed7953"
             ],
             [
              0.7777777777777778,
              "#fb9f3a"
             ],
             [
              0.8888888888888888,
              "#fdca26"
             ],
             [
              1,
              "#f0f921"
             ]
            ],
            "type": "contour"
           }
          ],
          "contourcarpet": [
           {
            "colorbar": {
             "outlinewidth": 0,
             "ticks": ""
            },
            "type": "contourcarpet"
           }
          ],
          "heatmap": [
           {
            "colorbar": {
             "outlinewidth": 0,
             "ticks": ""
            },
            "colorscale": [
             [
              0,
              "#0d0887"
             ],
             [
              0.1111111111111111,
              "#46039f"
             ],
             [
              0.2222222222222222,
              "#7201a8"
             ],
             [
              0.3333333333333333,
              "#9c179e"
             ],
             [
              0.4444444444444444,
              "#bd3786"
             ],
             [
              0.5555555555555556,
              "#d8576b"
             ],
             [
              0.6666666666666666,
              "#ed7953"
             ],
             [
              0.7777777777777778,
              "#fb9f3a"
             ],
             [
              0.8888888888888888,
              "#fdca26"
             ],
             [
              1,
              "#f0f921"
             ]
            ],
            "type": "heatmap"
           }
          ],
          "heatmapgl": [
           {
            "colorbar": {
             "outlinewidth": 0,
             "ticks": ""
            },
            "colorscale": [
             [
              0,
              "#0d0887"
             ],
             [
              0.1111111111111111,
              "#46039f"
             ],
             [
              0.2222222222222222,
              "#7201a8"
             ],
             [
              0.3333333333333333,
              "#9c179e"
             ],
             [
              0.4444444444444444,
              "#bd3786"
             ],
             [
              0.5555555555555556,
              "#d8576b"
             ],
             [
              0.6666666666666666,
              "#ed7953"
             ],
             [
              0.7777777777777778,
              "#fb9f3a"
             ],
             [
              0.8888888888888888,
              "#fdca26"
             ],
             [
              1,
              "#f0f921"
             ]
            ],
            "type": "heatmapgl"
           }
          ],
          "histogram": [
           {
            "marker": {
             "pattern": {
              "fillmode": "overlay",
              "size": 10,
              "solidity": 0.2
             }
            },
            "type": "histogram"
           }
          ],
          "histogram2d": [
           {
            "colorbar": {
             "outlinewidth": 0,
             "ticks": ""
            },
            "colorscale": [
             [
              0,
              "#0d0887"
             ],
             [
              0.1111111111111111,
              "#46039f"
             ],
             [
              0.2222222222222222,
              "#7201a8"
             ],
             [
              0.3333333333333333,
              "#9c179e"
             ],
             [
              0.4444444444444444,
              "#bd3786"
             ],
             [
              0.5555555555555556,
              "#d8576b"
             ],
             [
              0.6666666666666666,
              "#ed7953"
             ],
             [
              0.7777777777777778,
              "#fb9f3a"
             ],
             [
              0.8888888888888888,
              "#fdca26"
             ],
             [
              1,
              "#f0f921"
             ]
            ],
            "type": "histogram2d"
           }
          ],
          "histogram2dcontour": [
           {
            "colorbar": {
             "outlinewidth": 0,
             "ticks": ""
            },
            "colorscale": [
             [
              0,
              "#0d0887"
             ],
             [
              0.1111111111111111,
              "#46039f"
             ],
             [
              0.2222222222222222,
              "#7201a8"
             ],
             [
              0.3333333333333333,
              "#9c179e"
             ],
             [
              0.4444444444444444,
              "#bd3786"
             ],
             [
              0.5555555555555556,
              "#d8576b"
             ],
             [
              0.6666666666666666,
              "#ed7953"
             ],
             [
              0.7777777777777778,
              "#fb9f3a"
             ],
             [
              0.8888888888888888,
              "#fdca26"
             ],
             [
              1,
              "#f0f921"
             ]
            ],
            "type": "histogram2dcontour"
           }
          ],
          "mesh3d": [
           {
            "colorbar": {
             "outlinewidth": 0,
             "ticks": ""
            },
            "type": "mesh3d"
           }
          ],
          "parcoords": [
           {
            "line": {
             "colorbar": {
              "outlinewidth": 0,
              "ticks": ""
             }
            },
            "type": "parcoords"
           }
          ],
          "pie": [
           {
            "automargin": true,
            "type": "pie"
           }
          ],
          "scatter": [
           {
            "fillpattern": {
             "fillmode": "overlay",
             "size": 10,
             "solidity": 0.2
            },
            "type": "scatter"
           }
          ],
          "scatter3d": [
           {
            "line": {
             "colorbar": {
              "outlinewidth": 0,
              "ticks": ""
             }
            },
            "marker": {
             "colorbar": {
              "outlinewidth": 0,
              "ticks": ""
             }
            },
            "type": "scatter3d"
           }
          ],
          "scattercarpet": [
           {
            "marker": {
             "colorbar": {
              "outlinewidth": 0,
              "ticks": ""
             }
            },
            "type": "scattercarpet"
           }
          ],
          "scattergeo": [
           {
            "marker": {
             "colorbar": {
              "outlinewidth": 0,
              "ticks": ""
             }
            },
            "type": "scattergeo"
           }
          ],
          "scattergl": [
           {
            "marker": {
             "colorbar": {
              "outlinewidth": 0,
              "ticks": ""
             }
            },
            "type": "scattergl"
           }
          ],
          "scattermapbox": [
           {
            "marker": {
             "colorbar": {
              "outlinewidth": 0,
              "ticks": ""
             }
            },
            "type": "scattermapbox"
           }
          ],
          "scatterpolar": [
           {
            "marker": {
             "colorbar": {
              "outlinewidth": 0,
              "ticks": ""
             }
            },
            "type": "scatterpolar"
           }
          ],
          "scatterpolargl": [
           {
            "marker": {
             "colorbar": {
              "outlinewidth": 0,
              "ticks": ""
             }
            },
            "type": "scatterpolargl"
           }
          ],
          "scatterternary": [
           {
            "marker": {
             "colorbar": {
              "outlinewidth": 0,
              "ticks": ""
             }
            },
            "type": "scatterternary"
           }
          ],
          "surface": [
           {
            "colorbar": {
             "outlinewidth": 0,
             "ticks": ""
            },
            "colorscale": [
             [
              0,
              "#0d0887"
             ],
             [
              0.1111111111111111,
              "#46039f"
             ],
             [
              0.2222222222222222,
              "#7201a8"
             ],
             [
              0.3333333333333333,
              "#9c179e"
             ],
             [
              0.4444444444444444,
              "#bd3786"
             ],
             [
              0.5555555555555556,
              "#d8576b"
             ],
             [
              0.6666666666666666,
              "#ed7953"
             ],
             [
              0.7777777777777778,
              "#fb9f3a"
             ],
             [
              0.8888888888888888,
              "#fdca26"
             ],
             [
              1,
              "#f0f921"
             ]
            ],
            "type": "surface"
           }
          ],
          "table": [
           {
            "cells": {
             "fill": {
              "color": "#EBF0F8"
             },
             "line": {
              "color": "white"
             }
            },
            "header": {
             "fill": {
              "color": "#C8D4E3"
             },
             "line": {
              "color": "white"
             }
            },
            "type": "table"
           }
          ]
         },
         "layout": {
          "annotationdefaults": {
           "arrowcolor": "#2a3f5f",
           "arrowhead": 0,
           "arrowwidth": 1
          },
          "autotypenumbers": "strict",
          "coloraxis": {
           "colorbar": {
            "outlinewidth": 0,
            "ticks": ""
           }
          },
          "colorscale": {
           "diverging": [
            [
             0,
             "#8e0152"
            ],
            [
             0.1,
             "#c51b7d"
            ],
            [
             0.2,
             "#de77ae"
            ],
            [
             0.3,
             "#f1b6da"
            ],
            [
             0.4,
             "#fde0ef"
            ],
            [
             0.5,
             "#f7f7f7"
            ],
            [
             0.6,
             "#e6f5d0"
            ],
            [
             0.7,
             "#b8e186"
            ],
            [
             0.8,
             "#7fbc41"
            ],
            [
             0.9,
             "#4d9221"
            ],
            [
             1,
             "#276419"
            ]
           ],
           "sequential": [
            [
             0,
             "#0d0887"
            ],
            [
             0.1111111111111111,
             "#46039f"
            ],
            [
             0.2222222222222222,
             "#7201a8"
            ],
            [
             0.3333333333333333,
             "#9c179e"
            ],
            [
             0.4444444444444444,
             "#bd3786"
            ],
            [
             0.5555555555555556,
             "#d8576b"
            ],
            [
             0.6666666666666666,
             "#ed7953"
            ],
            [
             0.7777777777777778,
             "#fb9f3a"
            ],
            [
             0.8888888888888888,
             "#fdca26"
            ],
            [
             1,
             "#f0f921"
            ]
           ],
           "sequentialminus": [
            [
             0,
             "#0d0887"
            ],
            [
             0.1111111111111111,
             "#46039f"
            ],
            [
             0.2222222222222222,
             "#7201a8"
            ],
            [
             0.3333333333333333,
             "#9c179e"
            ],
            [
             0.4444444444444444,
             "#bd3786"
            ],
            [
             0.5555555555555556,
             "#d8576b"
            ],
            [
             0.6666666666666666,
             "#ed7953"
            ],
            [
             0.7777777777777778,
             "#fb9f3a"
            ],
            [
             0.8888888888888888,
             "#fdca26"
            ],
            [
             1,
             "#f0f921"
            ]
           ]
          },
          "colorway": [
           "#636efa",
           "#EF553B",
           "#00cc96",
           "#ab63fa",
           "#FFA15A",
           "#19d3f3",
           "#FF6692",
           "#B6E880",
           "#FF97FF",
           "#FECB52"
          ],
          "font": {
           "color": "#2a3f5f"
          },
          "geo": {
           "bgcolor": "white",
           "lakecolor": "white",
           "landcolor": "#E5ECF6",
           "showlakes": true,
           "showland": true,
           "subunitcolor": "white"
          },
          "hoverlabel": {
           "align": "left"
          },
          "hovermode": "closest",
          "mapbox": {
           "style": "light"
          },
          "paper_bgcolor": "white",
          "plot_bgcolor": "#E5ECF6",
          "polar": {
           "angularaxis": {
            "gridcolor": "white",
            "linecolor": "white",
            "ticks": ""
           },
           "bgcolor": "#E5ECF6",
           "radialaxis": {
            "gridcolor": "white",
            "linecolor": "white",
            "ticks": ""
           }
          },
          "scene": {
           "xaxis": {
            "backgroundcolor": "#E5ECF6",
            "gridcolor": "white",
            "gridwidth": 2,
            "linecolor": "white",
            "showbackground": true,
            "ticks": "",
            "zerolinecolor": "white"
           },
           "yaxis": {
            "backgroundcolor": "#E5ECF6",
            "gridcolor": "white",
            "gridwidth": 2,
            "linecolor": "white",
            "showbackground": true,
            "ticks": "",
            "zerolinecolor": "white"
           },
           "zaxis": {
            "backgroundcolor": "#E5ECF6",
            "gridcolor": "white",
            "gridwidth": 2,
            "linecolor": "white",
            "showbackground": true,
            "ticks": "",
            "zerolinecolor": "white"
           }
          },
          "shapedefaults": {
           "line": {
            "color": "#2a3f5f"
           }
          },
          "ternary": {
           "aaxis": {
            "gridcolor": "white",
            "linecolor": "white",
            "ticks": ""
           },
           "baxis": {
            "gridcolor": "white",
            "linecolor": "white",
            "ticks": ""
           },
           "bgcolor": "#E5ECF6",
           "caxis": {
            "gridcolor": "white",
            "linecolor": "white",
            "ticks": ""
           }
          },
          "title": {
           "x": 0.05
          },
          "xaxis": {
           "automargin": true,
           "gridcolor": "white",
           "linecolor": "white",
           "ticks": "",
           "title": {
            "standoff": 15
           },
           "zerolinecolor": "white",
           "zerolinewidth": 2
          },
          "yaxis": {
           "automargin": true,
           "gridcolor": "white",
           "linecolor": "white",
           "ticks": "",
           "title": {
            "standoff": 15
           },
           "zerolinecolor": "white",
           "zerolinewidth": 2
          }
         }
        },
        "width": 800
       },
       "_py2js_addTraces": {},
       "_py2js_animate": {},
       "_py2js_deleteTraces": {},
       "_py2js_moveTraces": {},
       "_py2js_relayout": {},
       "_py2js_restyle": {},
       "_py2js_update": {},
       "_view_count": 1
      }
     },
     "7a8ab3ee757c4d0cbd0eeb1f2ad57953": {
      "model_module": "@jupyter-widgets/base",
      "model_module_version": "1.2.0",
      "model_name": "LayoutModel",
      "state": {
       "grid_area": "widget031",
       "height": "22px",
       "width": "42px"
      }
     },
     "7ad3603537374b8485fdf67e62f7633d": {
      "model_module": "@jupyter-widgets/controls",
      "model_module_version": "1.5.0",
      "model_name": "ToggleButtonModel",
      "state": {
       "description": "At",
       "layout": "IPY_MODEL_976a1bb1dce7403088145c4ce322ad65",
       "style": "IPY_MODEL_e463c619b41343f3b2c6c27496e571f7"
      }
     },
     "7c1d7631dc6e4378adea6fca67e9e3c8": {
      "model_module": "@jupyter-widgets/controls",
      "model_module_version": "1.5.0",
      "model_name": "ToggleButtonModel",
      "state": {
       "description": "Pd",
       "layout": "IPY_MODEL_e8b755a3d3254905b0d92bf8f0178082",
       "style": "IPY_MODEL_e5f6b181e45843b4a3a42abbe18e8b7c"
      }
     },
     "7d1e07ef60a940fb9288f8df91d1e916": {
      "model_module": "@jupyter-widgets/controls",
      "model_module_version": "1.5.0",
      "model_name": "ToggleButtonModel",
      "state": {
       "description": "H",
       "layout": "IPY_MODEL_517cc69f09044f399b38ec5d39c4cf1b",
       "style": "IPY_MODEL_ba14c0c877624e908aa0a7214e3a0bc1"
      }
     },
     "7d84000c50834c849ca6c9c56112674e": {
      "model_module": "@jupyter-widgets/controls",
      "model_module_version": "1.5.0",
      "model_name": "HBoxModel",
      "state": {
       "children": [
        "IPY_MODEL_b4aa63c18d0a4bad9ba9238c0e0463bd",
        "IPY_MODEL_dc8ffd27dcfa49328799d854d61d7640"
       ],
       "layout": "IPY_MODEL_5716ebfb52e142b59c97944187ae2643"
      }
     },
     "7dd266effb0c4705bbe00ea1da2f16c7": {
      "model_module": "@jupyter-widgets/controls",
      "model_module_version": "1.5.0",
      "model_name": "DescriptionStyleModel",
      "state": {
       "description_width": ""
      }
     },
     "7e72785aa2ba4d07981305c14c1ab04f": {
      "model_module": "@jupyter-widgets/controls",
      "model_module_version": "1.5.0",
      "model_name": "DescriptionStyleModel",
      "state": {
       "description_width": ""
      }
     },
     "7fe1054699bf40f8a70d40a1974b8d10": {
      "model_module": "@jupyter-widgets/controls",
      "model_module_version": "1.5.0",
      "model_name": "DescriptionStyleModel",
      "state": {
       "description_width": ""
      }
     },
     "806169c831084b38b2c503c196c63785": {
      "model_module": "@jupyter-widgets/controls",
      "model_module_version": "1.5.0",
      "model_name": "FloatProgressModel",
      "state": {
       "bar_style": "success",
       "layout": "IPY_MODEL_c995a3e2148f4306962541942f45eb07",
       "max": 178,
       "style": "IPY_MODEL_caa114d6d5884a428a48def356428927",
       "value": 178
      }
     },
     "80b2ca8f4e904b889492670d832c85d5": {
      "model_module": "@jupyter-widgets/controls",
      "model_module_version": "1.5.0",
      "model_name": "DropdownModel",
      "state": {
       "_options_labels": [
        "within",
        "any",
        "only"
       ],
       "description": "ele option",
       "index": 0,
       "layout": "IPY_MODEL_1d570df0ee2540b28b0f516174991cbd",
       "style": "IPY_MODEL_74dee411b60b4e498e0e317898b84e0f"
      }
     },
     "82630a6b049d49868f4d4daa807f8038": {
      "model_module": "@jupyter-widgets/controls",
      "model_module_version": "1.5.0",
      "model_name": "ToggleButtonModel",
      "state": {
       "description": "Ti",
       "layout": "IPY_MODEL_155560596dd445cda1d3d41cd35a7b5d",
       "style": "IPY_MODEL_ce63b93a380040d6a0b0f96d4b8ee6b4"
      }
     },
     "8279988cc3de46d2a57ee05377124d25": {
      "model_module": "@jupyter-widgets/controls",
      "model_module_version": "1.5.0",
      "model_name": "DescriptionStyleModel",
      "state": {
       "description_width": ""
      }
     },
     "841963c8ef624c6094ecddcc16197f1a": {
      "model_module": "@jupyter-widgets/controls",
      "model_module_version": "1.5.0",
      "model_name": "ButtonModel",
      "state": {
       "description": "hullview",
       "layout": "IPY_MODEL_2b310e62c7104883b6f2a36a62a2df8f",
       "style": "IPY_MODEL_2b9dafd0aa004867bf6c6a3e51304320"
      }
     },
     "868c8282694149489fe7b75acb509b1b": {
      "model_module": "@jupyter-widgets/controls",
      "model_module_version": "1.5.0",
      "model_name": "ToggleButtonModel",
      "state": {
       "description": "U",
       "layout": "IPY_MODEL_8bfb682fcbc2470396b48a4b804a558f",
       "style": "IPY_MODEL_296bc194250442a09e7cc3a53357a96b"
      }
     },
     "87cc625a0ea942ec98b3536c433f05c9": {
      "model_module": "@jupyter-widgets/controls",
      "model_module_version": "1.5.0",
      "model_name": "DescriptionStyleModel",
      "state": {
       "description_width": ""
      }
     },
     "8884f84110e649b0a139f04c0422dd6f": {
      "model_module": "@jupyter-widgets/controls",
      "model_module_version": "1.5.0",
      "model_name": "DescriptionStyleModel",
      "state": {
       "description_width": ""
      }
     },
     "89598ac86a834e08b27484b9085b4930": {
      "model_module": "@jupyter-widgets/controls",
      "model_module_version": "1.5.0",
      "model_name": "DescriptionStyleModel",
      "state": {
       "description_width": ""
      }
     },
     "8abeb176a49b405088ef7fa109027f56": {
      "model_module": "@jupyter-widgets/base",
      "model_module_version": "1.2.0",
      "model_name": "LayoutModel",
      "state": {
       "grid_area": "widget079",
       "height": "22px",
       "width": "42px"
      }
     },
     "8b93f1c44e4b47e7b13d76fbc67f6217": {
      "model_module": "@jupyter-widgets/controls",
      "model_module_version": "1.5.0",
      "model_name": "DescriptionStyleModel",
      "state": {
       "description_width": ""
      }
     },
     "8bfb682fcbc2470396b48a4b804a558f": {
      "model_module": "@jupyter-widgets/base",
      "model_module_version": "1.2.0",
      "model_name": "LayoutModel",
      "state": {
       "grid_area": "widget092",
       "height": "22px",
       "width": "42px"
      }
     },
     "8d012d8e67d646e8bed203d6e2482b6c": {
      "model_module": "@jupyter-widgets/controls",
      "model_module_version": "1.5.0",
      "model_name": "HBoxModel",
      "state": {
       "children": [
        "IPY_MODEL_10e2dff805df4bc49ebf073450188fe5",
        "IPY_MODEL_806169c831084b38b2c503c196c63785",
        "IPY_MODEL_5a207b912a514cc1939d75459c9c4a5b"
       ],
       "layout": "IPY_MODEL_2b064d20216d43bf9d58ca32b8feaa6e"
      }
     },
     "8ddfe7a1af5b41ce934edf1d78c81359": {
      "model_module": "@jupyter-widgets/controls",
      "model_module_version": "1.5.0",
      "model_name": "ToggleButtonModel",
      "state": {
       "description": "As",
       "layout": "IPY_MODEL_e37cceef98e0492b9439c60aef8fa2bf",
       "style": "IPY_MODEL_0f8cc083dbb740cab569a20740fc9d0a"
      }
     },
     "8fa0ea2d92534dcb8a0d22990abf1af3": {
      "model_module": "@jupyter-widgets/base",
      "model_module_version": "1.2.0",
      "model_name": "LayoutModel",
      "state": {
       "grid_area": "widget080",
       "height": "22px",
       "width": "42px"
      }
     },
     "90f42a7d7ca341ffa927442d3bd25c20": {
      "model_module": "@jupyter-widgets/controls",
      "model_module_version": "1.5.0",
      "model_name": "DescriptionStyleModel",
      "state": {
       "description_width": ""
      }
     },
     "91363a2e52904acfba06f1411a9294e8": {
      "model_module": "@jupyter-widgets/controls",
      "model_module_version": "1.5.0",
      "model_name": "DescriptionStyleModel",
      "state": {
       "description_width": ""
      }
     },
     "91e1e671b3b14629a79533360b98c59c": {
      "model_module": "@jupyter-widgets/controls",
      "model_module_version": "1.5.0",
      "model_name": "DescriptionStyleModel",
      "state": {
       "description_width": ""
      }
     },
     "9256151d127b4cb7829662ef31383ed0": {
      "model_module": "@jupyter-widgets/controls",
      "model_module_version": "1.5.0",
      "model_name": "DescriptionStyleModel",
      "state": {
       "description_width": ""
      }
     },
     "92a2d07e862641348af281ac9e82628b": {
      "model_module": "@jupyter-widgets/base",
      "model_module_version": "1.2.0",
      "model_name": "LayoutModel",
      "state": {
       "grid_area": "widget045",
       "height": "22px",
       "width": "42px"
      }
     },
     "92f40683fdbc4c19a3f6ad63bb8f5c67": {
      "model_module": "@jupyter-widgets/controls",
      "model_module_version": "1.5.0",
      "model_name": "ToggleButtonModel",
      "state": {
       "description": "Ce",
       "layout": "IPY_MODEL_adc7a44fc276405ba2872096200ebcae",
       "style": "IPY_MODEL_0589321ce2fd47569068878647592563"
      }
     },
     "94c2ea7d63a34fa49d32d21ff5d474f2": {
      "model_module": "@jupyter-widgets/controls",
      "model_module_version": "1.5.0",
      "model_name": "DropdownModel",
      "state": {
       "_options_labels": [
        "v3.0.0",
        "v2.0.0",
        "v1.1.0",
        "v1.0.0",
        "v0.0.0",
        "latest"
       ],
       "description": "version",
       "index": 0,
       "layout": "IPY_MODEL_1d570df0ee2540b28b0f516174991cbd",
       "style": "IPY_MODEL_a17a4eb6008f45ebbea5bba6081b3877"
      }
     },
     "95146b778b964ebc9604d25ea145ed05": {
      "model_module": "@jupyter-widgets/controls",
      "model_module_version": "1.5.0",
      "model_name": "DescriptionStyleModel",
      "state": {
       "description_width": ""
      }
     },
     "95736574dd6b40debfb55a2a5eabd428": {
      "model_module": "@jupyter-widgets/controls",
      "model_module_version": "1.5.0",
      "model_name": "ToggleButtonModel",
      "state": {
       "description": "Ts",
       "layout": "IPY_MODEL_1485f6eff4f945e3bfb487a12e72a983",
       "style": "IPY_MODEL_4a88e313afc241799165c670d9183c21"
      }
     },
     "958b3a18ab5b419c922a18e456cdf33a": {
      "model_module": "@jupyter-widgets/controls",
      "model_module_version": "1.5.0",
      "model_name": "DescriptionStyleModel",
      "state": {
       "description_width": ""
      }
     },
     "97118447d31f4f0386fc176b5bd9ec02": {
      "model_module": "@jupyter-widgets/controls",
      "model_module_version": "1.5.0",
      "model_name": "DescriptionStyleModel",
      "state": {
       "description_width": ""
      }
     },
     "976a1bb1dce7403088145c4ce322ad65": {
      "model_module": "@jupyter-widgets/base",
      "model_module_version": "1.2.0",
      "model_name": "LayoutModel",
      "state": {
       "grid_area": "widget085",
       "height": "22px",
       "width": "42px"
      }
     },
     "97939abee87f4472b36c94bdada2f32c": {
      "model_module": "@jupyter-widgets/controls",
      "model_module_version": "1.5.0",
      "model_name": "ToggleButtonModel",
      "state": {
       "description": "Hf",
       "layout": "IPY_MODEL_11ad287291a748a2b44a804d03fad4b5",
       "style": "IPY_MODEL_fe2cdc489f0d4a2888bdf80fc71634c0"
      }
     },
     "97ab070755c44239a0582dfa4efae650": {
      "model_module": "@jupyter-widgets/controls",
      "model_module_version": "1.5.0",
      "model_name": "DescriptionStyleModel",
      "state": {
       "description_width": ""
      }
     },
     "97f974971aa94ddfbd1f9debafeab15c": {
      "model_module": "@jupyter-widgets/base",
      "model_module_version": "1.2.0",
      "model_name": "LayoutModel",
      "state": {
       "grid_area": "widget049",
       "height": "22px",
       "width": "42px"
      }
     },
     "987203a07538461683d78b58134d3634": {
      "model_module": "@jupyter-widgets/controls",
      "model_module_version": "1.5.0",
      "model_name": "DescriptionStyleModel",
      "state": {
       "description_width": ""
      }
     },
     "98b62e0f8f154c5da6b79a3e9c05b4b5": {
      "model_module": "@jupyter-widgets/controls",
      "model_module_version": "1.5.0",
      "model_name": "ToggleButtonModel",
      "state": {
       "description": "Ag",
       "layout": "IPY_MODEL_4f8874e9615443a9a70dd6fe2c5caa20",
       "style": "IPY_MODEL_0970faabfb6e4da1a7d0af12d2d86543"
      }
     },
     "990f8601b6424269b28bb85a482c47d1": {
      "model_module": "@jupyter-widgets/controls",
      "model_module_version": "1.5.0",
      "model_name": "SliderStyleModel",
      "state": {
       "description_width": ""
      }
     },
     "99c84df26cb5446baebd475593442650": {
      "model_module": "@jupyter-widgets/controls",
      "model_module_version": "1.5.0",
      "model_name": "ToggleButtonModel",
      "state": {
       "description": "Eu",
       "layout": "IPY_MODEL_b0e39fededab49b2a5540d97cbb4200f",
       "style": "IPY_MODEL_71e39a760756483aac783c8b2faba931"
      }
     },
     "99d4763ed9244e00a55ca9ef84b9d246": {
      "model_module": "@jupyter-widgets/controls",
      "model_module_version": "1.5.0",
      "model_name": "ToggleButtonModel",
      "state": {
       "description": "Si",
       "layout": "IPY_MODEL_01d54fd9897a41afa5e7e1d124740d8b",
       "style": "IPY_MODEL_06de1dd6f57b4d4e90c2639d1682cfd7"
      }
     },
     "99e937ed5e9f4d019245ce178495c696": {
      "model_module": "@jupyter-widgets/controls",
      "model_module_version": "1.5.0",
      "model_name": "DescriptionStyleModel",
      "state": {
       "description_width": ""
      }
     },
     "9c279d5bba8043398ecdca51fe092fcf": {
      "model_module": "@jupyter-widgets/controls",
      "model_module_version": "1.5.0",
      "model_name": "DescriptionStyleModel",
      "state": {
       "description_width": ""
      }
     },
     "9c52a15108bb443c95c26e50da9946a8": {
      "model_module": "@jupyter-widgets/controls",
      "model_module_version": "1.5.0",
      "model_name": "ToggleButtonModel",
      "state": {
       "description": "Re",
       "layout": "IPY_MODEL_3f132bc4386742fe98979534993de855",
       "style": "IPY_MODEL_321e50911afa4d6dbbeedfc58a3c6b55"
      }
     },
     "9d3668294205498e93088c4165f47cbf": {
      "model_module": "@jupyter-widgets/base",
      "model_module_version": "1.2.0",
      "model_name": "LayoutModel",
      "state": {
       "grid_area": "widget116",
       "height": "22px",
       "width": "42px"
      }
     },
     "9d9468fe2c4b453c98dabc1aa56e53b8": {
      "model_module": "@jupyter-widgets/controls",
      "model_module_version": "1.5.0",
      "model_name": "ToggleButtonModel",
      "state": {
       "description": "Cd",
       "layout": "IPY_MODEL_b93a437d8a4f4003a62b4f350f995c1d",
       "style": "IPY_MODEL_87cc625a0ea942ec98b3536c433f05c9"
      }
     },
     "9eca0e3788c9434ab62e96e23c16176c": {
      "model_module": "@jupyter-widgets/controls",
      "model_module_version": "1.5.0",
      "model_name": "ToggleButtonModel",
      "state": {
       "description": "Be",
       "layout": "IPY_MODEL_a3b841f3dc7a4e4cace520dde118ffc9",
       "style": "IPY_MODEL_97118447d31f4f0386fc176b5bd9ec02"
      }
     },
     "9ed9e77f3ae7475b8d22b812c18592a4": {
      "model_module": "@jupyter-widgets/controls",
      "model_module_version": "1.5.0",
      "model_name": "DescriptionStyleModel",
      "state": {
       "description_width": ""
      }
     },
     "9f2d530eee774d828ad9121c696f5d3b": {
      "model_module": "@jupyter-widgets/controls",
      "model_module_version": "1.5.0",
      "model_name": "ToggleButtonModel",
      "state": {
       "description": "Gd",
       "layout": "IPY_MODEL_dde071f2318d4047b0c14e0db7f50bf8",
       "style": "IPY_MODEL_a21ecc514c05403aa57bef57c5a0cb78"
      }
     },
     "9f9dcf0a67d74fee8571a6e2df193c84": {
      "model_module": "@jupyter-widgets/controls",
      "model_module_version": "1.5.0",
      "model_name": "DescriptionStyleModel",
      "state": {
       "description_width": ""
      }
     },
     "a129bafc600f40cfba13d1ed02b323d0": {
      "model_module": "@jupyter-widgets/base",
      "model_module_version": "1.2.0",
      "model_name": "LayoutModel",
      "state": {
       "grid_area": "widget061",
       "height": "22px",
       "width": "42px"
      }
     },
     "a160d40cee494470b86ab0000e284ccd": {
      "model_module": "@jupyter-widgets/base",
      "model_module_version": "1.2.0",
      "model_name": "LayoutModel",
      "state": {}
     },
     "a17a4eb6008f45ebbea5bba6081b3877": {
      "model_module": "@jupyter-widgets/controls",
      "model_module_version": "1.5.0",
      "model_name": "DescriptionStyleModel",
      "state": {
       "description_width": ""
      }
     },
     "a1c0122226ba410abe3586eb97fe7b94": {
      "model_module": "@jupyter-widgets/base",
      "model_module_version": "1.2.0",
      "model_name": "LayoutModel",
      "state": {
       "grid_area": "widget094",
       "height": "22px",
       "width": "42px"
      }
     },
     "a21ecc514c05403aa57bef57c5a0cb78": {
      "model_module": "@jupyter-widgets/controls",
      "model_module_version": "1.5.0",
      "model_name": "DescriptionStyleModel",
      "state": {
       "description_width": ""
      }
     },
     "a2c7e0bcc11d40cba514e472502fbd36": {
      "model_module": "@jupyter-widgets/controls",
      "model_module_version": "1.5.0",
      "model_name": "ButtonStyleModel",
      "state": {}
     },
     "a3b841f3dc7a4e4cace520dde118ffc9": {
      "model_module": "@jupyter-widgets/base",
      "model_module_version": "1.2.0",
      "model_name": "LayoutModel",
      "state": {
       "grid_area": "widget004",
       "height": "22px",
       "width": "42px"
      }
     },
     "a3bca683b8474c1dbca3aa1187367296": {
      "model_module": "@jupyter-widgets/controls",
      "model_module_version": "1.5.0",
      "model_name": "ToggleButtonModel",
      "state": {
       "description": "Pm",
       "layout": "IPY_MODEL_a129bafc600f40cfba13d1ed02b323d0",
       "style": "IPY_MODEL_9c279d5bba8043398ecdca51fe092fcf"
      }
     },
     "a44a99286ebc4b5b81a7ae0a1c66d371": {
      "model_module": "@jupyter-widgets/controls",
      "model_module_version": "1.5.0",
      "model_name": "ToggleButtonModel",
      "state": {
       "description": "O",
       "icon": "check",
       "layout": "IPY_MODEL_fe1d72ff314f48c4ac3268ba80a035a1",
       "style": "IPY_MODEL_b67e2d757f004dac9d7b309a341166eb",
       "value": true
      }
     },
     "a4db9abf2d2e485dbe4125a4ccbd0296": {
      "model_module": "@jupyter-widgets/controls",
      "model_module_version": "1.5.0",
      "model_name": "DescriptionStyleModel",
      "state": {
       "description_width": ""
      }
     },
     "a6a04f6a19fa4a88a8d7cc090f961c3c": {
      "model_module": "@jupyter-widgets/controls",
      "model_module_version": "1.5.0",
      "model_name": "VBoxModel",
      "state": {
       "children": [
        "IPY_MODEL_590c70a848a245de85cbe27fa068ce75",
        "IPY_MODEL_574a037cca8247c9bcb61baf1ac4286b",
        "IPY_MODEL_7d84000c50834c849ca6c9c56112674e",
        "IPY_MODEL_12810d9d9c79472b8485bc458c4137f5"
       ],
       "layout": "IPY_MODEL_a160d40cee494470b86ab0000e284ccd"
      }
     },
     "a6d24e12ca274637908c6901a3ba7648": {
      "model_module": "@jupyter-widgets/controls",
      "model_module_version": "1.5.0",
      "model_name": "DescriptionStyleModel",
      "state": {
       "description_width": ""
      }
     },
     "a777dd22b8624af5bc7a3976cc9e411e": {
      "model_module": "@jupyter-widgets/controls",
      "model_module_version": "1.5.0",
      "model_name": "ToggleButtonModel",
      "state": {
       "description": "Mt",
       "layout": "IPY_MODEL_fd5ad32241464cf091eabc524ceb6cb8",
       "style": "IPY_MODEL_aec725a7b57742a388c97943b09ed227"
      }
     },
     "a79a66a57ba64f359e79a098807df381": {
      "model_module": "@jupyter-widgets/base",
      "model_module_version": "1.2.0",
      "model_name": "LayoutModel",
      "state": {
       "grid_template_areas": "\"widget001 . . . . . . . . . . . . . . . . widget002\"\n\"widget003 widget004 . . . . . . . . . . widget005 widget006 widget007 widget008 widget009 widget010\"\n\"widget011 widget012 . . . . . . . . . . widget013 widget014 widget015 widget016 widget017 widget018\"\n\"widget019 widget020 widget021 widget022 widget023 widget024 widget025 widget026 widget027 widget028 widget029 widget030 widget031 widget032 widget033 widget034 widget035 widget036\"\n\"widget037 widget038 widget039 widget040 widget041 widget042 widget043 widget044 widget045 widget046 widget047 widget048 widget049 widget050 widget051 widget052 widget053 widget054\"\n\"widget055 widget056 . widget072 widget073 widget074 widget075 widget076 widget077 widget078 widget079 widget080 widget081 widget082 widget083 widget084 widget085 widget086\"\n\"widget087 widget088 . widget104 widget105 widget106 widget107 widget108 widget109 widget110 widget111 widget112 widget113 widget114 widget115 widget116 widget117 widget118\"\n\". . . . . . . . . . . . . . . . . .\"\n\". . widget057 widget058 widget059 widget060 widget061 widget062 widget063 widget064 widget065 widget066 widget067 widget068 widget069 widget070 widget071 .\"\n\". . widget089 widget090 widget091 widget092 widget093 widget094 widget095 widget096 widget097 widget098 widget099 widget100 widget101 widget102 widget103 .\"",
       "grid_template_columns": "repeat(18, 1fr)",
       "grid_template_rows": "repeat(10, 1fr)",
       "width": "860px"
      }
     },
     "a8f015a1839e4bb68e088402723e14f7": {
      "model_module": "@jupyter-widgets/controls",
      "model_module_version": "1.5.0",
      "model_name": "DescriptionStyleModel",
      "state": {
       "description_width": ""
      }
     },
     "a9177f410a9c40c29071a358f213d6cf": {
      "model_module": "@jupyter-widgets/controls",
      "model_module_version": "1.5.0",
      "model_name": "DescriptionStyleModel",
      "state": {
       "description_width": ""
      }
     },
     "a9e0e62afc6644b5b8a125bacc149bcb": {
      "model_module": "@jupyter-widgets/controls",
      "model_module_version": "1.5.0",
      "model_name": "DescriptionStyleModel",
      "state": {
       "description_width": ""
      }
     },
     "aa5b0464b8784fe6affd7ea7f7453ea4": {
      "model_module": "@jupyter-widgets/controls",
      "model_module_version": "1.5.0",
      "model_name": "DescriptionStyleModel",
      "state": {
       "description_width": ""
      }
     },
     "ab5402de0172421ab72cfe2bd05eecc7": {
      "model_module": "@jupyter-widgets/base",
      "model_module_version": "1.2.0",
      "model_name": "LayoutModel",
      "state": {
       "grid_area": "widget002",
       "height": "22px",
       "width": "42px"
      }
     },
     "ac47fcf460044a50942588b6ce329c4d": {
      "model_module": "@jupyter-widgets/controls",
      "model_module_version": "1.5.0",
      "model_name": "DescriptionStyleModel",
      "state": {
       "description_width": ""
      }
     },
     "ac79f52515c54ddf9b6e7ee32322b871": {
      "model_module": "@jupyter-widgets/controls",
      "model_module_version": "1.5.0",
      "model_name": "ToggleButtonModel",
      "state": {
       "description": "Na",
       "layout": "IPY_MODEL_6f331cc845d3426491b76fe34b6679ec",
       "style": "IPY_MODEL_9256151d127b4cb7829662ef31383ed0"
      }
     },
     "ac7dad0f79fc48689c37edc68e771e6b": {
      "model_module": "@jupyter-widgets/base",
      "model_module_version": "1.2.0",
      "model_name": "LayoutModel",
      "state": {
       "grid_area": "widget034",
       "height": "22px",
       "width": "42px"
      }
     },
     "ad05fed7229b43d18c35f20d7cd800d9": {
      "model_module": "@jupyter-widgets/base",
      "model_module_version": "1.2.0",
      "model_name": "LayoutModel",
      "state": {
       "grid_area": "widget050",
       "height": "22px",
       "width": "42px"
      }
     },
     "adc7a44fc276405ba2872096200ebcae": {
      "model_module": "@jupyter-widgets/base",
      "model_module_version": "1.2.0",
      "model_name": "LayoutModel",
      "state": {
       "grid_area": "widget058",
       "height": "22px",
       "width": "42px"
      }
     },
     "ae456f6d35884b4e8fc175b6f0bcb78a": {
      "model_module": "@jupyter-widgets/controls",
      "model_module_version": "1.5.0",
      "model_name": "ToggleButtonModel",
      "state": {
       "description": "Sc",
       "layout": "IPY_MODEL_495b78c42c66499dbf5246d6602bdf51",
       "style": "IPY_MODEL_2d6d8dbcc7bf43deb6a175db4064ef8a"
      }
     },
     "aec725a7b57742a388c97943b09ed227": {
      "model_module": "@jupyter-widgets/controls",
      "model_module_version": "1.5.0",
      "model_name": "DescriptionStyleModel",
      "state": {
       "description_width": ""
      }
     },
     "b0e39fededab49b2a5540d97cbb4200f": {
      "model_module": "@jupyter-widgets/base",
      "model_module_version": "1.2.0",
      "model_name": "LayoutModel",
      "state": {
       "grid_area": "widget063",
       "height": "22px",
       "width": "42px"
      }
     },
     "b111eb37be0a42c6bbb5026346e991f8": {
      "model_module": "@jupyter-widgets/controls",
      "model_module_version": "1.5.0",
      "model_name": "ToggleButtonModel",
      "state": {
       "description": "Tl",
       "layout": "IPY_MODEL_f32fd4ef54754bfdbb1005a0bda75128",
       "style": "IPY_MODEL_d2c9cbfe017641c2ab2b8c1f846e77b1"
      }
     },
     "b23f06607a9a4ab399f5b46aec8be8ad": {
      "model_module": "@jupyter-widgets/base",
      "model_module_version": "1.2.0",
      "model_name": "LayoutModel",
      "state": {
       "grid_area": "widget017",
       "height": "22px",
       "width": "42px"
      }
     },
     "b25d782555e04ecda7a9eb02a0e7cbba": {
      "model_module": "@jupyter-widgets/controls",
      "model_module_version": "1.5.0",
      "model_name": "ToggleButtonModel",
      "state": {
       "description": "Pa",
       "layout": "IPY_MODEL_5c3275523029482da793c205070e2e80",
       "style": "IPY_MODEL_65db35f98e954e6e86e1ede315ed6793"
      }
     },
     "b2664b0e7e544a9bbfbf08f18fd792e7": {
      "model_module": "@jupyter-widgets/controls",
      "model_module_version": "1.5.0",
      "model_name": "ToggleButtonModel",
      "state": {
       "description": "Tc",
       "layout": "IPY_MODEL_150c9b433b9744db8edcfc749a14a2b9",
       "style": "IPY_MODEL_036837de48804d5291d4579e539cf2c7"
      }
     },
     "b28098dd67824808a9519c34dda10bcb": {
      "model_module": "@jupyter-widgets/controls",
      "model_module_version": "1.5.0",
      "model_name": "ToggleButtonModel",
      "state": {
       "description": "Md",
       "layout": "IPY_MODEL_04f13c8480774cad874f38001649c72a",
       "style": "IPY_MODEL_7fe1054699bf40f8a70d40a1974b8d10"
      }
     },
     "b32e3a1045f4481a8198009a7e21a138": {
      "model_module": "@jupyter-widgets/base",
      "model_module_version": "1.2.0",
      "model_name": "LayoutModel",
      "state": {
       "grid_area": "widget012",
       "height": "22px",
       "width": "42px"
      }
     },
     "b3c20e0851ba4698aeff553204f38cac": {
      "model_module": "@jupyter-widgets/controls",
      "model_module_version": "1.5.0",
      "model_name": "DescriptionStyleModel",
      "state": {
       "description_width": ""
      }
     },
     "b4aa63c18d0a4bad9ba9238c0e0463bd": {
      "model_module": "@jupyter-widgets/controls",
      "model_module_version": "1.5.0",
      "model_name": "BoxModel",
      "state": {
       "layout": "IPY_MODEL_6e72aa0362944b34b7373a50250b5dbc"
      }
     },
     "b509d6485be04dff8c3592c4c686b288": {
      "model_module": "@jupyter-widgets/controls",
      "model_module_version": "1.5.0",
      "model_name": "ButtonStyleModel",
      "state": {}
     },
     "b5f60db4adde4adb8516528de9c1fa82": {
      "model_module": "@jupyter-widgets/controls",
      "model_module_version": "1.5.0",
      "model_name": "ToggleButtonModel",
      "state": {
       "description": "Cs",
       "layout": "IPY_MODEL_6e4f4db4df7d4e519484af51675a0602",
       "style": "IPY_MODEL_f0444f1a025d49dbad4aeeea0ddd12c0"
      }
     },
     "b6422891c9644cddb256c2a966f8ed29": {
      "model_module": "@jupyter-widgets/base",
      "model_module_version": "1.2.0",
      "model_name": "LayoutModel",
      "state": {
       "grid_area": "widget029",
       "height": "22px",
       "width": "42px"
      }
     },
     "b644da81a1734412a6a56af3fc1e99b3": {
      "model_module": "@jupyter-widgets/controls",
      "model_module_version": "1.5.0",
      "model_name": "DescriptionStyleModel",
      "state": {
       "description_width": ""
      }
     },
     "b67e2d757f004dac9d7b309a341166eb": {
      "model_module": "@jupyter-widgets/controls",
      "model_module_version": "1.5.0",
      "model_name": "DescriptionStyleModel",
      "state": {
       "description_width": ""
      }
     },
     "b6c3e01ec76a4a76a57766916a7e3774": {
      "model_module": "@jupyter-widgets/base",
      "model_module_version": "1.2.0",
      "model_name": "LayoutModel",
      "state": {
       "grid_area": "widget076",
       "height": "22px",
       "width": "42px"
      }
     },
     "b6cabe185d1d4bcb87f7c05c39067cc8": {
      "model_module": "@jupyter-widgets/controls",
      "model_module_version": "1.5.0",
      "model_name": "DescriptionStyleModel",
      "state": {
       "description_width": ""
      }
     },
     "b7098221b13942ebbf7e2d4b21bb463e": {
      "model_module": "@jupyter-widgets/controls",
      "model_module_version": "1.5.0",
      "model_name": "ToggleButtonModel",
      "state": {
       "description": "Y",
       "layout": "IPY_MODEL_c776c1785e454613b6824ae24351d090",
       "style": "IPY_MODEL_987203a07538461683d78b58134d3634"
      }
     },
     "b82d8efa44ec462d93a9e6f2e16b3191": {
      "model_module": "@jupyter-widgets/controls",
      "model_module_version": "1.5.0",
      "model_name": "DescriptionStyleModel",
      "state": {
       "description_width": ""
      }
     },
     "b854330ca38f4224aaabeb9d3eeb43c5": {
      "model_module": "@jupyter-widgets/controls",
      "model_module_version": "1.5.0",
      "model_name": "ButtonModel",
      "state": {
       "description": "support",
       "layout": "IPY_MODEL_2b310e62c7104883b6f2a36a62a2df8f",
       "style": "IPY_MODEL_b509d6485be04dff8c3592c4c686b288"
      }
     },
     "b866b7637a714fa5b860e0fd7cbbb86e": {
      "model_module": "@jupyter-widgets/controls",
      "model_module_version": "1.5.0",
      "model_name": "DescriptionStyleModel",
      "state": {
       "description_width": ""
      }
     },
     "b91fd7a4910c4347a9921bdec3a01f19": {
      "model_module": "@jupyter-widgets/controls",
      "model_module_version": "1.5.0",
      "model_name": "ToggleButtonModel",
      "state": {
       "description": "Nb",
       "layout": "IPY_MODEL_5a19dd1a5cf34b1f9115caaab5d3f50b",
       "style": "IPY_MODEL_2f20035bd2b246a9894a5243b9c49d12"
      }
     },
     "b93a437d8a4f4003a62b4f350f995c1d": {
      "model_module": "@jupyter-widgets/base",
      "model_module_version": "1.2.0",
      "model_name": "LayoutModel",
      "state": {
       "grid_area": "widget048",
       "height": "22px",
       "width": "42px"
      }
     },
     "b9bda75c04c04ae4b23c7952c91764ae": {
      "model_module": "@jupyter-widgets/controls",
      "model_module_version": "1.5.0",
      "model_name": "ToggleButtonModel",
      "state": {
       "description": "Ge",
       "layout": "IPY_MODEL_c43518d884d7446a93cd0b542eaa2263",
       "style": "IPY_MODEL_a4db9abf2d2e485dbe4125a4ccbd0296"
      }
     },
     "b9efcbb312554511bd065c2f0c65c270": {
      "model_module": "@jupyter-widgets/controls",
      "model_module_version": "1.5.0",
      "model_name": "DescriptionStyleModel",
      "state": {
       "description_width": ""
      }
     },
     "ba14c0c877624e908aa0a7214e3a0bc1": {
      "model_module": "@jupyter-widgets/controls",
      "model_module_version": "1.5.0",
      "model_name": "DescriptionStyleModel",
      "state": {
       "description_width": ""
      }
     },
     "ba9f5952691545f08df07c6d56a3ec65": {
      "model_module": "@jupyter-widgets/controls",
      "model_module_version": "1.5.0",
      "model_name": "DescriptionStyleModel",
      "state": {
       "description_width": ""
      }
     },
     "bc5a9a72970e4010bf21812ca835daa0": {
      "model_module": "@jupyter-widgets/base",
      "model_module_version": "1.2.0",
      "model_name": "LayoutModel",
      "state": {
       "grid_area": "widget096",
       "height": "22px",
       "width": "42px"
      }
     },
     "bc77136371014a85b09dce2c1ceeeb6f": {
      "model_module": "@jupyter-widgets/base",
      "model_module_version": "1.2.0",
      "model_name": "LayoutModel",
      "state": {
       "grid_area": "widget115",
       "height": "22px",
       "width": "42px"
      }
     },
     "bd0783ecfffc4e1590695538ebceff34": {
      "model_module": "@jupyter-widgets/controls",
      "model_module_version": "1.5.0",
      "model_name": "ToggleButtonModel",
      "state": {
       "description": "Ra",
       "layout": "IPY_MODEL_05db762cdece4b22a55d2ad41f3e4e65",
       "style": "IPY_MODEL_b866b7637a714fa5b860e0fd7cbbb86e"
      }
     },
     "bda1d42b7a104070903ca4d11ba634cf": {
      "model_module": "@jupyter-widgets/controls",
      "model_module_version": "1.5.0",
      "model_name": "DescriptionStyleModel",
      "state": {
       "description_width": ""
      }
     },
     "bdc8782834e84ed2ab897d2cff0970ff": {
      "model_module": "@jupyter-widgets/base",
      "model_module_version": "1.2.0",
      "model_name": "LayoutModel",
      "state": {
       "grid_area": "widget090",
       "height": "22px",
       "width": "42px"
      }
     },
     "bf9de3217fae4f25af833c7a98cc5b87": {
      "model_module": "@jupyter-widgets/base",
      "model_module_version": "1.2.0",
      "model_name": "LayoutModel",
      "state": {
       "grid_area": "widget037",
       "height": "22px",
       "width": "42px"
      }
     },
     "bfcae78edddb41fc902c17d0574158d0": {
      "model_module": "@jupyter-widgets/base",
      "model_module_version": "1.2.0",
      "model_name": "LayoutModel",
      "state": {
       "grid_area": "widget067",
       "height": "22px",
       "width": "42px"
      }
     },
     "c138dc7c59664a75b6d24cb705976399": {
      "model_module": "@jupyter-widgets/controls",
      "model_module_version": "1.5.0",
      "model_name": "ToggleButtonModel",
      "state": {
       "description": "Sb",
       "layout": "IPY_MODEL_d7b5dde18873484e805844cdfdeefe63",
       "style": "IPY_MODEL_20e69ba519a64c468100f3512e3a429a"
      }
     },
     "c25faa6b262c4646985b61375fdf2933": {
      "model_module": "@jupyter-widgets/controls",
      "model_module_version": "1.5.0",
      "model_name": "DescriptionStyleModel",
      "state": {
       "description_width": ""
      }
     },
     "c2b6bdd370504eebb78747fed1b39c39": {
      "model_module": "@jupyter-widgets/controls",
      "model_module_version": "1.5.0",
      "model_name": "DescriptionStyleModel",
      "state": {
       "description_width": ""
      }
     },
     "c2bbeff747fd4fe0b773ffa9cef3f445": {
      "model_module": "@jupyter-widgets/controls",
      "model_module_version": "1.5.0",
      "model_name": "ToggleButtonModel",
      "state": {
       "description": "Lu",
       "layout": "IPY_MODEL_6464ab32b830460c98a4f6cdf8f3918a",
       "style": "IPY_MODEL_8884f84110e649b0a139f04c0422dd6f"
      }
     },
     "c2e9a6576efb41daa122fedb98b10b16": {
      "model_module": "@jupyter-widgets/base",
      "model_module_version": "1.2.0",
      "model_name": "LayoutModel",
      "state": {}
     },
     "c35264c79f904736a6c27df45474eaf1": {
      "model_module": "@jupyter-widgets/controls",
      "model_module_version": "1.5.0",
      "model_name": "ButtonStyleModel",
      "state": {}
     },
     "c43518d884d7446a93cd0b542eaa2263": {
      "model_module": "@jupyter-widgets/base",
      "model_module_version": "1.2.0",
      "model_name": "LayoutModel",
      "state": {
       "grid_area": "widget032",
       "height": "22px",
       "width": "42px"
      }
     },
     "c4423d979b44488380d38450aaef873c": {
      "model_module": "@jupyter-widgets/base",
      "model_module_version": "1.2.0",
      "model_name": "LayoutModel",
      "state": {
       "grid_area": "widget028",
       "height": "22px",
       "width": "42px"
      }
     },
     "c4dafcd659d34afd9b4bab30d0faeff3": {
      "model_module": "@jupyter-widgets/base",
      "model_module_version": "1.2.0",
      "model_name": "LayoutModel",
      "state": {
       "grid_area": "widget105",
       "height": "22px",
       "width": "42px"
      }
     },
     "c5735a7c066841bda6232c58abead566": {
      "model_module": "@jupyter-widgets/base",
      "model_module_version": "1.2.0",
      "model_name": "LayoutModel",
      "state": {
       "grid_area": "widget118",
       "height": "22px",
       "width": "42px"
      }
     },
     "c57aa605ac864178a762587f8cb3ebb1": {
      "model_module": "@jupyter-widgets/controls",
      "model_module_version": "1.5.0",
      "model_name": "ToggleButtonModel",
      "state": {
       "description": "Pu",
       "layout": "IPY_MODEL_a1c0122226ba410abe3586eb97fe7b94",
       "style": "IPY_MODEL_3fb29ca9e0484045965e0a9f70e66d92"
      }
     },
     "c59205cacda1414c88a673b238418273": {
      "model_module": "@jupyter-widgets/controls",
      "model_module_version": "1.5.0",
      "model_name": "ButtonModel",
      "state": {
       "description": "view",
       "layout": "IPY_MODEL_2b310e62c7104883b6f2a36a62a2df8f",
       "style": "IPY_MODEL_4ee8aa7d2f4b4ea08ed4788ec7ea0eb3"
      }
     },
     "c5bf69d7882c4eab9ea8480f27e2b5b5": {
      "model_module": "@jupyter-widgets/controls",
      "model_module_version": "1.5.0",
      "model_name": "ToggleButtonModel",
      "state": {
       "description": "Cm",
       "layout": "IPY_MODEL_bc5a9a72970e4010bf21812ca835daa0",
       "style": "IPY_MODEL_b3c20e0851ba4698aeff553204f38cac"
      }
     },
     "c6ced1b9d37643d9b978aa9258a496cf": {
      "model_module": "@jupyter-widgets/controls",
      "model_module_version": "1.5.0",
      "model_name": "DescriptionStyleModel",
      "state": {
       "description_width": ""
      }
     },
     "c6ef74ca57b348d1b30adbee27c1bf8b": {
      "model_module": "@jupyter-widgets/controls",
      "model_module_version": "1.5.0",
      "model_name": "ToggleButtonModel",
      "state": {
       "description": "Pr",
       "layout": "IPY_MODEL_47be2cc39d954158a294b0ace89b3663",
       "style": "IPY_MODEL_91363a2e52904acfba06f1411a9294e8"
      }
     },
     "c774736454074dd1956787d82f8fe0b0": {
      "model_module": "@jupyter-widgets/controls",
      "model_module_version": "1.5.0",
      "model_name": "ToggleButtonModel",
      "state": {
       "description": "Ds",
       "layout": "IPY_MODEL_677dcad4d1e447ec8412bcbbb1a01c0c",
       "style": "IPY_MODEL_1738e2414f2e4382a970726a0d1c255f"
      }
     },
     "c776c1785e454613b6824ae24351d090": {
      "model_module": "@jupyter-widgets/base",
      "model_module_version": "1.2.0",
      "model_name": "LayoutModel",
      "state": {
       "grid_area": "widget039",
       "height": "22px",
       "width": "42px"
      }
     },
     "c812d369239d402a81dc8a7914f10273": {
      "model_module": "@jupyter-widgets/controls",
      "model_module_version": "1.5.0",
      "model_name": "ToggleButtonModel",
      "state": {
       "description": "Db",
       "layout": "IPY_MODEL_c4dafcd659d34afd9b4bab30d0faeff3",
       "style": "IPY_MODEL_39cb963f6c19405a8da4cbdf6eabc567"
      }
     },
     "c827d971aa204a7e9811cf03036cd7fe": {
      "model_module": "@jupyter-widgets/base",
      "model_module_version": "1.2.0",
      "model_name": "LayoutModel",
      "state": {
       "grid_area": "widget104",
       "height": "22px",
       "width": "42px"
      }
     },
     "c8b792986a1d42b9aa42bc9c9957a50b": {
      "model_module": "@jupyter-widgets/controls",
      "model_module_version": "1.5.0",
      "model_name": "ToggleButtonModel",
      "state": {
       "description": "Ta",
       "layout": "IPY_MODEL_46b0082731064bafaa9f88c79cfc9827",
       "style": "IPY_MODEL_45e85a399b954728bcf1de5b920399ef"
      }
     },
     "c995a3e2148f4306962541942f45eb07": {
      "model_module": "@jupyter-widgets/base",
      "model_module_version": "1.2.0",
      "model_name": "LayoutModel",
      "state": {}
     },
     "ca30d888ad3b40d7b00991153de76e92": {
      "model_module": "@jupyter-widgets/controls",
      "model_module_version": "1.5.0",
      "model_name": "ToggleButtonModel",
      "state": {
       "description": "Fl",
       "layout": "IPY_MODEL_08b3c902924343f1aa59ec91a4c4fbcd",
       "style": "IPY_MODEL_1a2d314bb8c84529af532a27557e0189"
      }
     },
     "caa114d6d5884a428a48def356428927": {
      "model_module": "@jupyter-widgets/controls",
      "model_module_version": "1.5.0",
      "model_name": "ProgressStyleModel",
      "state": {
       "description_width": ""
      }
     },
     "cc08748766d241aca2bb6cdb87724922": {
      "model_module": "@jupyter-widgets/base",
      "model_module_version": "1.2.0",
      "model_name": "LayoutModel",
      "state": {
       "grid_area": "widget083",
       "height": "22px",
       "width": "42px"
      }
     },
     "cca0aa8bceff44fc97bf39567ddce62b": {
      "model_module": "@jupyter-widgets/controls",
      "model_module_version": "1.5.0",
      "model_name": "DescriptionStyleModel",
      "state": {
       "description_width": ""
      }
     },
     "cde70cef5e7d406398d364dc00389868": {
      "model_module": "@jupyter-widgets/controls",
      "model_module_version": "1.5.0",
      "model_name": "ToggleButtonModel",
      "state": {
       "description": "Lr",
       "layout": "IPY_MODEL_4ed7a34f1e5340398d779bda0d8d66b2",
       "style": "IPY_MODEL_43b3a6f2069d46d29857117ee557bc8f"
      }
     },
     "ce0f520bf7f6489da7f521602e629f64": {
      "model_module": "@jupyter-widgets/base",
      "model_module_version": "1.2.0",
      "model_name": "LayoutModel",
      "state": {
       "grid_area": "widget066",
       "height": "22px",
       "width": "42px"
      }
     },
     "ce46d79c932f46f3bc0da8d2b61830cc": {
      "model_module": "@jupyter-widgets/base",
      "model_module_version": "1.2.0",
      "model_name": "LayoutModel",
      "state": {
       "grid_area": "widget054",
       "height": "22px",
       "width": "42px"
      }
     },
     "ce63b93a380040d6a0b0f96d4b8ee6b4": {
      "model_module": "@jupyter-widgets/controls",
      "model_module_version": "1.5.0",
      "model_name": "DescriptionStyleModel",
      "state": {
       "description_width": ""
      }
     },
     "cec9b450c220488b9977cfcc8e372df2": {
      "model_module": "@jupyter-widgets/controls",
      "model_module_version": "1.5.0",
      "model_name": "ToggleButtonModel",
      "state": {
       "description": "W",
       "layout": "IPY_MODEL_19bac9987b584025b7450612bc670a3b",
       "style": "IPY_MODEL_6aee4742065843d6ab66c1b74f9887ec"
      }
     },
     "d02f4ec7294d42d8b9405ddc447b4573": {
      "model_module": "@jupyter-widgets/controls",
      "model_module_version": "1.5.0",
      "model_name": "HBoxModel",
      "state": {
       "children": [
        "IPY_MODEL_c59205cacda1414c88a673b238418273",
        "IPY_MODEL_454ce0a0964748b087b7bae59756423c"
       ],
       "layout": "IPY_MODEL_c2e9a6576efb41daa122fedb98b10b16"
      }
     },
     "d0ec3b55d86e4a8eaabf3c388c815af3": {
      "model_module": "@jupyter-widgets/base",
      "model_module_version": "1.2.0",
      "model_name": "LayoutModel",
      "state": {
       "grid_area": "widget006",
       "height": "22px",
       "width": "42px"
      }
     },
     "d2c9cbfe017641c2ab2b8c1f846e77b1": {
      "model_module": "@jupyter-widgets/controls",
      "model_module_version": "1.5.0",
      "model_name": "DescriptionStyleModel",
      "state": {
       "description_width": ""
      }
     },
     "d34f86c0b8d44ab7a92a49d8c80fdbdb": {
      "model_module": "nglview-js-widgets",
      "model_module_version": "3.0.1",
      "model_name": "ColormakerRegistryModel",
      "state": {
       "_msg_ar": [],
       "_msg_q": [],
       "_ready": true,
       "layout": "IPY_MODEL_6777cb7273534d4db05ab7413d992acb"
      }
     },
     "d353b24a3cbc4069b093b4e692a0db20": {
      "model_module": "@jupyter-widgets/base",
      "model_module_version": "1.2.0",
      "model_name": "LayoutModel",
      "state": {
       "grid_area": "widget100",
       "height": "22px",
       "width": "42px"
      }
     },
     "d43eef4c92064c96be18531ee00fc534": {
      "model_module": "@jupyter-widgets/base",
      "model_module_version": "1.2.0",
      "model_name": "LayoutModel",
      "state": {
       "grid_area": "widget107",
       "height": "22px",
       "width": "42px"
      }
     },
     "d4bf9369e15f42a3ab7741e709e9ed43": {
      "model_module": "@jupyter-widgets/controls",
      "model_module_version": "1.5.0",
      "model_name": "DescriptionStyleModel",
      "state": {
       "description_width": ""
      }
     },
     "d59f095095094f0d8103522a5198ed59": {
      "model_module": "@jupyter-widgets/base",
      "model_module_version": "1.2.0",
      "model_name": "LayoutModel",
      "state": {
       "grid_area": "widget038",
       "height": "22px",
       "width": "42px"
      }
     },
     "d668fd78517c49b0be7751a1b52c1e12": {
      "model_module": "@jupyter-widgets/base",
      "model_module_version": "1.2.0",
      "model_name": "LayoutModel",
      "state": {
       "grid_area": "widget015",
       "height": "22px",
       "width": "42px"
      }
     },
     "d7b5dde18873484e805844cdfdeefe63": {
      "model_module": "@jupyter-widgets/base",
      "model_module_version": "1.2.0",
      "model_name": "LayoutModel",
      "state": {
       "grid_area": "widget051",
       "height": "22px",
       "width": "42px"
      }
     },
     "d8788fc75919433486beb75753c4565e": {
      "model_module": "@jupyter-widgets/controls",
      "model_module_version": "1.5.0",
      "model_name": "ToggleButtonModel",
      "state": {
       "description": "N",
       "layout": "IPY_MODEL_298f5adc068341bdaa92bdac2b9270e2",
       "style": "IPY_MODEL_25ad0847b6b741a3a8549d996af4f8bd"
      }
     },
     "d8ef24c02776480790b076356fdf4bca": {
      "model_module": "@jupyter-widgets/base",
      "model_module_version": "1.2.0",
      "model_name": "LayoutModel",
      "state": {
       "border": "1px solid black"
      }
     },
     "da55860032114e0fa73a66d138d22352": {
      "model_module": "@jupyter-widgets/controls",
      "model_module_version": "1.5.0",
      "model_name": "DescriptionStyleModel",
      "state": {
       "description_width": ""
      }
     },
     "dbbcf09dbd3a45bba62e1ad4dd1431a2": {
      "model_module": "@jupyter-widgets/base",
      "model_module_version": "1.2.0",
      "model_name": "LayoutModel",
      "state": {
       "grid_area": "widget108",
       "height": "22px",
       "width": "42px"
      }
     },
     "dc2ae80ed9044fa2b1920624b8fdc914": {
      "model_module": "@jupyter-widgets/controls",
      "model_module_version": "1.5.0",
      "model_name": "DescriptionStyleModel",
      "state": {
       "description_width": ""
      }
     },
     "dc8ffd27dcfa49328799d854d61d7640": {
      "model_module": "@jupyter-widgets/controls",
      "model_module_version": "1.5.0",
      "model_name": "VBoxModel",
      "state": {
       "children": [
        "IPY_MODEL_d02f4ec7294d42d8b9405ddc447b4573",
        "IPY_MODEL_2fb985330f5d4a9287ee48941f4b08f8"
       ],
       "layout": "IPY_MODEL_419c913b15a84254a9716928e9cd8c60"
      }
     },
     "dcbe2f45cf5d419ca5ae6c3cb0ede6e4": {
      "model_module": "@jupyter-widgets/controls",
      "model_module_version": "1.5.0",
      "model_name": "ToggleButtonModel",
      "state": {
       "description": "Bi",
       "layout": "IPY_MODEL_cc08748766d241aca2bb6cdb87724922",
       "style": "IPY_MODEL_b82d8efa44ec462d93a9e6f2e16b3191"
      }
     },
     "dde071f2318d4047b0c14e0db7f50bf8": {
      "model_module": "@jupyter-widgets/base",
      "model_module_version": "1.2.0",
      "model_name": "LayoutModel",
      "state": {
       "grid_area": "widget064",
       "height": "22px",
       "width": "42px"
      }
     },
     "e021398dc0e54cc09828465eb6065287": {
      "model_module": "@jupyter-widgets/controls",
      "model_module_version": "1.5.0",
      "model_name": "DescriptionStyleModel",
      "state": {
       "description_width": ""
      }
     },
     "e048ce39991441fab17c7a66e7d06adc": {
      "model_module": "@jupyter-widgets/controls",
      "model_module_version": "1.5.0",
      "model_name": "ToggleButtonModel",
      "state": {
       "description": "Br",
       "layout": "IPY_MODEL_229a5a53543d45f09615e127421b9f41",
       "style": "IPY_MODEL_9f9dcf0a67d74fee8571a6e2df193c84"
      }
     },
     "e177c0f949794730a066b01d9f28dadf": {
      "model_module": "@jupyter-widgets/controls",
      "model_module_version": "1.5.0",
      "model_name": "ToggleButtonModel",
      "state": {
       "description": "Tb",
       "layout": "IPY_MODEL_120020679d524235b6ab48c3482d2c4c",
       "style": "IPY_MODEL_5a92e7c2d0d948c393e950d6fee41942"
      }
     },
     "e1bb8be7d328428d9a1074c6352f3d78": {
      "model_module": "@jupyter-widgets/controls",
      "model_module_version": "1.5.0",
      "model_name": "ToggleButtonModel",
      "state": {
       "description": "Tm",
       "layout": "IPY_MODEL_f684bac4e20f40e093bf490256936413",
       "style": "IPY_MODEL_570e17e8e18d44e4aae8089b894d708d"
      }
     },
     "e24a5c288ee84cd28bf3d9fdead9f45a": {
      "model_module": "@jupyter-widgets/controls",
      "model_module_version": "1.5.0",
      "model_name": "ToggleButtonModel",
      "state": {
       "description": "La",
       "layout": "IPY_MODEL_ef6a8c213023408e83420d72ad38f421",
       "style": "IPY_MODEL_c2b6bdd370504eebb78747fed1b39c39"
      }
     },
     "e2a51eb7585c43bea56009b89814ed97": {
      "model_module": "@jupyter-widgets/base",
      "model_module_version": "1.2.0",
      "model_name": "LayoutModel",
      "state": {
       "grid_area": "widget113",
       "height": "22px",
       "width": "42px"
      }
     },
     "e2d3826c884348b4865101d654f4e5a9": {
      "model_module": "@jupyter-widgets/controls",
      "model_module_version": "1.5.0",
      "model_name": "ToggleButtonModel",
      "state": {
       "description": "Rh",
       "layout": "IPY_MODEL_92a2d07e862641348af281ac9e82628b",
       "style": "IPY_MODEL_228cc862f260463f9392198f92bf01ce"
      }
     },
     "e31089882f474e55a033b0a4d9c1c12d": {
      "model_module": "@jupyter-widgets/controls",
      "model_module_version": "1.5.0",
      "model_name": "ButtonModel",
      "state": {
       "description": "search",
       "layout": "IPY_MODEL_2b310e62c7104883b6f2a36a62a2df8f",
       "style": "IPY_MODEL_a2c7e0bcc11d40cba514e472502fbd36"
      }
     },
     "e37cceef98e0492b9439c60aef8fa2bf": {
      "model_module": "@jupyter-widgets/base",
      "model_module_version": "1.2.0",
      "model_name": "LayoutModel",
      "state": {
       "grid_area": "widget033",
       "height": "22px",
       "width": "42px"
      }
     },
     "e3eb862782d1493e80b50e7b062059bc": {
      "model_module": "@jupyter-widgets/controls",
      "model_module_version": "1.5.0",
      "model_name": "DescriptionStyleModel",
      "state": {
       "description_width": ""
      }
     },
     "e4039d28b7204b5589a38376ef484985": {
      "model_module": "@jupyter-widgets/controls",
      "model_module_version": "1.5.0",
      "model_name": "ToggleButtonModel",
      "state": {
       "description": "Am",
       "layout": "IPY_MODEL_0e112f4b80ec4914bb1b84efb2398e65",
       "style": "IPY_MODEL_b9efcbb312554511bd065c2f0c65c270"
      }
     },
     "e43dda6fc2c14c2592871e710ddcc055": {
      "model_module": "@jupyter-widgets/base",
      "model_module_version": "1.2.0",
      "model_name": "LayoutModel",
      "state": {
       "grid_area": "widget018",
       "height": "22px",
       "width": "42px"
      }
     },
     "e463c619b41343f3b2c6c27496e571f7": {
      "model_module": "@jupyter-widgets/controls",
      "model_module_version": "1.5.0",
      "model_name": "DescriptionStyleModel",
      "state": {
       "description_width": ""
      }
     },
     "e49789ff55614c6796643934f5ab4a81": {
      "model_module": "@jupyter-widgets/controls",
      "model_module_version": "1.5.0",
      "model_name": "DescriptionStyleModel",
      "state": {
       "description_width": ""
      }
     },
     "e4f5821371ae4275b8223703712bfa31": {
      "model_module": "@jupyter-widgets/controls",
      "model_module_version": "1.5.0",
      "model_name": "ToggleButtonModel",
      "state": {
       "description": "Sr",
       "layout": "IPY_MODEL_d59f095095094f0d8103522a5198ed59",
       "style": "IPY_MODEL_99e937ed5e9f4d019245ce178495c696"
      }
     },
     "e5023e2ca8cb4346a5ca8d85051d75f3": {
      "model_module": "@jupyter-widgets/controls",
      "model_module_version": "1.5.0",
      "model_name": "ToggleButtonModel",
      "state": {
       "description": "Nd",
       "layout": "IPY_MODEL_fc0e5d0829884edc979863158ad6f707",
       "style": "IPY_MODEL_33613cce4b114c09bb1975d85d148f73"
      }
     },
     "e5f6b181e45843b4a3a42abbe18e8b7c": {
      "model_module": "@jupyter-widgets/controls",
      "model_module_version": "1.5.0",
      "model_name": "DescriptionStyleModel",
      "state": {
       "description_width": ""
      }
     },
     "e80696388a4f4f519a2a4923dd619f76": {
      "model_module": "@jupyter-widgets/controls",
      "model_module_version": "1.5.0",
      "model_name": "ToggleButtonModel",
      "state": {
       "description": "C",
       "icon": "check",
       "layout": "IPY_MODEL_d0ec3b55d86e4a8eaabf3c388c815af3",
       "style": "IPY_MODEL_052d0d84bfeb401d845385e9e3167263",
       "value": true
      }
     },
     "e8646df033dd420eb77c953204700233": {
      "model_module": "@jupyter-widgets/controls",
      "model_module_version": "1.5.0",
      "model_name": "ToggleButtonModel",
      "state": {
       "description": "Zr",
       "layout": "IPY_MODEL_54edfad61ee34efd9d95a5d7c9a4570d",
       "style": "IPY_MODEL_3bf2eaae2db14a7694b29ae815a614e4"
      }
     },
     "e8b755a3d3254905b0d92bf8f0178082": {
      "model_module": "@jupyter-widgets/base",
      "model_module_version": "1.2.0",
      "model_name": "LayoutModel",
      "state": {
       "grid_area": "widget046",
       "height": "22px",
       "width": "42px"
      }
     },
     "e8bad695f1124023bed997be8069cb47": {
      "model_module": "jupyterlab-plotly",
      "model_module_version": "^5.11.0",
      "model_name": "FigureModel",
      "state": {
       "_config": {
        "editSelection": false,
        "plotlyServerURL": "https://plot.ly"
       },
       "_data": [
        {
         "hoverinfo": "none",
         "line": {
          "width": 7
         },
         "marker": {
          "size": 4
         },
         "mode": "lines",
         "showlegend": false,
         "type": "scatter3d",
         "uid": "e71e0853-3184-4733-bcd5-582c942df877",
         "x": [
          0.5196152422706631,
          0,
          null,
          0.5196152422706631,
          0.5196152422706631,
          null,
          0.5196152422706631,
          0,
          null,
          0.5773502691896257,
          0.5196152422706631,
          null,
          0.5196152422706631,
          0.8660254037844386,
          null,
          0.5773502691896257,
          0.5196152422706631,
          null,
          0.5773502691896257,
          0,
          null,
          0.5773502691896257,
          0,
          null,
          0,
          0,
          null,
          0.5773502691896257,
          0.8660254037844386,
          null
         ],
         "y": [
          0.3,
          0,
          null,
          0.5,
          0.3,
          null,
          0.5,
          0,
          null,
          0.6666666666666666,
          0.3,
          null,
          0.3,
          0.5,
          null,
          0.6666666666666666,
          0.5,
          null,
          0.6666666666666666,
          0,
          null,
          0.6666666666666666,
          1,
          null,
          1,
          0,
          null,
          0.6666666666666666,
          0.5,
          null
         ],
         "z": [
          -0.3924966812133789,
          0,
          null,
          -0.9267852783203125,
          -0.3924966812133789,
          null,
          -0.9267852783203125,
          0,
          null,
          -1.3121239344278972,
          -0.3924966812133789,
          null,
          -0.3924966812133789,
          0,
          null,
          -1.3121239344278972,
          -0.9267852783203125,
          null,
          -1.3121239344278972,
          0,
          null,
          -1.3121239344278972,
          0,
          null,
          0,
          0,
          null,
          -1.3121239344278972,
          0,
          null
         ]
        },
        {
         "hoverinfo": "none",
         "line": {
          "dash": "solid",
          "width": 1
         },
         "marker": {
          "size": 4
         },
         "mode": "lines",
         "showlegend": false,
         "type": "scatter3d",
         "uid": "95c58256-d29e-4eda-b68e-a8fb833d7478",
         "x": [
          0.8660254037844386,
          0,
          null,
          0.8660254037844386,
          0,
          null,
          0.8660254037844386,
          0,
          null,
          0.8660254037844386,
          0,
          null,
          0,
          0,
          null,
          0,
          0,
          null,
          0.8660254037844386,
          0.8660254037844386,
          null,
          0,
          0,
          null,
          0,
          0,
          null
         ],
         "y": [
          0.5,
          1,
          null,
          0.5,
          1,
          null,
          0.5,
          0,
          null,
          0.5,
          0,
          null,
          1,
          0,
          null,
          1,
          0,
          null,
          0.5,
          0.5,
          null,
          1,
          1,
          null,
          0,
          0,
          null
         ],
         "z": [
          0,
          0,
          null,
          -1.3121239344278972,
          -1.3121239344278972,
          null,
          0,
          0,
          null,
          -1.3121239344278972,
          -1.3121239344278972,
          null,
          0,
          0,
          null,
          -1.3121239344278972,
          -1.3121239344278972,
          null,
          0,
          -1.3121239344278972,
          null,
          0,
          -1.3121239344278972,
          null,
          0,
          -1.3121239344278972,
          null
         ]
        },
        {
         "colorbar": {
          "len": 0.75,
          "title": {
           "text": "Formation energy<br>(eV/atom)"
          },
          "x": 0.9
         },
         "colorscale": [
          [
           0,
           "#0c8c00"
          ],
          [
           0.5,
           "#d8ffd4"
          ],
          [
           1,
           "#ffffff"
          ]
         ],
         "flatshading": true,
         "hoverinfo": "none",
         "i": [
          36,
          0,
          6,
          0,
          6
         ],
         "intensity": [
          -1.3121239344278972,
          -0.6072650636945452,
          -0.010025501251220703,
          -0.06740188598632812,
          -0.9267852783203125,
          -0.876312255859375,
          -0.3924966812133789,
          -0.5103590488433838,
          -0.8273779262195934,
          -0.9221175057547433,
          -0.2701595851353237,
          -0.1349092059665256,
          -0.1592268149058024,
          -0.18752582256610578,
          -0.07465922037760417,
          -0.031338791052500405,
          -0.07396602630615234,
          -0.071891282734118,
          -0.0945380384271795,
          -0.05682068779355004,
          -0.04434784598972486,
          -0.004090995788574219,
          -0.009637126216182002,
          -0.0700782026563372,
          -0.01768786331702923,
          -0.024976621355329243,
          -0.044644984331997956,
          -0.18760868288436025,
          -0.040192107359568276,
          -0.2158898093483665,
          -0.06180599279570998,
          -0.03884006614115701,
          -0.22092996184358893,
          -0.26923812438394423,
          0,
          0,
          0
         ],
         "j": [
          0,
          6,
          4,
          4,
          4
         ],
         "k": [
          35,
          34,
          36,
          36,
          0
         ],
         "lighting": {
          "ambient": 1,
          "diffuse": 0
         },
         "name": "Convex Hull (shading)",
         "opacity": 0.8,
         "showlegend": true,
         "type": "mesh3d",
         "uid": "e5f1cdf3-084e-4527-9402-a8a42f4cba91",
         "x": [
          0.5773502691896257,
          0.3711537444790451,
          0.4330127018922193,
          0.5773502691896257,
          0.5196152422706631,
          0.5773502691896257,
          0.5196152422706631,
          0.5412658773652741,
          0.5511070751355518,
          0.5567306167185677,
          0.49487165930539345,
          0.4811252243246881,
          0.5051814855409226,
          0.532938710021193,
          0.4618802153517006,
          0.4871392896287467,
          0.458484037297644,
          0.45580284409707295,
          0.511742284054441,
          0.45363235436327737,
          0.45183934110492446,
          0.4503332099679081,
          0.44905020936970885,
          0.4639421805988064,
          0.4479441743712614,
          0.4453844933748541,
          0.4526950974327747,
          0.5228832626623026,
          0.4510548978043951,
          0.5038693258382188,
          0.48618970037021114,
          0.45240133033515445,
          0.4999734289889542,
          0.5179965031981688,
          0.8660254037844386,
          0,
          0
         ],
         "y": [
          0.6666666666666666,
          0.7857142857142857,
          0.25,
          0.3333333333333333,
          0.5,
          0.5555555555555556,
          0.3,
          0.4375,
          0.5,
          0.5357142857142857,
          0.2857142857142857,
          0.2777777777777778,
          0.2916666666666667,
          0.3076923076923077,
          0.26666666666666666,
          0.28125,
          0.2647058823529412,
          0.2631578947368421,
          0.29545454545454547,
          0.2619047619047619,
          0.2608695652173913,
          0.26,
          0.25925925925925924,
          0.26785714285714285,
          0.25862068965517243,
          0.2571428571428571,
          0.26136363636363635,
          0.3018867924528302,
          0.2604166666666667,
          0.2909090909090909,
          0.2807017543859649,
          0.26119402985074625,
          0.28865979381443296,
          0.29906542056074764,
          0.5,
          1,
          0
         ],
         "z": [
          -1.3121239344278972,
          -0.6072650636945452,
          -0.010025501251220703,
          -0.06740188598632812,
          -0.9267852783203125,
          -0.876312255859375,
          -0.3924966812133789,
          -0.5103590488433838,
          -0.8273779262195934,
          -0.9221175057547433,
          -0.2701595851353237,
          -0.1349092059665256,
          -0.1592268149058024,
          -0.18752582256610578,
          -0.07465922037760417,
          -0.031338791052500405,
          -0.07396602630615234,
          -0.071891282734118,
          -0.0945380384271795,
          -0.05682068779355004,
          -0.04434784598972486,
          -0.004090995788574219,
          -0.009637126216182002,
          -0.0700782026563372,
          -0.01768786331702923,
          -0.024976621355329243,
          -0.044644984331997956,
          -0.18760868288436025,
          -0.040192107359568276,
          -0.2158898093483665,
          -0.06180599279570998,
          -0.03884006614115701,
          -0.22092996184358893,
          -0.26923812438394423,
          0,
          0,
          0
         ]
        },
        {
         "hoverinfo": "skip",
         "marker": {
          "size": 4
         },
         "mode": "text",
         "name": "Labels (stable)",
         "opacity": 1,
         "showlegend": true,
         "text": [
          "Fe<sub>2</sub>O<sub>3</sub>",
          "FeCO<sub>3</sub>",
          "CO<sub>2</sub>"
         ],
         "textposition": [
          "middle center",
          "middle center",
          "middle center"
         ],
         "type": "scatter3d",
         "uid": "0fa957c1-e396-4869-ab74-51cb3d958461",
         "visible": true,
         "x": [
          0.5096152422706631,
          0.5096152422706631,
          0.5673502691896257
         ],
         "y": [
          0.29,
          0.49,
          0.6766666666666666
         ],
         "z": [
          -0.26128428777058915,
          -0.7955728848775228,
          -1.1809115409851074
         ]
        },
        {
         "hoverinfo": "text",
         "hoverlabel": {
          "font": {
           "size": 14
          }
         },
         "hovertext": [
          "O<sub>2</sub> (42) <br> 0.124 eV/atom (+0.124 eV/atom)",
          "O<sub>2</sub> (43) <br> 0.012 eV/atom (+0.012 eV/atom)",
          "O<sub>2</sub> (46) <br> 0.01 eV/atom (+0.01 eV/atom)",
          "O<sub>2</sub> (105) <br> 0.002 eV/atom (+0.002 eV/atom)",
          "O<sub>2</sub> (108) <br> 0.126 eV/atom (+0.126 eV/atom)",
          "O<sub>2</sub> (115) <br> 0.018 eV/atom (+0.018 eV/atom)",
          "O<sub>2</sub> (116) <br> 0.001 eV/atom (+0.001 eV/atom)",
          "O<sub>2</sub> (126) <br> 0.03 eV/atom (+0.03 eV/atom)",
          "C (1) <br> 0.162 eV/atom (+0.162 eV/atom)",
          "C (2) <br> 0.006 eV/atom (+0.006 eV/atom)",
          "C (3) <br> 0.136 eV/atom (+0.136 eV/atom)",
          "C (6) <br> 0.001 eV/atom (+0.001 eV/atom)",
          "C (34) <br> 0.006 eV/atom (+0.006 eV/atom)",
          "C (35) <br> 0.006 eV/atom (+0.006 eV/atom)",
          "C (36) <br> 0.01 eV/atom (+0.01 eV/atom)",
          "C (38) <br> 0.028 eV/atom (+0.028 eV/atom)",
          "C (39) <br> 0.145 eV/atom (+0.145 eV/atom)",
          "C (40) <br> 0.144 eV/atom (+0.144 eV/atom)",
          "C (41) <br> 0.008 eV/atom (+0.008 eV/atom)",
          "C (44) <br> 0.146 eV/atom (+0.146 eV/atom)",
          "C (45) <br> 0.143 eV/atom (+0.143 eV/atom)",
          "C (49) <br> 0.141 eV/atom (+0.141 eV/atom)",
          "C (50) <br> 0.012 eV/atom (+0.012 eV/atom)",
          "C (99) <br> 0.004 eV/atom (+0.004 eV/atom)",
          "C (100) <br> 0.008 eV/atom (+0.008 eV/atom)",
          "C (101) <br> 0.007 eV/atom (+0.007 eV/atom)",
          "C (103) <br> 0.008 eV/atom (+0.008 eV/atom)",
          "C (106) <br> 0.008 eV/atom (+0.008 eV/atom)",
          "C (113) <br> 0.266 eV/atom (+0.266 eV/atom)",
          "C (114) <br> 0.299 eV/atom (+0.299 eV/atom)",
          "C (118) <br> 0.116 eV/atom (+0.116 eV/atom)",
          "C (141) <br> 0.291 eV/atom (+0.291 eV/atom)",
          "CO<sub>2</sub> (10) <br> -1.305 eV/atom (+0.007 eV/atom)",
          "CO<sub>2</sub> (32) <br> -1.297 eV/atom (+0.015 eV/atom)",
          "CO<sub>2</sub> (51) <br> -1.301 eV/atom (+0.011 eV/atom)",
          "CO<sub>2</sub> (102) <br> -1.015 eV/atom (+0.297 eV/atom)",
          "CO<sub>2</sub> (110) <br> -1.281 eV/atom (+0.031 eV/atom)",
          "CO<sub>2</sub> (120) <br> -1.295 eV/atom (+0.017 eV/atom)",
          "CO<sub>2</sub> (134) <br> -1.294 eV/atom (+0.018 eV/atom)",
          "CO<sub>2</sub> (142) <br> -1.303 eV/atom (+0.009 eV/atom)",
          "C<sub>4</sub>O<sub>3</sub> (104) <br> -0.607 eV/atom (+0.236 eV/atom)",
          "Fe (4) <br> 0.098 eV/atom (+0.098 eV/atom)",
          "Fe (5) <br> 0.148 eV/atom (+0.148 eV/atom)",
          "Fe (145) <br> 0.175 eV/atom (+0.175 eV/atom)",
          "Fe (160) <br> 0.279 eV/atom (+0.279 eV/atom)",
          "Fe (161) <br> 0.099 eV/atom (+0.099 eV/atom)",
          "Fe (162) <br> 0.017 eV/atom (+0.017 eV/atom)",
          "Fe (163) <br> 0.055 eV/atom (+0.055 eV/atom)",
          "FeO<sub>2</sub> (21) <br> -0.045 eV/atom (+0.282 eV/atom)",
          "FeO<sub>2</sub> (97) <br> -0.067 eV/atom (+0.26 eV/atom)",
          "FeO<sub>2</sub> (131) <br> -0.032 eV/atom (+0.295 eV/atom)",
          "FeO<sub>2</sub> (149) <br> -0.026 eV/atom (+0.301 eV/atom)",
          "FeO<sub>2</sub> (175) <br> -0.033 eV/atom (+0.294 eV/atom)",
          "Fe(CO<sub>3</sub>)<sub>2</sub> (78) <br> -0.876 eV/atom (+0.107 eV/atom)",
          "Fe(CO<sub>3</sub>)<sub>2</sub> (167) <br> -0.874 eV/atom (+0.109 eV/atom)",
          "Fe<sub>2</sub>O<sub>3</sub> (7) <br> -0.273 eV/atom (+0.119 eV/atom)",
          "Fe<sub>2</sub>O<sub>3</sub> (25) <br> -0.262 eV/atom (+0.131 eV/atom)",
          "Fe<sub>2</sub>O<sub>3</sub> (31) <br> -0.277 eV/atom (+0.116 eV/atom)",
          "Fe<sub>2</sub>O<sub>3</sub> (33) <br> -0.321 eV/atom (+0.071 eV/atom)",
          "Fe<sub>2</sub>O<sub>3</sub> (54) <br> -0.167 eV/atom (+0.225 eV/atom)",
          "Fe<sub>2</sub>O<sub>3</sub> (59) <br> -0.233 eV/atom (+0.16 eV/atom)",
          "Fe<sub>2</sub>O<sub>3</sub> (70) <br> -0.259 eV/atom (+0.134 eV/atom)",
          "Fe<sub>2</sub>O<sub>3</sub> (74) <br> -0.315 eV/atom (+0.077 eV/atom)",
          "Fe<sub>2</sub>O<sub>3</sub> (95) <br> -0.269 eV/atom (+0.123 eV/atom)",
          "Fe<sub>2</sub>O<sub>3</sub> (111) <br> -0.156 eV/atom (+0.236 eV/atom)",
          "Fe<sub>2</sub>O<sub>3</sub> (125) <br> -0.28 eV/atom (+0.113 eV/atom)",
          "Fe<sub>2</sub>O<sub>3</sub> (133) <br> -0.224 eV/atom (+0.168 eV/atom)",
          "Fe<sub>2</sub>O<sub>3</sub> (148) <br> -0.215 eV/atom (+0.177 eV/atom)",
          "Fe<sub>2</sub>O<sub>3</sub> (156) <br> -0.103 eV/atom (+0.29 eV/atom)",
          "Fe<sub>2</sub>O<sub>3</sub> (157) <br> -0.119 eV/atom (+0.274 eV/atom)",
          "Fe<sub>2</sub>O<sub>3</sub> (159) <br> -0.104 eV/atom (+0.289 eV/atom)",
          "Fe<sub>2</sub>O<sub>3</sub> (171) <br> -0.117 eV/atom (+0.275 eV/atom)",
          "Fe<sub>2</sub>C (8) <br> 0.059 eV/atom (+0.059 eV/atom)",
          "Fe<sub>2</sub>C (121) <br> 0.178 eV/atom (+0.178 eV/atom)",
          "Fe<sub>2</sub>CO<sub>5</sub> (147) <br> -0.51 eV/atom (+0.227 eV/atom)",
          "Fe<sub>2</sub>C<sub>2</sub>O<sub>7</sub> (77) <br> -0.806 eV/atom (+0.088 eV/atom)",
          "Fe<sub>2</sub>C<sub>2</sub>O<sub>7</sub> (84) <br> -0.798 eV/atom (+0.096 eV/atom)",
          "Fe<sub>2</sub>C<sub>2</sub>O<sub>7</sub> (86) <br> -0.818 eV/atom (+0.077 eV/atom)",
          "Fe<sub>2</sub>C<sub>2</sub>O<sub>7</sub> (88) <br> -0.827 eV/atom (+0.067 eV/atom)",
          "Fe<sub>2</sub>(CO<sub>3</sub>)<sub>3</sub> (85) <br> -0.922 eV/atom (+0.062 eV/atom)",
          "Fe<sub>3</sub>O<sub>4</sub> (14) <br> -0.177 eV/atom (+0.196 eV/atom)",
          "Fe<sub>3</sub>O<sub>4</sub> (16) <br> -0.27 eV/atom (+0.104 eV/atom)",
          "Fe<sub>3</sub>O<sub>4</sub> (22) <br> -0.269 eV/atom (+0.105 eV/atom)",
          "Fe<sub>3</sub>O<sub>4</sub> (24) <br> -0.119 eV/atom (+0.254 eV/atom)",
          "Fe<sub>3</sub>O<sub>4</sub> (26) <br> -0.211 eV/atom (+0.163 eV/atom)",
          "Fe<sub>3</sub>O<sub>4</sub> (47) <br> -0.108 eV/atom (+0.265 eV/atom)",
          "Fe<sub>3</sub>O<sub>4</sub> (53) <br> -0.226 eV/atom (+0.147 eV/atom)",
          "Fe<sub>3</sub>O<sub>4</sub> (56) <br> -0.14 eV/atom (+0.234 eV/atom)",
          "Fe<sub>3</sub>O<sub>4</sub> (69) <br> -0.172 eV/atom (+0.202 eV/atom)",
          "Fe<sub>3</sub>O<sub>4</sub> (72) <br> -0.175 eV/atom (+0.198 eV/atom)",
          "Fe<sub>3</sub>O<sub>4</sub> (73) <br> -0.207 eV/atom (+0.167 eV/atom)",
          "Fe<sub>3</sub>O<sub>4</sub> (75) <br> -0.207 eV/atom (+0.167 eV/atom)",
          "Fe<sub>3</sub>O<sub>4</sub> (76) <br> -0.21 eV/atom (+0.163 eV/atom)",
          "Fe<sub>3</sub>O<sub>4</sub> (127) <br> -0.162 eV/atom (+0.212 eV/atom)",
          "Fe<sub>3</sub>O<sub>4</sub> (128) <br> -0.21 eV/atom (+0.164 eV/atom)",
          "Fe<sub>3</sub>O<sub>4</sub> (129) <br> -0.153 eV/atom (+0.221 eV/atom)",
          "Fe<sub>3</sub>O<sub>4</sub> (130) <br> -0.245 eV/atom (+0.128 eV/atom)",
          "Fe<sub>3</sub>O<sub>4</sub> (132) <br> -0.237 eV/atom (+0.136 eV/atom)",
          "Fe<sub>3</sub>O<sub>4</sub> (135) <br> -0.161 eV/atom (+0.213 eV/atom)",
          "Fe<sub>3</sub>O<sub>4</sub> (136) <br> -0.233 eV/atom (+0.14 eV/atom)",
          "Fe<sub>3</sub>O<sub>4</sub> (139) <br> -0.227 eV/atom (+0.147 eV/atom)",
          "Fe<sub>3</sub>O<sub>4</sub> (143) <br> -0.177 eV/atom (+0.197 eV/atom)",
          "Fe<sub>3</sub>O<sub>4</sub> (164) <br> -0.262 eV/atom (+0.112 eV/atom)",
          "Fe<sub>3</sub>O<sub>4</sub> (168) <br> -0.257 eV/atom (+0.117 eV/atom)",
          "Fe<sub>3</sub>O<sub>4</sub> (169) <br> -0.224 eV/atom (+0.15 eV/atom)",
          "Fe<sub>3</sub>C (12) <br> 0.055 eV/atom (+0.055 eV/atom)",
          "Fe<sub>3</sub>C (27) <br> 0.056 eV/atom (+0.056 eV/atom)",
          "Fe<sub>3</sub>C (48) <br> 0.123 eV/atom (+0.123 eV/atom)",
          "Fe<sub>3</sub>C (138) <br> 0.277 eV/atom (+0.277 eV/atom)",
          "Fe<sub>3</sub>C (150) <br> 0.16 eV/atom (+0.16 eV/atom)",
          "Fe<sub>3</sub>C (151) <br> 0.16 eV/atom (+0.16 eV/atom)",
          "Fe<sub>4</sub>O<sub>5</sub> (140) <br> -0.135 eV/atom (+0.229 eV/atom)",
          "Fe<sub>4</sub>C (109) <br> 0.278 eV/atom (+0.278 eV/atom)",
          "Fe<sub>4</sub>C (112) <br> 0.132 eV/atom (+0.132 eV/atom)",
          "Fe<sub>5</sub>O<sub>7</sub> (117) <br> -0.159 eV/atom (+0.222 eV/atom)",
          "Fe<sub>5</sub>O<sub>7</sub> (172) <br> -0.117 eV/atom (+0.265 eV/atom)",
          "Fe<sub>5</sub>O<sub>8</sub> (28) <br> -0.188 eV/atom (+0.19 eV/atom)",
          "Fe<sub>5</sub>O<sub>8</sub> (154) <br> -0.166 eV/atom (+0.212 eV/atom)",
          "Fe<sub>5</sub>O<sub>8</sub> (155) <br> -0.169 eV/atom (+0.208 eV/atom)",
          "Fe<sub>5</sub>C<sub>2</sub> (9) <br> 0.059 eV/atom (+0.059 eV/atom)",
          "Fe<sub>5</sub>C<sub>2</sub> (52) <br> 0.061 eV/atom (+0.061 eV/atom)",
          "Fe<sub>7</sub>O<sub>8</sub> (71) <br> -0.075 eV/atom (+0.274 eV/atom)",
          "Fe<sub>7</sub>C<sub>3</sub> (13) <br> 0.08 eV/atom (+0.08 eV/atom)",
          "Fe<sub>7</sub>C<sub>3</sub> (19) <br> 0.064 eV/atom (+0.064 eV/atom)",
          "Fe<sub>8</sub>O<sub>9</sub> (64) <br> -0.074 eV/atom (+0.272 eV/atom)",
          "Fe<sub>8</sub>O<sub>9</sub> (90) <br> -0.061 eV/atom (+0.285 eV/atom)",
          "Fe<sub>9</sub>O<sub>10</sub> (87) <br> -0.072 eV/atom (+0.272 eV/atom)",
          "Fe<sub>9</sub>O<sub>13</sub> (174) <br> -0.095 eV/atom (+0.292 eV/atom)",
          "Fe<sub>10</sub>O<sub>11</sub> (62) <br> -0.057 eV/atom (+0.286 eV/atom)",
          "Fe<sub>10</sub>O<sub>11</sub> (89) <br> -0.045 eV/atom (+0.298 eV/atom)",
          "Fe<sub>11</sub>O<sub>12</sub> (57) <br> -0.044 eV/atom (+0.297 eV/atom)",
          "Fe<sub>13</sub>O<sub>15</sub> (82) <br> -0.07 eV/atom (+0.28 eV/atom)",
          "Fe<sub>21</sub>O<sub>23</sub> (66) <br> -0.045 eV/atom (+0.297 eV/atom)",
          "Fe<sub>21</sub>O<sub>32</sub> (29) <br> -0.188 eV/atom (+0.201 eV/atom)",
          "Fe<sub>23</sub>O<sub>25</sub> (61) <br> -0.04 eV/atom (+0.301 eV/atom)",
          "Fe<sub>23</sub>O<sub>32</sub> (93) <br> -0.136 eV/atom (+0.244 eV/atom)",
          "Fe<sub>23</sub>O<sub>32</sub> (94) <br> -0.216 eV/atom (+0.165 eV/atom)",
          "Fe<sub>23</sub>C<sub>6</sub> (144) <br> 0.052 eV/atom (+0.052 eV/atom)",
          "Fe<sub>41</sub>O<sub>56</sub> (83) <br> -0.221 eV/atom (+0.157 eV/atom)",
          "Fe<sub>43</sub>O<sub>64</sub> (30) <br> -0.269 eV/atom (+0.122 eV/atom)"
         ],
         "marker": {
          "color": [
           0.124,
           0.012,
           0.01,
           0.002,
           0.126,
           0.018,
           0.001,
           0.03,
           0.162,
           0.006,
           0.136,
           0.001,
           0.006,
           0.006,
           0.01,
           0.028,
           0.145,
           0.144,
           0.008,
           0.146,
           0.143,
           0.141,
           0.012,
           0.004,
           0.008,
           0.007,
           0.008,
           0.008,
           0.266,
           0.299,
           0.116,
           0.291,
           0.007,
           0.015,
           0.011,
           0.297,
           0.031,
           0.017,
           0.018,
           0.009,
           0.236,
           0.098,
           0.148,
           0.175,
           0.279,
           0.099,
           0.017,
           0.055,
           0.282,
           0.26,
           0.295,
           0.301,
           0.294,
           0.107,
           0.109,
           0.119,
           0.131,
           0.116,
           0.071,
           0.225,
           0.16,
           0.134,
           0.077,
           0.123,
           0.236,
           0.113,
           0.168,
           0.177,
           0.29,
           0.274,
           0.289,
           0.275,
           0.059,
           0.178,
           0.227,
           0.088,
           0.096,
           0.077,
           0.067,
           0.062,
           0.196,
           0.104,
           0.105,
           0.254,
           0.163,
           0.265,
           0.147,
           0.234,
           0.202,
           0.198,
           0.167,
           0.167,
           0.163,
           0.212,
           0.164,
           0.221,
           0.128,
           0.136,
           0.213,
           0.14,
           0.147,
           0.197,
           0.112,
           0.117,
           0.15,
           0.055,
           0.056,
           0.123,
           0.277,
           0.16,
           0.16,
           0.229,
           0.278,
           0.132,
           0.222,
           0.265,
           0.19,
           0.212,
           0.208,
           0.059,
           0.061,
           0.274,
           0.08,
           0.064,
           0.272,
           0.285,
           0.272,
           0.292,
           0.286,
           0.298,
           0.297,
           0.28,
           0.297,
           0.201,
           0.301,
           0.244,
           0.165,
           0.052,
           0.157,
           0.122
          ],
          "colorbar": {
           "len": 0.75,
           "title": {
            "text": "Energy Above Hull<br>(eV/atom)"
           },
           "x": 0.05
          },
          "colorscale": [
           [
            0,
            "#fad393"
           ],
           [
            0.5,
            "#ff813d"
           ],
           [
            1,
            "#ff0000"
           ]
          ],
          "size": 4,
          "symbol": "diamond"
         },
         "mode": "markers",
         "name": "Above Hull",
         "showlegend": true,
         "type": "scatter3d",
         "uid": "88354800-7212-4c0c-9ce3-b5eb47dd6ce2",
         "x": [
          0.8660254037844386,
          0.8660254037844386,
          0.8660254037844386,
          0.8660254037844386,
          0.8660254037844386,
          0.8660254037844386,
          0.8660254037844386,
          0.8660254037844386,
          0,
          0,
          0,
          0,
          0,
          0,
          0,
          0,
          0,
          0,
          0,
          0,
          0,
          0,
          0,
          0,
          0,
          0,
          0,
          0,
          0,
          0,
          0,
          0,
          0.5773502691896257,
          0.5773502691896257,
          0.5773502691896257,
          0.5773502691896257,
          0.5773502691896257,
          0.5773502691896257,
          0.5773502691896257,
          0.5773502691896257,
          0.3711537444790451,
          0,
          0,
          0,
          0,
          0,
          0,
          0,
          0.5773502691896257,
          0.5773502691896257,
          0.5773502691896257,
          0.5773502691896257,
          0.5773502691896257,
          0.5773502691896257,
          0.5773502691896257,
          0.5196152422706631,
          0.5196152422706631,
          0.5196152422706631,
          0.5196152422706631,
          0.5196152422706631,
          0.5196152422706631,
          0.5196152422706631,
          0.5196152422706631,
          0.5196152422706631,
          0.5196152422706631,
          0.5196152422706631,
          0.5196152422706631,
          0.5196152422706631,
          0.5196152422706631,
          0.5196152422706631,
          0.5196152422706631,
          0.5196152422706631,
          0,
          0,
          0.5412658773652741,
          0.5511070751355518,
          0.5511070751355518,
          0.5511070751355518,
          0.5511070751355518,
          0.5567306167185677,
          0.49487165930539345,
          0.49487165930539345,
          0.49487165930539345,
          0.49487165930539345,
          0.49487165930539345,
          0.49487165930539345,
          0.49487165930539345,
          0.49487165930539345,
          0.49487165930539345,
          0.49487165930539345,
          0.49487165930539345,
          0.49487165930539345,
          0.49487165930539345,
          0.49487165930539345,
          0.49487165930539345,
          0.49487165930539345,
          0.49487165930539345,
          0.49487165930539345,
          0.49487165930539345,
          0.49487165930539345,
          0.49487165930539345,
          0.49487165930539345,
          0.49487165930539345,
          0.49487165930539345,
          0.49487165930539345,
          0,
          0,
          0,
          0,
          0,
          0,
          0.4811252243246881,
          0,
          0,
          0.5051814855409226,
          0.5051814855409226,
          0.532938710021193,
          0.532938710021193,
          0.532938710021193,
          0,
          0,
          0.4618802153517006,
          0,
          0,
          0.458484037297644,
          0.458484037297644,
          0.45580284409707295,
          0.511742284054441,
          0.45363235436327737,
          0.45363235436327737,
          0.45183934110492446,
          0.4639421805988064,
          0.4526950974327747,
          0.5228832626623026,
          0.4510548978043951,
          0.5038693258382188,
          0.5038693258382188,
          0,
          0.4999734289889542,
          0.5179965031981688
         ],
         "y": [
          0.5,
          0.5,
          0.5,
          0.5,
          0.5,
          0.5,
          0.5,
          0.5,
          1,
          1,
          1,
          1,
          1,
          1,
          1,
          1,
          1,
          1,
          1,
          1,
          1,
          1,
          1,
          1,
          1,
          1,
          1,
          1,
          1,
          1,
          1,
          1,
          0.6666666666666666,
          0.6666666666666666,
          0.6666666666666666,
          0.6666666666666666,
          0.6666666666666666,
          0.6666666666666666,
          0.6666666666666666,
          0.6666666666666666,
          0.7857142857142857,
          0,
          0,
          0,
          0,
          0,
          0,
          0,
          0.3333333333333333,
          0.3333333333333333,
          0.3333333333333333,
          0.3333333333333333,
          0.3333333333333333,
          0.5555555555555556,
          0.5555555555555556,
          0.3,
          0.3,
          0.3,
          0.3,
          0.3,
          0.3,
          0.3,
          0.3,
          0.3,
          0.3,
          0.3,
          0.3,
          0.3,
          0.3,
          0.3,
          0.3,
          0.3,
          0.3333333333333333,
          0.3333333333333333,
          0.4375,
          0.5,
          0.5,
          0.5,
          0.5,
          0.5357142857142857,
          0.2857142857142857,
          0.2857142857142857,
          0.2857142857142857,
          0.2857142857142857,
          0.2857142857142857,
          0.2857142857142857,
          0.2857142857142857,
          0.2857142857142857,
          0.2857142857142857,
          0.2857142857142857,
          0.2857142857142857,
          0.2857142857142857,
          0.2857142857142857,
          0.2857142857142857,
          0.2857142857142857,
          0.2857142857142857,
          0.2857142857142857,
          0.2857142857142857,
          0.2857142857142857,
          0.2857142857142857,
          0.2857142857142857,
          0.2857142857142857,
          0.2857142857142857,
          0.2857142857142857,
          0.2857142857142857,
          0.25,
          0.25,
          0.25,
          0.25,
          0.25,
          0.25,
          0.2777777777777778,
          0.2,
          0.2,
          0.2916666666666667,
          0.2916666666666667,
          0.3076923076923077,
          0.3076923076923077,
          0.3076923076923077,
          0.2857142857142857,
          0.2857142857142857,
          0.26666666666666666,
          0.3,
          0.3,
          0.2647058823529412,
          0.2647058823529412,
          0.2631578947368421,
          0.29545454545454547,
          0.2619047619047619,
          0.2619047619047619,
          0.2608695652173913,
          0.26785714285714285,
          0.26136363636363635,
          0.3018867924528302,
          0.2604166666666667,
          0.2909090909090909,
          0.2909090909090909,
          0.20689655172413793,
          0.28865979381443296,
          0.29906542056074764
         ],
         "z": [
          0.124,
          0.012,
          0.01,
          0.002,
          0.126,
          0.018,
          0.001,
          0.03,
          0.162,
          0.006,
          0.136,
          0.001,
          0.006,
          0.006,
          0.01,
          0.028,
          0.145,
          0.144,
          0.008,
          0.146,
          0.143,
          0.141,
          0.012,
          0.004,
          0.008,
          0.007,
          0.008,
          0.008,
          0.266,
          0.299,
          0.116,
          0.291,
          -1.305,
          -1.297,
          -1.301,
          -1.015,
          -1.281,
          -1.295,
          -1.294,
          -1.303,
          -0.607,
          0.098,
          0.148,
          0.175,
          0.279,
          0.099,
          0.017,
          0.055,
          -0.045,
          -0.067,
          -0.032,
          -0.026,
          -0.033,
          -0.876,
          -0.874,
          -0.273,
          -0.262,
          -0.277,
          -0.321,
          -0.167,
          -0.233,
          -0.259,
          -0.315,
          -0.269,
          -0.156,
          -0.28,
          -0.224,
          -0.215,
          -0.103,
          -0.119,
          -0.104,
          -0.117,
          0.059,
          0.178,
          -0.51,
          -0.806,
          -0.798,
          -0.818,
          -0.827,
          -0.922,
          -0.177,
          -0.27,
          -0.269,
          -0.119,
          -0.211,
          -0.108,
          -0.226,
          -0.14,
          -0.172,
          -0.175,
          -0.207,
          -0.207,
          -0.21,
          -0.162,
          -0.21,
          -0.153,
          -0.245,
          -0.237,
          -0.161,
          -0.233,
          -0.227,
          -0.177,
          -0.262,
          -0.257,
          -0.224,
          0.055,
          0.056,
          0.123,
          0.277,
          0.16,
          0.16,
          -0.135,
          0.278,
          0.132,
          -0.159,
          -0.117,
          -0.188,
          -0.166,
          -0.169,
          0.059,
          0.061,
          -0.075,
          0.08,
          0.064,
          -0.074,
          -0.061,
          -0.072,
          -0.095,
          -0.057,
          -0.045,
          -0.044,
          -0.07,
          -0.045,
          -0.188,
          -0.04,
          -0.136,
          -0.216,
          0.052,
          -0.221,
          -0.269
         ]
        },
        {
         "error_z": {
          "array": [
           0,
           0,
           0,
           0,
           0,
           0
          ],
          "color": "darkgray",
          "thickness": 5,
          "type": "data",
          "width": 10
         },
         "hoverinfo": "text",
         "hoverlabel": {
          "font": {
           "size": 14
          }
         },
         "hovertext": [
          "Fe<sub>2</sub>O<sub>3</sub> (17) <br> -0.392 eV/atom",
          "Fe (0) <br> 0.0 eV/atom",
          "FeCO<sub>3</sub> (15) <br> -0.927 eV/atom",
          "CO<sub>2</sub> (18) <br> -1.312 eV/atom",
          "O<sub>2</sub> (11) <br> 0.0 eV/atom",
          "C (37) <br> 0.0 eV/atom"
         ],
         "marker": {
          "color": "black",
          "line": {
           "color": "black",
           "width": 3
          },
          "opacity": 0.8,
          "size": 4
         },
         "mode": "markers",
         "name": "Stable",
         "showlegend": true,
         "type": "scatter3d",
         "uid": "dbd331cb-c72f-42c1-aa27-e0de774e8d88",
         "x": [
          0.5196152422706631,
          0,
          0.5196152422706631,
          0.5773502691896257,
          0.8660254037844386,
          0
         ],
         "y": [
          0.3,
          0,
          0.5,
          0.6666666666666666,
          0.5,
          1
         ],
         "z": [
          -0.392,
          0,
          -0.927,
          -1.312,
          0,
          0
         ]
        }
       ],
       "_js2py_pointsCallback": {},
       "_js2py_relayout": {},
       "_js2py_restyle": {},
       "_js2py_update": {},
       "_layout": {
        "autosize": true,
        "height": 400,
        "hovermode": "closest",
        "legend": {
         "orientation": "h",
         "traceorder": "reversed",
         "x": 0.5,
         "xanchor": "center",
         "y": 0,
         "yanchor": "top"
        },
        "margin": {
         "b": 10,
         "l": 0,
         "pad": 0,
         "r": 0,
         "t": 0
        },
        "paper_bgcolor": "rgba(0.9.,0.9.,0.9.,0.9)",
        "scene": {
         "annotations": [
          {
           "align": "center",
           "font": {
            "color": "#000000",
            "size": 24
           },
           "opacity": 1,
           "showarrow": false,
           "text": "Fe",
           "x": 0,
           "xanchor": "right",
           "xshift": -10,
           "y": 0,
           "yanchor": "auto",
           "yshift": -10,
           "z": -1.1809115409851074
          },
          {
           "align": "center",
           "font": {
            "color": "#000000",
            "size": 24
           },
           "opacity": 1,
           "showarrow": false,
           "text": "O",
           "x": 0.8660254037844386,
           "xanchor": "right",
           "xshift": -10,
           "y": 0.5,
           "yanchor": "auto",
           "yshift": -10,
           "z": -1.1809115409851074
          },
          {
           "align": "center",
           "font": {
            "color": "#000000",
            "size": 24
           },
           "opacity": 1,
           "showarrow": false,
           "text": "C",
           "x": 0,
           "xanchor": "right",
           "xshift": -10,
           "y": 1,
           "yanchor": "auto",
           "yshift": -10,
           "z": -1.1809115409851074
          },
          {
           "opacity": 0,
           "text": "",
           "x": 1,
           "y": 1,
           "z": 0
          }
         ],
         "aspectratio": {
          "x": 1.7,
          "y": 1.7,
          "z": 1.2
         },
         "camera": {
          "center": {
           "x": -0.1,
           "y": 0,
           "z": -0.15
          },
          "eye": {
           "x": -0.1,
           "y": 0,
           "z": 2.5
          },
          "projection": {
           "type": "orthographic"
          }
         },
         "xaxis": {
          "autorange": true,
          "showaxeslabels": false,
          "showgrid": false,
          "showline": false,
          "showspikes": false,
          "showticklabels": false,
          "ticks": "",
          "visible": false,
          "zeroline": false
         },
         "yaxis": {
          "autorange": true,
          "showaxeslabels": false,
          "showgrid": false,
          "showline": false,
          "showspikes": false,
          "showticklabels": false,
          "ticks": "",
          "visible": false,
          "zeroline": false
         },
         "zaxis": {
          "autorange": true,
          "showaxeslabels": false,
          "showgrid": false,
          "showline": false,
          "showspikes": false,
          "showticklabels": false,
          "ticks": "",
          "visible": false,
          "zeroline": false
         }
        },
        "showlegend": true,
        "template": {
         "data": {
          "bar": [
           {
            "error_x": {
             "color": "#2a3f5f"
            },
            "error_y": {
             "color": "#2a3f5f"
            },
            "marker": {
             "line": {
              "color": "#E5ECF6",
              "width": 0.5
             },
             "pattern": {
              "fillmode": "overlay",
              "size": 10,
              "solidity": 0.2
             }
            },
            "type": "bar"
           }
          ],
          "barpolar": [
           {
            "marker": {
             "line": {
              "color": "#E5ECF6",
              "width": 0.5
             },
             "pattern": {
              "fillmode": "overlay",
              "size": 10,
              "solidity": 0.2
             }
            },
            "type": "barpolar"
           }
          ],
          "carpet": [
           {
            "aaxis": {
             "endlinecolor": "#2a3f5f",
             "gridcolor": "white",
             "linecolor": "white",
             "minorgridcolor": "white",
             "startlinecolor": "#2a3f5f"
            },
            "baxis": {
             "endlinecolor": "#2a3f5f",
             "gridcolor": "white",
             "linecolor": "white",
             "minorgridcolor": "white",
             "startlinecolor": "#2a3f5f"
            },
            "type": "carpet"
           }
          ],
          "choropleth": [
           {
            "colorbar": {
             "outlinewidth": 0,
             "ticks": ""
            },
            "type": "choropleth"
           }
          ],
          "contour": [
           {
            "colorbar": {
             "outlinewidth": 0,
             "ticks": ""
            },
            "colorscale": [
             [
              0,
              "#0d0887"
             ],
             [
              0.1111111111111111,
              "#46039f"
             ],
             [
              0.2222222222222222,
              "#7201a8"
             ],
             [
              0.3333333333333333,
              "#9c179e"
             ],
             [
              0.4444444444444444,
              "#bd3786"
             ],
             [
              0.5555555555555556,
              "#d8576b"
             ],
             [
              0.6666666666666666,
              "#ed7953"
             ],
             [
              0.7777777777777778,
              "#fb9f3a"
             ],
             [
              0.8888888888888888,
              "#fdca26"
             ],
             [
              1,
              "#f0f921"
             ]
            ],
            "type": "contour"
           }
          ],
          "contourcarpet": [
           {
            "colorbar": {
             "outlinewidth": 0,
             "ticks": ""
            },
            "type": "contourcarpet"
           }
          ],
          "heatmap": [
           {
            "colorbar": {
             "outlinewidth": 0,
             "ticks": ""
            },
            "colorscale": [
             [
              0,
              "#0d0887"
             ],
             [
              0.1111111111111111,
              "#46039f"
             ],
             [
              0.2222222222222222,
              "#7201a8"
             ],
             [
              0.3333333333333333,
              "#9c179e"
             ],
             [
              0.4444444444444444,
              "#bd3786"
             ],
             [
              0.5555555555555556,
              "#d8576b"
             ],
             [
              0.6666666666666666,
              "#ed7953"
             ],
             [
              0.7777777777777778,
              "#fb9f3a"
             ],
             [
              0.8888888888888888,
              "#fdca26"
             ],
             [
              1,
              "#f0f921"
             ]
            ],
            "type": "heatmap"
           }
          ],
          "heatmapgl": [
           {
            "colorbar": {
             "outlinewidth": 0,
             "ticks": ""
            },
            "colorscale": [
             [
              0,
              "#0d0887"
             ],
             [
              0.1111111111111111,
              "#46039f"
             ],
             [
              0.2222222222222222,
              "#7201a8"
             ],
             [
              0.3333333333333333,
              "#9c179e"
             ],
             [
              0.4444444444444444,
              "#bd3786"
             ],
             [
              0.5555555555555556,
              "#d8576b"
             ],
             [
              0.6666666666666666,
              "#ed7953"
             ],
             [
              0.7777777777777778,
              "#fb9f3a"
             ],
             [
              0.8888888888888888,
              "#fdca26"
             ],
             [
              1,
              "#f0f921"
             ]
            ],
            "type": "heatmapgl"
           }
          ],
          "histogram": [
           {
            "marker": {
             "pattern": {
              "fillmode": "overlay",
              "size": 10,
              "solidity": 0.2
             }
            },
            "type": "histogram"
           }
          ],
          "histogram2d": [
           {
            "colorbar": {
             "outlinewidth": 0,
             "ticks": ""
            },
            "colorscale": [
             [
              0,
              "#0d0887"
             ],
             [
              0.1111111111111111,
              "#46039f"
             ],
             [
              0.2222222222222222,
              "#7201a8"
             ],
             [
              0.3333333333333333,
              "#9c179e"
             ],
             [
              0.4444444444444444,
              "#bd3786"
             ],
             [
              0.5555555555555556,
              "#d8576b"
             ],
             [
              0.6666666666666666,
              "#ed7953"
             ],
             [
              0.7777777777777778,
              "#fb9f3a"
             ],
             [
              0.8888888888888888,
              "#fdca26"
             ],
             [
              1,
              "#f0f921"
             ]
            ],
            "type": "histogram2d"
           }
          ],
          "histogram2dcontour": [
           {
            "colorbar": {
             "outlinewidth": 0,
             "ticks": ""
            },
            "colorscale": [
             [
              0,
              "#0d0887"
             ],
             [
              0.1111111111111111,
              "#46039f"
             ],
             [
              0.2222222222222222,
              "#7201a8"
             ],
             [
              0.3333333333333333,
              "#9c179e"
             ],
             [
              0.4444444444444444,
              "#bd3786"
             ],
             [
              0.5555555555555556,
              "#d8576b"
             ],
             [
              0.6666666666666666,
              "#ed7953"
             ],
             [
              0.7777777777777778,
              "#fb9f3a"
             ],
             [
              0.8888888888888888,
              "#fdca26"
             ],
             [
              1,
              "#f0f921"
             ]
            ],
            "type": "histogram2dcontour"
           }
          ],
          "mesh3d": [
           {
            "colorbar": {
             "outlinewidth": 0,
             "ticks": ""
            },
            "type": "mesh3d"
           }
          ],
          "parcoords": [
           {
            "line": {
             "colorbar": {
              "outlinewidth": 0,
              "ticks": ""
             }
            },
            "type": "parcoords"
           }
          ],
          "pie": [
           {
            "automargin": true,
            "type": "pie"
           }
          ],
          "scatter": [
           {
            "fillpattern": {
             "fillmode": "overlay",
             "size": 10,
             "solidity": 0.2
            },
            "type": "scatter"
           }
          ],
          "scatter3d": [
           {
            "line": {
             "colorbar": {
              "outlinewidth": 0,
              "ticks": ""
             }
            },
            "marker": {
             "colorbar": {
              "outlinewidth": 0,
              "ticks": ""
             }
            },
            "type": "scatter3d"
           }
          ],
          "scattercarpet": [
           {
            "marker": {
             "colorbar": {
              "outlinewidth": 0,
              "ticks": ""
             }
            },
            "type": "scattercarpet"
           }
          ],
          "scattergeo": [
           {
            "marker": {
             "colorbar": {
              "outlinewidth": 0,
              "ticks": ""
             }
            },
            "type": "scattergeo"
           }
          ],
          "scattergl": [
           {
            "marker": {
             "colorbar": {
              "outlinewidth": 0,
              "ticks": ""
             }
            },
            "type": "scattergl"
           }
          ],
          "scattermapbox": [
           {
            "marker": {
             "colorbar": {
              "outlinewidth": 0,
              "ticks": ""
             }
            },
            "type": "scattermapbox"
           }
          ],
          "scatterpolar": [
           {
            "marker": {
             "colorbar": {
              "outlinewidth": 0,
              "ticks": ""
             }
            },
            "type": "scatterpolar"
           }
          ],
          "scatterpolargl": [
           {
            "marker": {
             "colorbar": {
              "outlinewidth": 0,
              "ticks": ""
             }
            },
            "type": "scatterpolargl"
           }
          ],
          "scatterternary": [
           {
            "marker": {
             "colorbar": {
              "outlinewidth": 0,
              "ticks": ""
             }
            },
            "type": "scatterternary"
           }
          ],
          "surface": [
           {
            "colorbar": {
             "outlinewidth": 0,
             "ticks": ""
            },
            "colorscale": [
             [
              0,
              "#0d0887"
             ],
             [
              0.1111111111111111,
              "#46039f"
             ],
             [
              0.2222222222222222,
              "#7201a8"
             ],
             [
              0.3333333333333333,
              "#9c179e"
             ],
             [
              0.4444444444444444,
              "#bd3786"
             ],
             [
              0.5555555555555556,
              "#d8576b"
             ],
             [
              0.6666666666666666,
              "#ed7953"
             ],
             [
              0.7777777777777778,
              "#fb9f3a"
             ],
             [
              0.8888888888888888,
              "#fdca26"
             ],
             [
              1,
              "#f0f921"
             ]
            ],
            "type": "surface"
           }
          ],
          "table": [
           {
            "cells": {
             "fill": {
              "color": "#EBF0F8"
             },
             "line": {
              "color": "white"
             }
            },
            "header": {
             "fill": {
              "color": "#C8D4E3"
             },
             "line": {
              "color": "white"
             }
            },
            "type": "table"
           }
          ]
         },
         "layout": {
          "annotationdefaults": {
           "arrowcolor": "#2a3f5f",
           "arrowhead": 0,
           "arrowwidth": 1
          },
          "autotypenumbers": "strict",
          "coloraxis": {
           "colorbar": {
            "outlinewidth": 0,
            "ticks": ""
           }
          },
          "colorscale": {
           "diverging": [
            [
             0,
             "#8e0152"
            ],
            [
             0.1,
             "#c51b7d"
            ],
            [
             0.2,
             "#de77ae"
            ],
            [
             0.3,
             "#f1b6da"
            ],
            [
             0.4,
             "#fde0ef"
            ],
            [
             0.5,
             "#f7f7f7"
            ],
            [
             0.6,
             "#e6f5d0"
            ],
            [
             0.7,
             "#b8e186"
            ],
            [
             0.8,
             "#7fbc41"
            ],
            [
             0.9,
             "#4d9221"
            ],
            [
             1,
             "#276419"
            ]
           ],
           "sequential": [
            [
             0,
             "#0d0887"
            ],
            [
             0.1111111111111111,
             "#46039f"
            ],
            [
             0.2222222222222222,
             "#7201a8"
            ],
            [
             0.3333333333333333,
             "#9c179e"
            ],
            [
             0.4444444444444444,
             "#bd3786"
            ],
            [
             0.5555555555555556,
             "#d8576b"
            ],
            [
             0.6666666666666666,
             "#ed7953"
            ],
            [
             0.7777777777777778,
             "#fb9f3a"
            ],
            [
             0.8888888888888888,
             "#fdca26"
            ],
            [
             1,
             "#f0f921"
            ]
           ],
           "sequentialminus": [
            [
             0,
             "#0d0887"
            ],
            [
             0.1111111111111111,
             "#46039f"
            ],
            [
             0.2222222222222222,
             "#7201a8"
            ],
            [
             0.3333333333333333,
             "#9c179e"
            ],
            [
             0.4444444444444444,
             "#bd3786"
            ],
            [
             0.5555555555555556,
             "#d8576b"
            ],
            [
             0.6666666666666666,
             "#ed7953"
            ],
            [
             0.7777777777777778,
             "#fb9f3a"
            ],
            [
             0.8888888888888888,
             "#fdca26"
            ],
            [
             1,
             "#f0f921"
            ]
           ]
          },
          "colorway": [
           "#636efa",
           "#EF553B",
           "#00cc96",
           "#ab63fa",
           "#FFA15A",
           "#19d3f3",
           "#FF6692",
           "#B6E880",
           "#FF97FF",
           "#FECB52"
          ],
          "font": {
           "color": "#2a3f5f"
          },
          "geo": {
           "bgcolor": "white",
           "lakecolor": "white",
           "landcolor": "#E5ECF6",
           "showlakes": true,
           "showland": true,
           "subunitcolor": "white"
          },
          "hoverlabel": {
           "align": "left"
          },
          "hovermode": "closest",
          "mapbox": {
           "style": "light"
          },
          "paper_bgcolor": "white",
          "plot_bgcolor": "#E5ECF6",
          "polar": {
           "angularaxis": {
            "gridcolor": "white",
            "linecolor": "white",
            "ticks": ""
           },
           "bgcolor": "#E5ECF6",
           "radialaxis": {
            "gridcolor": "white",
            "linecolor": "white",
            "ticks": ""
           }
          },
          "scene": {
           "xaxis": {
            "backgroundcolor": "#E5ECF6",
            "gridcolor": "white",
            "gridwidth": 2,
            "linecolor": "white",
            "showbackground": true,
            "ticks": "",
            "zerolinecolor": "white"
           },
           "yaxis": {
            "backgroundcolor": "#E5ECF6",
            "gridcolor": "white",
            "gridwidth": 2,
            "linecolor": "white",
            "showbackground": true,
            "ticks": "",
            "zerolinecolor": "white"
           },
           "zaxis": {
            "backgroundcolor": "#E5ECF6",
            "gridcolor": "white",
            "gridwidth": 2,
            "linecolor": "white",
            "showbackground": true,
            "ticks": "",
            "zerolinecolor": "white"
           }
          },
          "shapedefaults": {
           "line": {
            "color": "#2a3f5f"
           }
          },
          "ternary": {
           "aaxis": {
            "gridcolor": "white",
            "linecolor": "white",
            "ticks": ""
           },
           "baxis": {
            "gridcolor": "white",
            "linecolor": "white",
            "ticks": ""
           },
           "bgcolor": "#E5ECF6",
           "caxis": {
            "gridcolor": "white",
            "linecolor": "white",
            "ticks": ""
           }
          },
          "title": {
           "x": 0.05
          },
          "xaxis": {
           "automargin": true,
           "gridcolor": "white",
           "linecolor": "white",
           "ticks": "",
           "title": {
            "standoff": 15
           },
           "zerolinecolor": "white",
           "zerolinewidth": 2
          },
          "yaxis": {
           "automargin": true,
           "gridcolor": "white",
           "linecolor": "white",
           "ticks": "",
           "title": {
            "standoff": 15
           },
           "zerolinecolor": "white",
           "zerolinewidth": 2
          }
         }
        },
        "width": 800
       },
       "_py2js_addTraces": {},
       "_py2js_animate": {},
       "_py2js_deleteTraces": {},
       "_py2js_moveTraces": {},
       "_py2js_relayout": {},
       "_py2js_restyle": {},
       "_py2js_update": {},
       "_view_count": 2
      }
     },
     "eab221ec8350451d9c93f17566b6c76b": {
      "model_module": "@jupyter-widgets/controls",
      "model_module_version": "1.5.0",
      "model_name": "DescriptionStyleModel",
      "state": {
       "description_width": ""
      }
     },
     "eb12104578d54cc5ad499e3bf5328ad9": {
      "model_module": "@jupyter-widgets/controls",
      "model_module_version": "1.5.0",
      "model_name": "DescriptionStyleModel",
      "state": {
       "description_width": ""
      }
     },
     "eb6ec6ea97884233a6cdcbfc0053cff5": {
      "model_module": "@jupyter-widgets/controls",
      "model_module_version": "1.5.0",
      "model_name": "DescriptionStyleModel",
      "state": {
       "description_width": ""
      }
     },
     "ebc190679da7418cb13fdee65748013d": {
      "model_module": "@jupyter-widgets/controls",
      "model_module_version": "1.5.0",
      "model_name": "ToggleButtonModel",
      "state": {
       "description": "Ne",
       "layout": "IPY_MODEL_5f2cc5330a2a4c518f27b2a61544b7fe",
       "style": "IPY_MODEL_91e1e671b3b14629a79533360b98c59c"
      }
     },
     "ec363918c224435c876c7aacadb41391": {
      "model_module": "@jupyter-widgets/controls",
      "model_module_version": "1.5.0",
      "model_name": "ToggleButtonModel",
      "state": {
       "description": "Pb",
       "layout": "IPY_MODEL_4b7b72c5ab7f41f98d03b924817f84ec",
       "style": "IPY_MODEL_fd9eb6b48d544841aa32077967850db3"
      }
     },
     "ed227803d23c436e89d75bd6749da2a4": {
      "model_module": "@jupyter-widgets/controls",
      "model_module_version": "1.5.0",
      "model_name": "DescriptionStyleModel",
      "state": {
       "description_width": ""
      }
     },
     "edae1f1ee5234b61a4c8f8d7aea18dd9": {
      "model_module": "@jupyter-widgets/base",
      "model_module_version": "1.2.0",
      "model_name": "LayoutModel",
      "state": {
       "grid_area": "widget044",
       "height": "22px",
       "width": "42px"
      }
     },
     "ef6a8c213023408e83420d72ad38f421": {
      "model_module": "@jupyter-widgets/base",
      "model_module_version": "1.2.0",
      "model_name": "LayoutModel",
      "state": {
       "grid_area": "widget057",
       "height": "22px",
       "width": "42px"
      }
     },
     "f0444f1a025d49dbad4aeeea0ddd12c0": {
      "model_module": "@jupyter-widgets/controls",
      "model_module_version": "1.5.0",
      "model_name": "DescriptionStyleModel",
      "state": {
       "description_width": ""
      }
     },
     "f31ea5f3533a414d82460e335d31dd86": {
      "model_module": "@jupyter-widgets/controls",
      "model_module_version": "1.5.0",
      "model_name": "DescriptionStyleModel",
      "state": {
       "description_width": ""
      }
     },
     "f32fd4ef54754bfdbb1005a0bda75128": {
      "model_module": "@jupyter-widgets/base",
      "model_module_version": "1.2.0",
      "model_name": "LayoutModel",
      "state": {
       "grid_area": "widget081",
       "height": "22px",
       "width": "42px"
      }
     },
     "f43a24d9c5df475c855779ad71780c88": {
      "model_module": "@jupyter-widgets/controls",
      "model_module_version": "1.5.0",
      "model_name": "ToggleButtonModel",
      "state": {
       "description": "Pt",
       "layout": "IPY_MODEL_1e460a5b5d574d0191901cd0240e3a13",
       "style": "IPY_MODEL_a9e0e62afc6644b5b8a125bacc149bcb"
      }
     },
     "f4901acd0e8e4a5bb5d39f07e951c458": {
      "model_module": "@jupyter-widgets/base",
      "model_module_version": "1.2.0",
      "model_name": "LayoutModel",
      "state": {
       "grid_area": "widget023",
       "height": "22px",
       "width": "42px"
      }
     },
     "f4f5370a5cb54ee68c69f54f83d72f58": {
      "model_module": "@jupyter-widgets/controls",
      "model_module_version": "1.5.0",
      "model_name": "ToggleButtonModel",
      "state": {
       "description": "Kr",
       "layout": "IPY_MODEL_3cdde64092024a5fbebca6d43a1cc911",
       "style": "IPY_MODEL_958b3a18ab5b419c922a18e456cdf33a"
      }
     },
     "f5a5ecd41db244cbae70837188243ce8": {
      "model_module": "@jupyter-widgets/base",
      "model_module_version": "1.2.0",
      "model_name": "LayoutModel",
      "state": {
       "grid_area": "widget112",
       "height": "22px",
       "width": "42px"
      }
     },
     "f5b0c53d175c42c28d28dbf67a8d861e": {
      "model_module": "@jupyter-widgets/controls",
      "model_module_version": "1.5.0",
      "model_name": "ToggleButtonModel",
      "state": {
       "description": "Mg",
       "layout": "IPY_MODEL_b32e3a1045f4481a8198009a7e21a138",
       "style": "IPY_MODEL_c25faa6b262c4646985b61375fdf2933"
      }
     },
     "f684bac4e20f40e093bf490256936413": {
      "model_module": "@jupyter-widgets/base",
      "model_module_version": "1.2.0",
      "model_name": "LayoutModel",
      "state": {
       "grid_area": "widget069",
       "height": "22px",
       "width": "42px"
      }
     },
     "f7436261c330475281026ab1d5e11ef3": {
      "model_module": "@jupyter-widgets/base",
      "model_module_version": "1.2.0",
      "model_name": "LayoutModel",
      "state": {
       "grid_area": "widget068",
       "height": "22px",
       "width": "42px"
      }
     },
     "f7b7c0ab01ac4431bc71c4678163916a": {
      "model_module": "@jupyter-widgets/controls",
      "model_module_version": "1.5.0",
      "model_name": "ToggleButtonModel",
      "state": {
       "description": "Nh",
       "layout": "IPY_MODEL_e2a51eb7585c43bea56009b89814ed97",
       "style": "IPY_MODEL_179465cf63d542ef9f3cdf8e51951c4d"
      }
     },
     "f8fc6f66b46d421caf495a950c9ac8c0": {
      "model_module": "@jupyter-widgets/controls",
      "model_module_version": "1.5.0",
      "model_name": "ToggleButtonModel",
      "state": {
       "description": "Xe",
       "layout": "IPY_MODEL_ce46d79c932f46f3bc0da8d2b61830cc",
       "style": "IPY_MODEL_8b93f1c44e4b47e7b13d76fbc67f6217"
      }
     },
     "f966492b00cb4abf81716c49961fc9b4": {
      "model_module": "@jupyter-widgets/controls",
      "model_module_version": "1.5.0",
      "model_name": "ToggleButtonModel",
      "state": {
       "description": "Cl",
       "layout": "IPY_MODEL_b23f06607a9a4ab399f5b46aec8be8ad",
       "style": "IPY_MODEL_eb12104578d54cc5ad499e3bf5328ad9"
      }
     },
     "f991ec5e06864c1ca57046cf06c5cc23": {
      "model_module": "@jupyter-widgets/controls",
      "model_module_version": "1.5.0",
      "model_name": "DescriptionStyleModel",
      "state": {
       "description_width": ""
      }
     },
     "f9d1128c5ba142fca680a689da2b4a34": {
      "model_module": "@jupyter-widgets/controls",
      "model_module_version": "1.5.0",
      "model_name": "ToggleButtonModel",
      "state": {
       "description": "Rg",
       "layout": "IPY_MODEL_00578d1eca36415693167e0fb5d53c31",
       "style": "IPY_MODEL_59f2ff6834e04af3b3257cb4e0b9deae"
      }
     },
     "fa7e8a97caf34064a8997669bf3c4c32": {
      "model_module": "@jupyter-widgets/controls",
      "model_module_version": "1.5.0",
      "model_name": "ToggleButtonModel",
      "state": {
       "description": "Os",
       "layout": "IPY_MODEL_b6c3e01ec76a4a76a57766916a7e3774",
       "style": "IPY_MODEL_28679dcf426b4d9ea9dd98d04d873223"
      }
     },
     "fadc62533160469684ccec6cdcd1e9a7": {
      "model_module": "@jupyter-widgets/controls",
      "model_module_version": "1.5.0",
      "model_name": "ToggleButtonModel",
      "state": {
       "description": "Bh",
       "layout": "IPY_MODEL_d43eef4c92064c96be18531ee00fc534",
       "style": "IPY_MODEL_e3eb862782d1493e80b50e7b062059bc"
      }
     },
     "fb49398483c5473b83bad9db510cd2ec": {
      "model_module": "@jupyter-widgets/base",
      "model_module_version": "1.2.0",
      "model_name": "LayoutModel",
      "state": {
       "grid_area": "widget106",
       "height": "22px",
       "width": "42px"
      }
     },
     "fb68e708f0dd49b7b936b26dbaac0dc5": {
      "model_module": "@jupyter-widgets/controls",
      "model_module_version": "1.5.0",
      "model_name": "ToggleButtonModel",
      "state": {
       "description": "In",
       "layout": "IPY_MODEL_97f974971aa94ddfbd1f9debafeab15c",
       "style": "IPY_MODEL_4b9e50132fb14bc3adf42671d21f1204"
      }
     },
     "fc0e5d0829884edc979863158ad6f707": {
      "model_module": "@jupyter-widgets/base",
      "model_module_version": "1.2.0",
      "model_name": "LayoutModel",
      "state": {
       "grid_area": "widget060",
       "height": "22px",
       "width": "42px"
      }
     },
     "fc229d35e7f949bd96513fe65c58c9dc": {
      "model_module": "@jupyter-widgets/base",
      "model_module_version": "1.2.0",
      "model_name": "LayoutModel",
      "state": {
       "grid_area": "widget077",
       "height": "22px",
       "width": "42px"
      }
     },
     "fd25548dd404434ca5081061d482d4a3": {
      "model_module": "@jupyter-widgets/controls",
      "model_module_version": "1.5.0",
      "model_name": "ToggleButtonModel",
      "state": {
       "description": "Fm",
       "layout": "IPY_MODEL_d353b24a3cbc4069b093b4e692a0db20",
       "style": "IPY_MODEL_90f42a7d7ca341ffa927442d3bd25c20"
      }
     },
     "fd5ad32241464cf091eabc524ceb6cb8": {
      "model_module": "@jupyter-widgets/base",
      "model_module_version": "1.2.0",
      "model_name": "LayoutModel",
      "state": {
       "grid_area": "widget109",
       "height": "22px",
       "width": "42px"
      }
     },
     "fd6abaeb3d654ec3a7a991c616cb9943": {
      "model_module": "@jupyter-widgets/controls",
      "model_module_version": "1.5.0",
      "model_name": "ToggleButtonModel",
      "state": {
       "description": "Np",
       "layout": "IPY_MODEL_748d4c03b58743b994e02529ed7c7ccd",
       "style": "IPY_MODEL_43a7041c4b224f998d7f47eea697fc40"
      }
     },
     "fd9eb6b48d544841aa32077967850db3": {
      "model_module": "@jupyter-widgets/controls",
      "model_module_version": "1.5.0",
      "model_name": "DescriptionStyleModel",
      "state": {
       "description_width": ""
      }
     },
     "fe1d72ff314f48c4ac3268ba80a035a1": {
      "model_module": "@jupyter-widgets/base",
      "model_module_version": "1.2.0",
      "model_name": "LayoutModel",
      "state": {
       "grid_area": "widget008",
       "height": "22px",
       "width": "42px"
      }
     },
     "fe2cdc489f0d4a2888bdf80fc71634c0": {
      "model_module": "@jupyter-widgets/controls",
      "model_module_version": "1.5.0",
      "model_name": "DescriptionStyleModel",
      "state": {
       "description_width": ""
      }
     }
    },
    "version_major": 2,
    "version_minor": 0
   }
  }
 },
 "nbformat": 4,
 "nbformat_minor": 5
}
