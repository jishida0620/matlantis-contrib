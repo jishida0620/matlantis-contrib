{
 "cells": [
  {
   "cell_type": "markdown",
   "id": "c832aae9-a744-4e88-8e08-336eb6c90da9",
   "metadata": {},
   "source": [
    "Copyright Preferred Computational Chemistry, Inc. and Preferred Networks, Inc. as contributors to Matlantis contrib project\n",
    "\n",
    "This document has been machine translated from Japanese to English.\n",
    "\n",
    "# Example of Generating Random Structures on Matlantis\n",
    "*Please note that the larger the number of atoms, the longer the runtime will be."
   ]
  },
  {
   "cell_type": "code",
   "execution_count": 1,
   "id": "9de9c260-6f8e-44af-a574-ae3c99a668e4",
   "metadata": {
    "tags": []
   },
   "outputs": [],
   "source": [
    "!pip install ase pymatgen\n",
    "\n",
    "# Please install the libraries only at the first usage."
   ]
  },
  {
   "cell_type": "markdown",
   "id": "47aa2ee6-3dc1-4a0c-9d4d-2b038685a23a",
   "metadata": {},
   "source": [
    "## 1. Random Structure Generation using ASE"
   ]
  },
  {
   "cell_type": "code",
   "execution_count": 1,
   "id": "43576d27-9af8-4f9f-a44e-257d2703cc96",
   "metadata": {},
   "outputs": [],
   "source": [
    "import numpy as np\n",
    "from ase import Atoms\n",
    "from ase.data import atomic_numbers\n",
    "from ase.ga.utilities import closest_distances_generator, CellBounds\n",
    "from ase.data import atomic_numbers, covalent_radii\n",
    "from ase.ga.startgenerator import StartGenerator\n",
    "from ase.ga.utilities import closest_distances_generator\n",
    "from ase.visualize import view"
   ]
  },
  {
   "cell_type": "markdown",
   "id": "b2386126-5dba-4b6b-8a88-ecbf23de509b",
   "metadata": {},
   "source": [
    "### 1-1. Crystal"
   ]
  },
  {
   "cell_type": "code",
   "execution_count": 2,
   "id": "4637c9d5-4fa9-403b-a8b6-0f2f0ec9a8ac",
   "metadata": {},
   "outputs": [],
   "source": [
    "blocks = ['Ti'] * 4 + ['O'] * 8 # Composition of the crystal you want to make\n",
    "box_volume = 12 * 12 # Empirically, 10~12 times the number of atoms tends to work well\n",
    "\n",
    "blmin = closest_distances_generator(atom_numbers=Atoms(blocks).get_atomic_numbers(),\n",
    "                                    ratio_of_covalent_radii=0.8) # List of distances at which atoms can get close to each other\n",
    "cellbounds = CellBounds(bounds={'phi': [30, 150], 'chi': [30, 150],\n",
    "                                'psi': [30, 150], 'a': [3, 10],\n",
    "                                'b': [3, 10], 'c': [3, 10]}) # Range of motion for the cell\n",
    "\n",
    "slab = Atoms('', pbc=True) # Prepare a template to pack atoms\n",
    "sg = StartGenerator(slab, blocks, blmin, box_volume=box_volume,\n",
    "                    cellbounds=cellbounds, \n",
    "                    number_of_variable_cell_vectors=3,\n",
    "                    test_too_far=False)"
   ]
  },
  {
   "cell_type": "code",
   "execution_count": 3,
   "id": "818198c8-2ecc-4ae4-8613-6207d6a5df7a",
   "metadata": {},
   "outputs": [
    {
     "data": {
      "text/plain": [
       "Atoms(symbols='Ti4O8', pbc=True, cell=[[3.399468661931798, 0.0, 0.0], [-0.7876779702811255, 5.57401653937108, 0.0], [-2.4380262757553357, -1.7769862187552858, 7.59946811350224]], tags=...)"
      ]
     },
     "execution_count": 3,
     "metadata": {},
     "output_type": "execute_result"
    }
   ],
   "source": [
    "atoms = sg.get_new_candidate()\n",
    "atoms"
   ]
  },
  {
   "cell_type": "code",
   "execution_count": 4,
   "id": "0a7228fb-9443-41c5-9f73-983dce89a91f",
   "metadata": {},
   "outputs": [
    {
     "data": {
      "application/vnd.jupyter.widget-view+json": {
       "model_id": "2a942bc28a9b43a79290e7e698da2da8",
       "version_major": 2,
       "version_minor": 0
      },
      "text/plain": []
     },
     "metadata": {},
     "output_type": "display_data"
    },
    {
     "data": {
      "application/vnd.jupyter.widget-view+json": {
       "model_id": "167d4aa3dc9f476b9ad572e0ba24ec5b",
       "version_major": 2,
       "version_minor": 0
      },
      "text/plain": [
       "HBox(children=(NGLWidget(), VBox(children=(Dropdown(description='Show', options=('All', 'O', 'Ti'), value='All…"
      ]
     },
     "metadata": {},
     "output_type": "display_data"
    }
   ],
   "source": [
    "v = view(atoms, viewer='ngl')\n",
    "v.view.add_representation(\"ball+stick\")\n",
    "display(v)"
   ]
  },
  {
   "cell_type": "markdown",
   "id": "5ab78f6b-6276-4bad-bc03-f418bedddeae",
   "metadata": {},
   "source": [
    "### 1-2. Molecular Crystal"
   ]
  },
  {
   "cell_type": "code",
   "execution_count": 5,
   "id": "b144594b-976d-4ea6-9e48-25b3c85f1cd0",
   "metadata": {},
   "outputs": [],
   "source": [
    "blocks = ['H2O'] * 8\n",
    "box_volume = 20 * 8 # Depends on how densely you want to pack\n",
    "\n",
    "blmin = closest_distances_generator(atom_numbers=[1,8], # H and O\n",
    "                                    ratio_of_covalent_radii=1.2) # Taking a larger value makes it less likely for molecules to stick together\n",
    "cellbounds = CellBounds(bounds={'phi': [30, 150], 'chi': [30, 150],\n",
    "                                'psi': [30, 150], 'a': [3, 10],\n",
    "                                'b': [3, 10], 'c': [3, 10]})\n",
    "\n",
    "slab = Atoms('', pbc=True)\n",
    "sg = StartGenerator(slab, blocks, blmin, box_volume=box_volume,\n",
    "                    cellbounds=cellbounds, \n",
    "                    number_of_variable_cell_vectors=3,\n",
    "                    test_too_far=False)"
   ]
  },
  {
   "cell_type": "code",
   "execution_count": 6,
   "id": "b08315a5-9f75-4a61-a599-d10baf2aefd5",
   "metadata": {},
   "outputs": [
    {
     "data": {
      "text/plain": [
       "Atoms(symbols='OH2OH2OH2OH2OH2OH2OH2OH2', pbc=True, cell=[[5.351229037091787, 0.0, 0.0], [0.4781589609694113, 5.361917945042938, 0.0], [-0.2782740527196683, -1.1820004956289019, 5.576301915370867]], tags=...)"
      ]
     },
     "execution_count": 6,
     "metadata": {},
     "output_type": "execute_result"
    }
   ],
   "source": [
    "atoms = sg.get_new_candidate()\n",
    "atoms"
   ]
  },
  {
   "cell_type": "code",
   "execution_count": 7,
   "id": "97735ec9-c573-4038-84f7-6ac2b38abf91",
   "metadata": {},
   "outputs": [
    {
     "data": {
      "application/vnd.jupyter.widget-view+json": {
       "model_id": "74981ca60dd54fe29bc9d0067c509e71",
       "version_major": 2,
       "version_minor": 0
      },
      "text/plain": [
       "HBox(children=(NGLWidget(), VBox(children=(Dropdown(description='Show', options=('All', 'O', 'H'), value='All'…"
      ]
     },
     "metadata": {},
     "output_type": "display_data"
    }
   ],
   "source": [
    "v = view(atoms, viewer='ngl')\n",
    "v.view.add_representation(\"ball+stick\")\n",
    "display(v)"
   ]
  },
  {
   "cell_type": "markdown",
   "id": "3e4656e8-aa35-4141-9dcf-dbbf9a8c8cd2",
   "metadata": {},
   "source": [
    "## 2. Random Structure Generation using pyxtal"
   ]
  },
  {
   "cell_type": "markdown",
   "id": "dfbe9451-6839-451b-9bed-8a6a21ba0074",
   "metadata": {},
   "source": [
    "The pyxtal library (https://github.com/qzhu2017/PyXtal) is open-source software released under the MIT license. Development is still active, so please be cautious about which version you use.\n",
    "\n",
    "pyxtal.XRD depends on `numba>=0.50.1`, and `numba 0.54.1` requires `numpy<1.21,>=1.17`, thus it cannot be installed with Matlantis's default numpy version."
   ]
  },
  {
   "cell_type": "markdown",
   "id": "84ceddb0-2d6f-4f64-9127-28a6d90216c1",
   "metadata": {
    "tags": []
   },
   "source": [
    "!pip install numpy==1.20\n",
    "!pip install pyxtal"
   ]
  },
  {
   "cell_type": "code",
   "execution_count": 9,
   "id": "2e4f9ab1-efbb-486c-9410-46b13e4315fd",
   "metadata": {},
   "outputs": [],
   "source": [
    "from pyxtal import pyxtal\n",
    "from ase.visualize import view\n",
    "from pymatgen.io.ase import AseAtomsAdaptor"
   ]
  },
  {
   "cell_type": "code",
   "execution_count": 11,
   "id": "2fe674a0-0b91-42db-8be6-514ba9cd8084",
   "metadata": {},
   "outputs": [],
   "source": [
    "!pip install -U numpy"
   ]
  },
  {
   "cell_type": "markdown",
   "id": "3147623b-43f7-44e1-b6ba-d5ec4e7f7d5a",
   "metadata": {},
   "source": [
    "### 2-1. Crystal"
   ]
  },
  {
   "cell_type": "markdown",
   "id": "e3d283ee-e900-413c-a752-671c700e0bbb",
   "metadata": {},
   "source": [
    "Generates structures while maintaining symmetry by specifying the space group by its number.\\\n",
    "For example, the rutile type belongs to P42/mnm (136)."
   ]
  },
  {
   "cell_type": "code",
   "execution_count": 12,
   "id": "216530bd-4355-4858-aadf-0d374f2e57a8",
   "metadata": {},
   "outputs": [
    {
     "data": {
      "text/plain": [
       "\n",
       "------Crystal from random------\n",
       "Dimension: 3\n",
       "Composition: O8Ti4\n",
       "Group: P42/mnm (136)\n",
       "tetragonal lattice:   5.9228   5.9228   4.1791  90.0000  90.0000  90.0000\n",
       "Wyckoff sites:\n",
       "\tTi @ [ 0.2499 -0.2499  0.0000], WP [4g] Site [m.m2]\n",
       "\t O @ [ 0.0000  0.5000  0.2500], WP [4d] Site [-4..]\n",
       "\t O @ [ 0.0000  0.0000  0.0000], WP [2a] Site [2/m.2/m2/m]\n",
       "\t O @ [ 0.0000  0.0000  0.5000], WP [2b] Site [2/m.2/m2/m]"
      ]
     },
     "execution_count": 12,
     "metadata": {},
     "output_type": "execute_result"
    }
   ],
   "source": [
    "crystal = pyxtal()\n",
    "crystal.from_random(3, 136, ['Ti','O'], [4,8]) # Dimension, space group, elements, composition\n",
    "crystal"
   ]
  },
  {
   "cell_type": "code",
   "execution_count": 13,
   "id": "2649f27f-85d6-4083-9672-f2b8b03ba2fb",
   "metadata": {},
   "outputs": [
    {
     "data": {
      "application/vnd.jupyter.widget-view+json": {
       "model_id": "4cbf54e1214a4950927d6d12f4b9ad53",
       "version_major": 2,
       "version_minor": 0
      },
      "text/plain": [
       "HBox(children=(NGLWidget(), VBox(children=(Dropdown(description='Show', options=('All', 'O', 'Ti'), value='All…"
      ]
     },
     "metadata": {},
     "output_type": "display_data"
    }
   ],
   "source": [
    "atoms = crystal.to_ase()\n",
    "atoms.wrap()\n",
    "v = view(atoms, viewer='ngl')\n",
    "v.view.add_representation(\"ball+stick\")\n",
    "display(v)"
   ]
  },
  {
   "cell_type": "markdown",
   "id": "95ba825c-4a5b-452a-a985-bd89ad678d79",
   "metadata": {},
   "source": [
    "### 2-2. Molecular Crystal"
   ]
  },
  {
   "cell_type": "code",
   "execution_count": 14,
   "id": "3718e54e-7e1d-4c64-955c-0fd6b38f317a",
   "metadata": {},
   "outputs": [
    {
     "data": {
      "text/plain": [
       "\n",
       "------Crystal from random------\n",
       "Dimension: 3\n",
       "Composition: [H2O]8\n",
       "Group: Cmc21 (36)\n",
       "orthorhombic lattice:   7.2906   4.8405  11.3199  90.0000  90.0000  90.0000\n",
       "Wyckoff sites:\n",
       "\tH2O1         @ [ 0.7033  0.3840  0.9518]  WP [8b] Site [1] Euler [-138.0    7.9   21.3]"
      ]
     },
     "execution_count": 14,
     "metadata": {},
     "output_type": "execute_result"
    }
   ],
   "source": [
    "mol_crystal = pyxtal(molecular=True)\n",
    "mol_crystal.from_random(3, 36, ['H2O'], [8])\n",
    "mol_crystal"
   ]
  },
  {
   "cell_type": "code",
   "execution_count": 15,
   "id": "259ac8f4-5de6-4316-b50b-9208e67e91f3",
   "metadata": {},
   "outputs": [
    {
     "data": {
      "application/vnd.jupyter.widget-view+json": {
       "model_id": "5c4e55b9816a47dbaf86e8ccad2f333a",
       "version_major": 2,
       "version_minor": 0
      },
      "text/plain": [
       "HBox(children=(NGLWidget(), VBox(children=(Dropdown(description='Show', options=('All', 'O', 'H'), value='All'…"
      ]
     },
     "metadata": {},
     "output_type": "display_data"
    }
   ],
   "source": [
    "v = view(mol_crystal.to_ase(), viewer='ngl')\n",
    "v.view.add_representation(\"ball+stick\")\n",
    "display(v)"
   ]
  },
  {
   "cell_type": "markdown",
   "id": "b348eaba-3f44-49e0-aa32-a901a12e31bf",
   "metadata": {},
   "source": [
    "### 2-3. Cluster"
   ]
  },
  {
   "cell_type": "markdown",
   "id": "7c4e0e40-9093-4994-b6ce-0e780a05f87d",
   "metadata": {},
   "source": [
    "Set the dimension to 0 and specify using a point group instead of a space group. If no symmetry is to be introduced, use C1 (1)."
   ]
  },
  {
   "cell_type": "code",
   "execution_count": 16,
   "id": "dcc8f95e-7045-4812-b5bf-bcac84e59199",
   "metadata": {},
   "outputs": [
    {
     "data": {
      "text/plain": [
       "\n",
       "------Crystal from random------\n",
       "Dimension: 0\n",
       "Composition: Pt13\n",
       "Group: C1 (1)\n",
       "spherical lattice:   3.6669   3.6669   3.6669  90.0000  90.0000  90.0000\n",
       "Wyckoff sites:\n",
       "\tPt @ [-0.7798  0.3045 -0.2505], WP [1a] Site [1]\n",
       "\tPt @ [-0.2504  0.0355 -0.0971], WP [1a] Site [1]\n",
       "\tPt @ [ 0.1569 -0.0117  0.5000], WP [1a] Site [1]\n",
       "\tPt @ [-0.2366 -0.3016 -0.2748], WP [1a] Site [1]\n",
       "\tPt @ [ 0.6771 -0.6440  0.1037], WP [1a] Site [1]\n",
       "\tPt @ [ 0.4976 -0.7905 -0.2079], WP [1a] Site [1]\n",
       "\tPt @ [ 0.3236  0.7859 -0.3149], WP [1a] Site [1]\n",
       "\tPt @ [ 0.7292  0.4299  0.4916], WP [1a] Site [1]\n",
       "\tPt @ [-0.4418 -0.1537 -0.5743], WP [1a] Site [1]\n",
       "\tPt @ [ 0.6301 -0.0632  0.5775], WP [1a] Site [1]\n",
       "\tPt @ [ 0.5740 -0.1216 -0.7349], WP [1a] Site [1]\n",
       "\tPt @ [ 0.6156  0.1639  0.2582], WP [1a] Site [1]\n",
       "\tPt @ [-0.1879  0.2728  0.4535], WP [1a] Site [1]"
      ]
     },
     "execution_count": 16,
     "metadata": {},
     "output_type": "execute_result"
    }
   ],
   "source": [
    "cluster = pyxtal()\n",
    "cluster.from_random(0, 1, ['Pt'], [13]) # Dimension, space group, elements, composition\n",
    "cluster"
   ]
  },
  {
   "cell_type": "code",
   "execution_count": 17,
   "id": "19842b6b-1a0a-4693-8f69-9277b46332b8",
   "metadata": {},
   "outputs": [
    {
     "data": {
      "application/vnd.jupyter.widget-view+json": {
       "model_id": "7aee854fcc8e4a05a11b496ee2002514",
       "version_major": 2,
       "version_minor": 0
      },
      "text/plain": [
       "HBox(children=(NGLWidget(), VBox(children=(Dropdown(description='Show', options=('All', 'Pt'), value='All'), D…"
      ]
     },
     "metadata": {},
     "output_type": "display_data"
    }
   ],
   "source": [
    "v = view(cluster.to_ase(), viewer='ngl')\n",
    "v.view.add_representation(\"ball+stick\")\n",
    "display(v)"
   ]
  }
 ],
 "metadata": {
  "kernelspec": {
   "display_name": "Python 3.8",
   "language": "python",
   "name": "python38"
  },
  "language_info": {
   "codemirror_mode": {
    "name": "ipython",
    "version": 3
   },
   "file_extension": ".py",
   "mimetype": "text/x-python",
   "name": "python",
   "nbconvert_exporter": "python",
   "pygments_lexer": "ipython3",
   "version": "3.8.13"
  },
  "widgets": {
   "application/vnd.jupyter.widget-state+json": {
    "state": {},
    "version_major": 2,
    "version_minor": 0
   }
  }
 },
 "nbformat": 4,
 "nbformat_minor": 5
}
