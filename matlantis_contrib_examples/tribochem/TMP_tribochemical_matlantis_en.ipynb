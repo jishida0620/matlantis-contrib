{
 "cells": [
  {
   "cell_type": "markdown",
   "metadata": {
    "tags": []
   },
   "source": [
    "Copyright ENEOS, Corp. and Preferred Computational Chemistry as contributors to Matlantis contrib project\n",
    "\n",
    "This document has been machine translated from Japanese to English.\n",
    "\n",
    "# Tribochemical Reaction of Phosphoric Acid on Fe Sliding Surface\n",
    "\n",
    "A sliding simulation will be performed for the following system:\n",
    "- Number of atoms: Fe 288 atoms (upper and lower slabs), Trimethyl phosphite 16 atoms\n",
    "\n",
    "<img src=\"input/image.png\" alt=\"Alternative text\" width=\"500\" height=\"500\">"
   ]
  },
  {
   "cell_type": "code",
   "execution_count": 1,
   "metadata": {
    "tags": []
   },
   "outputs": [],
   "source": [
    "!pip install -U pfp-api-client"
   ]
  },
  {
   "cell_type": "markdown",
   "metadata": {},
   "source": [
    "## Loading Libraries"
   ]
  },
  {
   "cell_type": "code",
   "execution_count": 2,
   "metadata": {
    "tags": []
   },
   "outputs": [],
   "source": [
    "import os, sys, csv, glob, shutil, re, time\n",
    "import numpy as np\n",
    "import pandas as pd\n",
    "import matplotlib.pyplot as plt\n",
    "\n",
    "from ase import Atoms\n",
    "from ase.calculators.dftd3 import DFTD3\n",
    "from ase.md.langevin import Langevin\n",
    "from ase.optimize import BFGS, FIRE, LBFGS\n",
    "from ase import units\n",
    "from ase.md.npt import NPT\n",
    "from ase.md.verlet import VelocityVerlet\n",
    "from ase.md.nvtberendsen import NVTBerendsen\n",
    "from ase.md.velocitydistribution import MaxwellBoltzmannDistribution, Stationary\n",
    "from ase.io import read, write\n",
    "from ase.io.trajectory import Trajectory\n",
    "from ase.io.dmol import write_dmol_arc\n",
    "from ase.io.dmol import write_dmol_car\n",
    "from ase.build import surface, bulk, add_adsorbate\n",
    "from ase.constraints import FixAtoms, StrainFilter, ExpCellFilter, Filter\n",
    "from ase.visualize import view\n",
    "\n",
    "import nglview as nv\n",
    "from nglview.datafiles import PDB, XTC\n",
    "from IPython.display import Image, display_png\n",
    "\n",
    "# PFP\n",
    "from pfp_api_client.pfp.estimator import Estimator\n",
    "from pfp_api_client.pfp.calculators.ase_calculator import ASECalculator\n",
    "\n",
    "estimator = Estimator(model_version=\"v5.0.0\", calc_mode=\"CRYSTAL_U0_PLUS_D3\")\n",
    "calculator = ASECalculator(estimator)\n",
    "\n",
    "os.makedirs(\"output\", exist_ok = True)"
   ]
  },
  {
   "cell_type": "markdown",
   "metadata": {},
   "source": [
    "## Defining Various Methods"
   ]
  },
  {
   "cell_type": "code",
   "execution_count": 3,
   "metadata": {
    "tags": []
   },
   "outputs": [],
   "source": [
    "def surview (a):\n",
    "    v = nv.show_ase (a, gui = False)\n",
    "    v.control.spin ([1, 0, 0], np.pi * 1.4)\n",
    "    v.add_representation (repr_type = \"unitcell\",)\n",
    "    if len (a) > 400:\n",
    "        v.add_representation (repr_type = \"spacefill\",)\n",
    "    v._remote_call (\"setSize\", args = [\"250px\", \"400px\"])\n",
    "    v.background = '#161616' \n",
    "    return v\n",
    "        \n",
    "def add_dis (v, a, a1, a2):\n",
    "    v.shape.add (\"cylinder\", [a[a1].x, a[a1].y, a[a1].z], [a[a2].x, a[a2].y, a[a2].z], [0.9, 0.1, 0.1], .05)\n",
    "    x = 0.5 * (a[a1].x + a[a2].x)\n",
    "    y = 0.5 * (a[a1].y + a[a2].y)\n",
    "    z = 0.5 * (a[a1].z + a[a2].z)\n",
    "    d = np.round (a.get_distance (a1, a2), 2)\n",
    "    v.shape.add (\"text\", [x, y, z], [0.9, 0.1, 0.1], 3, \" \" + str (d) + \"A\")\n",
    "\n",
    "def add_no (v, a, vec = []):\n",
    "    if vec == []:\n",
    "        vec = list (range (len (a)))                 \n",
    "    for i, atom in enumerate (a):\n",
    "        if i in vec:\n",
    "            v.shape.add (\"text\", [atom.x, atom.y, atom.z], [0.1, 0.5, 0.1], 2, \" \" + str (i))\n",
    "    \n",
    "def add_charge (v, a):\n",
    "    for i, atom in enumerate (a):\n",
    "        v.shape.add (\"text\", [atom.x, atom.y, atom.z], [0.9, 0.1, 0.1], 1, \"(\" + str (i) + \")\" + str (np.round (atom.charge, 3)))\n",
    "    \n",
    "def MakeInterface (a, b, h):\n",
    "    pos1 = a.get_positions ()\n",
    "    sbl1 = a.get_chemical_symbols ()\n",
    "    pos2 = b.get_positions () + [0.0, 0.0, h]\n",
    "    sbl2 = b.get_chemical_symbols ()\n",
    "    sbl = np.hstack ([sbl1, sbl2])\n",
    "    pos = np.vstack ([pos1, pos2])\n",
    "    c = Atoms (symbols = sbl, positions = pos, cell = a.get_cell (), pbc = True)\n",
    "    return c\n",
    "\n",
    "def PrintLog ():\n",
    "    step  = dyn.get_number_of_steps ()\n",
    "    temp  = atoms.get_temperature ()\n",
    "    e_pot = atoms.get_potential_energy ()\n",
    "    e_kin = atoms.get_kinetic_energy ()\n",
    "    e_tot = atoms.get_total_energy ()\n",
    "    print (\"STEP: %7d  T: %10.2f  PE: %12.5e  KE: %12.5e  TE: %12.5e\" % (step, temp, e_pot, e_kin, e_tot))\n",
    "\n",
    "def WriteFrictionalForces ():\n",
    "    frc = c3.get_forces ()\n",
    "    with open (\"TMP_fric.dat\", \"a\") as fp:\n",
    "        np.savetxt (fp, frc)\n",
    "        fp.close ()\n",
    "        \n",
    "class ApplyFriction:\n",
    "    def __init__ (self, indices = None, mask = None):\n",
    "        #self.removed_dof = 0\n",
    "        if indices is None and mask is None:\n",
    "            raise ValueError ('Use \"indices\" or \"mask\".')\n",
    "        if indices is not None and mask is not None:\n",
    "            raise ValueError ('Use only one of \"indices\" and \"mask\".')\n",
    "        if mask is not None:\n",
    "            indices = np.arange (len (mask))[np.asarray(mask, bool)]\n",
    "        else:\n",
    "            srt = np.sort (indices)\n",
    "            if (np.diff (srt) == 0).any ():\n",
    "                raise ValueError (\n",
    "                    'ApplyFriction: The indices array contained duplicates. '\n",
    "                    'Perhaps you wanted to specify a mask instead, but '\n",
    "                    'forgot the mask= keyword.')\n",
    "                \n",
    "        self.index = np.asarray (indices, int)\n",
    "\n",
    "        if self.index.ndim != 1:\n",
    "            raise ValueError ('Wrong argument to ApplyFriction class!')\n",
    "            \n",
    "        self.removed_dof = 3 * len (self.index)\n",
    "        #pass\n",
    "\n",
    "    def adjust_positions (self, atoms, newpositions):\n",
    "        newpositions[self.index, 1] = atoms.positions[self.index, 1] + slid_step\n",
    "\n",
    "    def adjust_momenta (self, atoms, momenta):\n",
    "        momenta[self.index, 0] = 0.0\n",
    "\n",
    "    def adjust_forces (self, atoms, forces):\n",
    "        forces[self.index, 2] = forces[self.index, 2] + load_step\n",
    "\n",
    "    def get_removed_dof(self, atoms):\n",
    "        return 3 * len(self.index)"
   ]
  },
  {
   "cell_type": "markdown",
   "metadata": {},
   "source": [
    "## Structural Optimization of Adsorbed Molecules"
   ]
  },
  {
   "cell_type": "code",
   "execution_count": 4,
   "metadata": {
    "scrolled": true,
    "tags": []
   },
   "outputs": [],
   "source": [
    "mol = read (\"./input/TMP.gjf\")\n",
    "mol.set_calculator (calculator)\n",
    "opt = BFGS (mol)\n",
    "opt.run (fmax = 0.05)\n",
    "mol_E = mol.get_potential_energy ()\n",
    "print (\"atom#: {}   PE: {:.4f} eV\".format (len (mol), mol_E))\n",
    "v = surview (mol)\n",
    "display (v)"
   ]
  },
  {
   "cell_type": "markdown",
   "metadata": {},
   "source": [
    "## Creating a Slab Model of bcc-Fe"
   ]
  },
  {
   "cell_type": "code",
   "execution_count": 5,
   "metadata": {
    "tags": []
   },
   "outputs": [],
   "source": [
    "unitcell = bulk (\"Fe\", \"bcc\", a = 2.8664, cubic = True)\n",
    "unitcell.set_calculator (calculator)\n",
    "slab = surface (unitcell, (1, 1, 0), layers = 3, vacuum = 20.0)\n",
    "slab.set_positions (slab.get_positions () - [0.0, 0.0, np.min (slab.get_positions ()[:, 2] - 2.0)])\n",
    "slab = slab.repeat ([4, 6, 1])\n",
    "slab.set_pbc (True)\n",
    "lx,ly,lz = slab.cell.cellpar()[:3]\n",
    "print (\"Number of atoms in slab: {}\".format (len (slab)))\n",
    "print (\"X: {:.3f}   Y: {:.3f}   Z: {:.3f}\".format (lx, ly, lz))\n",
    "v = surview (slab)\n",
    "display (v)"
   ]
  },
  {
   "cell_type": "code",
   "execution_count": 6,
   "metadata": {
    "tags": []
   },
   "outputs": [],
   "source": [
    "slab.set_calculator (calculator)\n",
    "opt = BFGS (slab)\n",
    "opt.run (fmax = 0.05)\n",
    "slab_E = slab.get_potential_energy ()\n",
    "print (\"atom#: {}   PE: {:.4f} eV\".format (len (slab), slab_E))"
   ]
  },
  {
   "cell_type": "code",
   "execution_count": 7,
   "metadata": {
    "tags": []
   },
   "outputs": [],
   "source": [
    "v = surview (slab)\n",
    "display (v)"
   ]
  },
  {
   "cell_type": "markdown",
   "metadata": {},
   "source": [
    "## Placing Adsorbed Molecules on the Slab"
   ]
  },
  {
   "cell_type": "code",
   "execution_count": 8,
   "metadata": {
    "tags": []
   },
   "outputs": [],
   "source": [
    "mol_i = mol.copy ()\n",
    "mol_i.rotate (0.0, \"x\")\n",
    "mol_i.rotate (0.0, \"y\")\n",
    "b = mol_i.positions[:, 2].argmin ()\n",
    "ads_i = slab.copy ()\n",
    "plane_center = [0.5 * lx, 0.5 * ly]\n",
    "print (plane_center)\n",
    "add_adsorbate (ads_i, mol_i, 2.5, position = plane_center, mol_index = b)\n",
    "surview (ads_i)"
   ]
  },
  {
   "cell_type": "code",
   "execution_count": 9,
   "metadata": {
    "scrolled": true,
    "tags": []
   },
   "outputs": [],
   "source": [
    "t1=time.time()\n",
    "c = FixAtoms (mask = [atom.index for atom in ads_i if atom.z <= 7])\n",
    "ads_i.set_constraint (c)\n",
    "ads_i.set_calculator (calculator)\n",
    "opt = BFGS (ads_i)\n",
    "opt.run (fmax = 0.01)\n",
    "PotE = ads_i.get_potential_energy ()\n",
    "print (\"atom#: {}   PE: {:.4f} eV\".format (len (ads_i), PotE))\n",
    "write(\"tmp_on_fe_opt.POSCAR\",ads_i)\n",
    "t2=time.time()\n",
    "print(f\"Elapsed time : {t2-t1} sec\")"
   ]
  },
  {
   "cell_type": "code",
   "execution_count": 10,
   "metadata": {
    "tags": []
   },
   "outputs": [],
   "source": [
    "ads_i = read(\"tmp_on_fe_opt.POSCAR\")\n",
    "print (\"atom#: {}   AdsE: {:.4f} eV\".format (len (ads_i), PotE - (mol_E + slab_E)))\n",
    "surview (ads_i)"
   ]
  },
  {
   "cell_type": "markdown",
   "metadata": {},
   "source": [
    "## Setting the Upper Slab"
   ]
  },
  {
   "cell_type": "code",
   "execution_count": 11,
   "metadata": {
    "tags": []
   },
   "outputs": [],
   "source": [
    "atoms = MakeInterface (ads_i, slab, 11.0)\n",
    "v = surview (atoms)\n",
    "display (v)\n",
    "\n",
    "from ase.io import write\n",
    "\n",
    "write(\"output/slab.xyz\", atoms)"
   ]
  },
  {
   "cell_type": "markdown",
   "metadata": {},
   "source": [
    "## Preparing for MD Simulation\n",
    "\n",
    "Settings: The lower part of the slab is fixed, and the upper part is controlled as movable."
   ]
  },
  {
   "cell_type": "code",
   "execution_count": 12,
   "metadata": {
    "tags": []
   },
   "outputs": [],
   "source": [
    "btm = [atom.index for atom in atoms if atom.z <=  2.5]\n",
    "top = [atom.index for atom in atoms if atom.z >= 15.5]\n",
    "print (\"Fixed atoms:   {:5d}\".format (len (btm)))\n",
    "print (\"Sliding atoms: {:5d}\".format (len (top)))\n",
    "\n",
    "c1 = FixAtoms (btm)\n",
    "c2 = ApplyFriction (top)\n",
    "atoms.set_constraint ([c1, c2])\n",
    "atoms.set_calculator (calculator)"
   ]
  },
  {
   "cell_type": "code",
   "execution_count": 13,
   "metadata": {
    "tags": []
   },
   "outputs": [],
   "source": [
    "log_interval = 10 # Frequency of log output\n",
    "duration_pres = 20000 # Length of pressurized thermal equilibrium state calculation (MD steps)\n",
    "duration_slid = 50000 # Length of friction MD calculation (MD steps)\n",
    "rescale_intvl = 100 # MD steps per interval\n",
    "delta_t = 1.0 # MD step size (fs)\n",
    "temp = 300.0 # Temperature (K)\n",
    "slid_vlu = 10.0 # Horizontal velocity (m/s)\n",
    "load_vlu = -2.0 # Vertical pressure (GPa)"
   ]
  },
  {
   "cell_type": "markdown",
   "metadata": {},
   "source": [
    "## Thermal Equilibrium State Under Pressure\n",
    "\n",
    "Pressure is applied in the vertical direction."
   ]
  },
  {
   "cell_type": "code",
   "execution_count": 14,
   "metadata": {
    "scrolled": true,
    "tags": []
   },
   "outputs": [],
   "source": [
    "print (\"<<< Equilibrate system under pressure >>>\")\n",
    "\n",
    "area = atoms.cell.cellpar()[0] * atoms.cell.cellpar()[1]\n",
    "load_step = (load_vlu * 1.0e9) * (area * 1.0e-20) / (1.0 / (units.kJ / 1000.0)) / 1.0e10 / float (len (top))  \n",
    "slid_step = 0.0\n",
    "\n",
    "if (os.path.exists (\"output/TMP_press.traj\") == True): os.remove (\"output/TMP_press.traj\")\n",
    "if (os.path.exists (\"output/TMP_press.log\") == True): os.remove (\"output/TMP_press.log\")\n",
    "dyn = VelocityVerlet (atoms, timestep = delta_t * units.fs, logfile = \"output/TMP_press.log\", loginterval = log_interval)\n",
    "traj = Trajectory (\"output/TMP_press.traj\", 'a', atoms)\n",
    "dyn.attach (PrintLog, interval = log_interval)\n",
    "dyn.attach (traj.write, interval = log_interval)\n",
    "\n",
    "n = 0\n",
    "while n < int (duration_pres / rescale_intvl):\n",
    "    MaxwellBoltzmannDistribution (atoms, temp * units.kB)\n",
    "    dyn.run (rescale_intvl)\n",
    "    n += 1"
   ]
  },
  {
   "cell_type": "code",
   "execution_count": 15,
   "metadata": {
    "tags": []
   },
   "outputs": [],
   "source": [
    "traj = Trajectory (\"output/TMP_press.traj\")\n",
    "v = view (traj, viewer = \"ngl\")\n",
    "v.view.add_representation (\"ball+stick\")\n",
    "display (v)"
   ]
  },
  {
   "cell_type": "markdown",
   "metadata": {},
   "source": [
    "## Friction Simulation\n",
    "\n",
    "With pressure applied in the vertical direction, a horizontal velocity is set for one side of the Fe slab."
   ]
  },
  {
   "cell_type": "code",
   "execution_count": 16,
   "metadata": {
    "scrolled": true,
    "tags": []
   },
   "outputs": [],
   "source": [
    "print (\"<<< Friction simulation >>>\")\n",
    "area = atoms.cell.cellpar()[0] * atoms.cell.cellpar()[1]\n",
    "load_step = ((load_vlu - 0.5) * 1.0e9) * (area * 1.0e-20) / (1.0 / (units.kJ / 1000.0)) / 1.0e10 / float (len (top))\n",
    "slid_step = (slid_vlu * 1.0e10 * 1.0e-15) * (delta_t)\n",
    "\n",
    "if (os.path.exists (\"output/TMP_slid.traj\") == True): os.remove (\"output/TMP_slid.traj\")\n",
    "if (os.path.exists (\"output/TMP_slid.log\") == True): os.remove (\"output/TMP_slid.log\")\n",
    "dyn = VelocityVerlet (atoms, timestep = delta_t * units.fs, logfile = \"TMP_slid.log\", loginterval = log_interval)\n",
    "traj = Trajectory (\"output/TMP_slid.traj\", 'a', atoms)\n",
    "dyn.attach (PrintLog, interval = log_interval)\n",
    "dyn.attach (traj.write, interval = log_interval)\n",
    "\n",
    "start_time = time.time ()\n",
    "n = 0\n",
    "while n < int (duration_slid / rescale_intvl):\n",
    "    MaxwellBoltzmannDistribution (atoms, temp * units.kB)\n",
    "    dyn.run (rescale_intvl)\n",
    "    n += 1\n",
    "print (\"Elapsed time: %12.6f min\" % ((time.time () - start_time) / 60.0))"
   ]
  },
  {
   "cell_type": "code",
   "execution_count": 17,
   "metadata": {
    "tags": []
   },
   "outputs": [],
   "source": [
    "traj = Trajectory (\"output/TMP_slid.traj\")\n",
    "v = view (traj, viewer = \"ngl\")\n",
    "v.view.add_representation (\"ball+stick\")\n",
    "display (v)"
   ]
  }
 ],
 "metadata": {
  "kernelspec": {
   "display_name": "Python 3.8",
   "language": "python",
   "name": "python38"
  },
  "language_info": {
   "codemirror_mode": {
    "name": "ipython",
    "version": 3
   },
   "file_extension": ".py",
   "mimetype": "text/x-python",
   "name": "python",
   "nbconvert_exporter": "python",
   "pygments_lexer": "ipython3",
   "version": "3.8.13"
  },
  "widgets": {
   "application/vnd.jupyter.widget-state+json": {
    "state": {},
    "version_major": 2,
    "version_minor": 0
   }
  }
 },
 "nbformat": 4,
 "nbformat_minor": 4
}
